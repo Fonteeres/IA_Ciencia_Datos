{
 "cells": [
  {
   "cell_type": "code",
   "execution_count": 2,
   "id": "fec52109",
   "metadata": {},
   "outputs": [],
   "source": [
    "from pymongo import MongoClient"
   ]
  },
  {
   "cell_type": "code",
   "execution_count": 3,
   "id": "0287c584",
   "metadata": {},
   "outputs": [],
   "source": [
    "MONGO_URI = 'mongodb://localhost:27099'\n",
    "cliente = MongoClient(MONGO_URI)\n",
    "db = cliente['empresa']\n",
    "coleccion = db['productos']"
   ]
  },
  {
   "cell_type": "code",
   "execution_count": 16,
   "id": "e448feb0",
   "metadata": {},
   "outputs": [],
   "source": [
    "results = coleccion.find({})"
   ]
  },
  {
   "cell_type": "code",
   "execution_count": 17,
   "id": "0316c28e",
   "metadata": {},
   "outputs": [
    {
     "name": "stdout",
     "output_type": "stream",
     "text": [
      "{'_id': ObjectId('632a336e24e4cf5797d79b07'), 'nombre': 'TECLADO', 'stock': 100}\n",
      "{'_id': ObjectId('632a348124e4cf5797d79b08'), 'nombre': 'MOUSE', 'stock': 200}\n",
      "{'_id': ObjectId('632a348124e4cf5797d79b09'), 'nombre': 'MONITOR', 'stock': 123}\n",
      "{'_id': ObjectId('632a348124e4cf5797d79b0a'), 'nombre': 'PEN DRIVE', 'stock': 100}\n",
      "{'_id': ObjectId('632a3a278a7f83ff4dfc518f'), 'nombre': 'PATO', 'stock': 300}\n",
      "{'_id': ObjectId('632a3a818a7f83ff4dfc5190'), 'nombre': 'GALLINA', 'stock': 350}\n",
      "{'_id': ObjectId('632a3a818a7f83ff4dfc5191'), 'nombre': 'CONEJO', 'stock': 370}\n"
     ]
    }
   ],
   "source": [
    "for item in results:\n",
    "    print(item)"
   ]
  },
  {
   "cell_type": "code",
   "execution_count": 9,
   "id": "06584d01",
   "metadata": {},
   "outputs": [],
   "source": [
    "results = coleccion.find({'stock': 100})"
   ]
  },
  {
   "cell_type": "code",
   "execution_count": 11,
   "id": "da3d8553",
   "metadata": {},
   "outputs": [
    {
     "data": {
      "text/plain": [
       "<pymongo.results.InsertOneResult at 0x2c0216f2430>"
      ]
     },
     "execution_count": 11,
     "metadata": {},
     "output_type": "execute_result"
    }
   ],
   "source": [
    "coleccion.insert_one({'nombre': 'PATO', 'stock': 300})\n"
   ]
  },
  {
   "cell_type": "code",
   "execution_count": 15,
   "id": "6c994e57",
   "metadata": {},
   "outputs": [
    {
     "data": {
      "text/plain": [
       "<pymongo.results.InsertManyResult at 0x2c021d00fa0>"
      ]
     },
     "execution_count": 15,
     "metadata": {},
     "output_type": "execute_result"
    }
   ],
   "source": [
    "coleccion.insert_many([{'nombre': 'GALLINA', 'stock': 350}, {'nombre': 'CONEJO', 'stock': 370}])\n"
   ]
  },
  {
   "cell_type": "code",
   "execution_count": null,
   "id": "7456a1d1",
   "metadata": {},
   "outputs": [],
   "source": []
  }
 ],
 "metadata": {
  "kernelspec": {
   "display_name": "Python 3 (ipykernel)",
   "language": "python",
   "name": "python3"
  },
  "language_info": {
   "codemirror_mode": {
    "name": "ipython",
    "version": 3
   },
   "file_extension": ".py",
   "mimetype": "text/x-python",
   "name": "python",
   "nbconvert_exporter": "python",
   "pygments_lexer": "ipython3",
   "version": "3.9.7"
  }
 },
 "nbformat": 4,
 "nbformat_minor": 5
}
