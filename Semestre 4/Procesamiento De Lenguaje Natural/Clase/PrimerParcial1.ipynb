{
 "cells": [
  {
   "cell_type": "code",
   "execution_count": 47,
   "metadata": {},
   "outputs": [
    {
     "name": "stderr",
     "output_type": "stream",
     "text": [
      "[nltk_data] Downloading package stopwords to\n",
      "[nltk_data]     C:\\Users\\Alumno\\AppData\\Roaming\\nltk_data...\n",
      "[nltk_data]   Package stopwords is already up-to-date!\n",
      "[nltk_data] Downloading package punkt to\n",
      "[nltk_data]     C:\\Users\\Alumno\\AppData\\Roaming\\nltk_data...\n",
      "[nltk_data]   Package punkt is already up-to-date!\n"
     ]
    }
   ],
   "source": [
    "import nltk\n",
    "from nltk import sent_tokenize, regexp_tokenize # Separa en oraciones el texto, separa las oraciones en sus palabras\n",
    "from nltk.stem.snowball import stopwords #Importo las stopwords\n",
    "from collections import Counter #Traigo el contador de palabras\n",
    "nltk.download('stopwords') #Descargo las stopwords\n",
    "nltk.download('punkt')\n",
    "stops = set(stopwords.words('spanish'))# Determino el idioma de mis stopwords"
   ]
  },
  {
   "cell_type": "code",
   "execution_count": 48,
   "metadata": {},
   "outputs": [],
   "source": [
    "noticia = \"\"\"Cayó la pobreza a 36,5%, pero se incrementó la indigencia por la suba de la inflación\n",
    "Se registraron 17 millones de pobres a nivel país, 0,8 puntos porcentuales menos que en el semestre anterior; los indigentes son más de 4 millones; la mitad de los niños son pobres\n",
    "\n",
    "En el primer semestre del año bajó levemente la pobreza, pero subió la indigencia. Según informó el Instituto Nacional de Estadística y Censos (Indec), en el país, un 36,5% de la población es pobre, 0,8 puntos porcentuales menos que en el semestre anterior. Estos porcentajes implican que en la Argentina hay, en los conglomerados que toma el Indec, 10,6 millones de personas (2,7 millones de hogares) en situación de pobreza. Proyectado al total del país, la cantidad de pobres asciende a unos 17 millones de personas.\n",
    "\n",
    "En tanto, es indigente el 8,8% de los argentinos (2,6 millones), es decir, 0,6 puntos porcentuales más que en la medición previa. Proyectado a nivel país, son 4,1 millones de personas.\n",
    "\n",
    "Luego de haber tenido una baja en 2021 y terminado el año pasado en 37,3%, el número publicado por el Indec implica una nueva reducción pero sigue, de todos modos, siendo mayor que el 35,5% existente al momento en que concluyó el gobierno de Mauricio Macri.\n",
    "\n",
    "INDUSTRIA AUTOMOTRIZ: POR LA ESCASEZ DE INSUMOS, ASEGURAN QUE HAY MÁS PARADAS TÉCNICAS DE LAS QUE SE ANUNCIAN\n",
    "Otro dato preocupante es que un poco más de la mitad de los niños en todo el país son pobres: al analizar por grupos de edad, se observa que 50,9% de las personas de 0 a 14 años son pobres. En tanto, el porcentaje total de pobres para los grupos de 15 a 29 años y de 30 a 64 años es de 43,3% y 32,0%, respectivamente.\n",
    "\n",
    "Si se pone la lupa en en las regiones donde se dan las mayores incidencias de la pobreza en personas, se puede ver que estas fueron: Gran Buenos Aires (GBA) y Cuyo, con 37% cada una, y Noreste (NEA), con 36,7%. En tanto, las menores incidencias se registraron en Patagonia, con 31,4%, y Noroeste (NOA), con 36%.\n",
    "\n",
    "Sin embargo, hay varias ciudades donde la pobreza supera el 40%. El mayor índice se da en el Gran Resistencia (Chaco), con el 49,9%, seguida por Concordia (Entre Ríos), con el 49,2%. También se destacan los partidos del conurbano bonaerense, con el 42% de su población bajo la línea de pobreza. Más abajo, pero con indicadores altos, están San Nicolás/Villa Constitución, con 40,7%; Catamarca, con 40,3%, y Gran Córdoba y Santiago del Estero/La Banda, con 40% cada una.\n",
    "\n",
    "Asimismo, el organismo estadístico detalló: “Con respecto al segundo semestre de 2021, la incidencia de la pobreza registró una reducción de 0,2 puntos porcentuales (p.p.) en los hogares y de 0,8 p.p. en las personas. En el caso de la indigencia, mostró un aumento de 0,7 p.p. en los hogares y de 0,6 p.p. en las personas”.\n",
    "\n",
    "Agustín Salvia, director del Observatorio de la Deuda Social de la Universidad Católica Argentina (UCA), explicó por qué se dio este contraste entre baja de la pobreza y suba de la indigencia. “El hecho de que una baje y otra suba se debe a que las changas son cada vez menos y ha habido un empobrecimiento de los ingresos de los trabajadores informales precarios. Hay más trabajadores, pero con menor remuneración y las ayudas sociales no han sido suficientes. De todos modos, creo que en el segundo semestre van a crecer tanto la pobreza como la indigencia”, señaló el especialista.\n",
    "\n",
    "Asimismo, Salvia advirtió respecto de la pobreza que el hecho de que tienda a la baja no implica que el problema estructural haya mejorado. “Este leve descenso responde a que hay gente que se ha incorporado a las actividades informales, a trabajos por cuenta propia y no registrados, y a un poco de recuperación de la construcción. En el primer trimestre eso ayudó en los ingresos de los hogares, pero ya en el segundo trimestre la inflación se devoró ese alivio e hizo que esa leve recuperación no fuera sostenible”.\n",
    "\n",
    "En efecto, al dato publicado por el Indec hay que dividirlo en dos, porque es muy distinto lo que sucedió en el primer trimestre del año que lo que ocurrió en el segundo. Según Salvia, el primer trimestre acompañó al cuarto del año pasado, que tuvo recuperación del empleo, sobre todo informal, más bonos y ayuda estatal en un contexto electoral, a lo que se sumó en la primera parte de 2022 la reactivación en turismo, comercio y gastronomía, por la salida de la pandemia. “Todo eso llevó a una baja de la pobreza, que en términos comparativos se asemeja a la última parte de 2021″, señaló.\n",
    "\n",
    "En el segundo trimestre, para Salvia, continúa algo de lo que se vio en los anteriores, pero la inflación empieza a impactar. “Ya no hay recuperación del empleo informal, los trabajos se precarizan más y las remuneraciones no alcanzan para cubrir el aumento de los precios. Por todo esto, el segundo trimestre ya marca la tendencia al aumento de la pobreza: las tasas de 36% en el primer trimestre, ahora son de 38%, por eso la cifra publicada se ubica entre ellas dos”, concluyó el especialista.\n",
    "\n",
    "En tanto, Jorge Colina, director del Instituto para el Desarrollo Social Argentino (Idesa), dijo que la inflación produce pobreza e indigencia, pero las familias pobres tienen mayores ingresos provenientes de la informalidad. “Con la informalidad no llegan a salir de la pobreza, pero por lo menos salen de la indigencia. Las familias indigentes, en cambio, están muy atacadas por la inactividad laboral, tienen muy pocos ingresos, y cuando sube la inflación les pega más fuerte. Es decir, la inflación les pega a todos, pero los pobres pueden compensar con más trabajo informal, mientras que los indigentes no”, explicó el economista.\n",
    "\n",
    "Colina comentó que así como era esperable que la pobreza no indigente se mantuviera o bajara un poco, debido a que en la primera parte del año la inflación no fue tan alta e incluso los ingresos se recompusieron un poco, en vista de la aceleración del aumento de precios a partir de junio, se prevé que en el informe sobre el segundo semestre de este año tanto la pobreza como la indigencia se incrementen. “Lo que empezó a ocurrir a partir de junio es que los ingresos fueron perdiendo contra la inflación y eso se va a reflejar en la próxima medición”, expresó el especialista.\n",
    "\n",
    "Un dato que se esperaba\n",
    "Por su parte, Claudio Caprarulo, economista de la consultora Analytica, remarcó que la reducción en la tasa de pobreza respecto del segundo semestre de 2021 de 0,8 p.p. era esperable, por la mejor distribución del ingreso en términos comparativos. “Lo mismo permitían deducir los datos de empleo, que mejoraron, pero no son tan alentadores porque se percibe que miembros del hogar se insertan en el mercado de trabajo porque el ingreso familiar cae frente a una inflación creciente. Así, en términos de pobreza por ingresos permiten sobrepasar la línea, aunque no necesariamente mejoren las condiciones de vida del hogar”, analizó.\n",
    "\n",
    "En cuanto a la pobreza en menores de 14 años, Caprarulo opinó que continúa en niveles demasiado elevados, aunque haya bajado respecto del semestre pasado. “Según el último dato el 50,9% son pobres, misma proporción que en el segundo semestre de 2019. Las asignaciones familiares y por hijo son una contribución importante para sostener a las familias, pero está claro que no alcanzan. Es sumamente preocupante en términos de desarrollo humano, a la vez que nos pone en atención respecto a la evolución de las tasas de deserción educativa o de retraso para finalizar cada etapa en el tiempo estipulado, generando condiciones de perpetuación de la pobreza”, dijo el economista.\n",
    "\n",
    "Con vistas a lo que puede arrojar el dato estadístico correspondiente al segundo semestre del año, Caprarulo coincidió con las previsiones de Colina y Salvia, que proyectan cifras aún más preocupantes que las que se conocieron ayer. “Hacia el segundo semestre es esperable que veamos una tasa de pobreza que vuelve a subir. Los aumentos de la canasta básica alimentaria y la canasta básica total entre julio y agosto promediaron el 6,7% y el 7,2, respectivamente”, argumentó.\n",
    "\n",
    "En este contexto, Caprarulo señaló: “Por un lado, quienes se encuentren por debajo de la línea de pobreza y tengan un trabajo, es muy probable que carezcan de medios para negociar subas salariales que compensen la pérdida de poder adquisitivo. Por otro lado, en un contexto en que la actividad comienza a frenarse, los trabajadores menos calificados y de menores salarios son los primeros en ver recortadas sus horas de trabajo, sus salarios o sus puestos; en la medida que esto suceda la distribución del ingreso perderá nuevamente y tendremos una mayor incidencia de la pobreza”.\"\"\""
   ]
  },
  {
   "cell_type": "code",
   "execution_count": 49,
   "metadata": {},
   "outputs": [],
   "source": [
    "noticia = noticia.lower() #Hago minuscula todas las palabras del texto"
   ]
  },
  {
   "cell_type": "code",
   "execution_count": 50,
   "metadata": {},
   "outputs": [],
   "source": [
    "Oraciones = sent_tokenize(noticia) #Tokenizo cada sentencia del texto "
   ]
  },
  {
   "cell_type": "code",
   "execution_count": 51,
   "metadata": {},
   "outputs": [],
   "source": [
    "Palabras = []\n",
    "for oracion in Oraciones: #Recorro los tokens de sentencias\n",
    "    for palabra in regexp_tokenize(oracion,pattern='\\w+'): #las separo por los espacios entre palabras\n",
    "        Palabras.append(palabra)# las agrego a un solo array plabras. "
   ]
  },
  {
   "cell_type": "code",
   "execution_count": 52,
   "metadata": {},
   "outputs": [],
   "source": [
    "filtro = []\n",
    "for palabra in Palabras: #Recorro las palabras\n",
    "    if palabra not in stops:#Creo la condicion de que no sean stops\n",
    "        filtro.append(palabra)#Agrego a filtro"
   ]
  },
  {
   "cell_type": "code",
   "execution_count": 53,
   "metadata": {},
   "outputs": [
    {
     "data": {
      "text/plain": [
       "[('pobreza', 23),\n",
       " ('semestre', 11),\n",
       " ('segundo', 11),\n",
       " ('0', 10),\n",
       " ('p', 10),\n",
       " ('inflación', 9),\n",
       " ('pobres', 9),\n",
       " ('indigencia', 8),\n",
       " ('millones', 7),\n",
       " ('año', 7)]"
      ]
     },
     "execution_count": 53,
     "metadata": {},
     "output_type": "execute_result"
    }
   ],
   "source": [
    "Counter(filtro).most_common(10)#Cuento las 10 mas comunes"
   ]
  },
  {
   "cell_type": "code",
   "execution_count": null,
   "metadata": {},
   "outputs": [],
   "source": [
    "#Como no agregue lematizacion en el codigo si quiero decir su teoria, la idea principal de lemtaizar\n",
    "#es llegar al lema de la palabras para poder indentificarla de una mejor manera "
   ]
  },
  {
   "cell_type": "code",
   "execution_count": null,
   "metadata": {},
   "outputs": [],
   "source": [
    "#Que es token- unidad funcional.\n",
    "#Que es una exprecion regular de \\w+ codiciones que estas buscando que se cumplan en \\w+\n",
    "#Lematizar y sacar las stops words serias reducir la cantidad de features."
   ]
  }
 ],
 "metadata": {
  "interpreter": {
   "hash": "83c53c63e2e32ecbd28de34b36754a1340503bb91ad70a548ae9d35b36353933"
  },
  "kernelspec": {
   "display_name": "Python 3.9.7 ('base')",
   "language": "python",
   "name": "python3"
  },
  "language_info": {
   "codemirror_mode": {
    "name": "ipython",
    "version": 3
   },
   "file_extension": ".py",
   "mimetype": "text/x-python",
   "name": "python",
   "nbconvert_exporter": "python",
   "pygments_lexer": "ipython3",
   "version": "3.9.7"
  },
  "orig_nbformat": 4
 },
 "nbformat": 4,
 "nbformat_minor": 2
}
