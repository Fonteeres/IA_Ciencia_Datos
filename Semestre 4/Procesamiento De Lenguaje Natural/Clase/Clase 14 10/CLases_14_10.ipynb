{
 "cells": [
  {
   "cell_type": "code",
   "execution_count": 20,
   "metadata": {},
   "outputs": [
    {
     "name": "stderr",
     "output_type": "stream",
     "text": [
      "[nltk_data] Downloading package stopwords to\n",
      "[nltk_data]     C:\\Users\\Alumno\\AppData\\Roaming\\nltk_data...\n",
      "[nltk_data]   Package stopwords is already up-to-date!\n",
      "[nltk_data] Downloading package punkt to\n",
      "[nltk_data]     C:\\Users\\Alumno\\AppData\\Roaming\\nltk_data...\n",
      "[nltk_data]   Package punkt is already up-to-date!\n"
     ]
    }
   ],
   "source": [
    "import pandas as pd\n",
    "import nltk\n",
    "from nltk import sent_tokenize, regexp_tokenize # Separa en oraciones el texto, separa las oraciones en sus palabras\n",
    "from nltk.stem.snowball import stopwords #Importo las stopwords\n",
    "from collections import Counter #Traigo el contador de palabras\n",
    "nltk.download('stopwords') #Descargo las stopwords\n",
    "nltk.download('punkt')\n",
    "stops = set(stopwords.words('spanish'))# Determino el idioma de mis stopwords\n",
    "from sklearn.feature_extraction.text import TfidfVectorizer"
   ]
  },
  {
   "cell_type": "code",
   "execution_count": 12,
   "metadata": {},
   "outputs": [],
   "source": [
    "with open(r'C:\\Users\\Alumno\\IA_Ciencia_Datos\\Semestre 4\\Procesamiento De Lenguaje Natural\\Clase\\Clase 14 10\\Documento1.txt', mode='r') as d1:\n",
    "    documento1 = d1.read()\n",
    "with open(r'C:\\Users\\Alumno\\IA_Ciencia_Datos\\Semestre 4\\Procesamiento De Lenguaje Natural\\Clase\\Clase 14 10\\Documento2.txt',mode='r') as d2:\n",
    "    documento2 = d2.read()\n",
    "with open(r'C:\\Users\\Alumno\\IA_Ciencia_Datos\\Semestre 4\\Procesamiento De Lenguaje Natural\\Clase\\Clase 14 10\\Documento3.txt',mode='r') as d3:\n",
    "    documento3 = d3.read()"
   ]
  },
  {
   "cell_type": "code",
   "execution_count": 13,
   "metadata": {},
   "outputs": [],
   "source": [
    "documento1 = documento1.lower()\n",
    "documento2 = documento1.lower()\n",
    "documento3 = documento3.lower()"
   ]
  },
  {
   "cell_type": "code",
   "execution_count": 15,
   "metadata": {},
   "outputs": [],
   "source": [
    "Oraciones1 = sent_tokenize(documento1)\n",
    "Oraciones2 = sent_tokenize(documento2)\n",
    "Oraciones3 = sent_tokenize(documento3)"
   ]
  },
  {
   "cell_type": "code",
   "execution_count": 16,
   "metadata": {},
   "outputs": [],
   "source": [
    "Palabras1 = []\n",
    "Palabras2 = []\n",
    "Palabras3 = []\n",
    "for oracion in Oraciones1:\n",
    "    for palabra in regexp_tokenize(oracion,pattern='\\w+'): \n",
    "        Palabras1.append(palabra)\n",
    "for oracion in Oraciones2: \n",
    "    for palabra in regexp_tokenize(oracion,pattern='\\w+'):\n",
    "        Palabras2.append(palabra)\n",
    "for oracion in Oraciones3: \n",
    "    for palabra in regexp_tokenize(oracion,pattern='\\w+'): \n",
    "        Palabras3.append(palabra) "
   ]
  },
  {
   "cell_type": "code",
   "execution_count": 18,
   "metadata": {},
   "outputs": [],
   "source": [
    "filtro1 = []\n",
    "filtro2 = []\n",
    "filtro3 = []\n",
    "for palabra in Palabras1: \n",
    "    if palabra not in stops:\n",
    "        filtro1.append(palabra)\n",
    "for palabra in Palabras2: \n",
    "    if palabra not in stops:\n",
    "        filtro2.append(palabra)\n",
    "for palabra in Palabras3: \n",
    "    if palabra not in stops:\n",
    "        filtro3.append(palabra)\n"
   ]
  },
  {
   "cell_type": "code",
   "execution_count": 22,
   "metadata": {},
   "outputs": [],
   "source": [
    "vectorizador = TfidfVectorizer()\n",
    "vectors = vectorizador.fit_transform([str(filtro1),str(filtro2),str(filtro3)])\n",
    "features_names = vectorizador.get_feature_names()\n",
    "dense = vectors.todense()\n",
    "denselist = dense.tolist()\n",
    "df = pd.DataFrame(denselist, columns=features_names)"
   ]
  },
  {
   "cell_type": "code",
   "execution_count": 23,
   "metadata": {},
   "outputs": [
    {
     "data": {
      "text/html": [
       "<div>\n",
       "<style scoped>\n",
       "    .dataframe tbody tr th:only-of-type {\n",
       "        vertical-align: middle;\n",
       "    }\n",
       "\n",
       "    .dataframe tbody tr th {\n",
       "        vertical-align: top;\n",
       "    }\n",
       "\n",
       "    .dataframe thead th {\n",
       "        text-align: right;\n",
       "    }\n",
       "</style>\n",
       "<table border=\"1\" class=\"dataframe\">\n",
       "  <thead>\n",
       "    <tr style=\"text-align: right;\">\n",
       "      <th></th>\n",
       "      <th>10</th>\n",
       "      <th>12</th>\n",
       "      <th>14</th>\n",
       "      <th>149</th>\n",
       "      <th>16</th>\n",
       "      <th>17</th>\n",
       "      <th>2021</th>\n",
       "      <th>21</th>\n",
       "      <th>66</th>\n",
       "      <th>83</th>\n",
       "      <th>...</th>\n",
       "      <th>variación</th>\n",
       "      <th>variaron</th>\n",
       "      <th>varios</th>\n",
       "      <th>verduras</th>\n",
       "      <th>vestir</th>\n",
       "      <th>vieron</th>\n",
       "      <th>vio</th>\n",
       "      <th>vivienda</th>\n",
       "      <th>viviendas</th>\n",
       "      <th>único</th>\n",
       "    </tr>\n",
       "  </thead>\n",
       "  <tbody>\n",
       "    <tr>\n",
       "      <th>0</th>\n",
       "      <td>0.075881</td>\n",
       "      <td>0.000000</td>\n",
       "      <td>0.000000</td>\n",
       "      <td>0.09771</td>\n",
       "      <td>0.000000</td>\n",
       "      <td>0.09771</td>\n",
       "      <td>0.09771</td>\n",
       "      <td>0.000000</td>\n",
       "      <td>0.09771</td>\n",
       "      <td>0.09771</td>\n",
       "      <td>...</td>\n",
       "      <td>0.000000</td>\n",
       "      <td>0.000000</td>\n",
       "      <td>0.075881</td>\n",
       "      <td>0.000000</td>\n",
       "      <td>0.075881</td>\n",
       "      <td>0.000000</td>\n",
       "      <td>0.000000</td>\n",
       "      <td>0.000000</td>\n",
       "      <td>0.000000</td>\n",
       "      <td>0.000000</td>\n",
       "    </tr>\n",
       "    <tr>\n",
       "      <th>1</th>\n",
       "      <td>0.075881</td>\n",
       "      <td>0.000000</td>\n",
       "      <td>0.000000</td>\n",
       "      <td>0.09771</td>\n",
       "      <td>0.000000</td>\n",
       "      <td>0.09771</td>\n",
       "      <td>0.09771</td>\n",
       "      <td>0.000000</td>\n",
       "      <td>0.09771</td>\n",
       "      <td>0.09771</td>\n",
       "      <td>...</td>\n",
       "      <td>0.000000</td>\n",
       "      <td>0.000000</td>\n",
       "      <td>0.075881</td>\n",
       "      <td>0.000000</td>\n",
       "      <td>0.075881</td>\n",
       "      <td>0.000000</td>\n",
       "      <td>0.000000</td>\n",
       "      <td>0.000000</td>\n",
       "      <td>0.000000</td>\n",
       "      <td>0.000000</td>\n",
       "    </tr>\n",
       "    <tr>\n",
       "      <th>2</th>\n",
       "      <td>0.078950</td>\n",
       "      <td>0.044558</td>\n",
       "      <td>0.044558</td>\n",
       "      <td>0.00000</td>\n",
       "      <td>0.044558</td>\n",
       "      <td>0.00000</td>\n",
       "      <td>0.00000</td>\n",
       "      <td>0.044558</td>\n",
       "      <td>0.00000</td>\n",
       "      <td>0.00000</td>\n",
       "      <td>...</td>\n",
       "      <td>0.133674</td>\n",
       "      <td>0.044558</td>\n",
       "      <td>0.026317</td>\n",
       "      <td>0.044558</td>\n",
       "      <td>0.026317</td>\n",
       "      <td>0.044558</td>\n",
       "      <td>0.044558</td>\n",
       "      <td>0.044558</td>\n",
       "      <td>0.044558</td>\n",
       "      <td>0.044558</td>\n",
       "    </tr>\n",
       "  </tbody>\n",
       "</table>\n",
       "<p>3 rows × 160 columns</p>\n",
       "</div>"
      ],
      "text/plain": [
       "         10        12        14      149        16       17     2021  \\\n",
       "0  0.075881  0.000000  0.000000  0.09771  0.000000  0.09771  0.09771   \n",
       "1  0.075881  0.000000  0.000000  0.09771  0.000000  0.09771  0.09771   \n",
       "2  0.078950  0.044558  0.044558  0.00000  0.044558  0.00000  0.00000   \n",
       "\n",
       "         21       66       83  ...  variación  variaron    varios  verduras  \\\n",
       "0  0.000000  0.09771  0.09771  ...   0.000000  0.000000  0.075881  0.000000   \n",
       "1  0.000000  0.09771  0.09771  ...   0.000000  0.000000  0.075881  0.000000   \n",
       "2  0.044558  0.00000  0.00000  ...   0.133674  0.044558  0.026317  0.044558   \n",
       "\n",
       "     vestir    vieron       vio  vivienda  viviendas     único  \n",
       "0  0.075881  0.000000  0.000000  0.000000   0.000000  0.000000  \n",
       "1  0.075881  0.000000  0.000000  0.000000   0.000000  0.000000  \n",
       "2  0.026317  0.044558  0.044558  0.044558   0.044558  0.044558  \n",
       "\n",
       "[3 rows x 160 columns]"
      ]
     },
     "execution_count": 23,
     "metadata": {},
     "output_type": "execute_result"
    }
   ],
   "source": [
    "df"
   ]
  }
 ],
 "metadata": {
  "interpreter": {
   "hash": "83c53c63e2e32ecbd28de34b36754a1340503bb91ad70a548ae9d35b36353933"
  },
  "kernelspec": {
   "display_name": "Python 3.9.7 ('base')",
   "language": "python",
   "name": "python3"
  },
  "language_info": {
   "codemirror_mode": {
    "name": "ipython",
    "version": 3
   },
   "file_extension": ".py",
   "mimetype": "text/x-python",
   "name": "python",
   "nbconvert_exporter": "python",
   "pygments_lexer": "ipython3",
   "version": "3.9.7"
  },
  "orig_nbformat": 4
 },
 "nbformat": 4,
 "nbformat_minor": 2
}
