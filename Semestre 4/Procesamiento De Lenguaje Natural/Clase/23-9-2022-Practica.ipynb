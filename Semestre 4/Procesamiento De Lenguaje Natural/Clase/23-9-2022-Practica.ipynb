{
 "cells": [
  {
   "cell_type": "code",
   "execution_count": 20,
   "metadata": {},
   "outputs": [
    {
     "name": "stderr",
     "output_type": "stream",
     "text": [
      "[nltk_data] Downloading package punkt to\n",
      "[nltk_data]     C:\\Users\\gino_\\AppData\\Roaming\\nltk_data...\n",
      "[nltk_data]   Unzipping tokenizers\\punkt.zip.\n",
      "[nltk_data] Downloading package stopwords to\n",
      "[nltk_data]     C:\\Users\\gino_\\AppData\\Roaming\\nltk_data...\n",
      "[nltk_data]   Unzipping corpora\\stopwords.zip.\n"
     ]
    }
   ],
   "source": [
    "from nltk.stem.snowball import stopwords #Improto las stopwords\n",
    "import nltk\n",
    "from nltk import sent_tokenize # separa en sentencias lo que buscamos tokenizar 'oraciones'\n",
    "from nltk import regexp_tokenize # separa las sentencias en el elemento simple\n",
    "from nltk import word_tokenize # \n",
    "import PyPDF2 # Para leer el PDF\n",
    "from collections import Counter \n",
    "nltk.download('punkt')\n",
    "nltk.download('stopwords')\n",
    "stops = set(stopwords.words('spanish'))"
   ]
  },
  {
   "cell_type": "code",
   "execution_count": 22,
   "metadata": {},
   "outputs": [],
   "source": [
    "file = open(r'C:\\Users\\gino_\\IA_Ciencia_Datos\\Semestre 4\\Procesamiento De Lenguaje Natural\\CONICET_Digital_Nro.ff3d0459-e0ba-4744-9c06-f94629df67b0_B.pdf', 'rb') \n",
    "#Llamo al PDF y creo el objeto\n",
    "fileReader = PyPDF2.PdfReader(file)\n",
    "# Cero el objeto que va a leer el pdf\n",
    "# print(fileReader.numPages) #para averiguar el numero de paginas"
   ]
  },
  {
   "cell_type": "code",
   "execution_count": 17,
   "metadata": {},
   "outputs": [],
   "source": [
    "#Creo un for para asignar a mi variable texto los textos de las paginas del PDF que deseo tener\n",
    "text = ''\n",
    "for i in range(2,10): \n",
    "    page = fileReader.pages[i]\n",
    "    text = text + page.extract_text()\n",
    "    text"
   ]
  },
  {
   "cell_type": "code",
   "execution_count": 21,
   "metadata": {},
   "outputs": [],
   "source": [
    "text = text.lower() #Hago Minuscula todo \n",
    "oraciones = sent_tokenize(text) # creo el objeto con nltk que separa al texto en oraciones"
   ]
  },
  {
   "cell_type": "code",
   "execution_count": 25,
   "metadata": {},
   "outputs": [],
   "source": [
    "palabras = []\n",
    "#Creo un for para separar las palabras de cada oracion \n",
    "for oracion in oraciones:\n",
    "  for palabra in regexp_tokenize(oracion,pattern='\\w+'):\n",
    "    palabras.append(palabra)\n",
    "# Creo un For para separar las palabras que me interesan de las que no aportan valor a mi texto\n",
    "filtrada = []\n",
    "for palabra in palabras:\n",
    "  if palabra not in stops:\n",
    "    filtrada.append(palabra)"
   ]
  },
  {
   "cell_type": "code",
   "execution_count": 57,
   "metadata": {},
   "outputs": [
    {
     "data": {
      "text/plain": [
       "[('maltrato', 35),\n",
       " ('infantil', 33),\n",
       " ('niño', 29),\n",
       " ('violencia', 25),\n",
       " ('niños', 18),\n",
       " ('física', 17),\n",
       " ('padres', 15),\n",
       " ('hijos', 14),\n",
       " ('et', 12),\n",
       " ('negligencia', 11)]"
      ]
     },
     "execution_count": 57,
     "metadata": {},
     "output_type": "execute_result"
    }
   ],
   "source": [
    "#Creo un for para lematizar las palabras \n",
    "fk = []\n",
    "for palabra in filtrada:\n",
    "    if palabra not in stops:\n",
    "        fk.append(palabra)\n",
    "Counter(fk).most_common(10) # Busco las palabras mas comunes para saber cuales serian su pesoS"
   ]
  }
 ],
 "metadata": {
  "kernelspec": {
   "display_name": "Python 3.10.7 64-bit (microsoft store)",
   "language": "python",
   "name": "python3"
  },
  "language_info": {
   "codemirror_mode": {
    "name": "ipython",
    "version": 3
   },
   "file_extension": ".py",
   "mimetype": "text/x-python",
   "name": "python",
   "nbconvert_exporter": "python",
   "pygments_lexer": "ipython3",
   "version": "3.10.7"
  },
  "orig_nbformat": 4,
  "vscode": {
   "interpreter": {
    "hash": "7c5922f9b9335c6ca5c529fc860691ca69e4fd8df581d2f8afad393205cde563"
   }
  }
 },
 "nbformat": 4,
 "nbformat_minor": 2
}
