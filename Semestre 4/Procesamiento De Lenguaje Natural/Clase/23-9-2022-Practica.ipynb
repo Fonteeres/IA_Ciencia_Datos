{
 "cells": [
  {
   "cell_type": "code",
   "execution_count": 32,
   "metadata": {},
   "outputs": [
    {
     "name": "stderr",
     "output_type": "stream",
     "text": [
      "[nltk_data] Downloading package stopwords to\n",
      "[nltk_data]     C:\\Users\\gino_\\AppData\\Roaming\\nltk_data...\n",
      "[nltk_data]   Package stopwords is already up-to-date!\n"
     ]
    }
   ],
   "source": [
    "import nltk\n",
    "from nltk import sent_tokenize, regexp_tokenize # Separa en oraciones el texto , separa las oraciones en sus palabras\n",
    "from nltk.stem.snowball import stopwords #Importo las stopwords\n",
    "from collections import Counter #Traigo el contador de palabras\n",
    "nltk.download('stopwords')\n",
    "stops = set(stopwords.words('spanish'))\n",
    "import PyPDF2 # Para leer el PDF"
   ]
  },
  {
   "cell_type": "code",
   "execution_count": 33,
   "metadata": {},
   "outputs": [],
   "source": [
    "file = open(r'C:\\Users\\gino_\\IA_Ciencia_Datos\\Semestre 4\\Procesamiento De Lenguaje Natural\\CONICET_Digital_Nro.ff3d0459-e0ba-4744-9c06-f94629df67b0_B.pdf', 'rb') \n",
    "#Llamo al PDF y creo el objeto\n",
    "fileReader = PyPDF2.PdfReader(file)\n",
    "# Cero el objeto que va a leer el pdf\n",
    "# print(fileReader.numPages) #para averiguar el numero de paginas"
   ]
  },
  {
   "cell_type": "code",
   "execution_count": 34,
   "metadata": {},
   "outputs": [],
   "source": [
    "#Creo un for para asignar a mi variable texto los textos de las paginas del PDF que deseo tener\n",
    "text = ''\n",
    "for i in range(2,10): \n",
    "    page = fileReader.pages[i]\n",
    "    text = text + page.extract_text()\n",
    "    text"
   ]
  },
  {
   "cell_type": "code",
   "execution_count": 35,
   "metadata": {},
   "outputs": [],
   "source": [
    "text = text.lower() #Hago Minuscula todo \n",
    "oraciones = sent_tokenize(text) # creo el objeto con nltk que separa al texto en oraciones"
   ]
  },
  {
   "cell_type": "code",
   "execution_count": 36,
   "metadata": {},
   "outputs": [],
   "source": [
    "palabras = []\n",
    "#Creo un for para separar las palabras de cada oracion \n",
    "for oracion in oraciones: #Recorro las oraciones 1 a una \n",
    "  for palabra in regexp_tokenize(oracion,pattern='\\w+'): # Creo un for que agarra esa oracion y saca todo el texto entre espacios\n",
    "    palabras.append(palabra) #guardo esas 'palabras' en la misma variable\n",
    "# Creo un For para separar las palabras que me interesan de las que no aportan valor a mi texto\n",
    "filtrada = []\n",
    "for palabra in palabras:\n",
    "  if palabra not in stops:\n",
    "    filtrada.append(palabra)"
   ]
  },
  {
   "cell_type": "code",
   "execution_count": 37,
   "metadata": {},
   "outputs": [
    {
     "data": {
      "text/plain": [
       "[('maltrato', 30),\n",
       " ('violencia', 29),\n",
       " ('niño', 28),\n",
       " ('infantil', 26),\n",
       " ('abuso', 18),\n",
       " ('física', 16),\n",
       " ('niños', 15),\n",
       " ('et', 14),\n",
       " ('negligencia', 13),\n",
       " ('hijos', 12)]"
      ]
     },
     "execution_count": 37,
     "metadata": {},
     "output_type": "execute_result"
    }
   ],
   "source": [
    "#Creo un for para lematizar las palabras \n",
    "fk = []\n",
    "for palabra in filtrada:\n",
    "    if palabra not in stops:\n",
    "        fk.append(palabra)\n",
    "Counter(fk).most_common(10) # Busco las palabras mas comunes para saber cuales serian su pesoS"
   ]
  }
 ],
 "metadata": {
  "kernelspec": {
   "display_name": "Python 3.10.7 64-bit (microsoft store)",
   "language": "python",
   "name": "python3"
  },
  "language_info": {
   "codemirror_mode": {
    "name": "ipython",
    "version": 3
   },
   "file_extension": ".py",
   "mimetype": "text/x-python",
   "name": "python",
   "nbconvert_exporter": "python",
   "pygments_lexer": "ipython3",
   "version": "3.10.7"
  },
  "orig_nbformat": 4,
  "vscode": {
   "interpreter": {
    "hash": "7c5922f9b9335c6ca5c529fc860691ca69e4fd8df581d2f8afad393205cde563"
   }
  }
 },
 "nbformat": 4,
 "nbformat_minor": 2
}
