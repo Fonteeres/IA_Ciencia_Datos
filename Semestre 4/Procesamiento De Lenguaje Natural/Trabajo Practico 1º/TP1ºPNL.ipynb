{
 "cells": [
  {
   "cell_type": "code",
   "execution_count": 1,
   "metadata": {},
   "outputs": [],
   "source": [
    "import pandas as pd\n",
    "import numpy as np\n",
    "from nltk import sent_tokenize \n",
    "#Estado del arte en clasificacion.\n",
    "#clasificacion de texto con procesamiento de lenguaje natural\n",
    "#Clasificación Semi-Supervisada con Machine Learning\n",
    "https://inteligencia-analitica.com/procesamiento-lenguaje-natural/\n",
    "https://blogs.iadb.org/conocimiento-abierto/es/aplicando-el-procesamiento-del-lenguaje-natural-para-clasificar-articulos-del-coronavirus/\n",
    "https://en.wikipedia.org/wiki/Latent_Dirichlet_allocation"
   ]
  },
  {
   "cell_type": "code",
   "execution_count": 2,
   "metadata": {},
   "outputs": [
    {
     "data": {
      "text/html": [
       "<div>\n",
       "<style scoped>\n",
       "    .dataframe tbody tr th:only-of-type {\n",
       "        vertical-align: middle;\n",
       "    }\n",
       "\n",
       "    .dataframe tbody tr th {\n",
       "        vertical-align: top;\n",
       "    }\n",
       "\n",
       "    .dataframe thead th {\n",
       "        text-align: right;\n",
       "    }\n",
       "</style>\n",
       "<table border=\"1\" class=\"dataframe\">\n",
       "  <thead>\n",
       "    <tr style=\"text-align: right;\">\n",
       "      <th></th>\n",
       "      <th>class</th>\n",
       "      <th>Text</th>\n",
       "    </tr>\n",
       "  </thead>\n",
       "  <tbody>\n",
       "    <tr>\n",
       "      <th>0</th>\n",
       "      <td>True</td>\n",
       "      <td>Algunas de las voces extremistas más conocida...</td>\n",
       "    </tr>\n",
       "    <tr>\n",
       "      <th>1</th>\n",
       "      <td>True</td>\n",
       "      <td>Después de casi dos años y medio de luchas po...</td>\n",
       "    </tr>\n",
       "    <tr>\n",
       "      <th>2</th>\n",
       "      <td>True</td>\n",
       "      <td>Dos periodistas birmanos de la agencia Reuters...</td>\n",
       "    </tr>\n",
       "    <tr>\n",
       "      <th>3</th>\n",
       "      <td>True</td>\n",
       "      <td>El Cuerpo Nacional de Policía ha detenido a cu...</td>\n",
       "    </tr>\n",
       "    <tr>\n",
       "      <th>4</th>\n",
       "      <td>True</td>\n",
       "      <td>El desfile de la firma en Roma se convierte en...</td>\n",
       "    </tr>\n",
       "    <tr>\n",
       "      <th>...</th>\n",
       "      <td>...</td>\n",
       "      <td>...</td>\n",
       "    </tr>\n",
       "    <tr>\n",
       "      <th>1995</th>\n",
       "      <td>True</td>\n",
       "      <td>El Consejo de Gobierno ha dado su visto bueno...</td>\n",
       "    </tr>\n",
       "    <tr>\n",
       "      <th>1996</th>\n",
       "      <td>True</td>\n",
       "      <td>Investigadores valencianos han desarrollado u...</td>\n",
       "    </tr>\n",
       "    <tr>\n",
       "      <th>1997</th>\n",
       "      <td>True</td>\n",
       "      <td>Los arrestados actuaban en coches y en establ...</td>\n",
       "    </tr>\n",
       "    <tr>\n",
       "      <th>1998</th>\n",
       "      <td>True</td>\n",
       "      <td>El Rey ha encargado este miércoles a Pedro Sá...</td>\n",
       "    </tr>\n",
       "    <tr>\n",
       "      <th>1999</th>\n",
       "      <td>True</td>\n",
       "      <td>Las pruebas realizadas en el Centro Nacional ...</td>\n",
       "    </tr>\n",
       "  </tbody>\n",
       "</table>\n",
       "<p>2000 rows × 2 columns</p>\n",
       "</div>"
      ],
      "text/plain": [
       "      class                                               Text\n",
       "0      True   Algunas de las voces extremistas más conocida...\n",
       "1      True   Después de casi dos años y medio de luchas po...\n",
       "2      True  Dos periodistas birmanos de la agencia Reuters...\n",
       "3      True  El Cuerpo Nacional de Policía ha detenido a cu...\n",
       "4      True  El desfile de la firma en Roma se convierte en...\n",
       "...     ...                                                ...\n",
       "1995   True   El Consejo de Gobierno ha dado su visto bueno...\n",
       "1996   True   Investigadores valencianos han desarrollado u...\n",
       "1997   True   Los arrestados actuaban en coches y en establ...\n",
       "1998   True   El Rey ha encargado este miércoles a Pedro Sá...\n",
       "1999   True   Las pruebas realizadas en el Centro Nacional ...\n",
       "\n",
       "[2000 rows x 2 columns]"
      ]
     },
     "execution_count": 2,
     "metadata": {},
     "output_type": "execute_result"
    }
   ],
   "source": [
    "df = pd.read_excel(\"Noticias Verdaderas y Falsas.xlsx\")\n",
    "df"
   ]
  },
  {
   "cell_type": "code",
   "execution_count": 24,
   "metadata": {},
   "outputs": [
    {
     "name": "stderr",
     "output_type": "stream",
     "text": [
      "C:\\Users\\Alumno\\AppData\\Local\\Temp/ipykernel_8888/1981285159.py:3: SettingWithCopyWarning: \n",
      "A value is trying to be set on a copy of a slice from a DataFrame\n",
      "\n",
      "See the caveats in the documentation: https://pandas.pydata.org/pandas-docs/stable/user_guide/indexing.html#returning-a-view-versus-a-copy\n",
      "  df['Text'][ind] = df['Text'][ind].lower()\n"
     ]
    }
   ],
   "source": [
    "for ind in df.index:\n",
    "    df['Text'][ind] = df['Text'][ind].lower()"
   ]
  },
  {
   "cell_type": "code",
   "execution_count": 25,
   "metadata": {},
   "outputs": [
    {
     "data": {
      "text/html": [
       "<div>\n",
       "<style scoped>\n",
       "    .dataframe tbody tr th:only-of-type {\n",
       "        vertical-align: middle;\n",
       "    }\n",
       "\n",
       "    .dataframe tbody tr th {\n",
       "        vertical-align: top;\n",
       "    }\n",
       "\n",
       "    .dataframe thead th {\n",
       "        text-align: right;\n",
       "    }\n",
       "</style>\n",
       "<table border=\"1\" class=\"dataframe\">\n",
       "  <thead>\n",
       "    <tr style=\"text-align: right;\">\n",
       "      <th></th>\n",
       "      <th>class</th>\n",
       "      <th>Text</th>\n",
       "    </tr>\n",
       "  </thead>\n",
       "  <tbody>\n",
       "    <tr>\n",
       "      <th>0</th>\n",
       "      <td>True</td>\n",
       "      <td>algunas de las voces extremistas más conocida...</td>\n",
       "    </tr>\n",
       "    <tr>\n",
       "      <th>1</th>\n",
       "      <td>True</td>\n",
       "      <td>después de casi dos años y medio de luchas po...</td>\n",
       "    </tr>\n",
       "    <tr>\n",
       "      <th>2</th>\n",
       "      <td>True</td>\n",
       "      <td>dos periodistas birmanos de la agencia reuters...</td>\n",
       "    </tr>\n",
       "    <tr>\n",
       "      <th>3</th>\n",
       "      <td>True</td>\n",
       "      <td>el cuerpo nacional de policía ha detenido a cu...</td>\n",
       "    </tr>\n",
       "    <tr>\n",
       "      <th>4</th>\n",
       "      <td>True</td>\n",
       "      <td>el desfile de la firma en roma se convierte en...</td>\n",
       "    </tr>\n",
       "    <tr>\n",
       "      <th>...</th>\n",
       "      <td>...</td>\n",
       "      <td>...</td>\n",
       "    </tr>\n",
       "    <tr>\n",
       "      <th>1995</th>\n",
       "      <td>True</td>\n",
       "      <td>el consejo de gobierno ha dado su visto bueno...</td>\n",
       "    </tr>\n",
       "    <tr>\n",
       "      <th>1996</th>\n",
       "      <td>True</td>\n",
       "      <td>investigadores valencianos han desarrollado u...</td>\n",
       "    </tr>\n",
       "    <tr>\n",
       "      <th>1997</th>\n",
       "      <td>True</td>\n",
       "      <td>los arrestados actuaban en coches y en establ...</td>\n",
       "    </tr>\n",
       "    <tr>\n",
       "      <th>1998</th>\n",
       "      <td>True</td>\n",
       "      <td>el rey ha encargado este miércoles a pedro sá...</td>\n",
       "    </tr>\n",
       "    <tr>\n",
       "      <th>1999</th>\n",
       "      <td>True</td>\n",
       "      <td>las pruebas realizadas en el centro nacional ...</td>\n",
       "    </tr>\n",
       "  </tbody>\n",
       "</table>\n",
       "<p>2000 rows × 2 columns</p>\n",
       "</div>"
      ],
      "text/plain": [
       "      class                                               Text\n",
       "0      True   algunas de las voces extremistas más conocida...\n",
       "1      True   después de casi dos años y medio de luchas po...\n",
       "2      True  dos periodistas birmanos de la agencia reuters...\n",
       "3      True  el cuerpo nacional de policía ha detenido a cu...\n",
       "4      True  el desfile de la firma en roma se convierte en...\n",
       "...     ...                                                ...\n",
       "1995   True   el consejo de gobierno ha dado su visto bueno...\n",
       "1996   True   investigadores valencianos han desarrollado u...\n",
       "1997   True   los arrestados actuaban en coches y en establ...\n",
       "1998   True   el rey ha encargado este miércoles a pedro sá...\n",
       "1999   True   las pruebas realizadas en el centro nacional ...\n",
       "\n",
       "[2000 rows x 2 columns]"
      ]
     },
     "execution_count": 25,
     "metadata": {},
     "output_type": "execute_result"
    }
   ],
   "source": [
    "df"
   ]
  }
 ],
 "metadata": {
  "interpreter": {
   "hash": "83c53c63e2e32ecbd28de34b36754a1340503bb91ad70a548ae9d35b36353933"
  },
  "kernelspec": {
   "display_name": "Python 3.9.7 ('base')",
   "language": "python",
   "name": "python3"
  },
  "language_info": {
   "codemirror_mode": {
    "name": "ipython",
    "version": 3
   },
   "file_extension": ".py",
   "mimetype": "text/x-python",
   "name": "python",
   "nbconvert_exporter": "python",
   "pygments_lexer": "ipython3",
   "version": "3.9.7"
  },
  "orig_nbformat": 4,
  "vscode": {
   "interpreter": {
    "hash": "7c5922f9b9335c6ca5c529fc860691ca69e4fd8df581d2f8afad393205cde563"
   }
  }
 },
 "nbformat": 4,
 "nbformat_minor": 2
}
