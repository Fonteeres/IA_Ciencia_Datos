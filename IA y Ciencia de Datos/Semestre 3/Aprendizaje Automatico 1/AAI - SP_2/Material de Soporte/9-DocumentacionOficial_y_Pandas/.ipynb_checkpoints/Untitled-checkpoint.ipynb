{
 "cells": [
  {
   "cell_type": "markdown",
   "id": "6a39e239",
   "metadata": {},
   "source": [
    "#### Tutorial de Pandas"
   ]
  },
  {
   "cell_type": "markdown",
   "id": "ce14dc9d",
   "metadata": {},
   "source": [
    "Tutorial desarrollado por Código Máquina\n",
    "\n",
    "https://m.youtube.com/playlist?list=PLat2DtY8K7YUFy8OwcwzcoicZjk4sqVZX"
   ]
  },
  {
   "cell_type": "markdown",
   "id": "456f5e87",
   "metadata": {},
   "source": [
    "#### Información sobre Scikit-Learn en el sitio web oficial:"
   ]
  },
  {
   "cell_type": "markdown",
   "id": "5cfeccdb",
   "metadata": {},
   "source": [
    "Información sobre Scikit-Learn en el sitio web oficial:\n",
    "\n",
    "https://scikit-learn.org/stable/"
   ]
  },
  {
   "cell_type": "markdown",
   "id": "679faa38",
   "metadata": {},
   "source": [
    "#### Division en Train y Test"
   ]
  },
  {
   "cell_type": "markdown",
   "id": "da5d5ed6",
   "metadata": {},
   "source": [
    "La función que nos permite generar los conjuntos para Train y Test es train_test_split(). La documentación oficial se encuentra aquí:\n",
    "\n",
    "https://scikit-learn.org/stable/modules/generated/sklearn.model_selection.train_test_split.html"
   ]
  },
  {
   "cell_type": "markdown",
   "id": "fe4f9517",
   "metadata": {},
   "source": [
    "#### Modelos de Regresión"
   ]
  },
  {
   "cell_type": "markdown",
   "id": "6f07604e",
   "metadata": {},
   "source": [
    "Regresión Lineal\n",
    "\n",
    "https://scikit-learn.org/stable/modules/generated/sklearn.linear_model.LinearRegression.html"
   ]
  },
  {
   "cell_type": "markdown",
   "id": "aa87720a",
   "metadata": {},
   "source": [
    "Árbol de Decisión Regresión\n",
    "\n",
    "https://scikit-learn.org/stable/modules/generated/sklearn.tree.DecisionTreeRegressor.html"
   ]
  },
  {
   "cell_type": "markdown",
   "id": "7e97af07",
   "metadata": {},
   "source": [
    "k Nearest Neighbors Regresión\n",
    "\n",
    "https://scikit-learn.org/stable/modules/generated/sklearn.neighbors.KNeighborsRegressor.html"
   ]
  },
  {
   "cell_type": "markdown",
   "id": "ad889296",
   "metadata": {},
   "source": [
    "Support Vectors Machines Regresión\n",
    "\n",
    "https://scikit-learn.org/stable/modules/generated/sklearn.svm.SVR.html"
   ]
  },
  {
   "cell_type": "markdown",
   "id": "0d18caaf",
   "metadata": {},
   "source": [
    "Random Forest Regresión\n",
    "\n",
    "https://scikit-learn.org/stable/modules/generated/sklearn.ensemble.RandomForestRegressor.html"
   ]
  },
  {
   "cell_type": "markdown",
   "id": "64e8a18a",
   "metadata": {},
   "source": [
    "#### Modelos de Clasificación"
   ]
  },
  {
   "cell_type": "markdown",
   "id": "367b3f1f",
   "metadata": {},
   "source": [
    "Regresión Logística\n",
    "\n",
    "https://scikit-learn.org/stable/modules/generated/sklearn.linear_model.LogisticRegression.html"
   ]
  },
  {
   "cell_type": "markdown",
   "id": "512d9917",
   "metadata": {},
   "source": [
    "Árbol de Decisión Clasificación\n",
    "\n",
    "https://scikit-learn.org/stable/modules/generated/sklearn.tree.DecisionTreeClassifier.html"
   ]
  },
  {
   "cell_type": "markdown",
   "id": "576e027d",
   "metadata": {},
   "source": [
    "k Nearest Neighbors Clasificación\n",
    "\n",
    "https://scikit-learn.org/stable/modules/generated/sklearn.neighbors.KNeighborsClassifier.html"
   ]
  },
  {
   "cell_type": "markdown",
   "id": "77030782",
   "metadata": {},
   "source": [
    "Support Vectors Machines Clasificación\n",
    "\n",
    "Existen varias formas de aplicar SVM con sklearn, podemos usar las siguientes clases:\n",
    "\n",
    "sklearn.svm.LinearSVC - \n",
    "sklearn.svm.SVC -\n",
    "sklearn.linear_model.SGDClassifier\n",
    "\n",
    "https://scikit-learn.org/stable/modules/generated/sklearn.svm.SVC.html\n",
    "\n",
    "https://scikit-learn.org/stable/modules/generated/sklearn.svm.LinearSVC.html"
   ]
  },
  {
   "cell_type": "markdown",
   "id": "b81fa38d",
   "metadata": {},
   "source": [
    "Random Forest Clasificación\n",
    "\n",
    "https://scikit-learn.org/stable/modules/generated/sklearn.ensemble.RandomForestClassifier.html"
   ]
  },
  {
   "cell_type": "markdown",
   "id": "2e91fa9f",
   "metadata": {},
   "source": [
    "#### Metricas de Scikit-Learn"
   ]
  },
  {
   "cell_type": "markdown",
   "id": "c03c81d5",
   "metadata": {},
   "source": [
    "Scikit-Learn también nos provee de estas métricas, las cuales se encuentran en la librería sklearn.metrics. La documentación oficial se encuentra aquí:\n",
    "\n",
    "https://scikit-learn.org/stable/modules/classes.html?highlight=sklearn%20metrics#module-sklearn.metrics ."
   ]
  },
  {
   "cell_type": "markdown",
   "id": "dddd9e2d",
   "metadata": {},
   "source": [
    "#### Matplotlib\n",
    "\n",
    "https://matplotlib.org/stable/index.html"
   ]
  },
  {
   "cell_type": "markdown",
   "id": "9e0f663f",
   "metadata": {},
   "source": [
    "#### Matriz de Confusión"
   ]
  },
  {
   "cell_type": "markdown",
   "id": "e70f72fc",
   "metadata": {},
   "source": [
    "https://scikit-learn.org/stable/modules/generated/sklearn.metrics.confusion_matrix.html"
   ]
  }
 ],
 "metadata": {
  "kernelspec": {
   "display_name": "Python 3",
   "language": "python",
   "name": "python3"
  },
  "language_info": {
   "codemirror_mode": {
    "name": "ipython",
    "version": 3
   },
   "file_extension": ".py",
   "mimetype": "text/x-python",
   "name": "python",
   "nbconvert_exporter": "python",
   "pygments_lexer": "ipython3",
   "version": "3.8.8"
  }
 },
 "nbformat": 4,
 "nbformat_minor": 5
}
