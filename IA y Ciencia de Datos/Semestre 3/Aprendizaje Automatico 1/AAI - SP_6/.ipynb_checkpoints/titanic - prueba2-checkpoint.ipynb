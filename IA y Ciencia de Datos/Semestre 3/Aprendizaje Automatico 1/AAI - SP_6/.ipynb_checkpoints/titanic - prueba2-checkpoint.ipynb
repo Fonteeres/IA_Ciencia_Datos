{
 "cells": [
  {
   "cell_type": "markdown",
   "metadata": {},
   "source": [
    "![IES21](img/logo-ies.png)"
   ]
  },
  {
   "cell_type": "markdown",
   "metadata": {},
   "source": [
    "## Tratamiento de variables"
   ]
  },
  {
   "cell_type": "markdown",
   "metadata": {},
   "source": [
    "\n",
    "Practica de Tratamiento de Vatiables con Set de Datos del Titanic"
   ]
  },
  {
   "cell_type": "markdown",
   "metadata": {},
   "source": [
    "![VARIABLES](img/variables.png)"
   ]
  },
  {
   "cell_type": "code",
   "execution_count": 1,
   "metadata": {},
   "outputs": [],
   "source": [
    "import pandas as pd\n",
    "import numpy as np"
   ]
  },
  {
   "cell_type": "code",
   "execution_count": 2,
   "metadata": {},
   "outputs": [
    {
     "data": {
      "text/html": [
       "<div>\n",
       "<style scoped>\n",
       "    .dataframe tbody tr th:only-of-type {\n",
       "        vertical-align: middle;\n",
       "    }\n",
       "\n",
       "    .dataframe tbody tr th {\n",
       "        vertical-align: top;\n",
       "    }\n",
       "\n",
       "    .dataframe thead th {\n",
       "        text-align: right;\n",
       "    }\n",
       "</style>\n",
       "<table border=\"1\" class=\"dataframe\">\n",
       "  <thead>\n",
       "    <tr style=\"text-align: right;\">\n",
       "      <th></th>\n",
       "      <th>PassengerId</th>\n",
       "      <th>Survived</th>\n",
       "      <th>Pclass</th>\n",
       "      <th>Name</th>\n",
       "      <th>Sex</th>\n",
       "      <th>Age</th>\n",
       "      <th>SibSp</th>\n",
       "      <th>Parch</th>\n",
       "      <th>Ticket</th>\n",
       "      <th>Fare</th>\n",
       "      <th>Cabin</th>\n",
       "      <th>Embarked</th>\n",
       "    </tr>\n",
       "  </thead>\n",
       "  <tbody>\n",
       "    <tr>\n",
       "      <th>0</th>\n",
       "      <td>1</td>\n",
       "      <td>0</td>\n",
       "      <td>3</td>\n",
       "      <td>Braund, Mr. Owen Harris</td>\n",
       "      <td>male</td>\n",
       "      <td>22.0</td>\n",
       "      <td>1</td>\n",
       "      <td>0</td>\n",
       "      <td>A/5 21171</td>\n",
       "      <td>7.2500</td>\n",
       "      <td>NaN</td>\n",
       "      <td>S</td>\n",
       "    </tr>\n",
       "    <tr>\n",
       "      <th>1</th>\n",
       "      <td>2</td>\n",
       "      <td>1</td>\n",
       "      <td>1</td>\n",
       "      <td>Cumings, Mrs. John Bradley (Florence Briggs Th...</td>\n",
       "      <td>female</td>\n",
       "      <td>38.0</td>\n",
       "      <td>1</td>\n",
       "      <td>0</td>\n",
       "      <td>PC 17599</td>\n",
       "      <td>71.2833</td>\n",
       "      <td>C85</td>\n",
       "      <td>C</td>\n",
       "    </tr>\n",
       "    <tr>\n",
       "      <th>2</th>\n",
       "      <td>3</td>\n",
       "      <td>1</td>\n",
       "      <td>3</td>\n",
       "      <td>Heikkinen, Miss. Laina</td>\n",
       "      <td>female</td>\n",
       "      <td>26.0</td>\n",
       "      <td>0</td>\n",
       "      <td>0</td>\n",
       "      <td>STON/O2. 3101282</td>\n",
       "      <td>7.9250</td>\n",
       "      <td>NaN</td>\n",
       "      <td>S</td>\n",
       "    </tr>\n",
       "  </tbody>\n",
       "</table>\n",
       "</div>"
      ],
      "text/plain": [
       "   PassengerId  Survived  Pclass  \\\n",
       "0            1         0       3   \n",
       "1            2         1       1   \n",
       "2            3         1       3   \n",
       "\n",
       "                                                Name     Sex   Age  SibSp  \\\n",
       "0                            Braund, Mr. Owen Harris    male  22.0      1   \n",
       "1  Cumings, Mrs. John Bradley (Florence Briggs Th...  female  38.0      1   \n",
       "2                             Heikkinen, Miss. Laina  female  26.0      0   \n",
       "\n",
       "   Parch            Ticket     Fare Cabin Embarked  \n",
       "0      0         A/5 21171   7.2500   NaN        S  \n",
       "1      0          PC 17599  71.2833   C85        C  \n",
       "2      0  STON/O2. 3101282   7.9250   NaN        S  "
      ]
     },
     "execution_count": 2,
     "metadata": {},
     "output_type": "execute_result"
    }
   ],
   "source": [
    "data = pd.read_csv(\"data/Titanic-Dataset.csv\", sep=\",\")\n",
    "data.head(3)"
   ]
  },
  {
   "cell_type": "code",
   "execution_count": 3,
   "metadata": {},
   "outputs": [
    {
     "name": "stdout",
     "output_type": "stream",
     "text": [
      "<class 'pandas.core.frame.DataFrame'>\n",
      "RangeIndex: 891 entries, 0 to 890\n",
      "Data columns (total 12 columns):\n",
      " #   Column       Non-Null Count  Dtype  \n",
      "---  ------       --------------  -----  \n",
      " 0   PassengerId  891 non-null    int64  \n",
      " 1   Survived     891 non-null    int64  \n",
      " 2   Pclass       891 non-null    int64  \n",
      " 3   Name         891 non-null    object \n",
      " 4   Sex          891 non-null    object \n",
      " 5   Age          714 non-null    float64\n",
      " 6   SibSp        891 non-null    int64  \n",
      " 7   Parch        891 non-null    int64  \n",
      " 8   Ticket       891 non-null    object \n",
      " 9   Fare         891 non-null    float64\n",
      " 10  Cabin        204 non-null    object \n",
      " 11  Embarked     889 non-null    object \n",
      "dtypes: float64(2), int64(5), object(5)\n",
      "memory usage: 83.7+ KB\n"
     ]
    }
   ],
   "source": [
    "data.info()"
   ]
  },
  {
   "cell_type": "markdown",
   "metadata": {},
   "source": [
    "# Columna Sex"
   ]
  },
  {
   "cell_type": "markdown",
   "metadata": {},
   "source": [
    "Se cambian las etiquetas de la columna \"Sex\" por los valores numéricos **0** y **1**"
   ]
  },
  {
   "cell_type": "code",
   "execution_count": 4,
   "metadata": {},
   "outputs": [],
   "source": [
    "data['Sex'] = np.where(data['Sex'] == 'male',0,1)"
   ]
  },
  {
   "cell_type": "markdown",
   "metadata": {},
   "source": [
    "# Columna Embarked"
   ]
  },
  {
   "cell_type": "markdown",
   "metadata": {},
   "source": [
    "Completamos las dos filas con datos nulos en \"Embarket\" por la S que es el puerto deonde subieron mayor cantidad de personas"
   ]
  },
  {
   "cell_type": "code",
   "execution_count": 5,
   "metadata": {},
   "outputs": [],
   "source": [
    "data.loc[data[\"Embarked\"].isnull(),\"Embarked\"] = \"S\""
   ]
  },
  {
   "cell_type": "markdown",
   "metadata": {},
   "source": [
    "Se establece cada etiqueta de *Embatked* como **1**, **2** y **3** en funcion a la cantidad de pasajeros que abordo el barco en cada Puerto. Mayor cantidad de pasajeros como **3** y menor cantidad como **1**"
   ]
  },
  {
   "cell_type": "code",
   "execution_count": 6,
   "metadata": {},
   "outputs": [
    {
     "data": {
      "text/plain": [
       "array(['S', 'C', 'Q'], dtype=object)"
      ]
     },
     "execution_count": 6,
     "metadata": {},
     "output_type": "execute_result"
    }
   ],
   "source": [
    "data['Embarked'].unique()"
   ]
  },
  {
   "cell_type": "code",
   "execution_count": 7,
   "metadata": {},
   "outputs": [
    {
     "data": {
      "text/plain": [
       "S    646\n",
       "C    168\n",
       "Q     77\n",
       "Name: Embarked, dtype: int64"
      ]
     },
     "execution_count": 7,
     "metadata": {},
     "output_type": "execute_result"
    }
   ],
   "source": [
    "data['Embarked'].value_counts()"
   ]
  },
  {
   "cell_type": "code",
   "execution_count": 8,
   "metadata": {},
   "outputs": [],
   "source": [
    "data['Embarked'] = data[\"Embarked\"].replace({ \"S\": 3, \"C\":2, \"Q\":1})"
   ]
  },
  {
   "cell_type": "markdown",
   "metadata": {},
   "source": [
    "# Columnas SibSp y Parch"
   ]
  },
  {
   "cell_type": "markdown",
   "metadata": {},
   "source": [
    "Como ambas columnas indican el tipo de vinculos entre pasajeros, se suman para generar una columna nueva que almacene la misma información"
   ]
  },
  {
   "cell_type": "code",
   "execution_count": 9,
   "metadata": {},
   "outputs": [],
   "source": [
    "data['Flia'] = data['SibSp'] + data['Parch']"
   ]
  },
  {
   "cell_type": "code",
   "execution_count": 10,
   "metadata": {},
   "outputs": [
    {
     "data": {
      "text/plain": [
       "array([ 0,  1,  2,  3,  4,  5,  6,  7, 10], dtype=int64)"
      ]
     },
     "execution_count": 10,
     "metadata": {},
     "output_type": "execute_result"
    }
   ],
   "source": [
    "np.unique(data['Flia'])"
   ]
  },
  {
   "cell_type": "markdown",
   "metadata": {},
   "source": [
    "# Columna Age"
   ]
  },
  {
   "cell_type": "markdown",
   "metadata": {},
   "source": [
    "Como la columna se presenta como útil, se busca la mejor manera de completar los datos faltantes. En unpaso posterior podríamos establecer rango de edades para buscar similitudes entre menos cantidad de datos"
   ]
  },
  {
   "cell_type": "markdown",
   "metadata": {},
   "source": [
    "A los NaN de la variable \"Edad\" los reemplazamos por la media de edad en funcion a las variables clase y sexo"
   ]
  },
  {
   "cell_type": "code",
   "execution_count": 11,
   "metadata": {},
   "outputs": [],
   "source": [
    "for s in range(0, 2):\n",
    "    for c in range(1, 4):\n",
    "        media = (data.Age[(data.Survived == s) & (data.Pclass == c) & (data.Sex == s)].mean())\n",
    "        data.loc[(data.Age.isnull()) & (data.Pclass == c) & (data.Sex == s), \"Age\"] = media "
   ]
  },
  {
   "cell_type": "code",
   "execution_count": 12,
   "metadata": {},
   "outputs": [],
   "source": [
    "#bins = [0, 18, 24, 30, 36, 48, 100]\n",
    "#names = [1, 2, 3, 4, 5, 6]\n",
    "#data['Rango_Edad'] = pd.cut(data['Age'], bins, labels = names)"
   ]
  },
  {
   "cell_type": "code",
   "execution_count": 13,
   "metadata": {},
   "outputs": [],
   "source": [
    "#data[\"Rango_Edad\"] = pd.to_numeric(data[\"Rango_Edad\"])"
   ]
  },
  {
   "cell_type": "markdown",
   "metadata": {},
   "source": [
    "# Columna Cabin"
   ]
  },
  {
   "cell_type": "code",
   "execution_count": 14,
   "metadata": {},
   "outputs": [],
   "source": [
    "data.Cabin.fillna(\"Null\", inplace = True)\n",
    "data['Camarote'] = data.Cabin.str.slice(0, 1)"
   ]
  },
  {
   "cell_type": "code",
   "execution_count": 15,
   "metadata": {},
   "outputs": [
    {
     "data": {
      "text/plain": [
       "array(['N', 'C', 'E', 'G', 'D', 'A', 'B', 'F', 'T'], dtype=object)"
      ]
     },
     "execution_count": 15,
     "metadata": {},
     "output_type": "execute_result"
    }
   ],
   "source": [
    "data['Camarote'].unique()"
   ]
  },
  {
   "cell_type": "code",
   "execution_count": 16,
   "metadata": {},
   "outputs": [],
   "source": [
    "bins = ['N', 'C', 'E', 'G', 'D', 'A', 'B', 'F', 'T']\n",
    "data['Camarote'].replace(bins,[0,1,2,3,4,5,6,7,8],inplace=True)"
   ]
  },
  {
   "cell_type": "markdown",
   "metadata": {},
   "source": [
    "# Columna Fare"
   ]
  },
  {
   "cell_type": "markdown",
   "metadata": {},
   "source": [
    "Cambio los valores nulos de la columna Fare con la media de dicho campo agrupandolos por su Pclass y Fare"
   ]
  },
  {
   "cell_type": "code",
   "execution_count": 17,
   "metadata": {},
   "outputs": [],
   "source": [
    "data[\"Fare\"].fillna(data.groupby(\"Pclass\")[\"Fare\"].transform(\"median\"), inplace=True)"
   ]
  },
  {
   "cell_type": "markdown",
   "metadata": {},
   "source": [
    "Se establecen rangos de valores de los Tickets segun 10 percentiles:"
   ]
  },
  {
   "cell_type": "code",
   "execution_count": 18,
   "metadata": {},
   "outputs": [],
   "source": [
    "#bins = [-1, 8, 13, 24, 38, 7225]\n",
    "#names = [1, 2, 3, 4, 5]\n",
    "#data['Rango_Precio'] = pd.cut(data['Fare'], bins, labels = names)"
   ]
  },
  {
   "cell_type": "code",
   "execution_count": 19,
   "metadata": {},
   "outputs": [],
   "source": [
    "#data[\"Rango_Precio\"] = pd.to_numeric(data[\"Rango_Precio\"])"
   ]
  },
  {
   "cell_type": "code",
   "execution_count": 20,
   "metadata": {},
   "outputs": [],
   "source": [
    "#data[\"Rango_Precio\"].unique()"
   ]
  },
  {
   "cell_type": "code",
   "execution_count": 21,
   "metadata": {},
   "outputs": [
    {
     "name": "stdout",
     "output_type": "stream",
     "text": [
      "<class 'pandas.core.frame.DataFrame'>\n",
      "RangeIndex: 891 entries, 0 to 890\n",
      "Data columns (total 14 columns):\n",
      " #   Column       Non-Null Count  Dtype  \n",
      "---  ------       --------------  -----  \n",
      " 0   PassengerId  891 non-null    int64  \n",
      " 1   Survived     891 non-null    int64  \n",
      " 2   Pclass       891 non-null    int64  \n",
      " 3   Name         891 non-null    object \n",
      " 4   Sex          891 non-null    int32  \n",
      " 5   Age          891 non-null    float64\n",
      " 6   SibSp        891 non-null    int64  \n",
      " 7   Parch        891 non-null    int64  \n",
      " 8   Ticket       891 non-null    object \n",
      " 9   Fare         891 non-null    float64\n",
      " 10  Cabin        891 non-null    object \n",
      " 11  Embarked     891 non-null    int64  \n",
      " 12  Flia         891 non-null    int64  \n",
      " 13  Camarote     891 non-null    int64  \n",
      "dtypes: float64(2), int32(1), int64(8), object(3)\n",
      "memory usage: 94.1+ KB\n"
     ]
    }
   ],
   "source": [
    "data.info()"
   ]
  },
  {
   "cell_type": "markdown",
   "metadata": {},
   "source": [
    "# Columna Ticket"
   ]
  },
  {
   "cell_type": "code",
   "execution_count": 22,
   "metadata": {},
   "outputs": [],
   "source": [
    "data['Ticket'] = list(map(str, data['Ticket'])) #Convierte la lista con elementos enteros en elementos string\n",
    "data['Ticket'] = [i[-4:] for i in data['Ticket']] #Recorre los elementos de la lista, y les quita los ultimos 4 digitos"
   ]
  },
  {
   "cell_type": "code",
   "execution_count": 23,
   "metadata": {},
   "outputs": [],
   "source": [
    "data['Ticket'] = data['Ticket'].replace({ \"LINE\": 1010, \"P. 3\":2112})"
   ]
  },
  {
   "cell_type": "code",
   "execution_count": 24,
   "metadata": {},
   "outputs": [
    {
     "data": {
      "text/plain": [
       "array(['1171', '7599', '1282', '3803', '3450', '0877', '7463', '9909',\n",
       "       '7742', '7736', '9549', '3783', '2151', '7082', '0406', '8706',\n",
       "       '2652', '4373', '5763', '2649', '9865', '8698', '0923', '3788',\n",
       "       '7077', '2631', '9950', '0959', '9216', '7601', '7569', '5677',\n",
       "       '4579', '7604', '3789', '2677', '2152', '5764', '2651', '7546',\n",
       "       '1668', '9253', '2123', '0958', '3567', '0371', '4311', '2662',\n",
       "       '9237', '1295', '9886', '7572', '2926', '3509', '9947', '1026',\n",
       "       '2697', '4651', '2144', '2669', '3572', '6973', '7088', '7605',\n",
       "       '2661', '9395', '3464', '1281', '5151', '3111', '4879', '2680',\n",
       "       '1601', '8123', '9208', '4746', '8738', '4516', '5767', '5779',\n",
       "       '0932', '3059', '4885', '1278', '6608', '2086', '3275', '3276',\n",
       "       '7466', '5734', '2315', '4500', '4910', '7754', '7759', '1919',\n",
       "       '4367', '9245', '9215', '5281', '7540', '1276', '9207', '3120',\n",
       "       '2991', '9249', '1110', '0465', '2665', '4669', '4136', '2627',\n",
       "       '1294', '0369', '7558', '4510', '7267', '0372', '7369', '2668',\n",
       "       '7061', '9241', '1307', '3337', '8414', '9178', '2133', '1752',\n",
       "       '7534', '7593', '2678', '7081', '1279', '5222', '1945', '3112',\n",
       "       '0043', '0080', '4310', '1166', '3776', '1206', ' 851', '5302',\n",
       "       '7597', '5851', '2090', '5037', '2343', '1362', '3595', '7068',\n",
       "       '5093', '3291', '3505', '7318', '1240', '1280', '7764', '0404',\n",
       "       '4133', '7595', '0653', 1010, '2131', '0136', '5153', '3767',\n",
       "       '0365', '1428', '4849', '9247', '4604', '8424', '0046', '7610',\n",
       "       '8703', '0370', '8747', '5770', '1264', '2628', '3540', '7054',\n",
       "       '2699', '7231', '2277', '1311', '3528', '1174', '0646', '7229',\n",
       "       '5273', '1283', '3847', '1813', '4208', '2089', '0367', '1440',\n",
       "       '9234', '9943', '4348', ' 751', '1173', '6171', '7067', '7442',\n",
       "       '9566', '6609', '6707', '1921', '8665', '1585', '7230', '4263',\n",
       "       '1275', '2694', '9928', '7071', '0649', '1751', '4252', '2316',\n",
       "       '3514', '3336', '0129', '2650', '7585', '0152', '7755', '0433',\n",
       "       '4461', '0413', '2059', '7248', '7083', '7582', '7760', '3798',\n",
       "       '0644', '7596', '0375', '3502', '7073', '9853', '2673', '6439',\n",
       "       '7464', '5778', '0482', '3056', '9239', '5774', '9206', '7798',\n",
       "       '0373', '9877', '1967', '2163', '9236', '9233', '7612', '2693',\n",
       "       '3781', '9988', '7226', '6593', '2466', '7421', '7758', '3381',\n",
       "       '7485', '1767', '7608', '0651', '9243', '3529', '7470', '9011',\n",
       "       '6928', '6966', '1172', '9219', '4818', '5364', '8551', '1361',\n",
       "       '3043', '7611', '9225', '7598', '3784', '8740', '4361', '8733',\n",
       "       '1418', '6525', '7671', '5088', '3510', '2695', '2647', '5783',\n",
       "       '0931', '0980', '2167', '2691', '1310', '7076', '0813', '2626',\n",
       "       '4313', '7477', '1765', '1267', '3951', '3503', '2648', '7069',\n",
       "       '7757', '2653', '1293', '9227', '7849', '7655', '1748', '3760',\n",
       "       '0034', '1277', '0052', '0407', '8403', '4278', '0929', '1289',\n",
       "       '1826', '4137', '5096', '8664', '7064', '9106', '2992', '9222',\n",
       "       '4140', '1269', '3095', '8220', '0652', '8228', '5773', '9254',\n",
       "       '3032', '5082', '7080', '4244', '2003', '0655', '4851', '2078',\n",
       "       '0564', '6564', '3085', '1274', '3507', '8723', '5769', '0434',\n",
       "       '5306', '3638', '3794', '2666', '3786', '5303', '3051', '7453',\n",
       "       '2817', '9240', '3531', '1060', '9952', '4506', '1320', '4360',\n",
       "       '2816', '1306', '3792', '6209', '3592', '5089', ' 541', '7553',\n",
       "       '1027', '3460', '0060', '1298', '9854', '3594', '4134', '1771',\n",
       "       '8509', '5304', '1317', '3787', '7609', '5380', '6947', '6212',\n",
       "       '0035', '5086', '4846', '0909', '4135', '6360', '1427', '4001',\n",
       "       '1316', '7473', '7603', '9209', '6967', '4260', '6875', '9242',\n",
       "       '2749', '9252', '2624', '2700', '7232', '4258', '7483', '1296',\n",
       "       '9104', '2641', '2690', '5084', '3050', '7761', '4498', '3568',\n",
       "       '5735', '2908', '693', '2146', '4358', '0979', '2620', '7085',\n",
       "       '3807', '1755', '5572', '2622', '9251', '8629', '2082', '2087',\n",
       "       '8871', '9205', '2686', '0417', ' 752', '1769', '7474', '4312',\n",
       "       '0589', '8585', '3880', '2689', '1286', '7789', '3049', '3411',\n",
       "       '7565', '4973', '3235', '1273', '3902', '4848', '9037', '8727',\n",
       "       '2664', '9214', '3796', '4511', '1426', '9910', '9246', '3804',\n",
       "       '1305', '0377', '4512', '0845', '1028', '2659', '1753', '0029',\n",
       "       '4636', '6963', '9533', '9224', '4912', '7042', '7743', '3214',\n",
       "       '2052', '7668', '1292', '0050', '9231', '3213', '2314', '9221',\n",
       "       '8475', '0919', '5226', '9223', '9751', '2623', '5727', '9210',\n",
       "       '1285', '4686', '2993', '3536', '9996', '9750', '2750', '4580',\n",
       "       '4270', '9856', '9912', '2826', '4138', '0935', '6563', '9228',\n",
       "       '0036', '4160', '9256', '2672', '3800', '8731', '5852', '8121',\n",
       "       '7475', '6864', '0025', '3596', '7476', '7482', '3028', '7545',\n",
       "       '0647', '8124', '4218', '6568', '7062', '0048', '2233', '0643',\n",
       "       '3806', '5094', '6866', '6853', '1271', '9855', '8425', '3639',\n",
       "       '9201', '9218', '6988', '6566', '1288', '0648', '3773', '5097',\n",
       "       '9103', '2096', '5780', '9204', '0042', '9108', '3294', '1272',\n",
       "       '2663', '7074', '2379', '4850', '8471', '5781', '0047', 2112,\n",
       "       '2674', '9105', '7078', '3121', '6865', '2687', '3501', '6607',\n",
       "       '1312', '4887', '1265', '2460', '7600', '9203', '8213', '7465',\n",
       "       '9244', '2685', '2625', '7089', '7063', '2050', '7087', '3474',\n",
       "       '8206', '4499', '2058', '1290', '2079', '7075', '5098', '9972',\n",
       "       '8323', '7228', '2671', '7468', '2223', '7756', '2092', '1774',\n",
       "       '1287', '2683', '5090', '5547', '9213', '7060', '7592', '2091',\n",
       "       '3055', '2629', '0026', '8134', '3866', '6852', '2149', '7590',\n",
       "       '5777', '9248', '695', '5765', '2667', '9212', '9217', '9257',\n",
       "       '7552', '4068', '2076', '1536', '2053', '1369', '0376'],\n",
       "      dtype=object)"
      ]
     },
     "execution_count": 24,
     "metadata": {},
     "output_type": "execute_result"
    }
   ],
   "source": [
    "data['Ticket'].unique()"
   ]
  },
  {
   "cell_type": "code",
   "execution_count": 25,
   "metadata": {},
   "outputs": [],
   "source": [
    "data['Ticket'] = list(map(int, data['Ticket'])) #Devuelve los elementos de la lista a su estado de entero"
   ]
  },
  {
   "cell_type": "code",
   "execution_count": 26,
   "metadata": {},
   "outputs": [
    {
     "name": "stdout",
     "output_type": "stream",
     "text": [
      "<class 'pandas.core.frame.DataFrame'>\n",
      "RangeIndex: 891 entries, 0 to 890\n",
      "Data columns (total 14 columns):\n",
      " #   Column       Non-Null Count  Dtype  \n",
      "---  ------       --------------  -----  \n",
      " 0   PassengerId  891 non-null    int64  \n",
      " 1   Survived     891 non-null    int64  \n",
      " 2   Pclass       891 non-null    int64  \n",
      " 3   Name         891 non-null    object \n",
      " 4   Sex          891 non-null    int32  \n",
      " 5   Age          891 non-null    float64\n",
      " 6   SibSp        891 non-null    int64  \n",
      " 7   Parch        891 non-null    int64  \n",
      " 8   Ticket       891 non-null    int64  \n",
      " 9   Fare         891 non-null    float64\n",
      " 10  Cabin        891 non-null    object \n",
      " 11  Embarked     891 non-null    int64  \n",
      " 12  Flia         891 non-null    int64  \n",
      " 13  Camarote     891 non-null    int64  \n",
      "dtypes: float64(2), int32(1), int64(9), object(2)\n",
      "memory usage: 94.1+ KB\n"
     ]
    }
   ],
   "source": [
    "data.info()"
   ]
  },
  {
   "cell_type": "markdown",
   "metadata": {},
   "source": [
    "# Columnas Name, Cabin, Age, Parch, Fare"
   ]
  },
  {
   "cell_type": "markdown",
   "metadata": {},
   "source": [
    "Se eliminan las columnas *Name* por tener valores unicos y *Cabin* por tener demasiados datos faltantes"
   ]
  },
  {
   "cell_type": "code",
   "execution_count": 27,
   "metadata": {},
   "outputs": [],
   "source": [
    "data = data.drop(['Name','SibSp','Parch','Cabin','PassengerId'], axis = 1)"
   ]
  },
  {
   "cell_type": "code",
   "execution_count": 28,
   "metadata": {},
   "outputs": [
    {
     "data": {
      "text/html": [
       "<div>\n",
       "<style scoped>\n",
       "    .dataframe tbody tr th:only-of-type {\n",
       "        vertical-align: middle;\n",
       "    }\n",
       "\n",
       "    .dataframe tbody tr th {\n",
       "        vertical-align: top;\n",
       "    }\n",
       "\n",
       "    .dataframe thead th {\n",
       "        text-align: right;\n",
       "    }\n",
       "</style>\n",
       "<table border=\"1\" class=\"dataframe\">\n",
       "  <thead>\n",
       "    <tr style=\"text-align: right;\">\n",
       "      <th></th>\n",
       "      <th>Survived</th>\n",
       "      <th>Pclass</th>\n",
       "      <th>Sex</th>\n",
       "      <th>Age</th>\n",
       "      <th>Ticket</th>\n",
       "      <th>Fare</th>\n",
       "      <th>Embarked</th>\n",
       "      <th>Flia</th>\n",
       "      <th>Camarote</th>\n",
       "    </tr>\n",
       "  </thead>\n",
       "  <tbody>\n",
       "    <tr>\n",
       "      <th>0</th>\n",
       "      <td>0</td>\n",
       "      <td>3</td>\n",
       "      <td>0</td>\n",
       "      <td>22.000000</td>\n",
       "      <td>1171</td>\n",
       "      <td>7.2500</td>\n",
       "      <td>3</td>\n",
       "      <td>1</td>\n",
       "      <td>0</td>\n",
       "    </tr>\n",
       "    <tr>\n",
       "      <th>1</th>\n",
       "      <td>1</td>\n",
       "      <td>1</td>\n",
       "      <td>1</td>\n",
       "      <td>38.000000</td>\n",
       "      <td>7599</td>\n",
       "      <td>71.2833</td>\n",
       "      <td>2</td>\n",
       "      <td>1</td>\n",
       "      <td>1</td>\n",
       "    </tr>\n",
       "    <tr>\n",
       "      <th>2</th>\n",
       "      <td>1</td>\n",
       "      <td>3</td>\n",
       "      <td>1</td>\n",
       "      <td>26.000000</td>\n",
       "      <td>1282</td>\n",
       "      <td>7.9250</td>\n",
       "      <td>3</td>\n",
       "      <td>0</td>\n",
       "      <td>0</td>\n",
       "    </tr>\n",
       "    <tr>\n",
       "      <th>3</th>\n",
       "      <td>1</td>\n",
       "      <td>1</td>\n",
       "      <td>1</td>\n",
       "      <td>35.000000</td>\n",
       "      <td>3803</td>\n",
       "      <td>53.1000</td>\n",
       "      <td>3</td>\n",
       "      <td>1</td>\n",
       "      <td>1</td>\n",
       "    </tr>\n",
       "    <tr>\n",
       "      <th>4</th>\n",
       "      <td>0</td>\n",
       "      <td>3</td>\n",
       "      <td>0</td>\n",
       "      <td>35.000000</td>\n",
       "      <td>3450</td>\n",
       "      <td>8.0500</td>\n",
       "      <td>3</td>\n",
       "      <td>0</td>\n",
       "      <td>0</td>\n",
       "    </tr>\n",
       "    <tr>\n",
       "      <th>...</th>\n",
       "      <td>...</td>\n",
       "      <td>...</td>\n",
       "      <td>...</td>\n",
       "      <td>...</td>\n",
       "      <td>...</td>\n",
       "      <td>...</td>\n",
       "      <td>...</td>\n",
       "      <td>...</td>\n",
       "      <td>...</td>\n",
       "    </tr>\n",
       "    <tr>\n",
       "      <th>886</th>\n",
       "      <td>0</td>\n",
       "      <td>2</td>\n",
       "      <td>0</td>\n",
       "      <td>27.000000</td>\n",
       "      <td>1536</td>\n",
       "      <td>13.0000</td>\n",
       "      <td>3</td>\n",
       "      <td>0</td>\n",
       "      <td>0</td>\n",
       "    </tr>\n",
       "    <tr>\n",
       "      <th>887</th>\n",
       "      <td>1</td>\n",
       "      <td>1</td>\n",
       "      <td>1</td>\n",
       "      <td>19.000000</td>\n",
       "      <td>2053</td>\n",
       "      <td>30.0000</td>\n",
       "      <td>3</td>\n",
       "      <td>0</td>\n",
       "      <td>6</td>\n",
       "    </tr>\n",
       "    <tr>\n",
       "      <th>888</th>\n",
       "      <td>0</td>\n",
       "      <td>3</td>\n",
       "      <td>1</td>\n",
       "      <td>19.329787</td>\n",
       "      <td>6607</td>\n",
       "      <td>23.4500</td>\n",
       "      <td>3</td>\n",
       "      <td>3</td>\n",
       "      <td>0</td>\n",
       "    </tr>\n",
       "    <tr>\n",
       "      <th>889</th>\n",
       "      <td>1</td>\n",
       "      <td>1</td>\n",
       "      <td>0</td>\n",
       "      <td>26.000000</td>\n",
       "      <td>1369</td>\n",
       "      <td>30.0000</td>\n",
       "      <td>2</td>\n",
       "      <td>0</td>\n",
       "      <td>1</td>\n",
       "    </tr>\n",
       "    <tr>\n",
       "      <th>890</th>\n",
       "      <td>0</td>\n",
       "      <td>3</td>\n",
       "      <td>0</td>\n",
       "      <td>32.000000</td>\n",
       "      <td>376</td>\n",
       "      <td>7.7500</td>\n",
       "      <td>1</td>\n",
       "      <td>0</td>\n",
       "      <td>0</td>\n",
       "    </tr>\n",
       "  </tbody>\n",
       "</table>\n",
       "<p>891 rows × 9 columns</p>\n",
       "</div>"
      ],
      "text/plain": [
       "     Survived  Pclass  Sex        Age  Ticket     Fare  Embarked  Flia  \\\n",
       "0           0       3    0  22.000000    1171   7.2500         3     1   \n",
       "1           1       1    1  38.000000    7599  71.2833         2     1   \n",
       "2           1       3    1  26.000000    1282   7.9250         3     0   \n",
       "3           1       1    1  35.000000    3803  53.1000         3     1   \n",
       "4           0       3    0  35.000000    3450   8.0500         3     0   \n",
       "..        ...     ...  ...        ...     ...      ...       ...   ...   \n",
       "886         0       2    0  27.000000    1536  13.0000         3     0   \n",
       "887         1       1    1  19.000000    2053  30.0000         3     0   \n",
       "888         0       3    1  19.329787    6607  23.4500         3     3   \n",
       "889         1       1    0  26.000000    1369  30.0000         2     0   \n",
       "890         0       3    0  32.000000     376   7.7500         1     0   \n",
       "\n",
       "     Camarote  \n",
       "0           0  \n",
       "1           1  \n",
       "2           0  \n",
       "3           1  \n",
       "4           0  \n",
       "..        ...  \n",
       "886         0  \n",
       "887         6  \n",
       "888         0  \n",
       "889         1  \n",
       "890         0  \n",
       "\n",
       "[891 rows x 9 columns]"
      ]
     },
     "execution_count": 28,
     "metadata": {},
     "output_type": "execute_result"
    }
   ],
   "source": [
    "data"
   ]
  },
  {
   "cell_type": "markdown",
   "metadata": {},
   "source": [
    "Se normaliza la columna Fare para evitar desvalance en el peso de los valores de las columnas"
   ]
  },
  {
   "cell_type": "code",
   "execution_count": 29,
   "metadata": {},
   "outputs": [],
   "source": [
    "data['Ticket'] = data['Ticket'] /data['Ticket'].abs().max()"
   ]
  },
  {
   "cell_type": "code",
   "execution_count": 30,
   "metadata": {},
   "outputs": [
    {
     "data": {
      "text/plain": [
       "0.002501000400160064"
      ]
     },
     "execution_count": 30,
     "metadata": {},
     "output_type": "execute_result"
    }
   ],
   "source": [
    "data['Ticket'].min()"
   ]
  },
  {
   "cell_type": "code",
   "execution_count": 31,
   "metadata": {},
   "outputs": [
    {
     "data": {
      "text/plain": [
       "1.0"
      ]
     },
     "execution_count": 31,
     "metadata": {},
     "output_type": "execute_result"
    }
   ],
   "source": [
    "data['Ticket'].max()"
   ]
  },
  {
   "cell_type": "code",
   "execution_count": 32,
   "metadata": {},
   "outputs": [
    {
     "data": {
      "text/html": [
       "<div>\n",
       "<style scoped>\n",
       "    .dataframe tbody tr th:only-of-type {\n",
       "        vertical-align: middle;\n",
       "    }\n",
       "\n",
       "    .dataframe tbody tr th {\n",
       "        vertical-align: top;\n",
       "    }\n",
       "\n",
       "    .dataframe thead th {\n",
       "        text-align: right;\n",
       "    }\n",
       "</style>\n",
       "<table border=\"1\" class=\"dataframe\">\n",
       "  <thead>\n",
       "    <tr style=\"text-align: right;\">\n",
       "      <th></th>\n",
       "      <th>Survived</th>\n",
       "      <th>Pclass</th>\n",
       "      <th>Sex</th>\n",
       "      <th>Age</th>\n",
       "      <th>Ticket</th>\n",
       "      <th>Fare</th>\n",
       "      <th>Embarked</th>\n",
       "      <th>Flia</th>\n",
       "      <th>Camarote</th>\n",
       "    </tr>\n",
       "  </thead>\n",
       "  <tbody>\n",
       "    <tr>\n",
       "      <th>0</th>\n",
       "      <td>0</td>\n",
       "      <td>3</td>\n",
       "      <td>0</td>\n",
       "      <td>22.000000</td>\n",
       "      <td>0.117147</td>\n",
       "      <td>7.2500</td>\n",
       "      <td>3</td>\n",
       "      <td>1</td>\n",
       "      <td>0</td>\n",
       "    </tr>\n",
       "    <tr>\n",
       "      <th>1</th>\n",
       "      <td>1</td>\n",
       "      <td>1</td>\n",
       "      <td>1</td>\n",
       "      <td>38.000000</td>\n",
       "      <td>0.760204</td>\n",
       "      <td>71.2833</td>\n",
       "      <td>2</td>\n",
       "      <td>1</td>\n",
       "      <td>1</td>\n",
       "    </tr>\n",
       "    <tr>\n",
       "      <th>2</th>\n",
       "      <td>1</td>\n",
       "      <td>3</td>\n",
       "      <td>1</td>\n",
       "      <td>26.000000</td>\n",
       "      <td>0.128251</td>\n",
       "      <td>7.9250</td>\n",
       "      <td>3</td>\n",
       "      <td>0</td>\n",
       "      <td>0</td>\n",
       "    </tr>\n",
       "    <tr>\n",
       "      <th>3</th>\n",
       "      <td>1</td>\n",
       "      <td>1</td>\n",
       "      <td>1</td>\n",
       "      <td>35.000000</td>\n",
       "      <td>0.380452</td>\n",
       "      <td>53.1000</td>\n",
       "      <td>3</td>\n",
       "      <td>1</td>\n",
       "      <td>1</td>\n",
       "    </tr>\n",
       "    <tr>\n",
       "      <th>4</th>\n",
       "      <td>0</td>\n",
       "      <td>3</td>\n",
       "      <td>0</td>\n",
       "      <td>35.000000</td>\n",
       "      <td>0.345138</td>\n",
       "      <td>8.0500</td>\n",
       "      <td>3</td>\n",
       "      <td>0</td>\n",
       "      <td>0</td>\n",
       "    </tr>\n",
       "    <tr>\n",
       "      <th>...</th>\n",
       "      <td>...</td>\n",
       "      <td>...</td>\n",
       "      <td>...</td>\n",
       "      <td>...</td>\n",
       "      <td>...</td>\n",
       "      <td>...</td>\n",
       "      <td>...</td>\n",
       "      <td>...</td>\n",
       "      <td>...</td>\n",
       "    </tr>\n",
       "    <tr>\n",
       "      <th>886</th>\n",
       "      <td>0</td>\n",
       "      <td>2</td>\n",
       "      <td>0</td>\n",
       "      <td>27.000000</td>\n",
       "      <td>0.153661</td>\n",
       "      <td>13.0000</td>\n",
       "      <td>3</td>\n",
       "      <td>0</td>\n",
       "      <td>0</td>\n",
       "    </tr>\n",
       "    <tr>\n",
       "      <th>887</th>\n",
       "      <td>1</td>\n",
       "      <td>1</td>\n",
       "      <td>1</td>\n",
       "      <td>19.000000</td>\n",
       "      <td>0.205382</td>\n",
       "      <td>30.0000</td>\n",
       "      <td>3</td>\n",
       "      <td>0</td>\n",
       "      <td>6</td>\n",
       "    </tr>\n",
       "    <tr>\n",
       "      <th>888</th>\n",
       "      <td>0</td>\n",
       "      <td>3</td>\n",
       "      <td>1</td>\n",
       "      <td>19.329787</td>\n",
       "      <td>0.660964</td>\n",
       "      <td>23.4500</td>\n",
       "      <td>3</td>\n",
       "      <td>3</td>\n",
       "      <td>0</td>\n",
       "    </tr>\n",
       "    <tr>\n",
       "      <th>889</th>\n",
       "      <td>1</td>\n",
       "      <td>1</td>\n",
       "      <td>0</td>\n",
       "      <td>26.000000</td>\n",
       "      <td>0.136955</td>\n",
       "      <td>30.0000</td>\n",
       "      <td>2</td>\n",
       "      <td>0</td>\n",
       "      <td>1</td>\n",
       "    </tr>\n",
       "    <tr>\n",
       "      <th>890</th>\n",
       "      <td>0</td>\n",
       "      <td>3</td>\n",
       "      <td>0</td>\n",
       "      <td>32.000000</td>\n",
       "      <td>0.037615</td>\n",
       "      <td>7.7500</td>\n",
       "      <td>1</td>\n",
       "      <td>0</td>\n",
       "      <td>0</td>\n",
       "    </tr>\n",
       "  </tbody>\n",
       "</table>\n",
       "<p>891 rows × 9 columns</p>\n",
       "</div>"
      ],
      "text/plain": [
       "     Survived  Pclass  Sex        Age    Ticket     Fare  Embarked  Flia  \\\n",
       "0           0       3    0  22.000000  0.117147   7.2500         3     1   \n",
       "1           1       1    1  38.000000  0.760204  71.2833         2     1   \n",
       "2           1       3    1  26.000000  0.128251   7.9250         3     0   \n",
       "3           1       1    1  35.000000  0.380452  53.1000         3     1   \n",
       "4           0       3    0  35.000000  0.345138   8.0500         3     0   \n",
       "..        ...     ...  ...        ...       ...      ...       ...   ...   \n",
       "886         0       2    0  27.000000  0.153661  13.0000         3     0   \n",
       "887         1       1    1  19.000000  0.205382  30.0000         3     0   \n",
       "888         0       3    1  19.329787  0.660964  23.4500         3     3   \n",
       "889         1       1    0  26.000000  0.136955  30.0000         2     0   \n",
       "890         0       3    0  32.000000  0.037615   7.7500         1     0   \n",
       "\n",
       "     Camarote  \n",
       "0           0  \n",
       "1           1  \n",
       "2           0  \n",
       "3           1  \n",
       "4           0  \n",
       "..        ...  \n",
       "886         0  \n",
       "887         6  \n",
       "888         0  \n",
       "889         1  \n",
       "890         0  \n",
       "\n",
       "[891 rows x 9 columns]"
      ]
     },
     "execution_count": 32,
     "metadata": {},
     "output_type": "execute_result"
    }
   ],
   "source": [
    "data"
   ]
  },
  {
   "cell_type": "code",
   "execution_count": 33,
   "metadata": {},
   "outputs": [
    {
     "data": {
      "text/html": [
       "<div>\n",
       "<style scoped>\n",
       "    .dataframe tbody tr th:only-of-type {\n",
       "        vertical-align: middle;\n",
       "    }\n",
       "\n",
       "    .dataframe tbody tr th {\n",
       "        vertical-align: top;\n",
       "    }\n",
       "\n",
       "    .dataframe thead th {\n",
       "        text-align: right;\n",
       "    }\n",
       "</style>\n",
       "<table border=\"1\" class=\"dataframe\">\n",
       "  <thead>\n",
       "    <tr style=\"text-align: right;\">\n",
       "      <th></th>\n",
       "      <th>Survived</th>\n",
       "      <th>Pclass</th>\n",
       "      <th>Sex</th>\n",
       "      <th>Age</th>\n",
       "      <th>Ticket</th>\n",
       "      <th>Fare</th>\n",
       "      <th>Embarked</th>\n",
       "      <th>Flia</th>\n",
       "      <th>Camarote</th>\n",
       "    </tr>\n",
       "  </thead>\n",
       "  <tbody>\n",
       "    <tr>\n",
       "      <th>count</th>\n",
       "      <td>891.000000</td>\n",
       "      <td>891.000000</td>\n",
       "      <td>891.000000</td>\n",
       "      <td>891.000000</td>\n",
       "      <td>891.000000</td>\n",
       "      <td>891.000000</td>\n",
       "      <td>891.000000</td>\n",
       "      <td>891.000000</td>\n",
       "      <td>891.000000</td>\n",
       "    </tr>\n",
       "    <tr>\n",
       "      <th>mean</th>\n",
       "      <td>0.383838</td>\n",
       "      <td>2.308642</td>\n",
       "      <td>0.352413</td>\n",
       "      <td>29.389701</td>\n",
       "      <td>0.471071</td>\n",
       "      <td>32.204208</td>\n",
       "      <td>2.638608</td>\n",
       "      <td>0.904602</td>\n",
       "      <td>0.811448</td>\n",
       "    </tr>\n",
       "    <tr>\n",
       "      <th>std</th>\n",
       "      <td>0.486592</td>\n",
       "      <td>0.836071</td>\n",
       "      <td>0.477990</td>\n",
       "      <td>13.427855</td>\n",
       "      <td>0.294340</td>\n",
       "      <td>49.693429</td>\n",
       "      <td>0.635673</td>\n",
       "      <td>1.613459</td>\n",
       "      <td>1.815143</td>\n",
       "    </tr>\n",
       "    <tr>\n",
       "      <th>min</th>\n",
       "      <td>0.000000</td>\n",
       "      <td>1.000000</td>\n",
       "      <td>0.000000</td>\n",
       "      <td>0.420000</td>\n",
       "      <td>0.002501</td>\n",
       "      <td>0.000000</td>\n",
       "      <td>1.000000</td>\n",
       "      <td>0.000000</td>\n",
       "      <td>0.000000</td>\n",
       "    </tr>\n",
       "    <tr>\n",
       "      <th>25%</th>\n",
       "      <td>0.000000</td>\n",
       "      <td>2.000000</td>\n",
       "      <td>0.000000</td>\n",
       "      <td>21.000000</td>\n",
       "      <td>0.214486</td>\n",
       "      <td>7.910400</td>\n",
       "      <td>2.000000</td>\n",
       "      <td>0.000000</td>\n",
       "      <td>0.000000</td>\n",
       "    </tr>\n",
       "    <tr>\n",
       "      <th>50%</th>\n",
       "      <td>0.000000</td>\n",
       "      <td>3.000000</td>\n",
       "      <td>0.000000</td>\n",
       "      <td>27.255814</td>\n",
       "      <td>0.416166</td>\n",
       "      <td>14.454200</td>\n",
       "      <td>3.000000</td>\n",
       "      <td>0.000000</td>\n",
       "      <td>0.000000</td>\n",
       "    </tr>\n",
       "    <tr>\n",
       "      <th>75%</th>\n",
       "      <td>1.000000</td>\n",
       "      <td>3.000000</td>\n",
       "      <td>1.000000</td>\n",
       "      <td>36.000000</td>\n",
       "      <td>0.747199</td>\n",
       "      <td>31.000000</td>\n",
       "      <td>3.000000</td>\n",
       "      <td>1.000000</td>\n",
       "      <td>0.000000</td>\n",
       "    </tr>\n",
       "    <tr>\n",
       "      <th>max</th>\n",
       "      <td>1.000000</td>\n",
       "      <td>3.000000</td>\n",
       "      <td>1.000000</td>\n",
       "      <td>80.000000</td>\n",
       "      <td>1.000000</td>\n",
       "      <td>512.329200</td>\n",
       "      <td>3.000000</td>\n",
       "      <td>10.000000</td>\n",
       "      <td>8.000000</td>\n",
       "    </tr>\n",
       "  </tbody>\n",
       "</table>\n",
       "</div>"
      ],
      "text/plain": [
       "         Survived      Pclass         Sex         Age      Ticket        Fare  \\\n",
       "count  891.000000  891.000000  891.000000  891.000000  891.000000  891.000000   \n",
       "mean     0.383838    2.308642    0.352413   29.389701    0.471071   32.204208   \n",
       "std      0.486592    0.836071    0.477990   13.427855    0.294340   49.693429   \n",
       "min      0.000000    1.000000    0.000000    0.420000    0.002501    0.000000   \n",
       "25%      0.000000    2.000000    0.000000   21.000000    0.214486    7.910400   \n",
       "50%      0.000000    3.000000    0.000000   27.255814    0.416166   14.454200   \n",
       "75%      1.000000    3.000000    1.000000   36.000000    0.747199   31.000000   \n",
       "max      1.000000    3.000000    1.000000   80.000000    1.000000  512.329200   \n",
       "\n",
       "         Embarked        Flia    Camarote  \n",
       "count  891.000000  891.000000  891.000000  \n",
       "mean     2.638608    0.904602    0.811448  \n",
       "std      0.635673    1.613459    1.815143  \n",
       "min      1.000000    0.000000    0.000000  \n",
       "25%      2.000000    0.000000    0.000000  \n",
       "50%      3.000000    0.000000    0.000000  \n",
       "75%      3.000000    1.000000    0.000000  \n",
       "max      3.000000   10.000000    8.000000  "
      ]
     },
     "execution_count": 33,
     "metadata": {},
     "output_type": "execute_result"
    }
   ],
   "source": [
    "data.describe()"
   ]
  },
  {
   "cell_type": "markdown",
   "metadata": {},
   "source": [
    "# Preparacion de datos para incluirlos en los modelos"
   ]
  },
  {
   "cell_type": "code",
   "execution_count": 34,
   "metadata": {},
   "outputs": [],
   "source": [
    "X = data.drop('Survived', axis = 1)\n",
    "y = data['Survived']"
   ]
  },
  {
   "cell_type": "code",
   "execution_count": 35,
   "metadata": {},
   "outputs": [],
   "source": [
    "from sklearn.model_selection import train_test_split"
   ]
  },
  {
   "cell_type": "code",
   "execution_count": 36,
   "metadata": {},
   "outputs": [],
   "source": [
    "X_train, X_test, y_train, y_test = train_test_split(X, y, test_size=0.2, random_state=123)\n",
    "X_val_train, X_val_test, y_val_train, y_val_test = train_test_split(X_train, y_train, test_size=0.2, random_state=123)"
   ]
  },
  {
   "cell_type": "code",
   "execution_count": 37,
   "metadata": {},
   "outputs": [
    {
     "data": {
      "text/plain": [
       "((712, 8), (712,), (569, 8), (143, 8), (569,), (143,))"
      ]
     },
     "execution_count": 37,
     "metadata": {},
     "output_type": "execute_result"
    }
   ],
   "source": [
    "X_train.shape, y_train.shape, X_val_train.shape, X_val_test.shape, y_val_train.shape, y_val_test.shape"
   ]
  },
  {
   "cell_type": "code",
   "execution_count": 38,
   "metadata": {},
   "outputs": [],
   "source": [
    "from sklearn import linear_model\n",
    "from sklearn.metrics import confusion_matrix, accuracy_score, f1_score"
   ]
  },
  {
   "cell_type": "code",
   "execution_count": 39,
   "metadata": {},
   "outputs": [
    {
     "data": {
      "text/plain": [
       "0.7832167832167832"
      ]
     },
     "execution_count": 39,
     "metadata": {},
     "output_type": "execute_result"
    }
   ],
   "source": [
    "rLog = linear_model.LogisticRegression(fit_intercept = True, class_weight='balanced', n_jobs = -1, random_state = 123)\n",
    "rLog.fit(X_val_train, y_val_train)\n",
    "y_pred = rLog.predict(X_val_test)\n",
    "acc_rLog = accuracy_score(y_val_test, y_pred)\n",
    "acc_rLog"
   ]
  },
  {
   "cell_type": "code",
   "execution_count": 40,
   "metadata": {},
   "outputs": [],
   "source": [
    "from sklearn.neighbors import KNeighborsClassifier"
   ]
  },
  {
   "cell_type": "code",
   "execution_count": 41,
   "metadata": {},
   "outputs": [
    {
     "data": {
      "text/plain": [
       "0.6993006993006993"
      ]
     },
     "execution_count": 41,
     "metadata": {},
     "output_type": "execute_result"
    }
   ],
   "source": [
    "knn = KNeighborsClassifier()\n",
    "knn.fit(X_val_train, y_val_train)\n",
    "y_pred_knn = knn.predict(X_val_test)\n",
    "acc_knn = accuracy_score(y_val_test, y_pred_knn)\n",
    "acc_knn"
   ]
  },
  {
   "cell_type": "code",
   "execution_count": 42,
   "metadata": {},
   "outputs": [],
   "source": [
    "from sklearn.tree import DecisionTreeClassifier"
   ]
  },
  {
   "cell_type": "code",
   "execution_count": 43,
   "metadata": {},
   "outputs": [
    {
     "data": {
      "text/plain": [
       "0.7692307692307693"
      ]
     },
     "execution_count": 43,
     "metadata": {},
     "output_type": "execute_result"
    }
   ],
   "source": [
    "tree = DecisionTreeClassifier(random_state = 123)\n",
    "tree.fit(X_val_train, y_val_train)\n",
    "y_pred_tree = tree.predict(X_val_test)\n",
    "acc_tree = accuracy_score(y_val_test, y_pred_tree)\n",
    "acc_tree"
   ]
  },
  {
   "cell_type": "code",
   "execution_count": 44,
   "metadata": {},
   "outputs": [
    {
     "name": "stdout",
     "output_type": "stream",
     "text": [
      "Reg Log: 0.7832167832167832 Knn: 0.6993006993006993 Arbol: 0.7692307692307693\n"
     ]
    }
   ],
   "source": [
    "print('Reg Log:', acc_rLog, \"Knn:\", acc_knn, \"Arbol:\", acc_tree)"
   ]
  }
 ],
 "metadata": {
  "hide_input": false,
  "interpreter": {
   "hash": "ab2626a3f7ab06f191ab5bb1559a4433531d354e622cd9a2bbb40492787a98c9"
  },
  "kernelspec": {
   "display_name": "Python 3 (ipykernel)",
   "language": "python",
   "name": "python3"
  },
  "language_info": {
   "codemirror_mode": {
    "name": "ipython",
    "version": 3
   },
   "file_extension": ".py",
   "mimetype": "text/x-python",
   "name": "python",
   "nbconvert_exporter": "python",
   "pygments_lexer": "ipython3",
   "version": "3.9.7"
  },
  "toc": {
   "base_numbering": 1,
   "nav_menu": {},
   "number_sections": true,
   "sideBar": true,
   "skip_h1_title": true,
   "title_cell": "Tabla de Contenidos",
   "title_sidebar": "Contenidos",
   "toc_cell": false,
   "toc_position": {},
   "toc_section_display": true,
   "toc_window_display": true
  }
 },
 "nbformat": 4,
 "nbformat_minor": 4
}
