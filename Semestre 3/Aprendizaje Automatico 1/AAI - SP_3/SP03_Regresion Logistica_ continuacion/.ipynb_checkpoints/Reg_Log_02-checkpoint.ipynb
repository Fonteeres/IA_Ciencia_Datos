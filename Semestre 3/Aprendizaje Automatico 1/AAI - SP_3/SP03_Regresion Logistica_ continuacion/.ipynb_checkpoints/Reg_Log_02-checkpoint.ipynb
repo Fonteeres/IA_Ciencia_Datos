{
 "cells": [
  {
   "cell_type": "markdown",
   "metadata": {
    "toc": true
   },
   "source": [
    "<h1>Tabla de Contenidos<span class=\"tocSkip\"></span></h1>\n",
    "<div class=\"toc\"><ul class=\"toc-item\"><li><span><a href=\"#Frontera-de-Decisión-(Decision-Boundary)\" data-toc-modified-id=\"Frontera-de-Decisión-(Decision-Boundary)-1\"><span class=\"toc-item-num\">1&nbsp;&nbsp;</span>Frontera de Decisión (Decision Boundary)</a></span></li></ul></div>"
   ]
  },
  {
   "cell_type": "markdown",
   "metadata": {},
   "source": [
    "![IES21](img/logo_ies.png)"
   ]
  },
  {
   "cell_type": "markdown",
   "metadata": {},
   "source": [
    "# Regresión Logística con 2 variables: Frontera de Decisión"
   ]
  },
  {
   "cell_type": "code",
   "execution_count": 27,
   "metadata": {
    "ExecuteTime": {
     "end_time": "2020-05-05T21:59:03.053833Z",
     "start_time": "2020-05-05T21:59:03.045855Z"
    }
   },
   "outputs": [],
   "source": [
    "import numpy as np\n",
    "import pandas as pd\n",
    "import matplotlib.pyplot as plt\n",
    "from sklearn.model_selection import train_test_split\n",
    "from sklearn import linear_model"
   ]
  },
  {
   "cell_type": "markdown",
   "metadata": {},
   "source": [
    "El asunto se pone bastante más interesante cuando tenemos más de una variable.  \n",
    "Veamos un ejemplo con dos variables, $x_1$ y $x_2$, y asumamos que a la variable a pronosticar, que es categórica ya le hemos reemplazado sus etiquetas ( que podrían ser A y B) por lo valores numéricos 1 y 0.\n",
    "\n",
    "Documentación:\n",
    "https://scikit-learn.org/stable/modules/generated/sklearn.linear_model.LogisticRegression.html\n"
   ]
  },
  {
   "cell_type": "markdown",
   "metadata": {},
   "source": [
    "Los datos son los siguientes:"
   ]
  },
  {
   "cell_type": "code",
   "execution_count": 2,
   "metadata": {
    "ExecuteTime": {
     "end_time": "2020-05-05T20:18:56.413741Z",
     "start_time": "2020-05-05T20:18:56.391797Z"
    }
   },
   "outputs": [
    {
     "data": {
      "text/html": [
       "<div>\n",
       "<style scoped>\n",
       "    .dataframe tbody tr th:only-of-type {\n",
       "        vertical-align: middle;\n",
       "    }\n",
       "\n",
       "    .dataframe tbody tr th {\n",
       "        vertical-align: top;\n",
       "    }\n",
       "\n",
       "    .dataframe thead th {\n",
       "        text-align: right;\n",
       "    }\n",
       "</style>\n",
       "<table border=\"1\" class=\"dataframe\">\n",
       "  <thead>\n",
       "    <tr style=\"text-align: right;\">\n",
       "      <th></th>\n",
       "      <th>x1</th>\n",
       "      <th>x2</th>\n",
       "      <th>y</th>\n",
       "    </tr>\n",
       "  </thead>\n",
       "  <tbody>\n",
       "    <tr>\n",
       "      <th>0</th>\n",
       "      <td>0.5</td>\n",
       "      <td>7.0</td>\n",
       "      <td>0</td>\n",
       "    </tr>\n",
       "    <tr>\n",
       "      <th>1</th>\n",
       "      <td>4.0</td>\n",
       "      <td>0.1</td>\n",
       "      <td>0</td>\n",
       "    </tr>\n",
       "    <tr>\n",
       "      <th>2</th>\n",
       "      <td>0.3</td>\n",
       "      <td>2.0</td>\n",
       "      <td>0</td>\n",
       "    </tr>\n",
       "    <tr>\n",
       "      <th>3</th>\n",
       "      <td>0.7</td>\n",
       "      <td>6.0</td>\n",
       "      <td>0</td>\n",
       "    </tr>\n",
       "    <tr>\n",
       "      <th>4</th>\n",
       "      <td>1.0</td>\n",
       "      <td>7.0</td>\n",
       "      <td>0</td>\n",
       "    </tr>\n",
       "    <tr>\n",
       "      <th>5</th>\n",
       "      <td>1.0</td>\n",
       "      <td>9.0</td>\n",
       "      <td>1</td>\n",
       "    </tr>\n",
       "    <tr>\n",
       "      <th>6</th>\n",
       "      <td>0.6</td>\n",
       "      <td>10.0</td>\n",
       "      <td>1</td>\n",
       "    </tr>\n",
       "    <tr>\n",
       "      <th>7</th>\n",
       "      <td>1.0</td>\n",
       "      <td>10.0</td>\n",
       "      <td>1</td>\n",
       "    </tr>\n",
       "    <tr>\n",
       "      <th>8</th>\n",
       "      <td>1.6</td>\n",
       "      <td>8.0</td>\n",
       "      <td>1</td>\n",
       "    </tr>\n",
       "    <tr>\n",
       "      <th>9</th>\n",
       "      <td>1.5</td>\n",
       "      <td>4.0</td>\n",
       "      <td>0</td>\n",
       "    </tr>\n",
       "    <tr>\n",
       "      <th>10</th>\n",
       "      <td>2.0</td>\n",
       "      <td>1.0</td>\n",
       "      <td>0</td>\n",
       "    </tr>\n",
       "    <tr>\n",
       "      <th>11</th>\n",
       "      <td>2.0</td>\n",
       "      <td>7.0</td>\n",
       "      <td>1</td>\n",
       "    </tr>\n",
       "    <tr>\n",
       "      <th>12</th>\n",
       "      <td>2.3</td>\n",
       "      <td>8.0</td>\n",
       "      <td>1</td>\n",
       "    </tr>\n",
       "    <tr>\n",
       "      <th>13</th>\n",
       "      <td>3.0</td>\n",
       "      <td>1.0</td>\n",
       "      <td>0</td>\n",
       "    </tr>\n",
       "    <tr>\n",
       "      <th>14</th>\n",
       "      <td>3.0</td>\n",
       "      <td>2.0</td>\n",
       "      <td>0</td>\n",
       "    </tr>\n",
       "    <tr>\n",
       "      <th>15</th>\n",
       "      <td>3.0</td>\n",
       "      <td>3.0</td>\n",
       "      <td>0</td>\n",
       "    </tr>\n",
       "    <tr>\n",
       "      <th>16</th>\n",
       "      <td>3.0</td>\n",
       "      <td>5.0</td>\n",
       "      <td>1</td>\n",
       "    </tr>\n",
       "    <tr>\n",
       "      <th>17</th>\n",
       "      <td>3.0</td>\n",
       "      <td>6.0</td>\n",
       "      <td>1</td>\n",
       "    </tr>\n",
       "    <tr>\n",
       "      <th>18</th>\n",
       "      <td>4.0</td>\n",
       "      <td>1.0</td>\n",
       "      <td>0</td>\n",
       "    </tr>\n",
       "    <tr>\n",
       "      <th>19</th>\n",
       "      <td>4.0</td>\n",
       "      <td>3.0</td>\n",
       "      <td>1</td>\n",
       "    </tr>\n",
       "    <tr>\n",
       "      <th>20</th>\n",
       "      <td>4.0</td>\n",
       "      <td>4.0</td>\n",
       "      <td>1</td>\n",
       "    </tr>\n",
       "    <tr>\n",
       "      <th>21</th>\n",
       "      <td>5.0</td>\n",
       "      <td>1.0</td>\n",
       "      <td>1</td>\n",
       "    </tr>\n",
       "    <tr>\n",
       "      <th>22</th>\n",
       "      <td>5.0</td>\n",
       "      <td>2.0</td>\n",
       "      <td>1</td>\n",
       "    </tr>\n",
       "    <tr>\n",
       "      <th>23</th>\n",
       "      <td>6.0</td>\n",
       "      <td>3.0</td>\n",
       "      <td>1</td>\n",
       "    </tr>\n",
       "  </tbody>\n",
       "</table>\n",
       "</div>"
      ],
      "text/plain": [
       "     x1    x2  y\n",
       "0   0.5   7.0  0\n",
       "1   4.0   0.1  0\n",
       "2   0.3   2.0  0\n",
       "3   0.7   6.0  0\n",
       "4   1.0   7.0  0\n",
       "5   1.0   9.0  1\n",
       "6   0.6  10.0  1\n",
       "7   1.0  10.0  1\n",
       "8   1.6   8.0  1\n",
       "9   1.5   4.0  0\n",
       "10  2.0   1.0  0\n",
       "11  2.0   7.0  1\n",
       "12  2.3   8.0  1\n",
       "13  3.0   1.0  0\n",
       "14  3.0   2.0  0\n",
       "15  3.0   3.0  0\n",
       "16  3.0   5.0  1\n",
       "17  3.0   6.0  1\n",
       "18  4.0   1.0  0\n",
       "19  4.0   3.0  1\n",
       "20  4.0   4.0  1\n",
       "21  5.0   1.0  1\n",
       "22  5.0   2.0  1\n",
       "23  6.0   3.0  1"
      ]
     },
     "execution_count": 2,
     "metadata": {},
     "output_type": "execute_result"
    }
   ],
   "source": [
    "df=pd.read_csv('data/datos_2v.csv')\n",
    "df"
   ]
  },
  {
   "cell_type": "markdown",
   "metadata": {},
   "source": [
    "Vamos a visualizarlos, en celeste los puntos que corresponden a valores de y=0 y en naranja los que corresponden a y=1"
   ]
  },
  {
   "cell_type": "code",
   "execution_count": 3,
   "metadata": {
    "ExecuteTime": {
     "end_time": "2020-05-05T20:18:56.616199Z",
     "start_time": "2020-05-05T20:18:56.417730Z"
    }
   },
   "outputs": [
    {
     "data": {
      "image/png": "[encoded data removed]",
      "text/plain": [
       "<Figure size 576x576 with 1 Axes>"
      ]
     },
     "metadata": {
      "needs_background": "light"
     },
     "output_type": "display_data"
    }
   ],
   "source": [
    "# Puede ignorar este código, es sólo para graficar\n",
    "#from sklearn.model_selection import train_test_split\n",
    "X_train=df[['x1','x2']]\n",
    "y_train=df['y']\n",
    "\n",
    "fig = plt.figure(figsize=[8,8])\n",
    "\n",
    "ax = fig.add_subplot(1, 1, 1)\n",
    "ax.spines['left'].set_position('zero')\n",
    "ax.spines['bottom'].set_position('zero')\n",
    "ax.spines['right'].set_color('none')\n",
    "ax.spines['top'].set_color('none')\n",
    "ax.xaxis.set_ticks_position('bottom')\n",
    "ax.yaxis.set_ticks_position('left')\n",
    "ax.set_xlabel('x1')\n",
    "ax.set_ylabel('x2')\n",
    "colores=np.where(df.y==0,'deepskyblue','orange')\n",
    "\n",
    "plt.scatter(df.x1,df.x2, c=colores)\n",
    "#ax.legend()\n",
    "plt.show()"
   ]
  },
  {
   "cell_type": "markdown",
   "metadata": {},
   "source": [
    "Por un momento piense cómo procedería un Árbol de Decisiones en esta situación, recuerde que el msimo divide el espacio de las variables con rectas paralelas a los ejes.   \n",
    "\n",
    "Muy bien, ahora vamos a ver cómo funciona la Regresión Logística:"
   ]
  },
  {
   "cell_type": "markdown",
   "metadata": {},
   "source": [
    "Utilizaremos la función logística para dos variables: \n",
    "$$ h(x)= \\frac{1}{(1+e^{-(w_0+w_1 x_1 + w_2 x_2)})} $$  \n"
   ]
  },
  {
   "cell_type": "markdown",
   "metadata": {},
   "source": [
    "Creemos el modelo con sklearn:"
   ]
  },
  {
   "cell_type": "code",
   "execution_count": 4,
   "metadata": {
    "ExecuteTime": {
     "end_time": "2020-05-05T20:18:56.640143Z",
     "start_time": "2020-05-05T20:18:56.619237Z"
    }
   },
   "outputs": [
    {
     "data": {
      "text/plain": [
       "LogisticRegression(C=1.0, class_weight=None, dual=False, fit_intercept=True,\n",
       "                   intercept_scaling=1, l1_ratio=None, max_iter=100,\n",
       "                   multi_class='auto', n_jobs=None, penalty='none',\n",
       "                   random_state=123, solver='lbfgs', tol=0.0001, verbose=0,\n",
       "                   warm_start=False)"
      ]
     },
     "execution_count": 4,
     "metadata": {},
     "output_type": "execute_result"
    }
   ],
   "source": [
    "modelo=linear_model.LogisticRegression(penalty='none',fit_intercept=True, random_state=123) \n",
    "# aunque fit_intercept por defecto es True, así que no es necesario agregarlo.\n",
    "modelo.fit(X_train,y_train)"
   ]
  },
  {
   "cell_type": "markdown",
   "metadata": {},
   "source": [
    "Según nuestro modelo, ahora tenemos 3 parámetros:  \n",
    "\n",
    "- $w_0$ que sklearn lo llama **intercept_**\n",
    "- $w_1$ y $w_2$ que sklearn nos los devuelve como **coef_**\n",
    "\n",
    "Veámoslos:\n"
   ]
  },
  {
   "cell_type": "code",
   "execution_count": 5,
   "metadata": {
    "ExecuteTime": {
     "end_time": "2020-05-05T20:18:56.650108Z",
     "start_time": "2020-05-05T20:18:56.642128Z"
    }
   },
   "outputs": [
    {
     "data": {
      "text/plain": [
       "array([-123.82034459])"
      ]
     },
     "execution_count": 5,
     "metadata": {},
     "output_type": "execute_result"
    }
   ],
   "source": [
    "modelo.intercept_"
   ]
  },
  {
   "cell_type": "code",
   "execution_count": 6,
   "metadata": {
    "ExecuteTime": {
     "end_time": "2020-05-05T20:18:56.659083Z",
     "start_time": "2020-05-05T20:18:56.652104Z"
    }
   },
   "outputs": [
    {
     "data": {
      "text/plain": [
       "array([[24.94660542, 12.47044671]])"
      ]
     },
     "execution_count": 6,
     "metadata": {},
     "output_type": "execute_result"
    }
   ],
   "source": [
    "modelo.coef_"
   ]
  },
  {
   "cell_type": "markdown",
   "metadata": {},
   "source": [
    "Como podemos ver los dos últimos parámetros corresponden a $w_1$ y $w_2$"
   ]
  },
  {
   "cell_type": "markdown",
   "metadata": {
    "ExecuteTime": {
     "end_time": "2020-05-05T19:27:42.669729Z",
     "start_time": "2020-05-05T19:27:42.665740Z"
    }
   },
   "source": [
    "## Frontera de Decisión (Decision Boundary)"
   ]
  },
  {
   "cell_type": "markdown",
   "metadata": {},
   "source": [
    "En este caso oestoy interesado en que investiguemos de qué manera la Regresión Logística divide al espacio de las varibales x1 x2 (en este caso como son 2 variables es un plano).   \n",
    "\n",
    "Recordemos un poco:  \n",
    "\n",
    "- Los árboles de Decisión dividían el espacio de las features con hiperplanos paralelos a los coordenados.\n",
    "- 1NN utilizaba hiperplanos que formaban una especie de mosaico (recuerde el diagrama de Voronoi)\n",
    "\n",
    "Observe nuevamente la distribución de nuestros puntos en el plano x1 x2 de la figura anterior, imagínese cómo lo dividiría un árbol de decisión ...  \n",
    "\n",
    "Bueno, ahora vamos a ver cómo lo hará Regresión Logística:\n",
    "\n"
   ]
  },
  {
   "cell_type": "markdown",
   "metadata": {},
   "source": [
    "Recordemos que el valor de $h(x_1,x_2)$ es la Probabilidad de que a la observación $(x_1,x_2)$ le corresponda el valor 1 , supongamos que al umbral de probabilidad lo ubicamos en 0,5, es decir que si:  \n",
    "\n",
    "$h(x_1,x_2)$ >= 0.5 le asignaremos un 1, sino le asignaremos un 0.  \n",
    "\n",
    "Es decir que asignaremos 1 cuando  \n",
    "\n",
    "$$ \\frac{1}{(1+e^{-(w_0+w_1 x_1 + w_2 x_2)})} \\geq 0.5$$   \n",
    "\n",
    "Despejemos para ver qué relación hay entre $x_1$ y $x_2$. Haciendo pasajes de térmninos:\n",
    "\n"
   ]
  },
  {
   "cell_type": "markdown",
   "metadata": {},
   "source": [
    "$$  \\frac{1}{0.5}\\geq (1+e^{-(w_0+w_1 x_1 + w_2 x_2)})$$  \n",
    "\n",
    "$$  2\\geq (1+e^{-(w_0+w_1 x_1 + w_2 x_2)})$$   \n",
    "\n",
    "$$  1\\geq e^{-(w_0+w_1 x_1 + w_2 x_2)}$$   \n",
    "\n",
    "Para hacer desaparecer la exponencial tomamos Ln en ambos miembros: \n",
    "\n",
    "$$  Ln(1)\\geq Ln(e^{-(w_0+w_1 x_1 + w_2 x_2)})$$  \n",
    "\n",
    "El Ln(1) es igual a 0 , y el Ln y la exponencial se cancelan por se operaciones inversas:  \n",
    "\n",
    "$$  0\\geq -(w_0+w_1 x_1 + w_2 x_2)$$   \n",
    "\n",
    "$$  0\\geq -w_0 - w_1 x_1 - w_2 x_2$$  \n",
    "Como en el gráfico pusimos a $w_2$ en el eje vertical, la despejo:  \n",
    "\n",
    "$$  w_2 x_2 \\geq -w_0 - w_1 x_1 $$  \n",
    "\n",
    "finalmente podemos despejar $x_2$:  \n",
    "\n",
    "$$   x_2 \\geq - \\frac{w_0}{w_2} - \\frac{w_1}{w_2} x_1 $$   \n",
    "\n",
    "que no es otra cosa más que la ecuación de una recta, reordenando un poco:  \n",
    "\n",
    "$$   x_2 \\geq - \\frac{w_1}{w_2} x_1 - \\frac{w_0}{w_2}  $$   \n",
    "\n",
    "Donde podemos ver que $- \\frac{w_1}{w_2}$ es la pendiente y que $- \\frac{w_0}{w_2} $ es la ordenada al origen o punto de corte al eje vertical.  \n",
    "\n",
    "Por otro lado el hecho de que nuestra solución sea una inecuación donde $x_2 \\geq recta$ significa que la solución es el semiplano que se encuentra por sobre la recta. La recta será el **límite o frontera** entre los dos valores que intentamos discriminar!  \n",
    "\n",
    "Hace un rato, sklearn nos calculó los parámetros $ w_0,  w_1 y  w_2$ así que estamos en condiciones de graficar esta frontera y ver qué es lo que está haciendo en  realidad: "
   ]
  },
  {
   "cell_type": "code",
   "execution_count": 15,
   "metadata": {
    "ExecuteTime": {
     "end_time": "2020-05-05T20:21:14.371834Z",
     "start_time": "2020-05-05T20:21:14.366847Z"
    }
   },
   "outputs": [],
   "source": [
    "# Este código no es necesario que lo vea, es sólo para graficar\n",
    "# voy a armar una función para el boundary limit\n",
    "# la condición es que a sigmoide sea >=0,5 => 50% de probabilidad de ser 1\n",
    "# w0+w1x1+w2x2 >=0, x2>=- w1/w2 x1 - w0/w2\n",
    "# a = - w1/w2 será la pendiente de la recta de la frontera (boundary)\n",
    "# b = - w0/w2 será la ordenada al origen de la frontera b= -(w0+Ln(1/p-1)/w2) donde p es la probabilidad de umbral, por ejemplo 0.5\n",
    "# p es la probabilidad umbral a partir de la cual se considera 1 al pronóstico.\n",
    "def boundary(w0,wi,p=0.5):\n",
    "    a=-1*wi[0][0]/wi[0][1]\n",
    "    b=-1*(w0[0]+np.log(1/p-1))/wi[0][1]\n",
    "    return a,b"
   ]
  },
  {
   "cell_type": "code",
   "execution_count": null,
   "metadata": {
    "ExecuteTime": {
     "end_time": "2020-05-05T20:17:43.386021Z",
     "start_time": "2020-05-05T20:17:43.379040Z"
    }
   },
   "outputs": [],
   "source": []
  },
  {
   "cell_type": "code",
   "execution_count": 26,
   "metadata": {
    "ExecuteTime": {
     "end_time": "2020-05-05T20:57:40.517153Z",
     "start_time": "2020-05-05T20:57:40.306714Z"
    }
   },
   "outputs": [
    {
     "data": {
      "image/png": "[encoded data removed]",
      "text/plain": [
       "<Figure size 576x576 with 1 Axes>"
      ]
     },
     "metadata": {
      "needs_background": "light"
     },
     "output_type": "display_data"
    }
   ],
   "source": [
    "# Este código no es necesario que lo vea, es sólo para graficar\n",
    "a,b=boundary(modelo.intercept_,modelo.coef_,0.5)\n",
    "# Puede ignorar este código, es sólo para graficar\n",
    "fig = plt.figure(figsize=[8,8])\n",
    "\n",
    "ax = fig.add_subplot(1, 1, 1)\n",
    "ax.spines['left'].set_position('zero')\n",
    "ax.spines['bottom'].set_position('zero')\n",
    "ax.spines['right'].set_color('none')\n",
    "ax.spines['top'].set_color('none')\n",
    "ax.xaxis.set_ticks_position('bottom')\n",
    "ax.yaxis.set_ticks_position('left')\n",
    "ax.set_xlabel('x1')\n",
    "ax.set_ylabel('x2')\n",
    "colores=np.where(df.y==0,'deepskyblue','orange')\n",
    "\n",
    "plt.scatter(df.x1,df.x2, c=colores)\n",
    "plt.plot(df.x1,a*df.x1+b,c='red')\n",
    "#ax.legend()\n",
    "plt.show()"
   ]
  },
  {
   "cell_type": "markdown",
   "metadata": {
    "ExecuteTime": {
     "end_time": "2020-05-04T03:14:37.118641Z",
     "start_time": "2020-05-04T03:14:37.113654Z"
    }
   },
   "source": [
    "Podemos ver que en el caso de Regresión Logística, ahora la **Frontera de Decisión** puede ser cualquier recta **inclinada** con cualquier ángulo, a diferencia de por ejemplo los árboles de decisión que sólo podían usar rectas paralelas a los ejes. \n",
    "\n",
    " **Nota:** La separación es perfecta porque en este caso todos estos puntos formaban parte del conjunto con el cual entrenamos, en la realidad, los nuevos puntos pueden caer de uno u otro lado de la frontera.\n"
   ]
  },
  {
   "cell_type": "markdown",
   "metadata": {
    "ExecuteTime": {
     "end_time": "2020-05-04T03:14:38.835205Z",
     "start_time": "2020-05-04T03:14:38.831183Z"
    }
   },
   "source": [
    "El valor de la **probabilidad de umbral** que habíamos dejado en 0.5 sólo determina el punto de corte al eje vertical, no afecta a la pendiente, así que cambiar el valor del umbral simplemente traslada a la recta hacia la derecha o a la izquierda, pero no la rota.  De hecho si aumentamos el umbral la recta se desplaza hacia la zona donde se encuentran los puntos cuyo valor es 1, en nuestro caso sería hacia la derecha.  \n",
    "\n",
    "Fíjese por ejemplo, si hiciéramos todos los cálculos nuevamente pero con una probabilidad umbral del 0.9999 el gráfico sería el siguiente: "
   ]
  },
  {
   "cell_type": "code",
   "execution_count": 25,
   "metadata": {
    "ExecuteTime": {
     "end_time": "2020-05-05T20:24:54.811990Z",
     "start_time": "2020-05-05T20:24:54.648406Z"
    }
   },
   "outputs": [
    {
     "data": {
      "image/png": "[encoded data removed]",
      "text/plain": [
       "<Figure size 576x576 with 1 Axes>"
      ]
     },
     "metadata": {
      "needs_background": "light"
     },
     "output_type": "display_data"
    }
   ],
   "source": [
    "# Este código no es necesario que lo vea, es sólo para graficar\n",
    "a,b=boundary(modelo.intercept_,modelo.coef_,0.9999)\n",
    "# Puede ignorar este código, es sólo para graficar\n",
    "fig = plt.figure(figsize=[8,8])\n",
    "\n",
    "ax = fig.add_subplot(1, 1, 1)\n",
    "ax.spines['left'].set_position('zero')\n",
    "ax.spines['bottom'].set_position('zero')\n",
    "ax.spines['right'].set_color('none')\n",
    "ax.spines['top'].set_color('none')\n",
    "ax.xaxis.set_ticks_position('bottom')\n",
    "ax.yaxis.set_ticks_position('left')\n",
    "ax.set_xlabel('x1')\n",
    "ax.set_ylabel('x2')\n",
    "colores=np.where(df.y==0,'deepskyblue','orange')\n",
    "\n",
    "plt.scatter(df.x1,df.x2, c=colores)\n",
    "plt.plot(df.x1,a*df.x1+b,c='gray')\n",
    "#ax.legend()\n",
    "plt.show()"
   ]
  },
  {
   "cell_type": "code",
   "execution_count": null,
   "metadata": {},
   "outputs": [],
   "source": []
  }
 ],
 "metadata": {
  "hide_input": false,
  "kernelspec": {
   "display_name": "Python 3",
   "language": "python",
   "name": "python3"
  },
  "language_info": {
   "codemirror_mode": {
    "name": "ipython",
    "version": 3
   },
   "file_extension": ".py",
   "mimetype": "text/x-python",
   "name": "python",
   "nbconvert_exporter": "python",
   "pygments_lexer": "ipython3",
   "version": "3.7.4"
  },
  "toc": {
   "base_numbering": 1,
   "nav_menu": {},
   "number_sections": true,
   "sideBar": true,
   "skip_h1_title": true,
   "title_cell": "Tabla de Contenidos",
   "title_sidebar": "Contenidos",
   "toc_cell": true,
   "toc_position": {},
   "toc_section_display": true,
   "toc_window_display": true
  }
 },
 "nbformat": 4,
 "nbformat_minor": 2
}
