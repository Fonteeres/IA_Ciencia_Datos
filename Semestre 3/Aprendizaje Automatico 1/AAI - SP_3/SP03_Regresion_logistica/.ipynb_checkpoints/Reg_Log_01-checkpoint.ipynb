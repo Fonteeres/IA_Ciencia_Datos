{
 "cells": [
  {
   "cell_type": "code",
   "execution_count": null,
   "metadata": {},
   "outputs": [],
   "source": []
  },
  {
   "cell_type": "markdown",
   "metadata": {
    "ExecuteTime": {
     "end_time": "2020-05-05T00:29:16.469318Z",
     "start_time": "2020-05-05T00:29:16.411877Z"
    }
   },
   "source": [
    "![IES21](img/logo_ies.png)"
   ]
  },
  {
   "cell_type": "markdown",
   "metadata": {},
   "source": [
    "# Regresión Logística bivariada o binaria, y con una feature"
   ]
  },
  {
   "cell_type": "code",
   "execution_count": 1,
   "metadata": {
    "ExecuteTime": {
     "end_time": "2020-05-04T15:36:35.073207Z",
     "start_time": "2020-05-04T15:36:33.718808Z"
    }
   },
   "outputs": [],
   "source": [
    "import numpy as np\n",
    "import pandas as pd\n",
    "import matplotlib.pyplot as plt\n",
    "from sklearn.model_selection import train_test_split\n",
    "from sklearn import linear_model"
   ]
  },
  {
   "cell_type": "markdown",
   "metadata": {},
   "source": [
    "## Planteo del problema"
   ]
  },
  {
   "cell_type": "markdown",
   "metadata": {},
   "source": [
    "Supongamos que tenemos un caso de **clasificación**, con una sola variable, x, y la variable target y con sólo 2 clases o etiquetas que podrían ser \"A y B\" o \"si y no\" o \"blanco y negro\"(se dice que es bivariada o binaria, ya veremos luego cómo proceder cuando es multivariada o multilabel).   "
   ]
  },
  {
   "cell_type": "markdown",
   "metadata": {},
   "source": [
    "Obviamente los valores de la etiqueta no tienen significado numérico, ya que blanco no es mayor que negro, pero supongamos que pensamos en cómo podríamos hacer para transformarlo en un problema donde los valores de la variable target, y, fueran numéricos; entonces pensamos en asignar a cada una de estas etiquetas un valor numérico, a una de ellas le asignamos arbitrariamente 0 y a la otra arbitrariamente 1 (estos valores 0 y 1 se mostrarán muy convenientes posteriormente). \n",
    "\n",
    "Supongamos que los datos son los siguientes:\n"
   ]
  },
  {
   "cell_type": "code",
   "execution_count": 2,
   "metadata": {
    "ExecuteTime": {
     "end_time": "2020-05-04T15:36:35.103110Z",
     "start_time": "2020-05-04T15:36:35.078175Z"
    }
   },
   "outputs": [
    {
     "data": {
      "text/html": [
       "<div>\n",
       "<style scoped>\n",
       "    .dataframe tbody tr th:only-of-type {\n",
       "        vertical-align: middle;\n",
       "    }\n",
       "\n",
       "    .dataframe tbody tr th {\n",
       "        vertical-align: top;\n",
       "    }\n",
       "\n",
       "    .dataframe thead th {\n",
       "        text-align: right;\n",
       "    }\n",
       "</style>\n",
       "<table border=\"1\" class=\"dataframe\">\n",
       "  <thead>\n",
       "    <tr style=\"text-align: right;\">\n",
       "      <th></th>\n",
       "      <th>x</th>\n",
       "      <th>y</th>\n",
       "    </tr>\n",
       "  </thead>\n",
       "  <tbody>\n",
       "    <tr>\n",
       "      <th>0</th>\n",
       "      <td>0</td>\n",
       "      <td>0.0</td>\n",
       "    </tr>\n",
       "    <tr>\n",
       "      <th>1</th>\n",
       "      <td>1</td>\n",
       "      <td>0.0</td>\n",
       "    </tr>\n",
       "    <tr>\n",
       "      <th>2</th>\n",
       "      <td>2</td>\n",
       "      <td>0.0</td>\n",
       "    </tr>\n",
       "    <tr>\n",
       "      <th>3</th>\n",
       "      <td>3</td>\n",
       "      <td>0.0</td>\n",
       "    </tr>\n",
       "    <tr>\n",
       "      <th>4</th>\n",
       "      <td>4</td>\n",
       "      <td>0.0</td>\n",
       "    </tr>\n",
       "    <tr>\n",
       "      <th>5</th>\n",
       "      <td>5</td>\n",
       "      <td>0.0</td>\n",
       "    </tr>\n",
       "    <tr>\n",
       "      <th>6</th>\n",
       "      <td>6</td>\n",
       "      <td>0.0</td>\n",
       "    </tr>\n",
       "    <tr>\n",
       "      <th>7</th>\n",
       "      <td>7</td>\n",
       "      <td>0.0</td>\n",
       "    </tr>\n",
       "    <tr>\n",
       "      <th>8</th>\n",
       "      <td>8</td>\n",
       "      <td>0.0</td>\n",
       "    </tr>\n",
       "    <tr>\n",
       "      <th>9</th>\n",
       "      <td>9</td>\n",
       "      <td>0.0</td>\n",
       "    </tr>\n",
       "    <tr>\n",
       "      <th>10</th>\n",
       "      <td>15</td>\n",
       "      <td>1.0</td>\n",
       "    </tr>\n",
       "    <tr>\n",
       "      <th>11</th>\n",
       "      <td>16</td>\n",
       "      <td>1.0</td>\n",
       "    </tr>\n",
       "    <tr>\n",
       "      <th>12</th>\n",
       "      <td>17</td>\n",
       "      <td>1.0</td>\n",
       "    </tr>\n",
       "    <tr>\n",
       "      <th>13</th>\n",
       "      <td>18</td>\n",
       "      <td>1.0</td>\n",
       "    </tr>\n",
       "    <tr>\n",
       "      <th>14</th>\n",
       "      <td>19</td>\n",
       "      <td>1.0</td>\n",
       "    </tr>\n",
       "    <tr>\n",
       "      <th>15</th>\n",
       "      <td>20</td>\n",
       "      <td>1.0</td>\n",
       "    </tr>\n",
       "    <tr>\n",
       "      <th>16</th>\n",
       "      <td>21</td>\n",
       "      <td>1.0</td>\n",
       "    </tr>\n",
       "    <tr>\n",
       "      <th>17</th>\n",
       "      <td>22</td>\n",
       "      <td>1.0</td>\n",
       "    </tr>\n",
       "    <tr>\n",
       "      <th>18</th>\n",
       "      <td>23</td>\n",
       "      <td>1.0</td>\n",
       "    </tr>\n",
       "    <tr>\n",
       "      <th>19</th>\n",
       "      <td>24</td>\n",
       "      <td>1.0</td>\n",
       "    </tr>\n",
       "  </tbody>\n",
       "</table>\n",
       "</div>"
      ],
      "text/plain": [
       "     x    y\n",
       "0    0  0.0\n",
       "1    1  0.0\n",
       "2    2  0.0\n",
       "3    3  0.0\n",
       "4    4  0.0\n",
       "5    5  0.0\n",
       "6    6  0.0\n",
       "7    7  0.0\n",
       "8    8  0.0\n",
       "9    9  0.0\n",
       "10  15  1.0\n",
       "11  16  1.0\n",
       "12  17  1.0\n",
       "13  18  1.0\n",
       "14  19  1.0\n",
       "15  20  1.0\n",
       "16  21  1.0\n",
       "17  22  1.0\n",
       "18  23  1.0\n",
       "19  24  1.0"
      ]
     },
     "execution_count": 2,
     "metadata": {},
     "output_type": "execute_result"
    }
   ],
   "source": [
    "# Puede ignorar este código\n",
    "df=pd.DataFrame()\n",
    "df['x']=np.append(np.arange(0,10,1),np.arange(15,25,1))\n",
    "df['y']=np.append(np.zeros(10), np.ones(10))\n",
    "df"
   ]
  },
  {
   "cell_type": "markdown",
   "metadata": {},
   "source": [
    "Al ser ahora la variable target numérica, podríamos graficar en un par de ejes x y, numéricos de la siguiente manera:"
   ]
  },
  {
   "cell_type": "code",
   "execution_count": 3,
   "metadata": {
    "ExecuteTime": {
     "end_time": "2020-05-04T15:36:35.294595Z",
     "start_time": "2020-05-04T15:36:35.106100Z"
    }
   },
   "outputs": [
    {
     "data": {
      "image/png": "[encoded data removed]",
      "text/plain": [
       "<Figure size 576x288 with 1 Axes>"
      ]
     },
     "metadata": {
      "needs_background": "light"
     },
     "output_type": "display_data"
    }
   ],
   "source": [
    "# Puede ignorar este código, es sólo para graficar\n",
    "fig = plt.figure(figsize=[8,4])\n",
    "\n",
    "ax = fig.add_subplot(1, 1, 1)\n",
    "ax.spines['left'].set_position('zero')\n",
    "ax.spines['bottom'].set_position('zero')\n",
    "ax.spines['right'].set_color('none')\n",
    "ax.spines['top'].set_color('none')\n",
    "ax.xaxis.set_ticks_position('bottom')\n",
    "ax.yaxis.set_ticks_position('left')\n",
    "ax.set_xlabel('x')\n",
    "ax.set_ylabel('y')\n",
    "\n",
    "\n",
    "plt.scatter(df.x,df.y, label='y')\n",
    "ax.legend()\n",
    "plt.show()"
   ]
  },
  {
   "cell_type": "markdown",
   "metadata": {},
   "source": [
    "Como ahora lo estamos viendo como un problema numérico, podríamos resolverlo como un problema de **regresión** y podríamos probar resolverlo con un modelo de Regresión Lineal, por ejemplo, aproximando con la mejor recta del tipo: \n",
    "\n",
    "$$ h(x) = w_0+w_1 x$$  \n",
    "\n",
    "Hagámoslo!  \n",
    "\n",
    "Nota: como estamos viendo los fundamentos del método y no pretendemos evaluar su performance frente a observaciones desconocidas, no dividiremos en Train y Test sets. Cuando lo usemos para pronosticar en un caso real, sí lo haremos.  \n",
    "\n",
    "El siguiente código sí puede verlo, ya que es conocido!\n"
   ]
  },
  {
   "cell_type": "code",
   "execution_count": 4,
   "metadata": {
    "ExecuteTime": {
     "end_time": "2020-05-04T15:36:35.309555Z",
     "start_time": "2020-05-04T15:36:35.297589Z"
    }
   },
   "outputs": [],
   "source": [
    "modeloRL = linear_model.LinearRegression(fit_intercept=True)\n",
    "modeloRL.fit(df[['x']],df[['y']])\n",
    "y_pred = modeloRL.predict(df[['x']])\n",
    "\n",
    "# Agrego los pronosticos en una columna que denominaré h del df\n",
    "df['h']=y_pred"
   ]
  },
  {
   "cell_type": "markdown",
   "metadata": {
    "ExecuteTime": {
     "end_time": "2020-05-04T05:16:02.346798Z",
     "start_time": "2020-05-04T05:16:02.341813Z"
    }
   },
   "source": [
    "Ahora queremos ver cómo se ve la recta que mejor aproxima a los valores numéricos de y:"
   ]
  },
  {
   "cell_type": "code",
   "execution_count": 5,
   "metadata": {
    "ExecuteTime": {
     "end_time": "2020-05-04T15:36:35.489076Z",
     "start_time": "2020-05-04T15:36:35.311549Z"
    }
   },
   "outputs": [
    {
     "data": {
      "image/png": "[encoded data removed]",
      "text/plain": [
       "<Figure size 576x288 with 1 Axes>"
      ]
     },
     "metadata": {
      "needs_background": "light"
     },
     "output_type": "display_data"
    }
   ],
   "source": [
    "# Puede ignorar este código, es sólo para graficar\n",
    "\n",
    "fig = plt.figure(figsize=[8,4])\n",
    "ax = plt.gca()\n",
    "ax.spines['left'].set_position('zero')\n",
    "ax.spines['bottom'].set_position('zero')\n",
    "ax.spines['right'].set_color('none')\n",
    "ax.spines['top'].set_color('none')\n",
    "ax.xaxis.set_ticks_position('bottom')\n",
    "ax.yaxis.set_ticks_position('left')\n",
    "ax.set_xlabel('x')\n",
    "ax.set_ylabel('y')\n",
    "\n",
    "plt.scatter(df.x,df.y, label='y')\n",
    "plt.plot(df.x,df.h, c='red', label='h(x)')\n",
    "ax.legend()\n",
    "plt.show()"
   ]
  },
  {
   "cell_type": "markdown",
   "metadata": {},
   "source": [
    "La verdad es que **no** parece una muy buena aproximación. La recta se presenta como algo un poco \"rígido\" como para poder resolver este problema (después de todo *es* una recta!), y si bien se podría utilizar, **no** se lo usa en la práctica.   \n",
    "\n",
    "Deberemos pensar en otro tipo de función que nos permita aproximar mejor a los valores de y.  \n",
    "\n",
    "Por suerte, en  Análsis I Ud estudió una función que se adapta muy bien a estos fines, una cuyo gráfico es una **sigmoide** y se llama también **función logística** ..."
   ]
  },
  {
   "cell_type": "markdown",
   "metadata": {
    "ExecuteTime": {
     "end_time": "2020-05-04T05:22:08.014480Z",
     "start_time": "2020-05-04T05:22:08.010494Z"
    }
   },
   "source": [
    "## Función Logística o Sigmoide"
   ]
  },
  {
   "cell_type": "markdown",
   "metadata": {
    "ExecuteTime": {
     "end_time": "2020-05-04T05:23:20.657911Z",
     "start_time": "2020-05-04T05:23:20.651945Z"
    }
   },
   "source": [
    "La función sigmoide básica es:  \n",
    "    \n",
    "$$ g(z)= \\frac{1}{(1+e^{-z})} $$  \n",
    "\n",
    "Nota: he usado como nombre para la variable a la z, para recordar las características de la función logistica o sigmoide en su expresión más básica, luego usaremos la x. z es un valor Real.\n",
    "\n",
    "Veamos su gráfico: "
   ]
  },
  {
   "cell_type": "code",
   "execution_count": 6,
   "metadata": {
    "ExecuteTime": {
     "end_time": "2020-05-04T15:36:35.496057Z",
     "start_time": "2020-05-04T15:36:35.491070Z"
    }
   },
   "outputs": [],
   "source": [
    "# No se preocupe por ahora de este código\n",
    "# es sólo para crear un función sigmoide más general\n",
    "def sigmoide(z,w0=0,w1=1):\n",
    "  return 1 / (1 + np.exp(-1*(w0+w1*z)))"
   ]
  },
  {
   "cell_type": "code",
   "execution_count": 7,
   "metadata": {
    "ExecuteTime": {
     "end_time": "2020-05-04T15:36:35.712479Z",
     "start_time": "2020-05-04T15:36:35.498053Z"
    }
   },
   "outputs": [
    {
     "data": {
      "image/png": "[encoded data removed]",
      "text/plain": [
       "<Figure size 576x288 with 1 Axes>"
      ]
     },
     "metadata": {
      "needs_background": "light"
     },
     "output_type": "display_data"
    }
   ],
   "source": [
    "# Puede ignorar este código, es sólo para graficar la Sigmoide básica\n",
    "fig = plt.figure(figsize=[8,4])\n",
    "ax = plt.gca()\n",
    "ax.spines['left'].set_position('zero')\n",
    "ax.spines['bottom'].set_position('zero')\n",
    "ax.spines['right'].set_color('none')\n",
    "ax.spines['top'].set_color('none')\n",
    "ax.xaxis.set_ticks_position('bottom')\n",
    "ax.yaxis.set_ticks_position('left')\n",
    "ax.set_xlabel('z')\n",
    "ax.set_ylabel('g(z)')\n",
    "\n",
    "z=np.arange(-10,10,0.1)\n",
    "plt.plot(z,sigmoide(z), c='black', label='g(z)')\n",
    "plt.hlines(1,xmin=min(z),xmax=max(z), color='gray',linestyle='dashed')\n",
    "\n",
    "ax.legend()\n",
    "plt.show()"
   ]
  },
  {
   "cell_type": "markdown",
   "metadata": {},
   "source": [
    "Como podemos observar la sigmoide básica:\n",
    " \n",
    "- Tiene su imagen (resultados) entre 0 y 1. Se dice que está **acotada entre 0 y 1**.\n",
    "- **g(0)=0.5**, es decir interesecta al eje vertical en 1/2, \n",
    "- **Cuando z > 0,  g(z) > 0.5**  (esto será muy importante más adelante) \n",
    "- Su forma de S la hace más adecuada para aproximar a los valores del target, y, que vimos previamente.\n",
    "- Es una función **derivable**, lo cual siempre es una ventaja, ya que se podrían aplicar muchas cosas que aprendió en Análisis Matemático. \n",
    "\n",
    "Por otro lado, observemos que:  \n",
    "\n",
    "> cuanto mayor es el valor de z,  $ {z\\to\\infty}$ (z tiende a infinito, es decir muy a la derecha), la sigmoide converge al valor 1, pero nunca llega a alcanzarlo,  \n",
    "\n",
    "> cuanto menor es el valor de z ,  $ {z\\to-\\infty}$  (z tiende a menos infinito, es decir muy a la izquierda), la sigmoide converge al valor 0, pero nunca llega a alcanzarlo.\n",
    "\n",
    "Estas dos características tendrán una notable trascendencia más adelante ..."
   ]
  },
  {
   "cell_type": "markdown",
   "metadata": {},
   "source": [
    "Sin embargo, así como está la función logística **básica** no nos serviría para aproximar a los puntos de nuestro problema, ya que si los observa, verá que los mismos están mucho más a la derecha del eje x, la parte donde la **S** debería \"subir\" se encuentra más allá del valor 10. Deberíamos ver si podemos modificar la sigmoide para que nos ayude con ésto ..."
   ]
  },
  {
   "cell_type": "markdown",
   "metadata": {},
   "source": [
    "Podemos conseguir que nuestra sigmoide se traslade hacia la derecha o a la izquierda, agregando un parámetro, llamémoslo w<sub> 0 </sub>:  \n",
    "\n",
    "$$ g(x)= \\frac{1}{(1+e^{-(w_0+ x)})} $$  \n",
    "\n",
    "Veamos cómo se comporta para diversos valores de $w_0$:"
   ]
  },
  {
   "cell_type": "code",
   "execution_count": 8,
   "metadata": {
    "ExecuteTime": {
     "end_time": "2020-05-04T15:36:35.950840Z",
     "start_time": "2020-05-04T15:36:35.716469Z"
    }
   },
   "outputs": [
    {
     "data": {
      "image/png": "[encoded data removed]",
      "text/plain": [
       "<Figure size 720x288 with 1 Axes>"
      ]
     },
     "metadata": {
      "needs_background": "light"
     },
     "output_type": "display_data"
    }
   ],
   "source": [
    "# Puede ignorar este código, es sólo para graficar\n",
    "# Sigmoides varias\n",
    "fig = plt.figure(figsize=[10,4])\n",
    "ax = plt.gca()\n",
    "ax.spines['left'].set_position('zero')\n",
    "ax.spines['bottom'].set_position('zero')\n",
    "ax.spines['right'].set_color('none')\n",
    "ax.spines['top'].set_color('none')\n",
    "ax.xaxis.set_ticks_position('bottom')\n",
    "ax.yaxis.set_ticks_position('left')\n",
    "ax.set_xlabel('x')\n",
    "ax.set_ylabel('g(x)')\n",
    "\n",
    "z=np.arange(-10,10,0.1)\n",
    "plt.plot(z,sigmoide(z,2), c='yellow', label='w0 =2')\n",
    "plt.plot(z,sigmoide(z,1), c='red', label='w0 =1')\n",
    "plt.plot(z,sigmoide(z), c='black', label='w0 =0')\n",
    "plt.plot(z,sigmoide(z,-1), c='orange', label='w0 =-1')\n",
    "plt.plot(z,sigmoide(z,-2), c='blue', label='w0 =-2')\n",
    "\n",
    "\n",
    "plt.hlines(1,xmin=min(z),xmax=max(z), color='gray',linestyle='dashed')\n",
    "ax.legend()\n",
    "plt.show()"
   ]
  },
  {
   "cell_type": "markdown",
   "metadata": {},
   "source": [
    "Podemos observar que al variar el valor de w<sub> 0 </sub> la sigmoide no cambia de forma, sino que se traslada horizontalmente hacia la izquierda o hacia la derecha. No costaría mucho convencerse que podríamos seguir jugando con los valores de $w_0$ hasta llegar alrededor del 10 en el eje x, como necesitábamos para nuestro ejemplo."
   ]
  },
  {
   "cell_type": "markdown",
   "metadata": {},
   "source": [
    "Por otro lado, con muy poca variación en la definición de nuestra función logística, podríamos conseguir que fuera más o menos **\"empinada\"**.  \n",
    "\n",
    "Agreguemos otro parámetro más, llamémoslo $w_1$ y agreguémoslo multiplicando a la variable x: \n",
    "\n",
    "\n",
    "$$ g(x)= \\frac{1}{(1+e^{-(w_0+w_1 x)})} $$  \n",
    "\n",
    "Veamos qué efectos tiene $w_1$, para verlo, dejemos fijo el valor de $w_0$ = 0, como en la curva negra de la figura anterior y probemos con varios valores para $w_1$:"
   ]
  },
  {
   "cell_type": "code",
   "execution_count": 9,
   "metadata": {
    "ExecuteTime": {
     "end_time": "2020-05-04T15:36:36.179230Z",
     "start_time": "2020-05-04T15:36:35.953834Z"
    }
   },
   "outputs": [
    {
     "data": {
      "image/png": "[encoded data removed]",
      "text/plain": [
       "<Figure size 720x288 with 1 Axes>"
      ]
     },
     "metadata": {
      "needs_background": "light"
     },
     "output_type": "display_data"
    }
   ],
   "source": [
    "# Puede ignorar este código, es sólo para graficar\n",
    "# Sigmoides varias\n",
    "fig = plt.figure(figsize=[10,4])\n",
    "ax = plt.gca()\n",
    "ax.spines['left'].set_position('zero')\n",
    "ax.spines['bottom'].set_position('zero')\n",
    "ax.spines['right'].set_color('none')\n",
    "ax.spines['top'].set_color('none')\n",
    "ax.xaxis.set_ticks_position('bottom')\n",
    "ax.yaxis.set_ticks_position('left')\n",
    "ax.set_xlabel('z')\n",
    "ax.set_ylabel('g(z)')\n",
    "\n",
    "z=np.arange(-10,10,0.1)\n",
    "plt.plot(z,sigmoide(z,0,0.5), c='red', label='w1 =0.5')\n",
    "plt.plot(z,sigmoide(z), c='black', label='w1 =1')\n",
    "plt.plot(z,sigmoide(z,0,2), c='orange', label='w1 =2')\n",
    "plt.plot(z,sigmoide(z,0,3), c='blue', label='w1 =3')\n",
    "plt.plot(z,sigmoide(z,0,10), c='yellow', label='w1 =10')\n",
    "\n",
    "plt.hlines(1,xmin=min(z),xmax=max(z), color='gray',linestyle='dashed')\n",
    "ax.legend()\n",
    "plt.show()"
   ]
  },
  {
   "cell_type": "markdown",
   "metadata": {},
   "source": [
    "En este caso, $w_0$ = 0, la curva negra es la misma de la sigmoide básica, las demás corresponden a distintos valores de $w_1$.  \n",
    "\n",
    "Observe cómo a medida que aumenta el valor de $w_1$ la sigmoide se hace más \"empinada\".  \n",
    "\n",
    "Del análisis anterior de la sigmoide, ahora ya no tan básica, podemos decir que la podemos adaptar lo suficiente para nuestros fines!  \n",
    "\n",
    "Ante el fracaso de la recta para aproximar a los valores de y, probaremos ahora con una hipótesis que será una función logística \"completa\":  \n",
    "\n",
    "$$ h(x)= \\frac{1}{(1+e^{-(w_0+w_1 x)})} $$   \n",
    "\n",
    "Observemos que nuestra función h:  \n",
    "\n",
    "- **no** es lineal con respecto a x\n",
    "- tiene dos parámetros, $w_0$ y $w_1$\n",
    "- h **no** es lineal con respecto a $w_0$ ni con respecto a $w_1$  \n",
    "- en definitiva la función logística no es lineal.\n",
    "\n",
    "Antes de seguir,  un par de comentarios interesantes con respecto a esta función:  \n",
    "\n",
    "- Por su forma, primero asciende lentamente, luego con gran velocidad y su posterior amesetamiento se utiliza en muchas áreas: \n",
    "    - por ejemplo, en Administración de Empresas o Marketing,  para modelizar el **ciclo de vida** de un producto, cuando en el eje x se ubica el tiempo y en el vertical las cantidades vendidas del producto; \n",
    "    - también para modelizar la propagación **de virus** como en las **pandemias** como la del coronavirus, en ese caso el eje horizontal corresponde al tiempo y el vertical a la cantidad total de infectados; (a propósito, qué pretenden modificar los gobiernos cuando hablan de \"amesetar la curva\" ...?, Sí!, hacer lo menor posible el valor de $w_1$ y correrla a la derecha con el $w_0$), etc  \n",
    "\n",
    "Los anteriores son usos generales que no queríamos dejar de mencionar, hay un uso más que quizá es más interesante para nosotros:\n",
    "\n",
    "- Por su fuerte **no linealidad** son la base de las **redes neuronales** que veremos dentro de un par de materias ... es más, de hecho, **la función logística es justamente la forma en que se modela matemáticamente a una neurona**, en ese contexto se la denomina **perceptrón**, muchos perceptrones forman una red neuronal, y las redes neuronales hemos comentado alguna vez que sirven para resolver problemas complejos justamente por su no linealidad ... pero ahora sigamos con lo nuestro!\n"
   ]
  },
  {
   "cell_type": "markdown",
   "metadata": {
    "ExecuteTime": {
     "end_time": "2020-05-04T12:36:57.078228Z",
     "start_time": "2020-05-04T12:36:57.074239Z"
    }
   },
   "source": [
    "## En busca de los parámetros de la sigmoide óptima"
   ]
  },
  {
   "cell_type": "markdown",
   "metadata": {},
   "source": [
    "Ahora, debemos encontrar cuál de las infinitas sigmoides del tipo  \n",
    "\n",
    "$$ h(x)= \\frac{1}{(1+e^{-(w_0+w_1 x)})} $$    \n",
    "\n",
    "es decir, debemos encontrar los valores de los parámetros $w_0$ y  $w_1$  que consiguen la mejor aproximación a los puntos dados.\n"
   ]
  },
  {
   "cell_type": "code",
   "execution_count": 10,
   "metadata": {
    "ExecuteTime": {
     "end_time": "2020-05-04T15:36:36.390667Z",
     "start_time": "2020-05-04T15:36:36.181226Z"
    }
   },
   "outputs": [
    {
     "data": {
      "image/png": "[encoded data removed]",
      "text/plain": [
       "<Figure size 720x288 with 1 Axes>"
      ]
     },
     "metadata": {
      "needs_background": "light"
     },
     "output_type": "display_data"
    }
   ],
   "source": [
    "# Puede ignorar este código, es sólo para graficar\n",
    "# Sigmoides varias\n",
    "fig = plt.figure(figsize=[10,4])\n",
    "ax = plt.gca()\n",
    "ax.spines['left'].set_position('zero')\n",
    "ax.spines['bottom'].set_position('zero')\n",
    "ax.spines['right'].set_color('none')\n",
    "ax.spines['top'].set_color('none')\n",
    "ax.xaxis.set_ticks_position('bottom')\n",
    "ax.yaxis.set_ticks_position('left')\n",
    "ax.set_xlabel('x')\n",
    "ax.set_ylabel('y')\n",
    "\n",
    "z=np.arange(0,25,0.1)\n",
    "\n",
    "plt.plot(z,sigmoide(z,-9,0.75), c='green', label='h(x)')\n",
    "plt.scatter(df.x,df.y, label='y')\n",
    "plt.hlines(1,xmin=min(z),xmax=max(z), color='gray',linestyle='dashed')\n",
    "ax.legend()\n",
    "plt.show()"
   ]
  },
  {
   "cell_type": "markdown",
   "metadata": {},
   "source": [
    "De la misma manera que cuando investigamos Regresión Lineal, podríamos pensar en mimimizar la suma de las distancias verticales entre nuestra sigmoide y los valores de y"
   ]
  },
  {
   "cell_type": "markdown",
   "metadata": {},
   "source": [
    "Las distancias verticales no serían otra cosa más que:  \n",
    "\n",
    "$$ y(x_i) - h(x_i)$$  \n",
    "\n",
    "y con el mismo razonamiento de antes, podemos pensar en elevar estas diferencias al cuadrado para que siempre sean positivas y no se compensen valores negativos con positivos de la diferencia: \n",
    "\n",
    "$$ (y(x_i) - h(x_i))^2$$  \n",
    "\n",
    "y haríamos la sumatoria para todos los valores de $ x_i$ que tenemos en nuestras observaciones: \n",
    "\n",
    "$$ \\sum_{i=1}^{i=m} (y(x_i) - h(x_i))^2$$  \n",
    "\n",
    "podríamos tomar el valor promedio de estas distancias al cuadrado para tener una función de **\"Distancia (vertical) promedio\"** o como se le suele decir con más generalidad **Costo Promedio** y se suele denominar con la letra J :  \n",
    "\n",
    "$$J = \\frac{1}{m} \\sum_{i=1}^{i=m} (y(x_i) - h(x_i))^2$$  \n",
    "\n",
    "y para que no nos olvidemos que **nuestras incógnitas en este caso son los parámetros**, la escribimos poniendo en evidencia a los mismos, recordando qué es h(x):\n",
    "\n",
    "$$J(w_0,w_1) = \\frac{1}{m}  \\sum_{i=1}^{i=m} (y(x_i) - \\frac{1}{(1+e^{-(w_0+w_1 x_i)})})^2$$\n",
    "\n",
    "> Entonces **la mejor sigmoide para nuestros puntos sería la que minimizara la expresión anterior con respecto a los parámetros $w_0$ y $w_1$** .  \n",
    "\n",
    "\n",
    "Podemos ver que esta expresión es fuertemente **no lineal** con respecto a los parámetros con respecto a los cuales queremos minimizarla, $w_0$ y $w_1$. Esto hace que una función como ésta, posea **muchos mínimos relativos** lo cual complica enormemente su cálculo, lo cual la vuelve **poco deseable** en la práctica. Nota: Cuando una función posee un sólo mínimo o un sólo máximo en matemática se dice que es **convexa**, en este caso J es no convexa.   \n",
    "\n",
    "Dado que este método de Mínimos Cuadrados Ordinarios (OLS: Ordinary Least Squares) **no nos sirve** como función de costo a minimizar, **debemos encontrar otra función de distancia o costo J**, que nos permita encontrar **fácilmente** los valores óptimos de los parámetros. "
   ]
  },
  {
   "cell_type": "markdown",
   "metadata": {},
   "source": [
    "Queremos encontrar otra función de costo $ J(w_0,w_1)$ que no sea la distancia vertical entre h(x) e y porque ya vimos que no funciona, pero que también sea una medida de la \"distancia\" que hay entre los valores de h(x) e y.  \n",
    "\n",
    "Afortunadamente al principio elegimos \"arbitrariamente\" los valores de 0 y 1 para las dos etiquetas del problema y no cualquier otro valor numérico.  \n",
    "\n",
    "Pensemos qué podemos hacer cuando los valores de y son 1:  "
   ]
  },
  {
   "cell_type": "code",
   "execution_count": 11,
   "metadata": {
    "ExecuteTime": {
     "end_time": "2020-05-04T15:36:36.571184Z",
     "start_time": "2020-05-04T15:36:36.392662Z"
    }
   },
   "outputs": [
    {
     "data": {
      "image/png": "[encoded data removed]",
      "text/plain": [
       "<Figure size 720x288 with 1 Axes>"
      ]
     },
     "metadata": {
      "needs_background": "light"
     },
     "output_type": "display_data"
    }
   ],
   "source": [
    "# Puede ignorar este código, es sólo para graficar\n",
    "# Sigmoides varias\n",
    "fig = plt.figure(figsize=[10,4])\n",
    "ax = plt.gca()\n",
    "ax.spines['left'].set_position('zero')\n",
    "ax.spines['bottom'].set_position('zero')\n",
    "ax.spines['right'].set_color('none')\n",
    "ax.spines['top'].set_color('none')\n",
    "ax.xaxis.set_ticks_position('bottom')\n",
    "ax.yaxis.set_ticks_position('left')\n",
    "ax.set_xlabel('x')\n",
    "ax.set_ylabel('y')\n",
    "\n",
    "z=np.arange(12,25,0.1)\n",
    "\n",
    "plt.plot(z,sigmoide(z,-9,0.75), c='green', label='h(x)')\n",
    "plt.scatter(df.x,df.y, label='y')\n",
    "plt.hlines(1,xmin=0,xmax=max(z), color='gray',linestyle='dashed')\n",
    "ax.legend()\n",
    "plt.show()"
   ]
  },
  {
   "cell_type": "markdown",
   "metadata": {},
   "source": [
    "Cuando y=1:  \n",
    "\n",
    "Buscamos alguna operación o función aplicada a h(x), que nos sirva como medida de la **distancia** que hay entre h(x) y el valor 1, de tal forma que cuando h(x) esté cerca de 1 (es decir sea un acierto) arroje un valor pequeño y que cuando h(x) se aleje de 1, nos dé un valor mayor.  \n",
    "\n",
    "Existen muchas funciones con esta característica, pero la que mejor nos viene en estas circunstncias es la función **logaritmo**!   \n",
    "\n",
    "Si recuerda del colegio, el log(1)=0, así que si h(x) está cerca de valer 1, el log(h(x)) estará cerca de 0.  \n",
    "\n",
    "Tiene un pequeño problema, como podemos ver en el gráfico anterior, h(x) siempre es menor que 1 y el logaritmo de los números menores que 1 es negativo, como nosotros necesitamos que funcione como una distancia, debe ser un valor positivo, asi que le cambiaremos el signo:  \n",
    "\n",
    "**Cuando y=1** nuestra medida de la distancia entre h(x) y el valor correcto de y (nuestra nueva definición de distancia a y) será:  \n",
    "\n",
    "$$d(h(x), y) = -log(h(x)) $$ \n",
    "\n"
   ]
  },
  {
   "cell_type": "markdown",
   "metadata": {},
   "source": [
    "Habrá notado que en reiteradas veces hemos aclarado que lo anterior es válido cuando a y le correspondiera el valor 1, lo hemos hecho, porque lamentablemente la definición anterior **no** sirve para los valores de y=0:  "
   ]
  },
  {
   "cell_type": "code",
   "execution_count": 12,
   "metadata": {
    "ExecuteTime": {
     "end_time": "2020-05-04T15:36:36.796578Z",
     "start_time": "2020-05-04T15:36:36.574174Z"
    }
   },
   "outputs": [
    {
     "data": {
      "image/png": "[encoded data removed]",
      "text/plain": [
       "<Figure size 720x288 with 1 Axes>"
      ]
     },
     "metadata": {
      "needs_background": "light"
     },
     "output_type": "display_data"
    }
   ],
   "source": [
    "# Puede ignorar este código, es sólo para graficar\n",
    "# Sigmoides varias\n",
    "fig = plt.figure(figsize=[10,4])\n",
    "ax = plt.gca()\n",
    "ax.spines['left'].set_position('zero')\n",
    "ax.spines['bottom'].set_position('zero')\n",
    "ax.spines['right'].set_color('none')\n",
    "ax.spines['top'].set_color('none')\n",
    "ax.xaxis.set_ticks_position('bottom')\n",
    "ax.yaxis.set_ticks_position('left')\n",
    "ax.set_xlabel('x')\n",
    "ax.set_ylabel('y')\n",
    "\n",
    "z=np.arange(0,12,0.1)\n",
    "\n",
    "plt.plot(z,sigmoide(z,-9,0.75), c='green', label='h(x)')\n",
    "plt.scatter(df.x,df.y, label='y')\n",
    "plt.hlines(1,xmin=0,xmax=max(z), color='gray',linestyle='dashed')\n",
    "ax.legend()\n",
    "plt.show()"
   ]
  },
  {
   "cell_type": "markdown",
   "metadata": {},
   "source": [
    "Para los valores de y=0  \n",
    "\n",
    "En esta zona, los valores de h(x) están cerca de valer 0 y el log(0) tiende a ser $ - \\infty$, por eso no nos sirve la definición anterior. \n",
    "\n",
    "Pensemos qué es lo que queremos para nuestra definición de distancia: queremos que si h(x) está cerca de cero (es decir sea un acierto) el valor de esta distancia sea pequeño, y que si se aleja del valor 0, la distancia aumente.  \n",
    "\n",
    "Si los valores de h(x) son cercanos a 0, los valores de (1-h(x)) serán cercanos a 1, y como dijimos antes, el logaritmo de valores que están cercanos a 1, da resultados cercanos a 0, justo lo que queríamos! Así que:  \n",
    "\n",
    "**Cuando y=0** nuestra medida de la distancia entre h(x) y el valor correcto de y (nuestra nueva definición de distancia a y) será:\n",
    "\n",
    "$$d(h(x), y) = -log(1-h(x)) $$"
   ]
  },
  {
   "cell_type": "markdown",
   "metadata": {},
   "source": [
    "Bueno, nos ha quedado una función de distancia un tanto rara, ya que cambia su expresión aritmética según midamos la distancia entre h(x) y un valor de y=1 o un valor de y=0 (cuando una función queda definida de esta manera se dice que está definida por tramos). "
   ]
  },
  {
   "cell_type": "markdown",
   "metadata": {},
   "source": [
    "\n",
    "$ d(h(x),y)= \\left\\{ \\begin{array}{lcc}\n",
    "             -log(h(x)) &   si  & y=1 \\\\\n",
    "             \\\\ -log(1-h(x)) &  si & y=0 \\\\   \n",
    "             \\end{array}\n",
    "   \\right. $\n",
    "\n"
   ]
  },
  {
   "cell_type": "markdown",
   "metadata": {},
   "source": [
    "Seguramente Ud se preguntará si no había una función u operación más simple que el logaritmo para definir esta nueva distancia, la respuesta es sí, pero todas tienen el problema que al sumar las distancias para todas las observaciones, promediarlas, y proceder a minimizar esta suma ... siguen siendo funciones **no convexas** y que por lo tanto están llenas de mínimos!  \n",
    "\n",
    "Ahora puede observar lo siguiente, la hipótesis h(x) que estamos utilizando es fuertemente no lineal en gran parte \"por culpa\" la exponencial que figura en su denominador, ocurre que al tomarle el logaritmo ... como son funciones inversas ... tiende a anularse su efecto ... y a la hora de minimizar se puede demostrar (no lo haremos) que nos queda una **función convexa con un solo mínimo**!\n"
   ]
  },
  {
   "cell_type": "markdown",
   "metadata": {},
   "source": [
    "Para formalizar, deberíamos armar la función de costo o de distancia promedio $J(w_0,w_1)$ lista para minimizar y debemos admitir que nuestra definición de distancia definida por tramos es una verdadera molestia para \"meterla\" adentro del símbolo de sumatoria ... pero se acuerda que dijimos que la asignación de valores 0 y 1 para la variable target era muy conveniente, vea cómo este \"detalle\" nos ayudará a definir la distancia en una sola expresión: \n",
    "\n",
    "$$ d(h(x),y)=-y log(h(x)) - (1-y) log(1-h(x)) $$ \n",
    "\n",
    "Veamos por qué esta expresión es equivalente a la anterior definida por tramos:  \n",
    "\n",
    "- Si y = 1, entonces (1-y)=0, por lo tanto el 2do término se hace 0 y nos quedará que \n",
    "\n",
    "$$ d(h(x),y)=- log(h(x)) $$  \n",
    "\n",
    "tal cual en la expresión definida por tramos!\n",
    "\n",
    "- Si y=0, entonces  el primer término se hace 0 y en el segundo término (1-y) = 1, por lo tanto:   \n",
    "\n",
    "$$ d(h(x),y)= - log(1-h(x)) $$  \n",
    "\n",
    "que es exactamente lo que decía la expresión de la distancia definida por tramos! \n"
   ]
  },
  {
   "cell_type": "markdown",
   "metadata": {},
   "source": [
    "Para formalizar la función de distancia promedio a minimizar sólo nos falta indicar que debemos hacer ésto para todas las observaciones y sumarlas y promediarlas:  \n",
    "\n",
    "$$ J(w_0, w_1) = \\frac{1}{m} \\sum_{i=1}^{i=m} [ -y log(h(x)) - (1-y) log(1-h(x)) ] $$  \n",
    "\n",
    "Esta expresión simplemente es el promedio de las distancias definidas de esta manera especial y como dijimos anteriormente es convexa con respecto a $w_0$ y $w_1$ de tal manera que al **minimizarla** será relativamente sencillo encontrar los valores de $w_0$ y $w_1$ que hacen que su valor sea mínimo y por lo tanto tendremos los parámetros de la sigmoide que mejor aproxima a nuestras observaciones!  Más adelante veremos cómo proceder para encontrar estos valores para el mínimo, por ahora dejaremos que sklearn los calcule por nosotros!.\n",
    "\n",
    "Pero, aún nos queda algo espectacular por ver:"
   ]
  },
  {
   "cell_type": "markdown",
   "metadata": {
    "ExecuteTime": {
     "end_time": "2020-05-04T14:57:25.090996Z",
     "start_time": "2020-05-04T14:57:25.084015Z"
    }
   },
   "source": [
    "## Interpretación probabilística de la Regresion Logística"
   ]
  },
  {
   "cell_type": "markdown",
   "metadata": {},
   "source": [
    "Supongamos que ya encontramos los parámetros que minimizan la distancia promedio, es decir que conocemos el valor de $w_0$ y $w_1$ de tal manera que la sigmoide o logística que mejor aproxima a los valores de nuestro problema es:  \n",
    "\n",
    "$$ h(x)= \\frac{1}{(1+e^{-(w_0+w_1 x)})} $$    \n",
    "\n",
    "Supongamos también que el siguiente es su gráfico: \n",
    "\n"
   ]
  },
  {
   "cell_type": "code",
   "execution_count": 13,
   "metadata": {
    "ExecuteTime": {
     "end_time": "2020-05-04T15:36:37.056900Z",
     "start_time": "2020-05-04T15:36:36.799571Z"
    }
   },
   "outputs": [
    {
     "data": {
      "image/png": "[encoded data removed]",
      "text/plain": [
       "<Figure size 720x288 with 1 Axes>"
      ]
     },
     "metadata": {
      "needs_background": "light"
     },
     "output_type": "display_data"
    }
   ],
   "source": [
    "# Puede ignorar este código, es sólo para graficar\n",
    "# Sigmoides varias\n",
    "fig = plt.figure(figsize=[10,4])\n",
    "ax = plt.gca()\n",
    "ax.spines['left'].set_position('zero')\n",
    "ax.spines['bottom'].set_position('zero')\n",
    "ax.spines['right'].set_color('none')\n",
    "ax.spines['top'].set_color('none')\n",
    "ax.xaxis.set_ticks_position('bottom')\n",
    "ax.yaxis.set_ticks_position('left')\n",
    "ax.set_xlabel('x')\n",
    "ax.set_ylabel('y')\n",
    "\n",
    "z=np.arange(0,25,0.1)\n",
    "\n",
    "plt.plot(z,sigmoide(z,-9,0.75), c='green', label='h(x)')\n",
    "plt.scatter(df.x,df.y, label='y')\n",
    "plt.hlines(1,xmin=min(z),xmax=max(z), color='gray',linestyle='dashed')\n",
    "ax.legend()\n",
    "plt.show()"
   ]
  },
  {
   "cell_type": "markdown",
   "metadata": {},
   "source": [
    "Dado que, comentamos anteriormente h(x) asume valores entre 0 y 1, pero que nunca los alcanza, ya que  converge hacia ellos, es posible demostrar (no lo haremos) que h(x) puede interpretarse como una función de Probabilidad para cada uno de los valores de x!  \n",
    "\n",
    "Qué probabilidad? Pues la:  \n",
    "\n",
    "- **Probabilidad de que y sea 1 para ese valor de x**. Más formalmente la frase anterior se puede resumir como **P(y=1 | x)**.\n",
    "\n",
    "es muy importante que observe que h(x) nos dá la probabilidad de que el resultado sea 1. \n",
    "\n",
    "Así por ejemplo en el caso del gráfico anterior la sigmoide es:  \n",
    "\n",
    "$$ h(x)= \\frac{1}{(1+e^{-(-9+0.75 x)})} $$ \n"
   ]
  },
  {
   "cell_type": "markdown",
   "metadata": {
    "variables": {
     "sigmoide(20,-9,0.75)": "0.9975273768433653"
    }
   },
   "source": [
    "y para un valor cualquiera de x podemos calcular la probabilidad de que el valor de y que le correspondería fuera 1. \n",
    "\n",
    "Por ejemplo, qué probabilidad hay de que a x=20 le correspondiera un valor de y=1?\n",
    "\n",
    "$$ h(20)= \\frac{1}{(1+e^{-(-9+0.75*20)})} $$  \n",
    "\n",
    "h(20)={{sigmoide(20,-9,0.75)}}"
   ]
  },
  {
   "cell_type": "code",
   "execution_count": 15,
   "metadata": {
    "ExecuteTime": {
     "end_time": "2020-05-04T15:37:44.827540Z",
     "start_time": "2020-05-04T15:37:44.822590Z"
    }
   },
   "outputs": [
    {
     "data": {
      "text/plain": [
       "0.9975273768433653"
      ]
     },
     "execution_count": 15,
     "metadata": {},
     "output_type": "execute_result"
    }
   ],
   "source": [
    "# como yo había creado la funcion sigmoide con anterioridad, ahora la puedo usar\n",
    "sigmoide(20,-9,0.75)"
   ]
  },
  {
   "cell_type": "markdown",
   "metadata": {},
   "source": [
    "Tal como esperábamos, un valor muy cercano a 1."
   ]
  },
  {
   "cell_type": "markdown",
   "metadata": {
    "variables": {
     "sigmoide(8.5,-9,0.75)": "0.0675466911396291"
    }
   },
   "source": [
    "Qué probabilidad hay de que cuando x=8.5 le corresponda un valor de y=1? (Observe que h(x) **siempre** calculam la probabilidad de que sea 1, no 0):  \n",
    "\n",
    "$$ h(8.5)= \\frac{1}{(1+e^{-(-9+0.75*8.5)})} $$  \n",
    "\n",
    "h(8.5)={{sigmoide(8.5,-9,0.75)}}"
   ]
  },
  {
   "cell_type": "code",
   "execution_count": 16,
   "metadata": {
    "ExecuteTime": {
     "end_time": "2020-05-04T15:40:08.667012Z",
     "start_time": "2020-05-04T15:40:08.661989Z"
    }
   },
   "outputs": [
    {
     "data": {
      "text/plain": [
       "0.0675466911396291"
      ]
     },
     "execution_count": 16,
     "metadata": {},
     "output_type": "execute_result"
    }
   ],
   "source": [
    "sigmoide(8.5,-9,0.75)"
   ]
  },
  {
   "cell_type": "markdown",
   "metadata": {
    "ExecuteTime": {
     "end_time": "2020-05-04T15:41:01.413263Z",
     "start_time": "2020-05-04T15:41:01.409274Z"
    }
   },
   "source": [
    "Como esperábamos, un valor de probabilidad muy bajo."
   ]
  },
  {
   "cell_type": "markdown",
   "metadata": {},
   "source": [
    "Así que: \n",
    "\n",
    "> los resultados pronosticados de la Regresión Logística, h(x), son las Probabilidades de que el valor de y sea 1 para cada valor de x."
   ]
  },
  {
   "cell_type": "markdown",
   "metadata": {
    "ExecuteTime": {
     "end_time": "2020-05-04T19:51:40.344906Z",
     "start_time": "2020-05-04T19:51:40.339910Z"
    }
   },
   "source": [
    "### Hiperparámetro del modelo de Regresión Logística:"
   ]
  },
  {
   "cell_type": "markdown",
   "metadata": {},
   "source": [
    "Ahora bien, como finalmente deberíamos asignarle un valor 1 o un valor 0 a cada observación, tendremos que decidir a partir de qué **umbral (threshold)**  de probabilidad consideramos que el pronóstico corresponde a un 1.   \n",
    "\n",
    "En principio uno diría: \n",
    "\n",
    "> si la probabilidad es >= 0.5 le asignaríamos 1 y si la probabilidad es < 0.5 le asignaríamos 0. Parece ser lo más razonable. Sin embargo es posible que nosotros definamos ese umbral de acuerdo a nuestra conveniencia, en cuyo caso este umbral sería un **hiperparámetro** del modelo. \n",
    "\n",
    "Como todo hiperparámetro, para determinar el mejor valor para el umbral de probabilidad, deberíamos hacerlo entrenando en el Validation Train y testeando en el Validation Test, y evaluando con Accuracy o F1: podríamos probar con valores para el umbral, por ejemplo de a 5% (es decir valores de p de 0.05, 0.1, 0.15, 0.2, 0.25, ..., 0.95) y ver con cuál  de estos obtenemos la mayor cantidad Accuracy o F1 según sea nuestro criterio. \n",
    "\n",
    "En el caso de Scikit-Learn no nos permite ajustar este umbral y no encontré en su documentación qué valor usa (será 0.5???, es posible que hayan utilizado un algoritmo interno que lo seleccione por sí solo, pero no lo sé), pero ... como seguramente han pensado en que habrá gente como  nosotros, que querremos ajustarlo, nos han dado dos salidas para el modelo de Regresión Logística: \n",
    "\n",
    "- **modelo.predict(X)** es el mismo que usamos para los modelos que ya hemos visto anteriormente, éste dá por resultado los 0 y 1, es decir los resultados finales y no nos deja ajustar el umbral.  \n",
    "\n",
    "- **modelo.predict_proba(X)** que nos dá las probabilidades!, como podría resultarnos de utilidad a nosotros para ajustar el hiperparámetro \"umbral de probabilidad\" (probability threshold). Comento que nos dá dos valores para cada observación, el primero es la probabilidad de que el resultado sea 0 y el segundo, la probabilidad de que sea 1. \n",
    "\n",
    "Ya veremos estos detalles en el práctico correspondiente. "
   ]
  },
  {
   "cell_type": "code",
   "execution_count": null,
   "metadata": {},
   "outputs": [],
   "source": []
  }
 ],
 "metadata": {
  "hide_input": false,
  "kernelspec": {
   "display_name": "Python 3",
   "language": "python",
   "name": "python3"
  },
  "language_info": {
   "codemirror_mode": {
    "name": "ipython",
    "version": 3
   },
   "file_extension": ".py",
   "mimetype": "text/x-python",
   "name": "python",
   "nbconvert_exporter": "python",
   "pygments_lexer": "ipython3",
   "version": "3.7.4"
  },
  "toc": {
   "base_numbering": 1,
   "nav_menu": {},
   "number_sections": true,
   "sideBar": true,
   "skip_h1_title": true,
   "title_cell": "Tabla de Contenidos",
   "title_sidebar": "Contenidos",
   "toc_cell": false,
   "toc_position": {},
   "toc_section_display": true,
   "toc_window_display": true
  }
 },
 "nbformat": 4,
 "nbformat_minor": 2
}
