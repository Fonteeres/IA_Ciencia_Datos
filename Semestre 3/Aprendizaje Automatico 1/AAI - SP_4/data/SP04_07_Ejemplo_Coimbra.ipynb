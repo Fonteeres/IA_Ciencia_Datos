{
 "cells": [
  {
   "cell_type": "markdown",
   "metadata": {
    "toc": true
   },
   "source": [
    "<h1>Tabla de Contenidos<span class=\"tocSkip\"></span></h1>\n",
    "<div class=\"toc\"><ul class=\"toc-item\"><li><span><a href=\"#Objetivo\" data-toc-modified-id=\"Objetivo-1\"><span class=\"toc-item-num\">1&nbsp;&nbsp;</span>Objetivo</a></span></li><li><span><a href=\"#Los-Datos\" data-toc-modified-id=\"Los-Datos-2\"><span class=\"toc-item-num\">2&nbsp;&nbsp;</span>Los Datos</a></span><ul class=\"toc-item\"><li><span><a href=\"#Dividimos-el-DataSet\" data-toc-modified-id=\"Dividimos-el-DataSet-2.1\"><span class=\"toc-item-num\">2.1&nbsp;&nbsp;</span>Dividimos el DataSet</a></span></li></ul></li><li><span><a href=\"#Preprocesammiento\" data-toc-modified-id=\"Preprocesammiento-3\"><span class=\"toc-item-num\">3&nbsp;&nbsp;</span>Preprocesammiento</a></span><ul class=\"toc-item\"><li><span><a href=\"#Variables-Numéricas-Normalización\" data-toc-modified-id=\"Variables-Numéricas-Normalización-3.1\"><span class=\"toc-item-num\">3.1&nbsp;&nbsp;</span>Variables Numéricas Normalización</a></span></li><li><span><a href=\"#Variables-Categóricas\" data-toc-modified-id=\"Variables-Categóricas-3.2\"><span class=\"toc-item-num\">3.2&nbsp;&nbsp;</span>Variables Categóricas</a></span><ul class=\"toc-item\"><li><span><a href=\"#Dummy-para-otras_enfermedades:\" data-toc-modified-id=\"Dummy-para-otras_enfermedades:-3.2.1\"><span class=\"toc-item-num\">3.2.1&nbsp;&nbsp;</span>Dummy para otras_enfermedades:</a></span></li><li><span><a href=\"#Ordinal-con-asignación-de-orden-para-envergadura,altura-y-globulos_blancos\" data-toc-modified-id=\"Ordinal-con-asignación-de-orden-para-envergadura,altura-y-globulos_blancos-3.2.2\"><span class=\"toc-item-num\">3.2.2&nbsp;&nbsp;</span>Ordinal con asignación de orden para envergadura,altura y globulos_blancos</a></span></li></ul></li></ul></li><li><span><a href=\"#Comparemos-AC-y-F1--para-cada-conjunto-de-datos-usando-kNN\" data-toc-modified-id=\"Comparemos-AC-y-F1--para-cada-conjunto-de-datos-usando-kNN-4\"><span class=\"toc-item-num\">4&nbsp;&nbsp;</span>Comparemos AC y F1  para cada conjunto de datos usando kNN</a></span><ul class=\"toc-item\"><li><span><a href=\"#Creamos-el-modelo-kNN,-con-k=5-y-pesos-uniformes,-que-será-usado-con-los-3-conjuntos-de-datos\" data-toc-modified-id=\"Creamos-el-modelo-kNN,-con-k=5-y-pesos-uniformes,-que-será-usado-con-los-3-conjuntos-de-datos-4.1\"><span class=\"toc-item-num\">4.1&nbsp;&nbsp;</span>Creamos el modelo kNN, con k=5 y pesos uniformes, que será usado con los 3 conjuntos de datos</a></span><ul class=\"toc-item\"><li><span><a href=\"#kNN-Con-datos-sin-Normalizar\" data-toc-modified-id=\"kNN-Con-datos-sin-Normalizar-4.1.1\"><span class=\"toc-item-num\">4.1.1&nbsp;&nbsp;</span>kNN Con datos sin Normalizar</a></span><ul class=\"toc-item\"><li><span><a href=\"#Entrenamos:\" data-toc-modified-id=\"Entrenamos:-4.1.1.1\"><span class=\"toc-item-num\">4.1.1.1&nbsp;&nbsp;</span>Entrenamos:</a></span></li><li><span><a href=\"#Pronosticamos\" data-toc-modified-id=\"Pronosticamos-4.1.1.2\"><span class=\"toc-item-num\">4.1.1.2&nbsp;&nbsp;</span>Pronosticamos</a></span></li></ul></li><li><span><a href=\"#kNN-Con-Datos-Normalizados\" data-toc-modified-id=\"kNN-Con-Datos-Normalizados-4.1.2\"><span class=\"toc-item-num\">4.1.2&nbsp;&nbsp;</span>kNN Con Datos Normalizados</a></span></li><li><span><a href=\"#kNN-Con-Datos-Estandarizados:\" data-toc-modified-id=\"kNN-Con-Datos-Estandarizados:-4.1.3\"><span class=\"toc-item-num\">4.1.3&nbsp;&nbsp;</span>kNN Con Datos Estandarizados:</a></span></li></ul></li></ul></li><li><span><a href=\"#En-conclusión:\" data-toc-modified-id=\"En-conclusión:-5\"><span class=\"toc-item-num\">5&nbsp;&nbsp;</span>En conclusión:</a></span></li></ul></div>"
   ]
  },
  {
   "cell_type": "markdown",
   "metadata": {},
   "source": [
    "![IES21](img/logo_ies.png)"
   ]
  },
  {
   "cell_type": "markdown",
   "metadata": {},
   "source": [
    "## Objetivo\n",
    "\n",
    "El objetivo es comparar los resultados de un modelo de pronóstico con el dataset en diferentes condiciones en lo que respecta a sus variables numéricas:  \n",
    "\n",
    "- Sin modificar\n",
    "- Normalizando\n",
    "- Estandarizando\n",
    "\n",
    "- El modelo de pornóstico a utilizar será kNN (con k=5) ya que suponemos que es el más sensible a las diferentes escalas que pudieran tener las variables numéricas.  \n",
    "\n",
    "- El DataSet original corresponde a un caso real de Clasificación sobre cáncer de mama, de Coimbra, Portugal.\n",
    "    \n",
    "    "
   ]
  },
  {
   "cell_type": "code",
   "execution_count": 49,
   "metadata": {
    "ExecuteTime": {
     "end_time": "2020-06-23T23:45:15.710075Z",
     "start_time": "2020-06-23T23:45:15.705572Z"
    }
   },
   "outputs": [],
   "source": [
    "import numpy as np\n",
    "import pandas as pd"
   ]
  },
  {
   "cell_type": "markdown",
   "metadata": {},
   "source": [
    "## Los Datos"
   ]
  },
  {
   "cell_type": "code",
   "execution_count": 50,
   "metadata": {
    "ExecuteTime": {
     "end_time": "2020-06-23T23:45:15.719996Z",
     "start_time": "2020-06-23T23:45:15.713509Z"
    }
   },
   "outputs": [],
   "source": [
    "df=pd.read_csv('data/Breast_Cancer_Coimbra/dataR2.csv')"
   ]
  },
  {
   "cell_type": "code",
   "execution_count": 51,
   "metadata": {
    "ExecuteTime": {
     "end_time": "2020-06-23T23:45:15.745253Z",
     "start_time": "2020-06-23T23:45:15.722436Z"
    }
   },
   "outputs": [
    {
     "data": {
      "text/html": [
       "<div>\n",
       "<style scoped>\n",
       "    .dataframe tbody tr th:only-of-type {\n",
       "        vertical-align: middle;\n",
       "    }\n",
       "\n",
       "    .dataframe tbody tr th {\n",
       "        vertical-align: top;\n",
       "    }\n",
       "\n",
       "    .dataframe thead th {\n",
       "        text-align: right;\n",
       "    }\n",
       "</style>\n",
       "<table border=\"1\" class=\"dataframe\">\n",
       "  <thead>\n",
       "    <tr style=\"text-align: right;\">\n",
       "      <th></th>\n",
       "      <th>Age</th>\n",
       "      <th>BMI</th>\n",
       "      <th>Glucose</th>\n",
       "      <th>Insulin</th>\n",
       "      <th>HOMA</th>\n",
       "      <th>Leptin</th>\n",
       "      <th>Adiponectin</th>\n",
       "      <th>Resistin</th>\n",
       "      <th>MCP.1</th>\n",
       "      <th>Classification</th>\n",
       "    </tr>\n",
       "  </thead>\n",
       "  <tbody>\n",
       "    <tr>\n",
       "      <th>0</th>\n",
       "      <td>48</td>\n",
       "      <td>23.500000</td>\n",
       "      <td>70</td>\n",
       "      <td>2.707</td>\n",
       "      <td>0.467409</td>\n",
       "      <td>8.8071</td>\n",
       "      <td>9.702400</td>\n",
       "      <td>7.99585</td>\n",
       "      <td>417.114</td>\n",
       "      <td>1</td>\n",
       "    </tr>\n",
       "    <tr>\n",
       "      <th>1</th>\n",
       "      <td>83</td>\n",
       "      <td>20.690495</td>\n",
       "      <td>92</td>\n",
       "      <td>3.115</td>\n",
       "      <td>0.706897</td>\n",
       "      <td>8.8438</td>\n",
       "      <td>5.429285</td>\n",
       "      <td>4.06405</td>\n",
       "      <td>468.786</td>\n",
       "      <td>1</td>\n",
       "    </tr>\n",
       "    <tr>\n",
       "      <th>2</th>\n",
       "      <td>82</td>\n",
       "      <td>23.124670</td>\n",
       "      <td>91</td>\n",
       "      <td>4.498</td>\n",
       "      <td>1.009651</td>\n",
       "      <td>17.9393</td>\n",
       "      <td>22.432040</td>\n",
       "      <td>9.27715</td>\n",
       "      <td>554.697</td>\n",
       "      <td>1</td>\n",
       "    </tr>\n",
       "    <tr>\n",
       "      <th>3</th>\n",
       "      <td>68</td>\n",
       "      <td>21.367521</td>\n",
       "      <td>77</td>\n",
       "      <td>3.226</td>\n",
       "      <td>0.612725</td>\n",
       "      <td>9.8827</td>\n",
       "      <td>7.169560</td>\n",
       "      <td>12.76600</td>\n",
       "      <td>928.220</td>\n",
       "      <td>1</td>\n",
       "    </tr>\n",
       "    <tr>\n",
       "      <th>4</th>\n",
       "      <td>86</td>\n",
       "      <td>21.111111</td>\n",
       "      <td>92</td>\n",
       "      <td>3.549</td>\n",
       "      <td>0.805386</td>\n",
       "      <td>6.6994</td>\n",
       "      <td>4.819240</td>\n",
       "      <td>10.57635</td>\n",
       "      <td>773.920</td>\n",
       "      <td>1</td>\n",
       "    </tr>\n",
       "    <tr>\n",
       "      <th>...</th>\n",
       "      <td>...</td>\n",
       "      <td>...</td>\n",
       "      <td>...</td>\n",
       "      <td>...</td>\n",
       "      <td>...</td>\n",
       "      <td>...</td>\n",
       "      <td>...</td>\n",
       "      <td>...</td>\n",
       "      <td>...</td>\n",
       "      <td>...</td>\n",
       "    </tr>\n",
       "    <tr>\n",
       "      <th>111</th>\n",
       "      <td>45</td>\n",
       "      <td>26.850000</td>\n",
       "      <td>92</td>\n",
       "      <td>3.330</td>\n",
       "      <td>0.755688</td>\n",
       "      <td>54.6800</td>\n",
       "      <td>12.100000</td>\n",
       "      <td>10.96000</td>\n",
       "      <td>268.230</td>\n",
       "      <td>2</td>\n",
       "    </tr>\n",
       "    <tr>\n",
       "      <th>112</th>\n",
       "      <td>62</td>\n",
       "      <td>26.840000</td>\n",
       "      <td>100</td>\n",
       "      <td>4.530</td>\n",
       "      <td>1.117400</td>\n",
       "      <td>12.4500</td>\n",
       "      <td>21.420000</td>\n",
       "      <td>7.32000</td>\n",
       "      <td>330.160</td>\n",
       "      <td>2</td>\n",
       "    </tr>\n",
       "    <tr>\n",
       "      <th>113</th>\n",
       "      <td>65</td>\n",
       "      <td>32.050000</td>\n",
       "      <td>97</td>\n",
       "      <td>5.730</td>\n",
       "      <td>1.370998</td>\n",
       "      <td>61.4800</td>\n",
       "      <td>22.540000</td>\n",
       "      <td>10.33000</td>\n",
       "      <td>314.050</td>\n",
       "      <td>2</td>\n",
       "    </tr>\n",
       "    <tr>\n",
       "      <th>114</th>\n",
       "      <td>72</td>\n",
       "      <td>25.590000</td>\n",
       "      <td>82</td>\n",
       "      <td>2.820</td>\n",
       "      <td>0.570392</td>\n",
       "      <td>24.9600</td>\n",
       "      <td>33.750000</td>\n",
       "      <td>3.27000</td>\n",
       "      <td>392.460</td>\n",
       "      <td>2</td>\n",
       "    </tr>\n",
       "    <tr>\n",
       "      <th>115</th>\n",
       "      <td>86</td>\n",
       "      <td>27.180000</td>\n",
       "      <td>138</td>\n",
       "      <td>19.910</td>\n",
       "      <td>6.777364</td>\n",
       "      <td>90.2800</td>\n",
       "      <td>14.110000</td>\n",
       "      <td>4.35000</td>\n",
       "      <td>90.090</td>\n",
       "      <td>2</td>\n",
       "    </tr>\n",
       "  </tbody>\n",
       "</table>\n",
       "<p>116 rows × 10 columns</p>\n",
       "</div>"
      ],
      "text/plain": [
       "     Age        BMI  Glucose  Insulin      HOMA   Leptin  Adiponectin  \\\n",
       "0     48  23.500000       70    2.707  0.467409   8.8071     9.702400   \n",
       "1     83  20.690495       92    3.115  0.706897   8.8438     5.429285   \n",
       "2     82  23.124670       91    4.498  1.009651  17.9393    22.432040   \n",
       "3     68  21.367521       77    3.226  0.612725   9.8827     7.169560   \n",
       "4     86  21.111111       92    3.549  0.805386   6.6994     4.819240   \n",
       "..   ...        ...      ...      ...       ...      ...          ...   \n",
       "111   45  26.850000       92    3.330  0.755688  54.6800    12.100000   \n",
       "112   62  26.840000      100    4.530  1.117400  12.4500    21.420000   \n",
       "113   65  32.050000       97    5.730  1.370998  61.4800    22.540000   \n",
       "114   72  25.590000       82    2.820  0.570392  24.9600    33.750000   \n",
       "115   86  27.180000      138   19.910  6.777364  90.2800    14.110000   \n",
       "\n",
       "     Resistin    MCP.1  Classification  \n",
       "0     7.99585  417.114               1  \n",
       "1     4.06405  468.786               1  \n",
       "2     9.27715  554.697               1  \n",
       "3    12.76600  928.220               1  \n",
       "4    10.57635  773.920               1  \n",
       "..        ...      ...             ...  \n",
       "111  10.96000  268.230               2  \n",
       "112   7.32000  330.160               2  \n",
       "113  10.33000  314.050               2  \n",
       "114   3.27000  392.460               2  \n",
       "115   4.35000   90.090               2  \n",
       "\n",
       "[116 rows x 10 columns]"
      ]
     },
     "execution_count": 51,
     "metadata": {},
     "output_type": "execute_result"
    }
   ],
   "source": [
    "df"
   ]
  },
  {
   "cell_type": "markdown",
   "metadata": {},
   "source": [
    "- Classification es el target. Es una variable binaria: 1 indica que **no** tiene cáncer de mama, 2 indica que sí tiene.\n",
    "- Todas las variables X son  numéricas.  "
   ]
  },
  {
   "cell_type": "code",
   "execution_count": 52,
   "metadata": {
    "ExecuteTime": {
     "end_time": "2020-06-23T23:45:15.756700Z",
     "start_time": "2020-06-23T23:45:15.747734Z"
    }
   },
   "outputs": [
    {
     "name": "stdout",
     "output_type": "stream",
     "text": [
      "<class 'pandas.core.frame.DataFrame'>\n",
      "RangeIndex: 116 entries, 0 to 115\n",
      "Data columns (total 10 columns):\n",
      " #   Column          Non-Null Count  Dtype  \n",
      "---  ------          --------------  -----  \n",
      " 0   Age             116 non-null    int64  \n",
      " 1   BMI             116 non-null    float64\n",
      " 2   Glucose         116 non-null    int64  \n",
      " 3   Insulin         116 non-null    float64\n",
      " 4   HOMA            116 non-null    float64\n",
      " 5   Leptin          116 non-null    float64\n",
      " 6   Adiponectin     116 non-null    float64\n",
      " 7   Resistin        116 non-null    float64\n",
      " 8   MCP.1           116 non-null    float64\n",
      " 9   Classification  116 non-null    int64  \n",
      "dtypes: float64(7), int64(3)\n",
      "memory usage: 9.2 KB\n"
     ]
    }
   ],
   "source": [
    "df.info()"
   ]
  },
  {
   "cell_type": "markdown",
   "metadata": {},
   "source": [
    "No tenemos nulos!  \n",
    "Y las variables X son todas numéricas."
   ]
  },
  {
   "cell_type": "markdown",
   "metadata": {},
   "source": [
    "### Dividimos el DataSet"
   ]
  },
  {
   "cell_type": "code",
   "execution_count": 53,
   "metadata": {
    "ExecuteTime": {
     "end_time": "2020-06-23T23:45:15.778484Z",
     "start_time": "2020-06-23T23:45:15.769062Z"
    }
   },
   "outputs": [],
   "source": [
    "from sklearn.model_selection import train_test_split\n",
    "X=df.drop(columns=['Classification'])\n",
    "X_train, X_test, y_train, y_test = train_test_split(X, df['Classification'], test_size=0.2, random_state=123)"
   ]
  },
  {
   "cell_type": "code",
   "execution_count": 54,
   "metadata": {
    "ExecuteTime": {
     "end_time": "2020-06-23T23:45:15.802293Z",
     "start_time": "2020-06-23T23:45:15.780966Z"
    }
   },
   "outputs": [
    {
     "data": {
      "text/html": [
       "<div>\n",
       "<style scoped>\n",
       "    .dataframe tbody tr th:only-of-type {\n",
       "        vertical-align: middle;\n",
       "    }\n",
       "\n",
       "    .dataframe tbody tr th {\n",
       "        vertical-align: top;\n",
       "    }\n",
       "\n",
       "    .dataframe thead th {\n",
       "        text-align: right;\n",
       "    }\n",
       "</style>\n",
       "<table border=\"1\" class=\"dataframe\">\n",
       "  <thead>\n",
       "    <tr style=\"text-align: right;\">\n",
       "      <th></th>\n",
       "      <th>Age</th>\n",
       "      <th>BMI</th>\n",
       "      <th>Glucose</th>\n",
       "      <th>Insulin</th>\n",
       "      <th>HOMA</th>\n",
       "      <th>Leptin</th>\n",
       "      <th>Adiponectin</th>\n",
       "      <th>Resistin</th>\n",
       "      <th>MCP.1</th>\n",
       "    </tr>\n",
       "  </thead>\n",
       "  <tbody>\n",
       "    <tr>\n",
       "      <th>31</th>\n",
       "      <td>53</td>\n",
       "      <td>36.790166</td>\n",
       "      <td>101</td>\n",
       "      <td>10.175</td>\n",
       "      <td>2.534932</td>\n",
       "      <td>27.1841</td>\n",
       "      <td>20.030000</td>\n",
       "      <td>10.26309</td>\n",
       "      <td>695.754</td>\n",
       "    </tr>\n",
       "    <tr>\n",
       "      <th>29</th>\n",
       "      <td>36</td>\n",
       "      <td>34.174890</td>\n",
       "      <td>80</td>\n",
       "      <td>6.590</td>\n",
       "      <td>1.300427</td>\n",
       "      <td>10.2809</td>\n",
       "      <td>5.065915</td>\n",
       "      <td>15.72187</td>\n",
       "      <td>581.313</td>\n",
       "    </tr>\n",
       "    <tr>\n",
       "      <th>107</th>\n",
       "      <td>46</td>\n",
       "      <td>33.180000</td>\n",
       "      <td>92</td>\n",
       "      <td>5.750</td>\n",
       "      <td>1.304867</td>\n",
       "      <td>18.6900</td>\n",
       "      <td>9.160000</td>\n",
       "      <td>8.89000</td>\n",
       "      <td>209.190</td>\n",
       "    </tr>\n",
       "    <tr>\n",
       "      <th>23</th>\n",
       "      <td>35</td>\n",
       "      <td>30.276817</td>\n",
       "      <td>84</td>\n",
       "      <td>4.376</td>\n",
       "      <td>0.906707</td>\n",
       "      <td>39.2134</td>\n",
       "      <td>9.048185</td>\n",
       "      <td>16.43706</td>\n",
       "      <td>733.797</td>\n",
       "    </tr>\n",
       "    <tr>\n",
       "      <th>9</th>\n",
       "      <td>75</td>\n",
       "      <td>23.000000</td>\n",
       "      <td>83</td>\n",
       "      <td>4.952</td>\n",
       "      <td>1.013839</td>\n",
       "      <td>17.1270</td>\n",
       "      <td>11.578990</td>\n",
       "      <td>7.09130</td>\n",
       "      <td>318.302</td>\n",
       "    </tr>\n",
       "    <tr>\n",
       "      <th>...</th>\n",
       "      <td>...</td>\n",
       "      <td>...</td>\n",
       "      <td>...</td>\n",
       "      <td>...</td>\n",
       "      <td>...</td>\n",
       "      <td>...</td>\n",
       "      <td>...</td>\n",
       "      <td>...</td>\n",
       "      <td>...</td>\n",
       "    </tr>\n",
       "    <tr>\n",
       "      <th>102</th>\n",
       "      <td>65</td>\n",
       "      <td>30.915577</td>\n",
       "      <td>97</td>\n",
       "      <td>10.491</td>\n",
       "      <td>2.510147</td>\n",
       "      <td>44.0217</td>\n",
       "      <td>3.710090</td>\n",
       "      <td>20.46850</td>\n",
       "      <td>396.648</td>\n",
       "    </tr>\n",
       "    <tr>\n",
       "      <th>98</th>\n",
       "      <td>71</td>\n",
       "      <td>27.915519</td>\n",
       "      <td>104</td>\n",
       "      <td>18.200</td>\n",
       "      <td>4.668907</td>\n",
       "      <td>53.4997</td>\n",
       "      <td>1.656020</td>\n",
       "      <td>49.24184</td>\n",
       "      <td>256.001</td>\n",
       "    </tr>\n",
       "    <tr>\n",
       "      <th>92</th>\n",
       "      <td>52</td>\n",
       "      <td>30.801249</td>\n",
       "      <td>87</td>\n",
       "      <td>30.212</td>\n",
       "      <td>6.483495</td>\n",
       "      <td>29.2739</td>\n",
       "      <td>6.268540</td>\n",
       "      <td>24.24591</td>\n",
       "      <td>764.667</td>\n",
       "    </tr>\n",
       "    <tr>\n",
       "      <th>66</th>\n",
       "      <td>54</td>\n",
       "      <td>24.218750</td>\n",
       "      <td>86</td>\n",
       "      <td>3.730</td>\n",
       "      <td>0.791257</td>\n",
       "      <td>8.6874</td>\n",
       "      <td>3.705230</td>\n",
       "      <td>10.34455</td>\n",
       "      <td>635.049</td>\n",
       "    </tr>\n",
       "    <tr>\n",
       "      <th>109</th>\n",
       "      <td>75</td>\n",
       "      <td>30.480000</td>\n",
       "      <td>152</td>\n",
       "      <td>7.010</td>\n",
       "      <td>2.628283</td>\n",
       "      <td>50.5300</td>\n",
       "      <td>10.060000</td>\n",
       "      <td>11.73000</td>\n",
       "      <td>99.450</td>\n",
       "    </tr>\n",
       "  </tbody>\n",
       "</table>\n",
       "<p>92 rows × 9 columns</p>\n",
       "</div>"
      ],
      "text/plain": [
       "     Age        BMI  Glucose  Insulin      HOMA   Leptin  Adiponectin  \\\n",
       "31    53  36.790166      101   10.175  2.534932  27.1841    20.030000   \n",
       "29    36  34.174890       80    6.590  1.300427  10.2809     5.065915   \n",
       "107   46  33.180000       92    5.750  1.304867  18.6900     9.160000   \n",
       "23    35  30.276817       84    4.376  0.906707  39.2134     9.048185   \n",
       "9     75  23.000000       83    4.952  1.013839  17.1270    11.578990   \n",
       "..   ...        ...      ...      ...       ...      ...          ...   \n",
       "102   65  30.915577       97   10.491  2.510147  44.0217     3.710090   \n",
       "98    71  27.915519      104   18.200  4.668907  53.4997     1.656020   \n",
       "92    52  30.801249       87   30.212  6.483495  29.2739     6.268540   \n",
       "66    54  24.218750       86    3.730  0.791257   8.6874     3.705230   \n",
       "109   75  30.480000      152    7.010  2.628283  50.5300    10.060000   \n",
       "\n",
       "     Resistin    MCP.1  \n",
       "31   10.26309  695.754  \n",
       "29   15.72187  581.313  \n",
       "107   8.89000  209.190  \n",
       "23   16.43706  733.797  \n",
       "9     7.09130  318.302  \n",
       "..        ...      ...  \n",
       "102  20.46850  396.648  \n",
       "98   49.24184  256.001  \n",
       "92   24.24591  764.667  \n",
       "66   10.34455  635.049  \n",
       "109  11.73000   99.450  \n",
       "\n",
       "[92 rows x 9 columns]"
      ]
     },
     "execution_count": 54,
     "metadata": {},
     "output_type": "execute_result"
    }
   ],
   "source": [
    "X_train"
   ]
  },
  {
   "cell_type": "markdown",
   "metadata": {
    "ExecuteTime": {
     "end_time": "2020-06-23T20:05:39.368497Z",
     "start_time": "2020-06-23T20:05:38.496020Z"
    }
   },
   "source": [
    "Ya tenemos X_train, y_train, X_test e y_test para continuar"
   ]
  },
  {
   "cell_type": "markdown",
   "metadata": {
    "ExecuteTime": {
     "end_time": "2020-06-23T23:47:51.578739Z",
     "start_time": "2020-06-23T23:47:51.574260Z"
    }
   },
   "source": [
    "## Preprocesammiento"
   ]
  },
  {
   "cell_type": "markdown",
   "metadata": {
    "ExecuteTime": {
     "end_time": "2020-06-23T20:07:44.123208Z",
     "start_time": "2020-06-23T20:07:44.120209Z"
    }
   },
   "source": [
    "### Variables Numéricas Normalización"
   ]
  },
  {
   "cell_type": "code",
   "execution_count": 55,
   "metadata": {
    "ExecuteTime": {
     "end_time": "2020-06-23T23:45:15.811220Z",
     "start_time": "2020-06-23T23:45:15.807254Z"
    }
   },
   "outputs": [],
   "source": [
    "from sklearn.preprocessing import MinMaxScaler\n",
    "columnas=X_train.columns                      # para no tener que escribirlas a mano\n",
    "t_norm=(\"normalizador\",MinMaxScaler(feature_range=(0, 1)),columnas)"
   ]
  },
  {
   "cell_type": "markdown",
   "metadata": {},
   "source": [
    "### Variables Categóricas\n",
    "\n",
    " No tenemos"
   ]
  },
  {
   "cell_type": "code",
   "execution_count": 56,
   "metadata": {
    "ExecuteTime": {
     "end_time": "2020-06-23T23:45:15.827092Z",
     "start_time": "2020-06-23T23:45:15.823126Z"
    }
   },
   "outputs": [],
   "source": [
    "# from sklearn.preprocessing import OneHotEncoder\n",
    "# from sklearn.preprocessing import OrdinalEncoder"
   ]
  },
  {
   "cell_type": "markdown",
   "metadata": {},
   "source": [
    "#### Dummy para otras_enfermedades:\n",
    "\n",
    "No tenemos, pero el código podría haber sido similar al siguiente\n",
    "~~~\n",
    "t_nominal=(\"onehot\",OneHotEncoder(sparse=False),['variables_nominales'])\n",
    "~~~\n",
    "\n"
   ]
  },
  {
   "cell_type": "markdown",
   "metadata": {},
   "source": [
    "#### Ordinal con asignación de orden para envergadura,altura y globulos_blancos\n",
    "\n",
    "No tenemos, pero el código podría haber sido similar al siguiente\n",
    "~~~\n",
    "t_ordinal_enc=(\"ordinal_enc\", OrdinalEncoder(categories=[['categorias]),['columnas ordinales']) \n",
    "~~~               "
   ]
  },
  {
   "cell_type": "code",
   "execution_count": null,
   "metadata": {},
   "outputs": [],
   "source": []
  },
  {
   "cell_type": "code",
   "execution_count": 57,
   "metadata": {
    "ExecuteTime": {
     "end_time": "2020-06-23T23:45:15.872228Z",
     "start_time": "2020-06-23T23:45:15.856868Z"
    },
    "scrolled": false
   },
   "outputs": [],
   "source": [
    "from sklearn.compose import ColumnTransformer\n",
    "transformador_columnas= ColumnTransformer(transformers=[t_norm],remainder='passthrough')\n",
    "transformador_columnas.fit(X_train)\n",
    "X_train_transformado=transformador_columnas.transform(X_train)\n",
    "X_test_transformado=transformador_columnas.transform(X_test)\n",
    "\n",
    "# Podemos revisar quitando los comentarios\n",
    "# display(X_train_transformado)\n",
    "# display(X_test_transformado)\n"
   ]
  },
  {
   "cell_type": "markdown",
   "metadata": {},
   "source": [
    "Ahora tenemos todo listo para pronosticar"
   ]
  },
  {
   "cell_type": "markdown",
   "metadata": {},
   "source": [
    "## Comparemos AC y F1  para cada conjunto de datos usando kNN"
   ]
  },
  {
   "cell_type": "markdown",
   "metadata": {},
   "source": [
    "Nota: en este caso entrenaremos en los X_train y evaluaremos en los X_test porque sólo queremos mostrar que hay una diferencia en las evaluaciones.,  \n",
    "Si Ud estuviera haciendo selección de modelo, debería efectuar estas comparaciones en un Validation Set. "
   ]
  },
  {
   "cell_type": "markdown",
   "metadata": {},
   "source": [
    "### Creamos el modelo kNN, con k=5 y pesos uniformes, que será usado con los 3 conjuntos de datos"
   ]
  },
  {
   "cell_type": "code",
   "execution_count": null,
   "metadata": {},
   "outputs": [],
   "source": [
    "from sklearn import neighbors\n",
    "k=5\n",
    "modelo = neighbors.KNeighborsClassifier(n_neighbors=k,weights='uniform')"
   ]
  },
  {
   "cell_type": "markdown",
   "metadata": {},
   "source": [
    "#### kNN Con datos sin Normalizar"
   ]
  },
  {
   "cell_type": "markdown",
   "metadata": {
    "ExecuteTime": {
     "end_time": "2020-06-23T23:50:24.807568Z",
     "start_time": "2020-06-23T23:50:24.804098Z"
    }
   },
   "source": [
    "##### Entrenamos:"
   ]
  },
  {
   "cell_type": "code",
   "execution_count": 71,
   "metadata": {
    "ExecuteTime": {
     "end_time": "2020-06-23T23:53:42.363195Z",
     "start_time": "2020-06-23T23:53:42.356252Z"
    }
   },
   "outputs": [
    {
     "data": {
      "text/plain": [
       "KNeighborsClassifier(algorithm='auto', leaf_size=30, metric='minkowski',\n",
       "                     metric_params=None, n_jobs=None, n_neighbors=5, p=2,\n",
       "                     weights='uniform')"
      ]
     },
     "execution_count": 71,
     "metadata": {},
     "output_type": "execute_result"
    }
   ],
   "source": [
    "import warnings\n",
    "warnings.simplefilter('ignore')  # sólo para que no muestre advertencias.\n",
    "\n",
    "modelo.fit(X_train, y_train)"
   ]
  },
  {
   "cell_type": "markdown",
   "metadata": {},
   "source": [
    "##### Pronosticamos"
   ]
  },
  {
   "cell_type": "code",
   "execution_count": 60,
   "metadata": {
    "ExecuteTime": {
     "end_time": "2020-06-23T23:45:15.959561Z",
     "start_time": "2020-06-23T23:45:15.951590Z"
    }
   },
   "outputs": [],
   "source": [
    "y_pred=modelo.predict(X_test)"
   ]
  },
  {
   "cell_type": "markdown",
   "metadata": {},
   "source": [
    "###### Evaluamos"
   ]
  },
  {
   "cell_type": "code",
   "execution_count": 61,
   "metadata": {
    "ExecuteTime": {
     "end_time": "2020-06-23T23:45:15.976425Z",
     "start_time": "2020-06-23T23:45:15.971926Z"
    }
   },
   "outputs": [],
   "source": [
    "from sklearn.metrics import confusion_matrix, accuracy_score, f1_score"
   ]
  },
  {
   "cell_type": "code",
   "execution_count": 62,
   "metadata": {
    "ExecuteTime": {
     "end_time": "2020-06-23T23:45:15.988789Z",
     "start_time": "2020-06-23T23:45:15.978869Z"
    }
   },
   "outputs": [
    {
     "name": "stdout",
     "output_type": "stream",
     "text": [
      "Evaluación modelo kNN con Datos 'crudos',  sin Preprocesar\n",
      "Accuracy:  0.5\n",
      "F1:  0.467\n"
     ]
    }
   ],
   "source": [
    "AC=accuracy_score(y_test, y_pred)\n",
    "F1=f1_score(y_test,y_pred, average='macro')\n",
    "print(\"Evaluación modelo kNN con Datos 'crudos',  sin Preprocesar\")\n",
    "print(\"Accuracy: \", round(AC,3))\n",
    "print(\"F1: \", round(F1,3))"
   ]
  },
  {
   "cell_type": "markdown",
   "metadata": {},
   "source": [
    "#### kNN Con Datos Normalizados  \n",
    "\n",
    "Lo único que cambiará con respecto al paso anterior es que en vez de usar X_train para entrenar, usaremos X_train_transformado y para evaluar, en vez de X_test, utilizaremos X_test_transformado:"
   ]
  },
  {
   "cell_type": "code",
   "execution_count": 68,
   "metadata": {
    "ExecuteTime": {
     "end_time": "2020-06-23T23:52:57.936556Z",
     "start_time": "2020-06-23T23:52:57.924163Z"
    }
   },
   "outputs": [
    {
     "name": "stdout",
     "output_type": "stream",
     "text": [
      "Evaluación modelo kNN Datos Normalizados\n",
      "Accuracy:  0.708\n",
      "F1:  0.695\n"
     ]
    }
   ],
   "source": [
    "warnings.simplefilter('ignore')\n",
    "\n",
    "# Entrenamos\n",
    "modelo.fit(X_train_transformado, y_train)\n",
    "\n",
    "# Pronosticamos\n",
    "y_pred1=modelo.predict(X_test_transformado)\n",
    "\n",
    "# Evaluamos\n",
    "AC=accuracy_score(y_test, y_pred1)\n",
    "F1=f1_score(y_test,y_pred1, average='macro')\n",
    "\n",
    "print(\"Evaluación modelo kNN Datos Normalizados\")\n",
    "print(\"Accuracy: \", round(AC,3))\n",
    "print(\"F1: \", round(F1,3))"
   ]
  },
  {
   "cell_type": "markdown",
   "metadata": {},
   "source": [
    "#### kNN Con Datos Estandarizados:"
   ]
  },
  {
   "cell_type": "markdown",
   "metadata": {},
   "source": [
    "Tenemos que generar el conjunto de datos estandarizados, no lo hicimos antes para evitar confusiones:"
   ]
  },
  {
   "cell_type": "code",
   "execution_count": 64,
   "metadata": {
    "ExecuteTime": {
     "end_time": "2020-06-23T23:45:16.097412Z",
     "start_time": "2020-06-23T23:45:16.083029Z"
    }
   },
   "outputs": [],
   "source": [
    "from sklearn.preprocessing import StandardScaler\n",
    "\n",
    "# creamos el \"estandarizador\"\n",
    "t_estandard=(\"estandarizador\",StandardScaler(),columnas)\n",
    "\n",
    "# En este caso no tenemos variables categóricas, así que las omitimos\n",
    "transformador_columnas2= ColumnTransformer(transformers=[t_estandard],remainder='passthrough')\n",
    "transformador_columnas2.fit(X_train)\n",
    "X_train_transformado2=transformador_columnas2.transform(X_train)\n",
    "X_test_transformado2=transformador_columnas2.transform(X_test)\n"
   ]
  },
  {
   "cell_type": "markdown",
   "metadata": {
    "ExecuteTime": {
     "end_time": "2020-06-23T23:45:07.687062Z",
     "start_time": "2020-06-23T23:45:07.680615Z"
    }
   },
   "source": [
    "Ahora tenemosX_train_transformado2, y_train, X_test_transformado2, y_test para pronosticar con los datos estandarizados"
   ]
  },
  {
   "cell_type": "code",
   "execution_count": 65,
   "metadata": {
    "ExecuteTime": {
     "end_time": "2020-06-23T23:45:16.119237Z",
     "start_time": "2020-06-23T23:45:16.107829Z"
    }
   },
   "outputs": [
    {
     "name": "stdout",
     "output_type": "stream",
     "text": [
      "Evaluación modelo kNN Datos Estandarizados\n",
      "Accuracy:  0.667\n",
      "F1:  0.657\n"
     ]
    }
   ],
   "source": [
    "warnings.simplefilter('ignore')\n",
    "\n",
    "# Entrenamos\n",
    "modelo.fit(X_train_transformado2, y_train)\n",
    "\n",
    "# Pronosticamos\n",
    "y_pred2=modelo.predict(X_test_transformado2)\n",
    "\n",
    "# Evaluamos\n",
    "AC=accuracy_score(y_test, y_pred2)\n",
    "F1=f1_score(y_test,y_pred2, average='macro')\n",
    "\n",
    "print(\"Evaluación modelo kNN Datos Estandarizados\")\n",
    "print(\"Accuracy: \", round(AC,3))\n",
    "print(\"F1: \", round(F1,3))"
   ]
  },
  {
   "cell_type": "markdown",
   "metadata": {},
   "source": [
    "## En conclusión: \n",
    "\n",
    "- el mejor resultado lo obtuvimos **normalizando**, luego **estandarizando** y el peor resultado se obtuvo sin preprocesamiento. \n",
    "- Hubo una **notable** diferencia entre el pronóstico **con normalización** y el carente de preprocesamiento.   \n",
    "- En este caso, inlclusive hubo bastante diferencia entre el caso con normalización y el caso estandarizado.\n",
    "- Era esperable ya que esperábamos que kNN fuera sensible a los diferentes rangos de valores de las distintas variables numéricas."
   ]
  },
  {
   "cell_type": "code",
   "execution_count": null,
   "metadata": {},
   "outputs": [],
   "source": []
  }
 ],
 "metadata": {
  "hide_input": false,
  "kernelspec": {
   "display_name": "Python 3",
   "language": "python",
   "name": "python3"
  },
  "language_info": {
   "codemirror_mode": {
    "name": "ipython",
    "version": 3
   },
   "file_extension": ".py",
   "mimetype": "text/x-python",
   "name": "python",
   "nbconvert_exporter": "python",
   "pygments_lexer": "ipython3",
   "version": "3.7.3"
  },
  "toc": {
   "base_numbering": 1,
   "nav_menu": {},
   "number_sections": true,
   "sideBar": true,
   "skip_h1_title": true,
   "title_cell": "Tabla de Contenidos",
   "title_sidebar": "Contenidos",
   "toc_cell": true,
   "toc_position": {
    "height": "calc(100% - 180px)",
    "left": "10px",
    "top": "150px",
    "width": "225.625px"
   },
   "toc_section_display": true,
   "toc_window_display": true
  }
 },
 "nbformat": 4,
 "nbformat_minor": 4
}
