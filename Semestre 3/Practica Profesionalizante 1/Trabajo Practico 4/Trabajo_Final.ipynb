{
 "cells": [
  {
   "cell_type": "markdown",
   "metadata": {},
   "source": [
    "# MODULOS"
   ]
  },
  {
   "cell_type": "code",
   "execution_count": 1,
   "metadata": {},
   "outputs": [],
   "source": [
    "import numpy as np\n",
    "import pandas as pd\n",
    "import plotly.express as px"
   ]
  },
  {
   "cell_type": "markdown",
   "metadata": {},
   "source": [
    "# Creacion Data Frames"
   ]
  },
  {
   "cell_type": "code",
   "execution_count": 2,
   "metadata": {},
   "outputs": [],
   "source": [
    "#Importo y creo todos los Data sets\n",
    "df_ALUCarrera = pd.read_csv('Alu_Carrera.csv', sep=';')\n",
    "df_AluMateria = pd.read_csv('Alu_Materia.csv', sep=';')\n",
    "df_Carreras = pd.read_csv('Carreras.csv', sep=';')\n",
    "df_Finales = pd.read_csv('Finales.csv', sep=';')\n",
    "df_Materias = pd.read_csv('Materias.csv', sep=';')"
   ]
  },
  {
   "cell_type": "markdown",
   "metadata": {},
   "source": [
    "# LIMPIEZA"
   ]
  },
  {
   "cell_type": "markdown",
   "metadata": {},
   "source": [
    "### Tranformo el tipo de dato tiempo en los DF"
   ]
  },
  {
   "cell_type": "code",
   "execution_count": 3,
   "metadata": {},
   "outputs": [],
   "source": [
    "#Arreglo el problema de que los datos de tipo tiempo estan como si fueran tipo: objeto en vez de tipo: DataTime\n",
    "df_ALUCarrera[['Fecha_Ingreso','Fecha_Nac']] = df_ALUCarrera[['Fecha_Ingreso','Fecha_Nac']].apply(pd.to_datetime)\n",
    "df_AluMateria[['Fecha_Inscrip','Fecha_1p','Fecha_2p','Fecha_TP','Fecha_Recup']] = df_AluMateria[['Fecha_Inscrip','Fecha_1p','Fecha_2p','Fecha_TP','Fecha_Recup']].apply(pd.to_datetime)\n",
    "df_Finales[['Fecha_Examen','Fecha_Inscrip_Examen']] = df_Finales[['Fecha_Examen','Fecha_Inscrip_Examen']].apply(pd.to_datetime)"
   ]
  },
  {
   "cell_type": "markdown",
   "metadata": {},
   "source": [
    "### Eliminacion de Carreras"
   ]
  },
  {
   "cell_type": "code",
   "execution_count": 4,
   "metadata": {},
   "outputs": [
    {
     "data": {
      "text/plain": [
       "5     963\n",
       "6     687\n",
       "7     676\n",
       "2     641\n",
       "4     616\n",
       "1     582\n",
       "3     506\n",
       "9     494\n",
       "13    334\n",
       "10    270\n",
       "8     204\n",
       "17    127\n",
       "14     57\n",
       "60     37\n",
       "16     14\n",
       "39      8\n",
       "18      3\n",
       "11      2\n",
       "12      2\n",
       "40      2\n",
       "41      1\n",
       "59      1\n",
       "Name: Id_Carrera, dtype: int64"
      ]
     },
     "execution_count": 4,
     "metadata": {},
     "output_type": "execute_result"
    }
   ],
   "source": [
    "# veo cuales carreras no tienen datos suficientes para merecer su analisis.\n",
    "df_ALUCarrera['Id_Carrera'].value_counts()"
   ]
  },
  {
   "cell_type": "code",
   "execution_count": 5,
   "metadata": {},
   "outputs": [
    {
     "data": {
      "text/html": [
       "<div>\n",
       "<style scoped>\n",
       "    .dataframe tbody tr th:only-of-type {\n",
       "        vertical-align: middle;\n",
       "    }\n",
       "\n",
       "    .dataframe tbody tr th {\n",
       "        vertical-align: top;\n",
       "    }\n",
       "\n",
       "    .dataframe thead th {\n",
       "        text-align: right;\n",
       "    }\n",
       "</style>\n",
       "<table border=\"1\" class=\"dataframe\">\n",
       "  <thead>\n",
       "    <tr style=\"text-align: right;\">\n",
       "      <th></th>\n",
       "      <th>Id_Carrera</th>\n",
       "      <th>Nombre_Largo</th>\n",
       "      <th>Nombre_Corto</th>\n",
       "      <th>Abreviatura</th>\n",
       "      <th>Cuatrimestres</th>\n",
       "    </tr>\n",
       "  </thead>\n",
       "  <tbody>\n",
       "    <tr>\n",
       "      <th>2</th>\n",
       "      <td>12</td>\n",
       "      <td>ANALISTA EN GESTION DE VENTAS</td>\n",
       "      <td>VENTAS</td>\n",
       "      <td>VTA</td>\n",
       "      <td>4</td>\n",
       "    </tr>\n",
       "    <tr>\n",
       "      <th>6</th>\n",
       "      <td>18</td>\n",
       "      <td>TECNICO SUPERIOR EN LOGISTICA</td>\n",
       "      <td>LOGÍSTICA</td>\n",
       "      <td>LOG</td>\n",
       "      <td>6</td>\n",
       "    </tr>\n",
       "    <tr>\n",
       "      <th>8</th>\n",
       "      <td>41</td>\n",
       "      <td>AGENTE DE TRANSPORTE ADUANERO Y DESPACHANTE DE...</td>\n",
       "      <td>AGENTE DE TRANSP. ADUANERO Y DESP. DE ADUANA</td>\n",
       "      <td>ATA</td>\n",
       "      <td>4</td>\n",
       "    </tr>\n",
       "    <tr>\n",
       "      <th>12</th>\n",
       "      <td>59</td>\n",
       "      <td>TÉCNICO SUPERIOR EN SERVICIOS DE PAISAJISMO</td>\n",
       "      <td>SERVICIOS DE PAISAJISMO</td>\n",
       "      <td>SERPAI</td>\n",
       "      <td>2</td>\n",
       "    </tr>\n",
       "    <tr>\n",
       "      <th>13</th>\n",
       "      <td>39</td>\n",
       "      <td>ADMINISTRADOR DE REDES</td>\n",
       "      <td>ADMINISTRADOR DE REDES</td>\n",
       "      <td>AR</td>\n",
       "      <td>4</td>\n",
       "    </tr>\n",
       "    <tr>\n",
       "      <th>14</th>\n",
       "      <td>16</td>\n",
       "      <td>TECNICO SUPERIOR EN GESTION JURIDICA</td>\n",
       "      <td>GESTIÓN JURíDICA</td>\n",
       "      <td>GJ</td>\n",
       "      <td>6</td>\n",
       "    </tr>\n",
       "    <tr>\n",
       "      <th>17</th>\n",
       "      <td>60</td>\n",
       "      <td>TÉC. SUP. EN DES. DE SIMULACIONES VIRTUALES Y ...</td>\n",
       "      <td>VIDEOJUEGOS</td>\n",
       "      <td>SVIRT</td>\n",
       "      <td>6</td>\n",
       "    </tr>\n",
       "    <tr>\n",
       "      <th>18</th>\n",
       "      <td>40</td>\n",
       "      <td>TÉCNICO EN SERVICIOS AGROPECUARIOS</td>\n",
       "      <td>TÉCNICO EN SERVICIOS AGROPECUARIOS</td>\n",
       "      <td>TSAGR</td>\n",
       "      <td>4</td>\n",
       "    </tr>\n",
       "    <tr>\n",
       "      <th>19</th>\n",
       "      <td>11</td>\n",
       "      <td>ASISTENTE GERENCIAL TRILINGÜE</td>\n",
       "      <td>TRILINGÜE</td>\n",
       "      <td>TRI</td>\n",
       "      <td>4</td>\n",
       "    </tr>\n",
       "  </tbody>\n",
       "</table>\n",
       "</div>"
      ],
      "text/plain": [
       "    Id_Carrera                                       Nombre_Largo  \\\n",
       "2           12                      ANALISTA EN GESTION DE VENTAS   \n",
       "6           18                      TECNICO SUPERIOR EN LOGISTICA   \n",
       "8           41  AGENTE DE TRANSPORTE ADUANERO Y DESPACHANTE DE...   \n",
       "12          59        TÉCNICO SUPERIOR EN SERVICIOS DE PAISAJISMO   \n",
       "13          39                             ADMINISTRADOR DE REDES   \n",
       "14          16               TECNICO SUPERIOR EN GESTION JURIDICA   \n",
       "17          60  TÉC. SUP. EN DES. DE SIMULACIONES VIRTUALES Y ...   \n",
       "18          40                 TÉCNICO EN SERVICIOS AGROPECUARIOS   \n",
       "19          11                      ASISTENTE GERENCIAL TRILINGÜE   \n",
       "\n",
       "                                    Nombre_Corto Abreviatura  Cuatrimestres  \n",
       "2                                         VENTAS         VTA              4  \n",
       "6                                      LOGÍSTICA         LOG              6  \n",
       "8   AGENTE DE TRANSP. ADUANERO Y DESP. DE ADUANA         ATA              4  \n",
       "12                       SERVICIOS DE PAISAJISMO      SERPAI              2  \n",
       "13                        ADMINISTRADOR DE REDES          AR              4  \n",
       "14                              GESTIÓN JURíDICA          GJ              6  \n",
       "17                                   VIDEOJUEGOS       SVIRT              6  \n",
       "18            TÉCNICO EN SERVICIOS AGROPECUARIOS       TSAGR              4  \n",
       "19                                     TRILINGÜE         TRI              4  "
      ]
     },
     "execution_count": 5,
     "metadata": {},
     "output_type": "execute_result"
    }
   ],
   "source": [
    "#Averiguo como se llaman las carreras\n",
    "listaDeCarreras = [11,60,18,39,59,40,41,16,12]\n",
    "df_Carreras[df_Carreras['Id_Carrera'].isin(listaDeCarreras)]"
   ]
  },
  {
   "cell_type": "code",
   "execution_count": 6,
   "metadata": {},
   "outputs": [
    {
     "data": {
      "text/plain": [
       "Id_Alumno           70\n",
       "Id_Carrera          70\n",
       "Semestre_Ingreso    70\n",
       "Año_Ingreso         70\n",
       "Id_Ctro_Ext         70\n",
       "Id_Modalidad        70\n",
       "Fecha_Ingreso       70\n",
       "Activo              70\n",
       "Sexo                70\n",
       "Fecha_Nac           70\n",
       "dtype: int64"
      ]
     },
     "execution_count": 6,
     "metadata": {},
     "output_type": "execute_result"
    }
   ],
   "source": [
    "#Averiguo los alumnos que estan en cada carrera y en total son solo 70 datos los que voy a eliminar, lo cual me parece irrelevante.\n",
    "df_ALUCarrera.loc[df_ALUCarrera['Id_Carrera'].isin(listaDeCarreras)].count()\n",
    "#al mismo tiempo creo que tener 9 carreras mas, que no me aportarian valor a mi analisis si es molesto."
   ]
  },
  {
   "cell_type": "code",
   "execution_count": 7,
   "metadata": {},
   "outputs": [],
   "source": [
    "#Elimino todo registro de las carreras que tienen datos ignorables\n",
    "df_Carreras = df_Carreras[~df_Carreras['Id_Carrera'].isin(listaDeCarreras)]\n",
    "df_Finales = df_Finales[~df_Finales['Id_Carrera'].isin(listaDeCarreras)]\n",
    "df_ALUCarrera = df_ALUCarrera[~df_ALUCarrera['Id_Carrera'].isin(listaDeCarreras)]\n",
    "df_AluMateria = df_AluMateria[~df_AluMateria['Id_Carrera'].isin(listaDeCarreras)]"
   ]
  },
  {
   "cell_type": "markdown",
   "metadata": {},
   "source": [
    "### Elimino Años que no me interesan de el DF AluMateria"
   ]
  },
  {
   "cell_type": "code",
   "execution_count": 8,
   "metadata": {},
   "outputs": [
    {
     "data": {
      "text/plain": [
       "count    130673.000000\n",
       "mean       2007.038654\n",
       "std           3.238610\n",
       "min        1982.000000\n",
       "25%        2005.000000\n",
       "50%        2007.000000\n",
       "75%        2009.000000\n",
       "max        2021.000000\n",
       "Name: Año, dtype: float64"
      ]
     },
     "execution_count": 8,
     "metadata": {},
     "output_type": "execute_result"
    }
   ],
   "source": [
    "df_AluMateria['Año'].describe()"
   ]
  },
  {
   "cell_type": "code",
   "execution_count": 9,
   "metadata": {},
   "outputs": [],
   "source": [
    "# Vacio los años que no esten entre 2001 y 2010 ya que si los graficamos hay un monton de datos faltantes en varias carreras. \n",
    "df_AluMateria.loc[(df_AluMateria['Año']<2001) | (df_AluMateria['Año']>2010),['Fecha_Inscrip','Año']]=np.nan"
   ]
  },
  {
   "cell_type": "code",
   "execution_count": 10,
   "metadata": {},
   "outputs": [
    {
     "data": {
      "text/plain": [
       "array([2006., 2005., 2007., 2001., 2002., 2004., 2003., 2009., 2010.,\n",
       "         nan, 2008.])"
      ]
     },
     "execution_count": 10,
     "metadata": {},
     "output_type": "execute_result"
    }
   ],
   "source": [
    "#Verifico\n",
    "df_AluMateria['Año'].unique()"
   ]
  },
  {
   "cell_type": "markdown",
   "metadata": {},
   "source": [
    "### Elimino los datos que no sean de la sucursal de cordoba"
   ]
  },
  {
   "cell_type": "markdown",
   "metadata": {},
   "source": [
    "### Columna Edad "
   ]
  },
  {
   "cell_type": "code",
   "execution_count": 11,
   "metadata": {},
   "outputs": [],
   "source": [
    "#Busco Vaciar todos los datos de la fecha de nacimiento que son un error ya que nadie menor a 17 podria estar cursando la carrera \n",
    "df_ALUCarrera.loc[(pd.DatetimeIndex(df_ALUCarrera['Fecha_Ingreso']).year - pd.DatetimeIndex(df_ALUCarrera['Fecha_Nac']).year)<17, 'Fecha_Nac'] = np.nan"
   ]
  },
  {
   "cell_type": "code",
   "execution_count": 12,
   "metadata": {},
   "outputs": [],
   "source": [
    "#Creo una columna llamada edad \n",
    "df_ALUCarrera['Edad'] = pd.DatetimeIndex(df_ALUCarrera['Fecha_Ingreso']).year - pd.DatetimeIndex(df_ALUCarrera['Fecha_Nac']).year "
   ]
  },
  {
   "cell_type": "code",
   "execution_count": 13,
   "metadata": {},
   "outputs": [
    {
     "data": {
      "text/plain": [
       "array([19., 52., 48., 43., 20., 21., 38., 39., 37., 34., 35., 36., 23.,\n",
       "       22., 26., 25., 18., 33., 41., 32., 31., 40., 30., 29., 28., 27.,\n",
       "       24., nan, 17., 53.])"
      ]
     },
     "execution_count": 13,
     "metadata": {},
     "output_type": "execute_result"
    }
   ],
   "source": [
    "#Verifico que los cambios se hayan hecho bien\n",
    "df_ALUCarrera['Edad'].unique()"
   ]
  },
  {
   "cell_type": "markdown",
   "metadata": {},
   "source": [
    "### Sucursal Cordoba"
   ]
  },
  {
   "cell_type": "code",
   "execution_count": 14,
   "metadata": {},
   "outputs": [
    {
     "data": {
      "text/plain": [
       "CO    6146\n",
       "SF       4\n",
       "VA       2\n",
       "VM       2\n",
       "JM       2\n",
       "AR       1\n",
       "Name: Id_Ctro_Ext, dtype: int64"
      ]
     },
     "execution_count": 14,
     "metadata": {},
     "output_type": "execute_result"
    }
   ],
   "source": [
    "df_ALUCarrera['Id_Ctro_Ext'].value_counts()"
   ]
  },
  {
   "cell_type": "code",
   "execution_count": 15,
   "metadata": {},
   "outputs": [
    {
     "data": {
      "text/plain": [
       "CO    129165\n",
       "JM       851\n",
       "VM       206\n",
       "VA       139\n",
       "SF       100\n",
       "CP        90\n",
       "RC        69\n",
       "AR        32\n",
       "HE        13\n",
       "VD         8\n",
       "Name: Ctro_Ext, dtype: int64"
      ]
     },
     "execution_count": 15,
     "metadata": {},
     "output_type": "execute_result"
    }
   ],
   "source": [
    "#Veo cuantos datos hay de cordoba\n",
    "df_AluMateria['Ctro_Ext'].value_counts()"
   ]
  },
  {
   "cell_type": "code",
   "execution_count": 16,
   "metadata": {},
   "outputs": [],
   "source": [
    "#Elimino todo lo que no sea de cordoba\n",
    "df_AluMateria = df_AluMateria[df_AluMateria['Ctro_Ext']=='CO']\n",
    "df_ALUCarrera = df_ALUCarrera[df_ALUCarrera['Id_Ctro_Ext']=='CO']"
   ]
  },
  {
   "cell_type": "markdown",
   "metadata": {},
   "source": [
    "# Manipulacion y modificacion de datos"
   ]
  },
  {
   "cell_type": "markdown",
   "metadata": {},
   "source": [
    "### Estado de alumno en la materia"
   ]
  },
  {
   "cell_type": "markdown",
   "metadata": {},
   "source": [
    "Estado del alumno en la materia: vasicamente quiero revisar en que condicion se encuentra el alumno en cada fila de la materia de la cual tengo un dato sobre el quiero saber si es regular, promociono la materia o esta libre en la misma."
   ]
  },
  {
   "cell_type": "code",
   "execution_count": 17,
   "metadata": {},
   "outputs": [],
   "source": [
    "#Creo la columna y la lleno con un string arbitrario para poder modificarla luego\n",
    "df_AluMateria['Condicion'] = 'Estado'"
   ]
  },
  {
   "cell_type": "code",
   "execution_count": 18,
   "metadata": {},
   "outputs": [],
   "source": [
    "#Creo la condicion de promocionado.\n",
    "df_AluMateria.loc[  (df_AluMateria['Nota_1p'] >= 7 ) & (df_AluMateria['Nota_1p'] != 11) \n",
    "                    & (df_AluMateria['Nota_2p'] >= 7 ) & (df_AluMateria['Nota_2p'] != 11)\n",
    "                    & (df_AluMateria['Nota_TP'] >= 7 ) & (df_AluMateria['Nota_TP'] != 11)\n",
    "                    , 'Condicion'] = 'Promocionado'\n",
    "#Creo la condicion de Regular basandome en la de Promocionado y agregando algunas condiciones mas.\n",
    "df_AluMateria.loc[  (df_AluMateria['Condicion'] !='Promocionado')\n",
    "                    & ((df_AluMateria['Nota_TP'] >= 4) & (df_AluMateria['Nota_2p'] >= 4) & (df_AluMateria['Nota_1p'] >= 4) \n",
    "                        & (df_AluMateria['Nota_TP'] !=11) & (df_AluMateria['Nota_2p'] !=11) & (df_AluMateria['Nota_1p'] !=11)) \n",
    "                    | ((df_AluMateria['Nota_Recup']!= 11 ) & (df_AluMateria['Nota_Recup']>= 4 ))\n",
    "                    , 'Condicion'] = \"Regular\"\n",
    "#Creo la condicion de libre por descarte de la de Regular y Promocionado.\n",
    "df_AluMateria.loc[  (df_AluMateria['Condicion'] != \"Promocionado\") & (df_AluMateria['Condicion'] !='Regular')\n",
    "                    , 'Condicion'] = 'Libre'"
   ]
  },
  {
   "cell_type": "markdown",
   "metadata": {},
   "source": [
    "### Recursante"
   ]
  },
  {
   "cell_type": "code",
   "execution_count": 19,
   "metadata": {},
   "outputs": [],
   "source": [
    "#Uso shift para usar el dato de la fila anterior y lo comparo con el de la fila actual.\n",
    "#Si son iguales es porque el alumno esta recursando esa materia.\n",
    "df_AluMateria['Tipo']=np.where(   ((df_AluMateria['Id_Materia'].shift() == df_AluMateria['Id_Materia']))\n",
    "                                & ((df_AluMateria['Id_Carrera'].shift() == df_AluMateria['Id_Carrera']))\n",
    "                                & ((df_AluMateria['Id_Alumno'].shift() == df_AluMateria['Id_Alumno']))\n",
    "                                    ,'Recursante', np.nan)"
   ]
  },
  {
   "cell_type": "markdown",
   "metadata": {},
   "source": [
    "### Egresado, Cursante, Desertor"
   ]
  },
  {
   "cell_type": "code",
   "execution_count": 20,
   "metadata": {},
   "outputs": [],
   "source": [
    "df_AluMateria['Estado'] = 'Estado'"
   ]
  },
  {
   "cell_type": "code",
   "execution_count": 21,
   "metadata": {},
   "outputs": [],
   "source": [
    "df_AluMateria = pd.merge(df_AluMateria,\n",
    "                        df_Carreras[['Id_Carrera','Cuatrimestres']],\n",
    "                        how='inner',\n",
    "                        on=['Id_Carrera'])"
   ]
  },
  {
   "cell_type": "code",
   "execution_count": 22,
   "metadata": {},
   "outputs": [],
   "source": [
    "#Creo la condicion de Egresado\n",
    "df_AluMateria.loc[ (df_AluMateria['Cuatrimestre'] == df_AluMateria['Cuatrimestres']), 'Estado'] = 'Egresado' \n",
    "#Creo la condicion de Cursando\n",
    "df_AluMateria.loc[ (df_AluMateria['Estado'] != 'Egresado') &\n",
    "                    (df_AluMateria['Cuatrimestre'] != df_AluMateria['Cuatrimestres']) &\n",
    "                    (df_AluMateria['Año'] == 2010) &\n",
    "                    (df_AluMateria['Semestre']==2), 'Estado'] = 'Cursando'\n",
    "#Creo la condicion de Desertor\n",
    "df_AluMateria.loc[(df_AluMateria['Estado']!='Egresado') &\n",
    "                    (df_AluMateria['Estado']!='Cursando') &\n",
    "                    (df_AluMateria['Cuatrimestre']!=df_AluMateria['Cuatrimestres'])&\n",
    "                    (((df_AluMateria['Año']==2010)&(df_AluMateria['Semestre']==1))|\n",
    "                    ((df_AluMateria['Año']!=2010))),'Estado']='Desertor'"
   ]
  },
  {
   "cell_type": "code",
   "execution_count": 23,
   "metadata": {},
   "outputs": [
    {
     "data": {
      "text/html": [
       "<div>\n",
       "<style scoped>\n",
       "    .dataframe tbody tr th:only-of-type {\n",
       "        vertical-align: middle;\n",
       "    }\n",
       "\n",
       "    .dataframe tbody tr th {\n",
       "        vertical-align: top;\n",
       "    }\n",
       "\n",
       "    .dataframe thead th {\n",
       "        text-align: right;\n",
       "    }\n",
       "</style>\n",
       "<table border=\"1\" class=\"dataframe\">\n",
       "  <thead>\n",
       "    <tr style=\"text-align: right;\">\n",
       "      <th></th>\n",
       "      <th>Id_Alumno</th>\n",
       "      <th>Cantidad</th>\n",
       "    </tr>\n",
       "  </thead>\n",
       "  <tbody>\n",
       "    <tr>\n",
       "      <th>5099</th>\n",
       "      <td>0xD939FAAAF156527DFE6AEF66BD58EC08</td>\n",
       "      <td>3</td>\n",
       "    </tr>\n",
       "    <tr>\n",
       "      <th>2831</th>\n",
       "      <td>0x786298BEF8E9AA1F20C3D079463EAB73</td>\n",
       "      <td>2</td>\n",
       "    </tr>\n",
       "    <tr>\n",
       "      <th>1420</th>\n",
       "      <td>0x3BB60A9E0F9935677A0427E8D30480A7</td>\n",
       "      <td>2</td>\n",
       "    </tr>\n",
       "    <tr>\n",
       "      <th>1417</th>\n",
       "      <td>0x3B8E5503C9C36B2AD3C86F4AB5A83CB7</td>\n",
       "      <td>2</td>\n",
       "    </tr>\n",
       "    <tr>\n",
       "      <th>2147</th>\n",
       "      <td>0x5BE27FA218DC751C9E86F6218D4A72F5</td>\n",
       "      <td>2</td>\n",
       "    </tr>\n",
       "    <tr>\n",
       "      <th>...</th>\n",
       "      <td>...</td>\n",
       "      <td>...</td>\n",
       "    </tr>\n",
       "    <tr>\n",
       "      <th>2020</th>\n",
       "      <td>0x556C2E88464BADDB1645ED5B3AB047A0</td>\n",
       "      <td>1</td>\n",
       "    </tr>\n",
       "    <tr>\n",
       "      <th>2019</th>\n",
       "      <td>0x5552F249F93F26722CDF25018BDAC8B6</td>\n",
       "      <td>1</td>\n",
       "    </tr>\n",
       "    <tr>\n",
       "      <th>2018</th>\n",
       "      <td>0x554A7492AF4381123F4AE472EA9BEEB3</td>\n",
       "      <td>1</td>\n",
       "    </tr>\n",
       "    <tr>\n",
       "      <th>2017</th>\n",
       "      <td>0x554704F29CBB7B9F52E0B82211132C06</td>\n",
       "      <td>1</td>\n",
       "    </tr>\n",
       "    <tr>\n",
       "      <th>6013</th>\n",
       "      <td>0xFFE8452F792919112FB2D75DC6EE3B31</td>\n",
       "      <td>1</td>\n",
       "    </tr>\n",
       "  </tbody>\n",
       "</table>\n",
       "<p>6014 rows × 2 columns</p>\n",
       "</div>"
      ],
      "text/plain": [
       "                               Id_Alumno  Cantidad\n",
       "5099  0xD939FAAAF156527DFE6AEF66BD58EC08         3\n",
       "2831  0x786298BEF8E9AA1F20C3D079463EAB73         2\n",
       "1420  0x3BB60A9E0F9935677A0427E8D30480A7         2\n",
       "1417  0x3B8E5503C9C36B2AD3C86F4AB5A83CB7         2\n",
       "2147  0x5BE27FA218DC751C9E86F6218D4A72F5         2\n",
       "...                                  ...       ...\n",
       "2020  0x556C2E88464BADDB1645ED5B3AB047A0         1\n",
       "2019  0x5552F249F93F26722CDF25018BDAC8B6         1\n",
       "2018  0x554A7492AF4381123F4AE472EA9BEEB3         1\n",
       "2017  0x554704F29CBB7B9F52E0B82211132C06         1\n",
       "6013  0xFFE8452F792919112FB2D75DC6EE3B31         1\n",
       "\n",
       "[6014 rows x 2 columns]"
      ]
     },
     "execution_count": 23,
     "metadata": {},
     "output_type": "execute_result"
    }
   ],
   "source": [
    "#Utilizo un gruopby para clasificar a los alumnos por sus ID y luego genero un Count de las carreras en las que estuvó.\n",
    "AlumnosRepetidos = df_ALUCarrera.groupby(['Id_Alumno'])['Id_Carrera'].count().reset_index(name='Cantidad')\n",
    "AlumnosRepetidos.sort_values(by='Cantidad',ascending=False)"
   ]
  },
  {
   "cell_type": "markdown",
   "metadata": {},
   "source": [
    "# Graficas"
   ]
  },
  {
   "cell_type": "markdown",
   "metadata": {},
   "source": [
    "### Cantidad de Alumnos de cada carrera x Año y semestre"
   ]
  },
  {
   "cell_type": "code",
   "execution_count": 24,
   "metadata": {},
   "outputs": [
    {
     "data": {
      "application/vnd.plotly.v1+json": {
       "config": {
        "plotlyServerURL": "https://plot.ly"
       },
       "data": [
        {
         "hovertemplate": "Nombre_Corto=ANALISTA DE SISTEMAS<br>Semestre_Ingreso=1<br>Año_Ingreso=%{x}<br>Cantidad=%{y}<extra></extra>",
         "legendgroup": "ANALISTA DE SISTEMAS",
         "line": {
          "color": "#636efa",
          "dash": "solid"
         },
         "marker": {
          "symbol": "circle"
         },
         "mode": "lines",
         "name": "ANALISTA DE SISTEMAS",
         "orientation": "v",
         "showlegend": true,
         "type": "scatter",
         "x": [
          2001,
          2002,
          2003,
          2004,
          2005,
          2006,
          2007,
          2008,
          2009,
          2010
         ],
         "xaxis": "x",
         "y": [
          44,
          30,
          29,
          19,
          38,
          46,
          57,
          54,
          45,
          111
         ],
         "yaxis": "y"
        },
        {
         "hovertemplate": "Nombre_Corto=ANALISTA DE SISTEMAS<br>Semestre_Ingreso=2<br>Año_Ingreso=%{x}<br>Cantidad=%{y}<extra></extra>",
         "legendgroup": "ANALISTA DE SISTEMAS",
         "line": {
          "color": "#636efa",
          "dash": "solid"
         },
         "marker": {
          "symbol": "circle"
         },
         "mode": "lines",
         "name": "ANALISTA DE SISTEMAS",
         "orientation": "v",
         "showlegend": false,
         "type": "scatter",
         "x": [
          2001,
          2002,
          2003,
          2004,
          2005,
          2006,
          2008,
          2009,
          2010
         ],
         "xaxis": "x2",
         "y": [
          5,
          12,
          7,
          15,
          15,
          6,
          10,
          11,
          28
         ],
         "yaxis": "y2"
        },
        {
         "hovertemplate": "Nombre_Corto=MARKETING<br>Semestre_Ingreso=1<br>Año_Ingreso=%{x}<br>Cantidad=%{y}<extra></extra>",
         "legendgroup": "MARKETING",
         "line": {
          "color": "#EF553B",
          "dash": "solid"
         },
         "marker": {
          "symbol": "circle"
         },
         "mode": "lines",
         "name": "MARKETING",
         "orientation": "v",
         "showlegend": true,
         "type": "scatter",
         "x": [
          2001,
          2002,
          2003,
          2004,
          2005,
          2006,
          2007,
          2008,
          2009,
          2010
         ],
         "xaxis": "x",
         "y": [
          91,
          69,
          45,
          55,
          60,
          62,
          53,
          43,
          46,
          39
         ],
         "yaxis": "y"
        },
        {
         "hovertemplate": "Nombre_Corto=MARKETING<br>Semestre_Ingreso=2<br>Año_Ingreso=%{x}<br>Cantidad=%{y}<extra></extra>",
         "legendgroup": "MARKETING",
         "line": {
          "color": "#EF553B",
          "dash": "solid"
         },
         "marker": {
          "symbol": "circle"
         },
         "mode": "lines",
         "name": "MARKETING",
         "orientation": "v",
         "showlegend": false,
         "type": "scatter",
         "x": [
          2001,
          2002,
          2003,
          2004,
          2005,
          2006,
          2007,
          2009,
          2010
         ],
         "xaxis": "x2",
         "y": [
          15,
          13,
          13,
          13,
          11,
          1,
          10,
          1,
          1
         ],
         "yaxis": "y2"
        },
        {
         "hovertemplate": "Nombre_Corto=PUBLICIDAD<br>Semestre_Ingreso=1<br>Año_Ingreso=%{x}<br>Cantidad=%{y}<extra></extra>",
         "legendgroup": "PUBLICIDAD",
         "line": {
          "color": "#00cc96",
          "dash": "solid"
         },
         "marker": {
          "symbol": "circle"
         },
         "mode": "lines",
         "name": "PUBLICIDAD",
         "orientation": "v",
         "showlegend": true,
         "type": "scatter",
         "x": [
          2001,
          2002,
          2003,
          2004,
          2005,
          2006,
          2007,
          2008,
          2009,
          2010
         ],
         "xaxis": "x",
         "y": [
          37,
          32,
          39,
          34,
          43,
          51,
          48,
          46,
          48,
          54
         ],
         "yaxis": "y"
        },
        {
         "hovertemplate": "Nombre_Corto=PUBLICIDAD<br>Semestre_Ingreso=2<br>Año_Ingreso=%{x}<br>Cantidad=%{y}<extra></extra>",
         "legendgroup": "PUBLICIDAD",
         "line": {
          "color": "#00cc96",
          "dash": "solid"
         },
         "marker": {
          "symbol": "circle"
         },
         "mode": "lines",
         "name": "PUBLICIDAD",
         "orientation": "v",
         "showlegend": false,
         "type": "scatter",
         "x": [
          2001,
          2002,
          2003,
          2004,
          2005,
          2006,
          2009,
          2010
         ],
         "xaxis": "x2",
         "y": [
          15,
          9,
          4,
          11,
          5,
          22,
          5,
          3
         ],
         "yaxis": "y2"
        },
        {
         "hovertemplate": "Nombre_Corto=ADMINISTRACIÓN DE EMPRESAS<br>Semestre_Ingreso=1<br>Año_Ingreso=%{x}<br>Cantidad=%{y}<extra></extra>",
         "legendgroup": "ADMINISTRACIÓN DE EMPRESAS",
         "line": {
          "color": "#ab63fa",
          "dash": "solid"
         },
         "marker": {
          "symbol": "circle"
         },
         "mode": "lines",
         "name": "ADMINISTRACIÓN DE EMPRESAS",
         "orientation": "v",
         "showlegend": true,
         "type": "scatter",
         "x": [
          2001,
          2002,
          2003,
          2004,
          2005,
          2006,
          2007,
          2008,
          2009,
          2010
         ],
         "xaxis": "x",
         "y": [
          84,
          51,
          37,
          46,
          57,
          51,
          39,
          56,
          42,
          36
         ],
         "yaxis": "y"
        },
        {
         "hovertemplate": "Nombre_Corto=ADMINISTRACIÓN DE EMPRESAS<br>Semestre_Ingreso=2<br>Año_Ingreso=%{x}<br>Cantidad=%{y}<extra></extra>",
         "legendgroup": "ADMINISTRACIÓN DE EMPRESAS",
         "line": {
          "color": "#ab63fa",
          "dash": "solid"
         },
         "marker": {
          "symbol": "circle"
         },
         "mode": "lines",
         "name": "ADMINISTRACIÓN DE EMPRESAS",
         "orientation": "v",
         "showlegend": false,
         "type": "scatter",
         "x": [
          2001,
          2002,
          2003,
          2004,
          2005,
          2006,
          2007,
          2008,
          2010
         ],
         "xaxis": "x2",
         "y": [
          13,
          19,
          9,
          15,
          13,
          11,
          11,
          11,
          7
         ],
         "yaxis": "y2"
        },
        {
         "hovertemplate": "Nombre_Corto=DISEÑO GRÁFICO<br>Semestre_Ingreso=1<br>Año_Ingreso=%{x}<br>Cantidad=%{y}<extra></extra>",
         "legendgroup": "DISEÑO GRÁFICO",
         "line": {
          "color": "#FFA15A",
          "dash": "solid"
         },
         "marker": {
          "symbol": "circle"
         },
         "mode": "lines",
         "name": "DISEÑO GRÁFICO",
         "orientation": "v",
         "showlegend": true,
         "type": "scatter",
         "x": [
          2001,
          2002,
          2003,
          2004,
          2005,
          2006,
          2007,
          2008,
          2009,
          2010
         ],
         "xaxis": "x",
         "y": [
          78,
          63,
          37,
          86,
          85,
          83,
          100,
          105,
          119,
          70
         ],
         "yaxis": "y"
        },
        {
         "hovertemplate": "Nombre_Corto=DISEÑO GRÁFICO<br>Semestre_Ingreso=2<br>Año_Ingreso=%{x}<br>Cantidad=%{y}<extra></extra>",
         "legendgroup": "DISEÑO GRÁFICO",
         "line": {
          "color": "#FFA15A",
          "dash": "solid"
         },
         "marker": {
          "symbol": "circle"
         },
         "mode": "lines",
         "name": "DISEÑO GRÁFICO",
         "orientation": "v",
         "showlegend": false,
         "type": "scatter",
         "x": [
          2001,
          2002,
          2003,
          2004,
          2005,
          2006,
          2007,
          2008,
          2009,
          2010
         ],
         "xaxis": "x2",
         "y": [
          11,
          11,
          7,
          24,
          19,
          28,
          8,
          10,
          8,
          10
         ],
         "yaxis": "y2"
        },
        {
         "hovertemplate": "Nombre_Corto=RELACIONES PÚBLICAS<br>Semestre_Ingreso=1<br>Año_Ingreso=%{x}<br>Cantidad=%{y}<extra></extra>",
         "legendgroup": "RELACIONES PÚBLICAS",
         "line": {
          "color": "#19d3f3",
          "dash": "solid"
         },
         "marker": {
          "symbol": "circle"
         },
         "mode": "lines",
         "name": "RELACIONES PÚBLICAS",
         "orientation": "v",
         "showlegend": true,
         "type": "scatter",
         "x": [
          2001,
          2002,
          2003,
          2004,
          2005,
          2006,
          2007,
          2008,
          2009,
          2010
         ],
         "xaxis": "x",
         "y": [
          67,
          55,
          33,
          64,
          64,
          82,
          71,
          66,
          68,
          36
         ],
         "yaxis": "y"
        },
        {
         "hovertemplate": "Nombre_Corto=RELACIONES PÚBLICAS<br>Semestre_Ingreso=2<br>Año_Ingreso=%{x}<br>Cantidad=%{y}<extra></extra>",
         "legendgroup": "RELACIONES PÚBLICAS",
         "line": {
          "color": "#19d3f3",
          "dash": "solid"
         },
         "marker": {
          "symbol": "circle"
         },
         "mode": "lines",
         "name": "RELACIONES PÚBLICAS",
         "orientation": "v",
         "showlegend": false,
         "type": "scatter",
         "x": [
          2001,
          2002,
          2003,
          2004,
          2005,
          2007,
          2009,
          2010
         ],
         "xaxis": "x2",
         "y": [
          15,
          6,
          1,
          18,
          17,
          14,
          1,
          9
         ],
         "yaxis": "y2"
        },
        {
         "hovertemplate": "Nombre_Corto=RECURSOS HUMANOS<br>Semestre_Ingreso=1<br>Año_Ingreso=%{x}<br>Cantidad=%{y}<extra></extra>",
         "legendgroup": "RECURSOS HUMANOS",
         "line": {
          "color": "#FF6692",
          "dash": "solid"
         },
         "marker": {
          "symbol": "circle"
         },
         "mode": "lines",
         "name": "RECURSOS HUMANOS",
         "orientation": "v",
         "showlegend": true,
         "type": "scatter",
         "x": [
          2001,
          2002,
          2003,
          2004,
          2005,
          2006,
          2007,
          2008,
          2009,
          2010
         ],
         "xaxis": "x",
         "y": [
          52,
          41,
          30,
          40,
          53,
          59,
          92,
          82,
          76,
          43
         ],
         "yaxis": "y"
        },
        {
         "hovertemplate": "Nombre_Corto=RECURSOS HUMANOS<br>Semestre_Ingreso=2<br>Año_Ingreso=%{x}<br>Cantidad=%{y}<extra></extra>",
         "legendgroup": "RECURSOS HUMANOS",
         "line": {
          "color": "#FF6692",
          "dash": "solid"
         },
         "marker": {
          "symbol": "circle"
         },
         "mode": "lines",
         "name": "RECURSOS HUMANOS",
         "orientation": "v",
         "showlegend": false,
         "type": "scatter",
         "x": [
          2001,
          2002,
          2003,
          2004,
          2005,
          2006,
          2007,
          2008,
          2009
         ],
         "xaxis": "x2",
         "y": [
          13,
          13,
          9,
          3,
          23,
          11,
          18,
          8,
          9
         ],
         "yaxis": "y2"
        },
        {
         "hovertemplate": "Nombre_Corto=COMERCIO INTERNACIONAL<br>Semestre_Ingreso=1<br>Año_Ingreso=%{x}<br>Cantidad=%{y}<extra></extra>",
         "legendgroup": "COMERCIO INTERNACIONAL",
         "line": {
          "color": "#B6E880",
          "dash": "solid"
         },
         "marker": {
          "symbol": "circle"
         },
         "mode": "lines",
         "name": "COMERCIO INTERNACIONAL",
         "orientation": "v",
         "showlegend": true,
         "type": "scatter",
         "x": [
          2001,
          2002,
          2003,
          2004,
          2005,
          2006,
          2007,
          2008,
          2009,
          2010
         ],
         "xaxis": "x",
         "y": [
          16,
          3,
          17,
          18,
          20,
          31,
          18,
          27,
          18,
          21
         ],
         "yaxis": "y"
        },
        {
         "hovertemplate": "Nombre_Corto=COMERCIO INTERNACIONAL<br>Semestre_Ingreso=2<br>Año_Ingreso=%{x}<br>Cantidad=%{y}<extra></extra>",
         "legendgroup": "COMERCIO INTERNACIONAL",
         "line": {
          "color": "#B6E880",
          "dash": "solid"
         },
         "marker": {
          "symbol": "circle"
         },
         "mode": "lines",
         "name": "COMERCIO INTERNACIONAL",
         "orientation": "v",
         "showlegend": false,
         "type": "scatter",
         "x": [
          2001,
          2002,
          2004,
          2005,
          2006,
          2010
         ],
         "xaxis": "x2",
         "y": [
          4,
          4,
          2,
          2,
          1,
          2
         ],
         "yaxis": "y2"
        },
        {
         "hovertemplate": "Nombre_Corto=AGRONEGOCIOS<br>Semestre_Ingreso=1<br>Año_Ingreso=%{x}<br>Cantidad=%{y}<extra></extra>",
         "legendgroup": "AGRONEGOCIOS",
         "line": {
          "color": "#FF97FF",
          "dash": "solid"
         },
         "marker": {
          "symbol": "circle"
         },
         "mode": "lines",
         "name": "AGRONEGOCIOS",
         "orientation": "v",
         "showlegend": true,
         "type": "scatter",
         "x": [
          2001,
          2002,
          2003,
          2004,
          2005,
          2006,
          2007,
          2008,
          2009,
          2010
         ],
         "xaxis": "x",
         "y": [
          24,
          28,
          34,
          47,
          59,
          40,
          30,
          44,
          37,
          82
         ],
         "yaxis": "y"
        },
        {
         "hovertemplate": "Nombre_Corto=AGRONEGOCIOS<br>Semestre_Ingreso=2<br>Año_Ingreso=%{x}<br>Cantidad=%{y}<extra></extra>",
         "legendgroup": "AGRONEGOCIOS",
         "line": {
          "color": "#FF97FF",
          "dash": "solid"
         },
         "marker": {
          "symbol": "circle"
         },
         "mode": "lines",
         "name": "AGRONEGOCIOS",
         "orientation": "v",
         "showlegend": false,
         "type": "scatter",
         "x": [
          2001,
          2002,
          2003,
          2004,
          2005,
          2006,
          2007,
          2008,
          2010
         ],
         "xaxis": "x2",
         "y": [
          14,
          5,
          10,
          1,
          13,
          7,
          1,
          2,
          16
         ],
         "yaxis": "y2"
        },
        {
         "hovertemplate": "Nombre_Corto=TURISMO<br>Semestre_Ingreso=1<br>Año_Ingreso=%{x}<br>Cantidad=%{y}<extra></extra>",
         "legendgroup": "TURISMO",
         "line": {
          "color": "#FECB52",
          "dash": "solid"
         },
         "marker": {
          "symbol": "circle"
         },
         "mode": "lines",
         "name": "TURISMO",
         "orientation": "v",
         "showlegend": true,
         "type": "scatter",
         "x": [
          2001,
          2002,
          2003,
          2004,
          2005,
          2006,
          2007,
          2008,
          2009,
          2010
         ],
         "xaxis": "x",
         "y": [
          19,
          12,
          18,
          18,
          17,
          18,
          25,
          35,
          39,
          46
         ],
         "yaxis": "y"
        },
        {
         "hovertemplate": "Nombre_Corto=TURISMO<br>Semestre_Ingreso=2<br>Año_Ingreso=%{x}<br>Cantidad=%{y}<extra></extra>",
         "legendgroup": "TURISMO",
         "line": {
          "color": "#FECB52",
          "dash": "solid"
         },
         "marker": {
          "symbol": "circle"
         },
         "mode": "lines",
         "name": "TURISMO",
         "orientation": "v",
         "showlegend": false,
         "type": "scatter",
         "x": [
          2001,
          2002,
          2005,
          2006,
          2007,
          2008,
          2009,
          2010
         ],
         "xaxis": "x2",
         "y": [
          3,
          4,
          2,
          2,
          1,
          1,
          2,
          8
         ],
         "yaxis": "y2"
        },
        {
         "hovertemplate": "Nombre_Corto=MULTIMEDIOS<br>Semestre_Ingreso=1<br>Año_Ingreso=%{x}<br>Cantidad=%{y}<extra></extra>",
         "legendgroup": "MULTIMEDIOS",
         "line": {
          "color": "#636efa",
          "dash": "solid"
         },
         "marker": {
          "symbol": "circle"
         },
         "mode": "lines",
         "name": "MULTIMEDIOS",
         "orientation": "v",
         "showlegend": true,
         "type": "scatter",
         "x": [
          2001,
          2002,
          2003,
          2004,
          2005,
          2006,
          2007,
          2008,
          2009,
          2010
         ],
         "xaxis": "x",
         "y": [
          41,
          23,
          16,
          29,
          34,
          31,
          36,
          29,
          32,
          22
         ],
         "yaxis": "y"
        },
        {
         "hovertemplate": "Nombre_Corto=MULTIMEDIOS<br>Semestre_Ingreso=2<br>Año_Ingreso=%{x}<br>Cantidad=%{y}<extra></extra>",
         "legendgroup": "MULTIMEDIOS",
         "line": {
          "color": "#636efa",
          "dash": "solid"
         },
         "marker": {
          "symbol": "circle"
         },
         "mode": "lines",
         "name": "MULTIMEDIOS",
         "orientation": "v",
         "showlegend": false,
         "type": "scatter",
         "x": [
          2001,
          2002,
          2003,
          2004,
          2005,
          2006,
          2007,
          2008,
          2009,
          2010
         ],
         "xaxis": "x2",
         "y": [
          6,
          3,
          5,
          1,
          5,
          6,
          2,
          1,
          10,
          2
         ],
         "yaxis": "y2"
        },
        {
         "hovertemplate": "Nombre_Corto=GESTIÓN AMBIENTAL<br>Semestre_Ingreso=1<br>Año_Ingreso=%{x}<br>Cantidad=%{y}<extra></extra>",
         "legendgroup": "GESTIÓN AMBIENTAL",
         "line": {
          "color": "#EF553B",
          "dash": "solid"
         },
         "marker": {
          "symbol": "circle"
         },
         "mode": "lines",
         "name": "GESTIÓN AMBIENTAL",
         "orientation": "v",
         "showlegend": true,
         "type": "scatter",
         "x": [
          2001,
          2006,
          2009,
          2010
         ],
         "xaxis": "x",
         "y": [
          10,
          2,
          13,
          26
         ],
         "yaxis": "y"
        },
        {
         "hovertemplate": "Nombre_Corto=GESTIÓN AMBIENTAL<br>Semestre_Ingreso=2<br>Año_Ingreso=%{x}<br>Cantidad=%{y}<extra></extra>",
         "legendgroup": "GESTIÓN AMBIENTAL",
         "line": {
          "color": "#EF553B",
          "dash": "solid"
         },
         "marker": {
          "symbol": "circle"
         },
         "mode": "lines",
         "name": "GESTIÓN AMBIENTAL",
         "orientation": "v",
         "showlegend": false,
         "type": "scatter",
         "x": [
          2009,
          2010
         ],
         "xaxis": "x2",
         "y": [
          4,
          2
         ],
         "yaxis": "y2"
        },
        {
         "hovertemplate": "Nombre_Corto=GESTIÓN CONTABLE Y FINANCIERA<br>Semestre_Ingreso=1<br>Año_Ingreso=%{x}<br>Cantidad=%{y}<extra></extra>",
         "legendgroup": "GESTIÓN CONTABLE Y FINANCIERA",
         "line": {
          "color": "#00cc96",
          "dash": "solid"
         },
         "marker": {
          "symbol": "circle"
         },
         "mode": "lines",
         "name": "GESTIÓN CONTABLE Y FINANCIERA",
         "orientation": "v",
         "showlegend": true,
         "type": "scatter",
         "x": [
          2001,
          2002,
          2003,
          2004,
          2005,
          2006,
          2007,
          2008,
          2009,
          2010
         ],
         "xaxis": "x",
         "y": [
          11,
          12,
          3,
          1,
          14,
          20,
          8,
          12,
          24,
          11
         ],
         "yaxis": "y"
        },
        {
         "hovertemplate": "Nombre_Corto=GESTIÓN CONTABLE Y FINANCIERA<br>Semestre_Ingreso=2<br>Año_Ingreso=%{x}<br>Cantidad=%{y}<extra></extra>",
         "legendgroup": "GESTIÓN CONTABLE Y FINANCIERA",
         "line": {
          "color": "#00cc96",
          "dash": "solid"
         },
         "marker": {
          "symbol": "circle"
         },
         "mode": "lines",
         "name": "GESTIÓN CONTABLE Y FINANCIERA",
         "orientation": "v",
         "showlegend": false,
         "type": "scatter",
         "x": [
          2004,
          2005,
          2007,
          2010
         ],
         "xaxis": "x2",
         "y": [
          1,
          2,
          1,
          6
         ],
         "yaxis": "y2"
        }
       ],
       "layout": {
        "annotations": [
         {
          "font": {},
          "showarrow": false,
          "text": "Semestre_Ingreso=1",
          "x": 0.245,
          "xanchor": "center",
          "xref": "paper",
          "y": 1,
          "yanchor": "bottom",
          "yref": "paper"
         },
         {
          "font": {},
          "showarrow": false,
          "text": "Semestre_Ingreso=2",
          "x": 0.755,
          "xanchor": "center",
          "xref": "paper",
          "y": 1,
          "yanchor": "bottom",
          "yref": "paper"
         }
        ],
        "legend": {
         "title": {
          "text": "Nombre_Corto"
         },
         "tracegroupgap": 0
        },
        "template": {
         "data": {
          "bar": [
           {
            "error_x": {
             "color": "#2a3f5f"
            },
            "error_y": {
             "color": "#2a3f5f"
            },
            "marker": {
             "line": {
              "color": "#E5ECF6",
              "width": 0.5
             },
             "pattern": {
              "fillmode": "overlay",
              "size": 10,
              "solidity": 0.2
             }
            },
            "type": "bar"
           }
          ],
          "barpolar": [
           {
            "marker": {
             "line": {
              "color": "#E5ECF6",
              "width": 0.5
             },
             "pattern": {
              "fillmode": "overlay",
              "size": 10,
              "solidity": 0.2
             }
            },
            "type": "barpolar"
           }
          ],
          "carpet": [
           {
            "aaxis": {
             "endlinecolor": "#2a3f5f",
             "gridcolor": "white",
             "linecolor": "white",
             "minorgridcolor": "white",
             "startlinecolor": "#2a3f5f"
            },
            "baxis": {
             "endlinecolor": "#2a3f5f",
             "gridcolor": "white",
             "linecolor": "white",
             "minorgridcolor": "white",
             "startlinecolor": "#2a3f5f"
            },
            "type": "carpet"
           }
          ],
          "choropleth": [
           {
            "colorbar": {
             "outlinewidth": 0,
             "ticks": ""
            },
            "type": "choropleth"
           }
          ],
          "contour": [
           {
            "colorbar": {
             "outlinewidth": 0,
             "ticks": ""
            },
            "colorscale": [
             [
              0,
              "#0d0887"
             ],
             [
              0.1111111111111111,
              "#46039f"
             ],
             [
              0.2222222222222222,
              "#7201a8"
             ],
             [
              0.3333333333333333,
              "#9c179e"
             ],
             [
              0.4444444444444444,
              "#bd3786"
             ],
             [
              0.5555555555555556,
              "#d8576b"
             ],
             [
              0.6666666666666666,
              "#ed7953"
             ],
             [
              0.7777777777777778,
              "#fb9f3a"
             ],
             [
              0.8888888888888888,
              "#fdca26"
             ],
             [
              1,
              "#f0f921"
             ]
            ],
            "type": "contour"
           }
          ],
          "contourcarpet": [
           {
            "colorbar": {
             "outlinewidth": 0,
             "ticks": ""
            },
            "type": "contourcarpet"
           }
          ],
          "heatmap": [
           {
            "colorbar": {
             "outlinewidth": 0,
             "ticks": ""
            },
            "colorscale": [
             [
              0,
              "#0d0887"
             ],
             [
              0.1111111111111111,
              "#46039f"
             ],
             [
              0.2222222222222222,
              "#7201a8"
             ],
             [
              0.3333333333333333,
              "#9c179e"
             ],
             [
              0.4444444444444444,
              "#bd3786"
             ],
             [
              0.5555555555555556,
              "#d8576b"
             ],
             [
              0.6666666666666666,
              "#ed7953"
             ],
             [
              0.7777777777777778,
              "#fb9f3a"
             ],
             [
              0.8888888888888888,
              "#fdca26"
             ],
             [
              1,
              "#f0f921"
             ]
            ],
            "type": "heatmap"
           }
          ],
          "heatmapgl": [
           {
            "colorbar": {
             "outlinewidth": 0,
             "ticks": ""
            },
            "colorscale": [
             [
              0,
              "#0d0887"
             ],
             [
              0.1111111111111111,
              "#46039f"
             ],
             [
              0.2222222222222222,
              "#7201a8"
             ],
             [
              0.3333333333333333,
              "#9c179e"
             ],
             [
              0.4444444444444444,
              "#bd3786"
             ],
             [
              0.5555555555555556,
              "#d8576b"
             ],
             [
              0.6666666666666666,
              "#ed7953"
             ],
             [
              0.7777777777777778,
              "#fb9f3a"
             ],
             [
              0.8888888888888888,
              "#fdca26"
             ],
             [
              1,
              "#f0f921"
             ]
            ],
            "type": "heatmapgl"
           }
          ],
          "histogram": [
           {
            "marker": {
             "pattern": {
              "fillmode": "overlay",
              "size": 10,
              "solidity": 0.2
             }
            },
            "type": "histogram"
           }
          ],
          "histogram2d": [
           {
            "colorbar": {
             "outlinewidth": 0,
             "ticks": ""
            },
            "colorscale": [
             [
              0,
              "#0d0887"
             ],
             [
              0.1111111111111111,
              "#46039f"
             ],
             [
              0.2222222222222222,
              "#7201a8"
             ],
             [
              0.3333333333333333,
              "#9c179e"
             ],
             [
              0.4444444444444444,
              "#bd3786"
             ],
             [
              0.5555555555555556,
              "#d8576b"
             ],
             [
              0.6666666666666666,
              "#ed7953"
             ],
             [
              0.7777777777777778,
              "#fb9f3a"
             ],
             [
              0.8888888888888888,
              "#fdca26"
             ],
             [
              1,
              "#f0f921"
             ]
            ],
            "type": "histogram2d"
           }
          ],
          "histogram2dcontour": [
           {
            "colorbar": {
             "outlinewidth": 0,
             "ticks": ""
            },
            "colorscale": [
             [
              0,
              "#0d0887"
             ],
             [
              0.1111111111111111,
              "#46039f"
             ],
             [
              0.2222222222222222,
              "#7201a8"
             ],
             [
              0.3333333333333333,
              "#9c179e"
             ],
             [
              0.4444444444444444,
              "#bd3786"
             ],
             [
              0.5555555555555556,
              "#d8576b"
             ],
             [
              0.6666666666666666,
              "#ed7953"
             ],
             [
              0.7777777777777778,
              "#fb9f3a"
             ],
             [
              0.8888888888888888,
              "#fdca26"
             ],
             [
              1,
              "#f0f921"
             ]
            ],
            "type": "histogram2dcontour"
           }
          ],
          "mesh3d": [
           {
            "colorbar": {
             "outlinewidth": 0,
             "ticks": ""
            },
            "type": "mesh3d"
           }
          ],
          "parcoords": [
           {
            "line": {
             "colorbar": {
              "outlinewidth": 0,
              "ticks": ""
             }
            },
            "type": "parcoords"
           }
          ],
          "pie": [
           {
            "automargin": true,
            "type": "pie"
           }
          ],
          "scatter": [
           {
            "fillpattern": {
             "fillmode": "overlay",
             "size": 10,
             "solidity": 0.2
            },
            "type": "scatter"
           }
          ],
          "scatter3d": [
           {
            "line": {
             "colorbar": {
              "outlinewidth": 0,
              "ticks": ""
             }
            },
            "marker": {
             "colorbar": {
              "outlinewidth": 0,
              "ticks": ""
             }
            },
            "type": "scatter3d"
           }
          ],
          "scattercarpet": [
           {
            "marker": {
             "colorbar": {
              "outlinewidth": 0,
              "ticks": ""
             }
            },
            "type": "scattercarpet"
           }
          ],
          "scattergeo": [
           {
            "marker": {
             "colorbar": {
              "outlinewidth": 0,
              "ticks": ""
             }
            },
            "type": "scattergeo"
           }
          ],
          "scattergl": [
           {
            "marker": {
             "colorbar": {
              "outlinewidth": 0,
              "ticks": ""
             }
            },
            "type": "scattergl"
           }
          ],
          "scattermapbox": [
           {
            "marker": {
             "colorbar": {
              "outlinewidth": 0,
              "ticks": ""
             }
            },
            "type": "scattermapbox"
           }
          ],
          "scatterpolar": [
           {
            "marker": {
             "colorbar": {
              "outlinewidth": 0,
              "ticks": ""
             }
            },
            "type": "scatterpolar"
           }
          ],
          "scatterpolargl": [
           {
            "marker": {
             "colorbar": {
              "outlinewidth": 0,
              "ticks": ""
             }
            },
            "type": "scatterpolargl"
           }
          ],
          "scatterternary": [
           {
            "marker": {
             "colorbar": {
              "outlinewidth": 0,
              "ticks": ""
             }
            },
            "type": "scatterternary"
           }
          ],
          "surface": [
           {
            "colorbar": {
             "outlinewidth": 0,
             "ticks": ""
            },
            "colorscale": [
             [
              0,
              "#0d0887"
             ],
             [
              0.1111111111111111,
              "#46039f"
             ],
             [
              0.2222222222222222,
              "#7201a8"
             ],
             [
              0.3333333333333333,
              "#9c179e"
             ],
             [
              0.4444444444444444,
              "#bd3786"
             ],
             [
              0.5555555555555556,
              "#d8576b"
             ],
             [
              0.6666666666666666,
              "#ed7953"
             ],
             [
              0.7777777777777778,
              "#fb9f3a"
             ],
             [
              0.8888888888888888,
              "#fdca26"
             ],
             [
              1,
              "#f0f921"
             ]
            ],
            "type": "surface"
           }
          ],
          "table": [
           {
            "cells": {
             "fill": {
              "color": "#EBF0F8"
             },
             "line": {
              "color": "white"
             }
            },
            "header": {
             "fill": {
              "color": "#C8D4E3"
             },
             "line": {
              "color": "white"
             }
            },
            "type": "table"
           }
          ]
         },
         "layout": {
          "annotationdefaults": {
           "arrowcolor": "#2a3f5f",
           "arrowhead": 0,
           "arrowwidth": 1
          },
          "autotypenumbers": "strict",
          "coloraxis": {
           "colorbar": {
            "outlinewidth": 0,
            "ticks": ""
           }
          },
          "colorscale": {
           "diverging": [
            [
             0,
             "#8e0152"
            ],
            [
             0.1,
             "#c51b7d"
            ],
            [
             0.2,
             "#de77ae"
            ],
            [
             0.3,
             "#f1b6da"
            ],
            [
             0.4,
             "#fde0ef"
            ],
            [
             0.5,
             "#f7f7f7"
            ],
            [
             0.6,
             "#e6f5d0"
            ],
            [
             0.7,
             "#b8e186"
            ],
            [
             0.8,
             "#7fbc41"
            ],
            [
             0.9,
             "#4d9221"
            ],
            [
             1,
             "#276419"
            ]
           ],
           "sequential": [
            [
             0,
             "#0d0887"
            ],
            [
             0.1111111111111111,
             "#46039f"
            ],
            [
             0.2222222222222222,
             "#7201a8"
            ],
            [
             0.3333333333333333,
             "#9c179e"
            ],
            [
             0.4444444444444444,
             "#bd3786"
            ],
            [
             0.5555555555555556,
             "#d8576b"
            ],
            [
             0.6666666666666666,
             "#ed7953"
            ],
            [
             0.7777777777777778,
             "#fb9f3a"
            ],
            [
             0.8888888888888888,
             "#fdca26"
            ],
            [
             1,
             "#f0f921"
            ]
           ],
           "sequentialminus": [
            [
             0,
             "#0d0887"
            ],
            [
             0.1111111111111111,
             "#46039f"
            ],
            [
             0.2222222222222222,
             "#7201a8"
            ],
            [
             0.3333333333333333,
             "#9c179e"
            ],
            [
             0.4444444444444444,
             "#bd3786"
            ],
            [
             0.5555555555555556,
             "#d8576b"
            ],
            [
             0.6666666666666666,
             "#ed7953"
            ],
            [
             0.7777777777777778,
             "#fb9f3a"
            ],
            [
             0.8888888888888888,
             "#fdca26"
            ],
            [
             1,
             "#f0f921"
            ]
           ]
          },
          "colorway": [
           "#636efa",
           "#EF553B",
           "#00cc96",
           "#ab63fa",
           "#FFA15A",
           "#19d3f3",
           "#FF6692",
           "#B6E880",
           "#FF97FF",
           "#FECB52"
          ],
          "font": {
           "color": "#2a3f5f"
          },
          "geo": {
           "bgcolor": "white",
           "lakecolor": "white",
           "landcolor": "#E5ECF6",
           "showlakes": true,
           "showland": true,
           "subunitcolor": "white"
          },
          "hoverlabel": {
           "align": "left"
          },
          "hovermode": "closest",
          "mapbox": {
           "style": "light"
          },
          "paper_bgcolor": "white",
          "plot_bgcolor": "#E5ECF6",
          "polar": {
           "angularaxis": {
            "gridcolor": "white",
            "linecolor": "white",
            "ticks": ""
           },
           "bgcolor": "#E5ECF6",
           "radialaxis": {
            "gridcolor": "white",
            "linecolor": "white",
            "ticks": ""
           }
          },
          "scene": {
           "xaxis": {
            "backgroundcolor": "#E5ECF6",
            "gridcolor": "white",
            "gridwidth": 2,
            "linecolor": "white",
            "showbackground": true,
            "ticks": "",
            "zerolinecolor": "white"
           },
           "yaxis": {
            "backgroundcolor": "#E5ECF6",
            "gridcolor": "white",
            "gridwidth": 2,
            "linecolor": "white",
            "showbackground": true,
            "ticks": "",
            "zerolinecolor": "white"
           },
           "zaxis": {
            "backgroundcolor": "#E5ECF6",
            "gridcolor": "white",
            "gridwidth": 2,
            "linecolor": "white",
            "showbackground": true,
            "ticks": "",
            "zerolinecolor": "white"
           }
          },
          "shapedefaults": {
           "line": {
            "color": "#2a3f5f"
           }
          },
          "ternary": {
           "aaxis": {
            "gridcolor": "white",
            "linecolor": "white",
            "ticks": ""
           },
           "baxis": {
            "gridcolor": "white",
            "linecolor": "white",
            "ticks": ""
           },
           "bgcolor": "#E5ECF6",
           "caxis": {
            "gridcolor": "white",
            "linecolor": "white",
            "ticks": ""
           }
          },
          "title": {
           "x": 0.05
          },
          "xaxis": {
           "automargin": true,
           "gridcolor": "white",
           "linecolor": "white",
           "ticks": "",
           "title": {
            "standoff": 15
           },
           "zerolinecolor": "white",
           "zerolinewidth": 2
          },
          "yaxis": {
           "automargin": true,
           "gridcolor": "white",
           "linecolor": "white",
           "ticks": "",
           "title": {
            "standoff": 15
           },
           "zerolinecolor": "white",
           "zerolinewidth": 2
          }
         }
        },
        "title": {
         "text": "Cantidad de Alumnos de cada carrera x Año y semestre"
        },
        "xaxis": {
         "anchor": "y",
         "domain": [
          0,
          0.49
         ],
         "title": {
          "text": "Año_Ingreso"
         }
        },
        "xaxis2": {
         "anchor": "y2",
         "domain": [
          0.51,
          1
         ],
         "matches": "x",
         "title": {
          "text": "Año_Ingreso"
         }
        },
        "yaxis": {
         "anchor": "x",
         "domain": [
          0,
          1
         ],
         "title": {
          "text": "Cantidad"
         }
        },
        "yaxis2": {
         "anchor": "x2",
         "domain": [
          0,
          1
         ],
         "matches": "y",
         "showticklabels": false
        }
       }
      }
     },
     "metadata": {},
     "output_type": "display_data"
    }
   ],
   "source": [
    "df_Cantidad_Alumnos_Año = df_ALUCarrera.groupby(['Id_Carrera','Año_Ingreso','Semestre_Ingreso'])['Id_Alumno'].count().reset_index(name='Cantidad')\n",
    "df_Cantidad_Alumnos_Año = pd.merge(df_Cantidad_Alumnos_Año,\n",
    "                        df_Carreras[['Id_Carrera','Nombre_Corto']],\n",
    "                        how='inner',\n",
    "                        on=['Id_Carrera'])\n",
    "px.line(df_Cantidad_Alumnos_Año, x=\"Año_Ingreso\",y='Cantidad', color=\"Nombre_Corto\", title='Cantidad de Alumnos de cada carrera x Año y semestre', facet_col='Semestre_Ingreso')"
   ]
  },
  {
   "cell_type": "markdown",
   "metadata": {},
   "source": [
    "### Total de Alumnos X Año de la institucion separado en mujeres y varones"
   ]
  },
  {
   "cell_type": "code",
   "execution_count": 25,
   "metadata": {},
   "outputs": [
    {
     "data": {
      "application/vnd.plotly.v1+json": {
       "config": {
        "plotlyServerURL": "https://plot.ly"
       },
       "data": [
        {
         "alignmentgroup": "True",
         "bingroup": "x",
         "hovertemplate": "Sexo=M<br>animation_frame=2001<br>Edad=%{x}<br>count=%{y}<extra></extra>",
         "legendgroup": "M",
         "marker": {
          "color": "#636efa",
          "pattern": {
           "shape": ""
          }
         },
         "name": "M",
         "offsetgroup": "M",
         "orientation": "v",
         "showlegend": true,
         "type": "histogram",
         "x": [
          19,
          52,
          43,
          20,
          21,
          20,
          38,
          37,
          38,
          39,
          35,
          36,
          23,
          26,
          26,
          18,
          33,
          41,
          32,
          32,
          32,
          36,
          33,
          31,
          31,
          30,
          32,
          34,
          33,
          34,
          30,
          30,
          30,
          30,
          30,
          31,
          28,
          38,
          29,
          34,
          29,
          33,
          37,
          27,
          29,
          29,
          37,
          28,
          28,
          28,
          30,
          28,
          31,
          29,
          35,
          28,
          27,
          30,
          28,
          29,
          27,
          27,
          28,
          27,
          27,
          27,
          29,
          29,
          27,
          28,
          31,
          28,
          29,
          27,
          27,
          27,
          29,
          26,
          26,
          26,
          26,
          26,
          31,
          28,
          35,
          26,
          26,
          26,
          30,
          29,
          35,
          26,
          26,
          26,
          31,
          28,
          25,
          29,
          26,
          26,
          35,
          28,
          26,
          26,
          25,
          26,
          26,
          26,
          30,
          31,
          25,
          34,
          34,
          25,
          28,
          27,
          29,
          25,
          30,
          25,
          28,
          26,
          25,
          25,
          25,
          25,
          18,
          29,
          25,
          24,
          30,
          28,
          29,
          26,
          25,
          25,
          27,
          28,
          26,
          24,
          26,
          25,
          25,
          25,
          25,
          26,
          30,
          28,
          27,
          25,
          26,
          30,
          25,
          25,
          26,
          26,
          28,
          27,
          26,
          24,
          27,
          32,
          25,
          24,
          34,
          25,
          24,
          24,
          25,
          24,
          24,
          24,
          25,
          25,
          33,
          33,
          26,
          25,
          24,
          25,
          24,
          27,
          24,
          25,
          25,
          28,
          24,
          24,
          24,
          26,
          27,
          27,
          24,
          25,
          24,
          29,
          25,
          24,
          25,
          32,
          24,
          24,
          27,
          24,
          25,
          24,
          29,
          24,
          24,
          25,
          25,
          24,
          24,
          24,
          29,
          23,
          27,
          24,
          25,
          25,
          20,
          26,
          23,
          24,
          23,
          23,
          25,
          26,
          24,
          23,
          24,
          25,
          27,
          24,
          32,
          28,
          26,
          23,
          25,
          23,
          24,
          25,
          24,
          23,
          23,
          25,
          28,
          31,
          23,
          23,
          32,
          32,
          27,
          27,
          27,
          24,
          31,
          32,
          23,
          25,
          23,
          23,
          23,
          32,
          25,
          24,
          24,
          26,
          26,
          23,
          23,
          23,
          25,
          24,
          24,
          24,
          25,
          24,
          25,
          24,
          31,
          25,
          26,
          23,
          23,
          24,
          25,
          24,
          24,
          26,
          23,
          23,
          23,
          24,
          23,
          24,
          24,
          23,
          28,
          27,
          25,
          23,
          25,
          23,
          26,
          22,
          22,
          23,
          27,
          24,
          27,
          23,
          23,
          23,
          26,
          23,
          24,
          27,
          22,
          23,
          24,
          25,
          22,
          22,
          25,
          23,
          22,
          22,
          22,
          22,
          22,
          26,
          23,
          22,
          22,
          25,
          22,
          26,
          22,
          26,
          23,
          27,
          23,
          23,
          31,
          23,
          29,
          22,
          30,
          23,
          22,
          28,
          27,
          22,
          31,
          27,
          30,
          26,
          30,
          22,
          22,
          24,
          22,
          23,
          22,
          26,
          22,
          23,
          22,
          24,
          31,
          29,
          24,
          22,
          23,
          22,
          23,
          28,
          26,
          21,
          23,
          22,
          23,
          23,
          22,
          24,
          23,
          22,
          28,
          25,
          24,
          25,
          24,
          22,
          23,
          29,
          22,
          22,
          22,
          26,
          24,
          24,
          24,
          22,
          28,
          22,
          23,
          29,
          22,
          25,
          29,
          22,
          22,
          22,
          22,
          29,
          28,
          22,
          30,
          26,
          22,
          24,
          25,
          24,
          23,
          22,
          27,
          25,
          24,
          31,
          22
         ],
         "xaxis": "x",
         "yaxis": "y"
        },
        {
         "alignmentgroup": "True",
         "bingroup": "x",
         "hovertemplate": "Sexo=F<br>animation_frame=2001<br>Edad=%{x}<br>count=%{y}<extra></extra>",
         "legendgroup": "F",
         "marker": {
          "color": "#EF553B",
          "pattern": {
           "shape": ""
          }
         },
         "name": "F",
         "offsetgroup": "F",
         "orientation": "v",
         "showlegend": true,
         "type": "histogram",
         "x": [
          48,
          38,
          39,
          38,
          21,
          19,
          38,
          34,
          38,
          22,
          22,
          22,
          19,
          25,
          39,
          23,
          32,
          40,
          31,
          31,
          33,
          30,
          35,
          30,
          31,
          30,
          26,
          29,
          30,
          32,
          29,
          31,
          26,
          31,
          28,
          29,
          27,
          27,
          28,
          27,
          27,
          27,
          26,
          27,
          26,
          30,
          32,
          27,
          35,
          28,
          36,
          27,
          26,
          29,
          29,
          27,
          26,
          27,
          26,
          35,
          29,
          29,
          28,
          26,
          27,
          26,
          26,
          30,
          25,
          31,
          28,
          29,
          25,
          25,
          28,
          25,
          25,
          25,
          25,
          26,
          33,
          25,
          25,
          25,
          25,
          25,
          25,
          29,
          25,
          25,
          30,
          24,
          25,
          26,
          28,
          25,
          29,
          24,
          24,
          33,
          28,
          24,
          24,
          24,
          24,
          25,
          24,
          26,
          25,
          24,
          null,
          25,
          26,
          32,
          24,
          28,
          24,
          32,
          24,
          24,
          24,
          27,
          33,
          24,
          27,
          24,
          25,
          25,
          27,
          24,
          33,
          24,
          25,
          26,
          27,
          23,
          32,
          23,
          24,
          24,
          24,
          27,
          24,
          24,
          23,
          23,
          22,
          23,
          23,
          23,
          23,
          23,
          23,
          23,
          23,
          23,
          24,
          27,
          29,
          23,
          23,
          24,
          27,
          23,
          24,
          27,
          26,
          23,
          24,
          23,
          23,
          23,
          25,
          23,
          23,
          29,
          24,
          22,
          23,
          22,
          26,
          25,
          27,
          23,
          27,
          23,
          22,
          26,
          21,
          23,
          23,
          24,
          23,
          24,
          22,
          null,
          24,
          22,
          22,
          22,
          22,
          23,
          23,
          22,
          31,
          21,
          26,
          22,
          22,
          23,
          22,
          22,
          24,
          23,
          22,
          26,
          28,
          26,
          24,
          22,
          21,
          23,
          26,
          22,
          23,
          27,
          22,
          24,
          23,
          27,
          23,
          26,
          22,
          23,
          24,
          23,
          24,
          23,
          23,
          25,
          23,
          26,
          25,
          26,
          23,
          26,
          26,
          23,
          25,
          25,
          24,
          22,
          24,
          27,
          22,
          22,
          22
         ],
         "xaxis": "x",
         "yaxis": "y"
        }
       ],
       "frames": [
        {
         "data": [
          {
           "alignmentgroup": "True",
           "bingroup": "x",
           "hovertemplate": "Sexo=M<br>animation_frame=2001<br>Edad=%{x}<br>count=%{y}<extra></extra>",
           "legendgroup": "M",
           "marker": {
            "color": "#636efa",
            "pattern": {
             "shape": ""
            }
           },
           "name": "M",
           "offsetgroup": "M",
           "orientation": "v",
           "showlegend": true,
           "type": "histogram",
           "x": [
            19,
            52,
            43,
            20,
            21,
            20,
            38,
            37,
            38,
            39,
            35,
            36,
            23,
            26,
            26,
            18,
            33,
            41,
            32,
            32,
            32,
            36,
            33,
            31,
            31,
            30,
            32,
            34,
            33,
            34,
            30,
            30,
            30,
            30,
            30,
            31,
            28,
            38,
            29,
            34,
            29,
            33,
            37,
            27,
            29,
            29,
            37,
            28,
            28,
            28,
            30,
            28,
            31,
            29,
            35,
            28,
            27,
            30,
            28,
            29,
            27,
            27,
            28,
            27,
            27,
            27,
            29,
            29,
            27,
            28,
            31,
            28,
            29,
            27,
            27,
            27,
            29,
            26,
            26,
            26,
            26,
            26,
            31,
            28,
            35,
            26,
            26,
            26,
            30,
            29,
            35,
            26,
            26,
            26,
            31,
            28,
            25,
            29,
            26,
            26,
            35,
            28,
            26,
            26,
            25,
            26,
            26,
            26,
            30,
            31,
            25,
            34,
            34,
            25,
            28,
            27,
            29,
            25,
            30,
            25,
            28,
            26,
            25,
            25,
            25,
            25,
            18,
            29,
            25,
            24,
            30,
            28,
            29,
            26,
            25,
            25,
            27,
            28,
            26,
            24,
            26,
            25,
            25,
            25,
            25,
            26,
            30,
            28,
            27,
            25,
            26,
            30,
            25,
            25,
            26,
            26,
            28,
            27,
            26,
            24,
            27,
            32,
            25,
            24,
            34,
            25,
            24,
            24,
            25,
            24,
            24,
            24,
            25,
            25,
            33,
            33,
            26,
            25,
            24,
            25,
            24,
            27,
            24,
            25,
            25,
            28,
            24,
            24,
            24,
            26,
            27,
            27,
            24,
            25,
            24,
            29,
            25,
            24,
            25,
            32,
            24,
            24,
            27,
            24,
            25,
            24,
            29,
            24,
            24,
            25,
            25,
            24,
            24,
            24,
            29,
            23,
            27,
            24,
            25,
            25,
            20,
            26,
            23,
            24,
            23,
            23,
            25,
            26,
            24,
            23,
            24,
            25,
            27,
            24,
            32,
            28,
            26,
            23,
            25,
            23,
            24,
            25,
            24,
            23,
            23,
            25,
            28,
            31,
            23,
            23,
            32,
            32,
            27,
            27,
            27,
            24,
            31,
            32,
            23,
            25,
            23,
            23,
            23,
            32,
            25,
            24,
            24,
            26,
            26,
            23,
            23,
            23,
            25,
            24,
            24,
            24,
            25,
            24,
            25,
            24,
            31,
            25,
            26,
            23,
            23,
            24,
            25,
            24,
            24,
            26,
            23,
            23,
            23,
            24,
            23,
            24,
            24,
            23,
            28,
            27,
            25,
            23,
            25,
            23,
            26,
            22,
            22,
            23,
            27,
            24,
            27,
            23,
            23,
            23,
            26,
            23,
            24,
            27,
            22,
            23,
            24,
            25,
            22,
            22,
            25,
            23,
            22,
            22,
            22,
            22,
            22,
            26,
            23,
            22,
            22,
            25,
            22,
            26,
            22,
            26,
            23,
            27,
            23,
            23,
            31,
            23,
            29,
            22,
            30,
            23,
            22,
            28,
            27,
            22,
            31,
            27,
            30,
            26,
            30,
            22,
            22,
            24,
            22,
            23,
            22,
            26,
            22,
            23,
            22,
            24,
            31,
            29,
            24,
            22,
            23,
            22,
            23,
            28,
            26,
            21,
            23,
            22,
            23,
            23,
            22,
            24,
            23,
            22,
            28,
            25,
            24,
            25,
            24,
            22,
            23,
            29,
            22,
            22,
            22,
            26,
            24,
            24,
            24,
            22,
            28,
            22,
            23,
            29,
            22,
            25,
            29,
            22,
            22,
            22,
            22,
            29,
            28,
            22,
            30,
            26,
            22,
            24,
            25,
            24,
            23,
            22,
            27,
            25,
            24,
            31,
            22
           ],
           "xaxis": "x",
           "yaxis": "y"
          },
          {
           "alignmentgroup": "True",
           "bingroup": "x",
           "hovertemplate": "Sexo=F<br>animation_frame=2001<br>Edad=%{x}<br>count=%{y}<extra></extra>",
           "legendgroup": "F",
           "marker": {
            "color": "#EF553B",
            "pattern": {
             "shape": ""
            }
           },
           "name": "F",
           "offsetgroup": "F",
           "orientation": "v",
           "showlegend": true,
           "type": "histogram",
           "x": [
            48,
            38,
            39,
            38,
            21,
            19,
            38,
            34,
            38,
            22,
            22,
            22,
            19,
            25,
            39,
            23,
            32,
            40,
            31,
            31,
            33,
            30,
            35,
            30,
            31,
            30,
            26,
            29,
            30,
            32,
            29,
            31,
            26,
            31,
            28,
            29,
            27,
            27,
            28,
            27,
            27,
            27,
            26,
            27,
            26,
            30,
            32,
            27,
            35,
            28,
            36,
            27,
            26,
            29,
            29,
            27,
            26,
            27,
            26,
            35,
            29,
            29,
            28,
            26,
            27,
            26,
            26,
            30,
            25,
            31,
            28,
            29,
            25,
            25,
            28,
            25,
            25,
            25,
            25,
            26,
            33,
            25,
            25,
            25,
            25,
            25,
            25,
            29,
            25,
            25,
            30,
            24,
            25,
            26,
            28,
            25,
            29,
            24,
            24,
            33,
            28,
            24,
            24,
            24,
            24,
            25,
            24,
            26,
            25,
            24,
            null,
            25,
            26,
            32,
            24,
            28,
            24,
            32,
            24,
            24,
            24,
            27,
            33,
            24,
            27,
            24,
            25,
            25,
            27,
            24,
            33,
            24,
            25,
            26,
            27,
            23,
            32,
            23,
            24,
            24,
            24,
            27,
            24,
            24,
            23,
            23,
            22,
            23,
            23,
            23,
            23,
            23,
            23,
            23,
            23,
            23,
            24,
            27,
            29,
            23,
            23,
            24,
            27,
            23,
            24,
            27,
            26,
            23,
            24,
            23,
            23,
            23,
            25,
            23,
            23,
            29,
            24,
            22,
            23,
            22,
            26,
            25,
            27,
            23,
            27,
            23,
            22,
            26,
            21,
            23,
            23,
            24,
            23,
            24,
            22,
            null,
            24,
            22,
            22,
            22,
            22,
            23,
            23,
            22,
            31,
            21,
            26,
            22,
            22,
            23,
            22,
            22,
            24,
            23,
            22,
            26,
            28,
            26,
            24,
            22,
            21,
            23,
            26,
            22,
            23,
            27,
            22,
            24,
            23,
            27,
            23,
            26,
            22,
            23,
            24,
            23,
            24,
            23,
            23,
            25,
            23,
            26,
            25,
            26,
            23,
            26,
            26,
            23,
            25,
            25,
            24,
            22,
            24,
            27,
            22,
            22,
            22
           ],
           "xaxis": "x",
           "yaxis": "y"
          }
         ],
         "name": "2001"
        },
        {
         "data": [
          {
           "alignmentgroup": "True",
           "bingroup": "x",
           "hovertemplate": "Sexo=M<br>animation_frame=2002<br>Edad=%{x}<br>count=%{y}<extra></extra>",
           "legendgroup": "M",
           "marker": {
            "color": "#636efa",
            "pattern": {
             "shape": ""
            }
           },
           "name": "M",
           "offsetgroup": "M",
           "orientation": "v",
           "showlegend": true,
           "type": "histogram",
           "x": [
            27,
            25,
            26,
            22,
            24,
            25,
            22,
            23,
            24,
            22,
            23,
            27,
            30,
            21,
            22,
            21,
            25,
            23,
            22,
            22,
            25,
            30,
            21,
            28,
            21,
            26,
            22,
            21,
            21,
            21,
            25,
            21,
            24,
            23,
            26,
            26,
            24,
            21,
            24,
            26,
            23,
            23,
            22,
            21,
            22,
            18,
            21,
            28,
            22,
            21,
            26,
            21,
            22,
            21,
            22,
            24,
            23,
            21,
            21,
            28,
            29,
            25,
            25,
            23,
            27,
            21,
            27,
            25,
            21,
            22,
            22,
            21,
            30,
            21,
            22,
            24,
            21,
            22,
            30,
            21,
            29,
            23,
            28,
            23,
            26,
            20,
            24,
            21,
            24,
            22,
            22,
            23,
            24,
            27,
            21,
            23,
            23,
            21,
            21,
            21,
            21,
            22,
            21,
            21,
            21,
            24,
            26,
            23,
            22,
            21,
            26,
            21,
            21,
            25,
            21,
            30,
            21,
            21,
            21,
            28,
            21,
            23,
            25,
            22,
            30,
            21,
            21,
            21,
            21,
            21,
            24,
            21,
            24,
            29,
            23,
            22,
            21,
            26,
            21,
            25,
            21,
            21,
            25,
            23,
            21,
            21,
            21,
            22,
            21,
            23,
            24,
            21,
            23,
            23,
            21,
            21,
            21,
            23,
            26,
            21,
            21,
            22,
            21,
            21,
            21,
            22,
            24,
            21,
            21,
            20,
            21,
            21,
            21,
            21,
            29,
            23,
            25,
            22,
            22,
            28,
            21,
            21,
            23,
            25,
            21,
            24,
            20,
            20,
            20,
            20,
            29,
            20,
            25,
            20,
            23,
            20,
            21,
            24,
            22,
            20,
            22,
            25,
            23,
            22,
            27,
            20,
            23,
            25,
            24,
            23,
            20,
            26,
            25,
            24,
            21,
            26,
            21,
            22,
            20,
            21,
            22,
            20,
            22,
            21,
            21,
            23,
            21,
            20,
            21,
            22,
            21,
            24,
            20,
            20,
            28,
            21,
            21,
            20,
            23,
            20,
            20,
            22,
            20,
            22,
            25,
            24,
            25,
            20,
            27,
            20,
            20,
            27,
            21,
            23,
            19,
            20,
            20,
            26,
            24,
            22,
            21,
            20,
            22,
            22,
            21,
            21,
            20,
            24,
            21,
            24,
            22,
            18,
            21,
            20,
            27,
            26,
            20,
            22,
            20,
            20,
            21,
            21,
            21,
            25,
            20,
            21,
            21,
            20,
            25,
            20,
            23,
            20,
            20,
            27,
            20,
            20,
            20,
            23,
            22,
            20,
            22,
            19,
            20,
            20,
            27,
            21,
            29
           ],
           "xaxis": "x",
           "yaxis": "y"
          },
          {
           "alignmentgroup": "True",
           "bingroup": "x",
           "hovertemplate": "Sexo=F<br>animation_frame=2002<br>Edad=%{x}<br>count=%{y}<extra></extra>",
           "legendgroup": "F",
           "marker": {
            "color": "#EF553B",
            "pattern": {
             "shape": ""
            }
           },
           "name": "F",
           "offsetgroup": "F",
           "orientation": "v",
           "showlegend": true,
           "type": "histogram",
           "x": [
            22,
            25,
            23,
            23,
            25,
            22,
            23,
            23,
            23,
            22,
            22,
            22,
            22,
            25,
            21,
            24,
            24,
            23,
            24,
            23,
            21,
            23,
            21,
            21,
            22,
            22,
            21,
            21,
            17,
            25,
            21,
            22,
            22,
            21,
            26,
            25,
            26,
            22,
            27,
            21,
            23,
            22,
            30,
            21,
            23,
            21,
            22,
            25,
            20,
            23,
            22,
            22,
            26,
            21,
            21,
            21,
            22,
            20,
            25,
            23,
            22,
            21,
            21,
            21,
            24,
            21,
            22,
            24,
            25,
            21,
            21,
            22,
            21,
            23,
            22,
            22,
            21,
            21,
            21,
            21,
            29,
            24,
            21,
            21,
            21,
            22,
            23,
            21,
            21,
            21,
            25,
            22,
            26,
            21,
            21,
            23,
            23,
            22,
            25,
            22,
            28,
            21,
            21,
            24,
            20,
            23,
            22,
            20,
            25,
            21,
            22,
            21,
            24,
            21,
            23,
            21,
            30,
            22,
            22,
            24,
            30,
            24,
            21,
            21,
            24,
            24,
            22,
            21,
            23,
            23,
            20,
            20,
            21,
            21,
            28,
            24,
            29,
            23,
            30,
            23,
            20,
            21,
            20,
            22,
            20,
            29,
            20,
            21,
            28,
            20,
            26,
            22,
            22,
            21,
            20,
            24,
            22,
            23,
            26,
            20,
            24,
            26,
            19,
            20,
            19,
            26,
            21,
            27,
            22,
            23,
            20,
            20,
            21,
            20,
            21,
            27,
            24,
            20,
            22,
            20,
            23,
            20,
            24,
            24,
            23,
            22,
            24,
            22,
            20,
            20,
            25,
            20,
            20,
            22,
            23,
            21,
            20,
            24,
            20,
            25,
            20,
            24,
            21,
            21,
            23,
            20,
            23,
            21,
            21,
            21,
            20
           ],
           "xaxis": "x",
           "yaxis": "y"
          }
         ],
         "name": "2002"
        },
        {
         "data": [
          {
           "alignmentgroup": "True",
           "bingroup": "x",
           "hovertemplate": "Sexo=M<br>animation_frame=2003<br>Edad=%{x}<br>count=%{y}<extra></extra>",
           "legendgroup": "M",
           "marker": {
            "color": "#636efa",
            "pattern": {
             "shape": ""
            }
           },
           "name": "M",
           "offsetgroup": "M",
           "orientation": "v",
           "showlegend": true,
           "type": "histogram",
           "x": [
            24,
            23,
            22,
            29,
            20,
            22,
            20,
            23,
            22,
            21,
            20,
            27,
            22,
            25,
            24,
            19,
            25,
            21,
            20,
            23,
            21,
            26,
            21,
            19,
            22,
            24,
            20,
            22,
            22,
            20,
            20,
            24,
            20,
            24,
            27,
            23,
            20,
            20,
            22,
            22,
            21,
            23,
            24,
            22,
            21,
            19,
            21,
            24,
            20,
            20,
            23,
            26,
            22,
            25,
            19,
            27,
            24,
            22,
            20,
            24,
            23,
            22,
            20,
            26,
            20,
            25,
            21,
            20,
            25,
            22,
            20,
            22,
            25,
            26,
            20,
            25,
            27,
            20,
            20,
            21,
            22,
            21,
            21,
            21,
            21,
            22,
            27,
            19,
            19,
            26,
            22,
            22,
            20,
            23,
            19,
            21,
            23,
            21,
            22,
            20,
            25,
            23,
            19,
            19,
            22,
            20,
            20,
            19,
            24,
            25,
            20,
            19,
            25,
            21,
            21,
            23,
            25,
            22,
            20,
            19,
            22,
            19,
            20,
            23,
            19,
            27,
            23,
            20,
            20,
            24,
            21,
            23,
            27,
            22,
            19,
            20,
            23,
            23,
            21,
            24,
            19,
            20,
            26,
            22,
            19,
            22,
            22,
            19,
            21,
            23,
            20,
            25,
            21,
            21,
            19,
            19,
            20,
            22,
            19,
            21,
            24,
            19,
            28,
            24,
            21,
            19,
            19,
            26,
            23,
            23,
            23,
            22,
            19,
            19,
            23,
            19,
            19,
            25,
            19,
            21,
            21,
            21,
            20,
            19,
            25,
            19,
            22,
            19,
            19,
            25,
            23,
            21,
            19,
            21,
            19,
            22,
            23,
            25,
            22,
            26,
            19,
            28,
            28,
            20,
            24,
            19,
            27,
            19,
            26,
            19,
            23,
            19,
            23,
            19,
            17,
            22,
            19,
            24,
            22,
            22,
            20,
            19,
            23,
            25,
            19,
            20,
            22,
            19,
            23,
            22,
            26,
            19,
            19,
            24,
            23,
            22
           ],
           "xaxis": "x",
           "yaxis": "y"
          },
          {
           "alignmentgroup": "True",
           "bingroup": "x",
           "hovertemplate": "Sexo=F<br>animation_frame=2003<br>Edad=%{x}<br>count=%{y}<extra></extra>",
           "legendgroup": "F",
           "marker": {
            "color": "#EF553B",
            "pattern": {
             "shape": ""
            }
           },
           "name": "F",
           "offsetgroup": "F",
           "orientation": "v",
           "showlegend": true,
           "type": "histogram",
           "x": [
            20,
            22,
            23,
            20,
            21,
            19,
            26,
            19,
            21,
            23,
            20,
            23,
            23,
            24,
            20,
            20,
            20,
            18,
            20,
            20,
            20,
            22,
            24,
            21,
            22,
            20,
            21,
            20,
            23,
            20,
            23,
            26,
            21,
            19,
            20,
            21,
            19,
            22,
            26,
            21,
            21,
            19,
            20,
            23,
            21,
            22,
            20,
            20,
            25,
            22,
            24,
            23,
            24,
            22,
            25,
            21,
            22,
            23,
            19,
            19,
            25,
            26,
            28,
            24,
            20,
            22,
            21,
            20,
            21,
            20,
            21,
            20,
            26,
            23,
            21,
            19,
            23,
            19,
            22,
            21,
            19,
            20,
            21,
            21,
            24,
            19,
            19,
            19,
            22,
            21,
            21,
            20,
            20,
            19,
            22,
            20,
            26,
            24,
            25,
            25,
            20,
            24,
            20,
            19,
            21,
            19,
            25,
            22,
            20,
            21,
            19,
            20,
            19,
            20,
            19,
            25,
            20,
            19,
            20,
            19,
            23,
            19,
            23,
            20,
            19,
            24,
            20,
            27,
            19,
            20,
            26,
            19,
            22,
            20,
            21,
            19,
            25,
            22,
            20,
            24,
            19,
            19,
            20,
            24,
            24,
            22,
            19,
            28,
            18,
            23,
            20,
            19,
            20,
            23,
            20,
            19,
            19,
            21,
            20,
            22,
            23,
            19,
            19,
            26,
            24,
            19,
            19
           ],
           "xaxis": "x",
           "yaxis": "y"
          }
         ],
         "name": "2003"
        },
        {
         "data": [
          {
           "alignmentgroup": "True",
           "bingroup": "x",
           "hovertemplate": "Sexo=M<br>animation_frame=2004<br>Edad=%{x}<br>count=%{y}<extra></extra>",
           "legendgroup": "M",
           "marker": {
            "color": "#636efa",
            "pattern": {
             "shape": ""
            }
           },
           "name": "M",
           "offsetgroup": "M",
           "orientation": "v",
           "showlegend": true,
           "type": "histogram",
           "x": [
            20,
            20,
            28,
            21,
            19,
            20,
            21,
            20,
            25,
            22,
            18,
            20,
            22,
            19,
            22,
            24,
            20,
            19,
            28,
            19,
            20,
            24,
            24,
            21,
            20,
            21,
            21,
            25,
            19,
            19,
            24,
            23,
            19,
            20,
            22,
            19,
            20,
            21,
            19,
            22,
            24,
            19,
            20,
            20,
            19,
            20,
            20,
            24,
            22,
            19,
            21,
            19,
            19,
            19,
            22,
            19,
            19,
            19,
            19,
            19,
            22,
            19,
            25,
            19,
            20,
            20,
            20,
            24,
            19,
            22,
            19,
            24,
            21,
            19,
            19,
            20,
            19,
            24,
            19,
            20,
            27,
            18,
            18,
            19,
            25,
            21,
            19,
            18,
            18,
            19,
            21,
            20,
            19,
            23,
            22,
            20,
            21,
            21,
            21,
            18,
            20,
            20,
            18,
            24,
            26,
            24,
            18,
            19,
            22,
            23,
            18,
            18,
            28,
            22,
            20,
            21,
            22,
            20,
            24,
            19,
            23,
            25,
            21,
            18,
            21,
            18,
            19,
            23,
            20,
            19,
            19,
            19,
            22,
            20,
            22,
            20,
            26,
            22,
            20,
            21,
            19,
            20,
            24,
            21,
            19,
            22,
            20,
            23,
            25,
            22,
            23,
            23,
            18,
            23,
            19,
            20,
            26,
            22,
            22,
            26,
            19,
            18,
            18,
            19,
            26,
            23,
            23,
            19,
            27,
            19,
            18,
            20,
            21,
            18,
            22,
            20,
            21,
            19,
            18,
            20,
            null,
            24,
            18,
            22,
            23,
            18,
            19,
            26,
            19,
            18,
            23,
            22,
            20,
            27,
            21,
            19,
            18,
            19,
            18,
            22,
            21,
            19,
            20,
            19,
            18,
            23,
            19,
            22,
            22,
            19,
            18,
            23,
            21,
            19,
            21,
            19,
            19,
            22,
            22,
            22,
            19,
            19,
            20,
            23,
            22,
            19,
            21,
            20,
            19,
            22,
            26,
            19,
            21,
            20,
            23,
            18,
            22,
            23,
            20,
            23,
            19,
            19,
            19,
            21,
            19,
            18,
            20,
            22,
            26,
            23,
            23,
            21,
            21,
            20,
            20,
            21,
            25,
            22,
            25,
            23,
            21,
            18,
            19,
            23,
            20,
            22,
            19,
            22,
            18,
            21,
            18,
            21,
            25,
            20,
            22,
            24,
            21,
            25,
            19,
            22,
            18,
            21,
            27,
            27,
            21,
            23,
            25,
            20,
            18,
            18,
            20,
            18,
            21,
            18,
            21,
            23,
            25,
            20,
            20,
            22,
            25,
            24,
            21,
            21,
            19,
            20,
            23,
            19,
            21,
            19,
            19,
            20,
            23,
            19,
            25,
            24,
            26,
            22,
            27,
            18,
            20
           ],
           "xaxis": "x",
           "yaxis": "y"
          },
          {
           "alignmentgroup": "True",
           "bingroup": "x",
           "hovertemplate": "Sexo=F<br>animation_frame=2004<br>Edad=%{x}<br>count=%{y}<extra></extra>",
           "legendgroup": "F",
           "marker": {
            "color": "#EF553B",
            "pattern": {
             "shape": ""
            }
           },
           "name": "F",
           "offsetgroup": "F",
           "orientation": "v",
           "showlegend": true,
           "type": "histogram",
           "x": [
            19,
            22,
            24,
            19,
            20,
            20,
            26,
            25,
            24,
            19,
            20,
            20,
            19,
            21,
            21,
            19,
            24,
            22,
            19,
            24,
            23,
            22,
            19,
            19,
            21,
            19,
            22,
            19,
            19,
            19,
            24,
            19,
            25,
            19,
            24,
            25,
            25,
            20,
            22,
            27,
            24,
            22,
            23,
            19,
            19,
            22,
            23,
            19,
            19,
            19,
            19,
            24,
            27,
            20,
            23,
            21,
            22,
            22,
            25,
            19,
            18,
            22,
            18,
            20,
            22,
            18,
            19,
            21,
            18,
            22,
            25,
            19,
            19,
            21,
            19,
            18,
            20,
            19,
            19,
            21,
            null,
            19,
            23,
            22,
            20,
            20,
            21,
            18,
            22,
            18,
            18,
            20,
            18,
            19,
            19,
            22,
            22,
            20,
            19,
            25,
            19,
            19,
            21,
            19,
            20,
            19,
            19,
            24,
            19,
            21,
            19,
            19,
            19,
            19,
            23,
            24,
            21,
            19,
            25,
            18,
            27,
            22,
            21,
            21,
            19,
            18,
            19,
            23,
            18,
            19,
            19,
            19,
            25,
            18,
            19,
            22,
            19,
            22,
            21,
            19,
            18,
            22,
            24,
            18,
            19,
            18,
            21,
            18,
            18,
            23,
            19,
            22,
            22,
            18,
            26,
            18,
            18,
            23,
            18,
            21,
            19,
            21,
            27,
            19,
            20,
            22,
            19,
            27,
            23,
            20,
            20,
            18,
            18,
            21,
            24,
            22,
            23,
            19,
            19,
            22,
            18,
            25,
            18,
            19,
            20,
            19,
            22,
            23,
            21,
            21,
            19,
            23,
            22,
            22,
            18,
            21,
            23,
            19,
            18,
            18,
            18,
            22,
            18,
            18,
            18,
            19,
            19,
            18,
            22,
            21,
            21,
            18,
            21,
            19,
            21,
            21,
            19,
            19,
            19,
            19,
            21,
            19,
            19,
            21,
            21,
            18,
            18,
            19,
            19,
            22,
            20,
            18,
            21,
            18,
            19,
            20,
            20,
            18,
            21,
            18
           ],
           "xaxis": "x",
           "yaxis": "y"
          }
         ],
         "name": "2004"
        },
        {
         "data": [
          {
           "alignmentgroup": "True",
           "bingroup": "x",
           "hovertemplate": "Sexo=M<br>animation_frame=2005<br>Edad=%{x}<br>count=%{y}<extra></extra>",
           "legendgroup": "M",
           "marker": {
            "color": "#636efa",
            "pattern": {
             "shape": ""
            }
           },
           "name": "M",
           "offsetgroup": "M",
           "orientation": "v",
           "showlegend": true,
           "type": "histogram",
           "x": [
            19,
            20,
            26,
            19,
            25,
            23,
            27,
            19,
            22,
            20,
            19,
            18,
            23,
            23,
            21,
            22,
            19,
            19,
            21,
            19,
            19,
            19,
            20,
            19,
            21,
            19,
            27,
            22,
            20,
            24,
            23,
            19,
            21,
            22,
            21,
            18,
            19,
            19,
            20,
            22,
            19,
            18,
            27,
            20,
            22,
            20,
            18,
            20,
            23,
            18,
            19,
            26,
            23,
            23,
            19,
            20,
            20,
            21,
            17,
            21,
            19,
            19,
            22,
            20,
            18,
            19,
            24,
            26,
            24,
            22,
            20,
            25,
            19,
            24,
            22,
            18,
            21,
            27,
            18,
            22,
            21,
            18,
            20,
            21,
            18,
            18,
            22,
            21,
            26,
            21,
            21,
            27,
            19,
            19,
            20,
            19,
            19,
            20,
            20,
            21,
            18,
            24,
            23,
            25,
            19,
            20,
            23,
            20,
            19,
            18,
            23,
            20,
            18,
            17,
            23,
            21,
            19,
            18,
            26,
            19,
            22,
            22,
            21,
            22,
            21,
            20,
            26,
            19,
            19,
            22,
            22,
            24,
            21,
            24,
            20,
            26,
            19,
            19,
            20,
            21,
            18,
            19,
            19,
            21,
            19,
            20,
            21,
            17,
            21,
            21,
            25,
            21,
            18,
            24,
            21,
            19,
            20,
            21,
            22,
            18,
            22,
            18,
            21,
            24,
            21,
            18,
            18,
            20,
            25,
            22,
            18,
            17,
            21,
            21,
            20,
            19,
            22,
            21,
            18,
            20,
            20,
            24,
            21,
            19,
            19,
            19,
            22,
            19,
            19,
            20,
            19,
            23,
            18,
            19,
            20,
            18,
            19,
            20,
            19,
            22,
            19,
            23,
            19,
            20,
            21,
            23,
            19,
            20,
            17,
            25,
            23,
            18,
            23,
            21,
            18,
            22,
            22,
            24,
            19,
            24,
            20,
            18,
            22,
            20,
            19,
            22,
            19,
            21,
            19,
            20,
            21,
            20,
            20,
            24,
            22,
            19,
            21,
            24,
            18,
            18,
            20,
            18,
            17,
            21,
            20,
            25,
            25,
            19,
            19,
            22,
            19,
            22,
            20,
            20,
            22,
            20,
            25,
            21,
            21,
            19,
            24,
            19,
            20,
            22,
            20,
            22,
            21,
            22,
            20,
            21,
            21,
            23,
            19,
            20,
            25,
            20,
            21,
            21,
            22,
            22,
            23,
            20,
            25,
            20,
            21,
            20,
            20,
            22,
            20,
            20,
            19,
            22,
            19,
            26,
            19,
            23,
            25,
            21,
            21,
            20,
            21,
            20,
            22,
            26,
            21,
            19,
            21,
            19,
            25,
            23,
            24,
            21,
            20,
            20,
            20,
            23,
            19,
            19,
            22,
            19,
            19,
            19,
            19,
            19,
            23,
            21,
            20,
            22,
            19,
            21,
            19,
            21,
            20,
            26,
            18,
            22,
            22,
            21,
            22,
            18,
            19,
            25,
            18,
            26,
            19,
            21,
            21,
            20,
            19,
            20,
            21,
            20,
            21,
            26,
            20,
            21,
            25,
            20,
            22,
            24,
            21,
            22,
            21,
            20,
            null,
            22,
            22,
            19,
            19,
            24,
            20,
            24,
            21,
            25,
            22,
            19,
            19,
            20,
            18,
            23,
            24,
            19,
            17,
            18,
            19,
            23,
            21,
            20,
            24,
            19,
            18,
            19,
            20,
            20,
            21,
            18,
            23,
            20,
            26
           ],
           "xaxis": "x",
           "yaxis": "y"
          },
          {
           "alignmentgroup": "True",
           "bingroup": "x",
           "hovertemplate": "Sexo=F<br>animation_frame=2005<br>Edad=%{x}<br>count=%{y}<extra></extra>",
           "legendgroup": "F",
           "marker": {
            "color": "#EF553B",
            "pattern": {
             "shape": ""
            }
           },
           "name": "F",
           "offsetgroup": "F",
           "orientation": "v",
           "showlegend": true,
           "type": "histogram",
           "x": [
            21,
            21,
            19,
            25,
            21,
            19,
            23,
            19,
            19,
            21,
            20,
            21,
            23,
            24,
            19,
            22,
            20,
            21,
            21,
            25,
            20,
            22,
            23,
            19,
            19,
            22,
            20,
            19,
            23,
            19,
            24,
            21,
            20,
            22,
            23,
            21,
            23,
            21,
            21,
            21,
            18,
            20,
            19,
            21,
            25,
            18,
            20,
            22,
            19,
            24,
            18,
            19,
            26,
            19,
            18,
            17,
            19,
            18,
            17,
            22,
            20,
            18,
            24,
            20,
            19,
            21,
            19,
            18,
            22,
            21,
            20,
            20,
            18,
            21,
            19,
            21,
            24,
            21,
            18,
            21,
            19,
            21,
            19,
            18,
            20,
            19,
            18,
            20,
            19,
            25,
            21,
            21,
            20,
            20,
            19,
            18,
            17,
            18,
            17,
            20,
            17,
            19,
            19,
            22,
            20,
            19,
            19,
            21,
            21,
            20,
            21,
            18,
            26,
            17,
            18,
            22,
            20,
            21,
            18,
            24,
            18,
            23,
            22,
            21,
            22,
            18,
            18,
            23,
            21,
            20,
            20,
            20,
            17,
            22,
            23,
            18,
            19,
            23,
            17,
            18,
            19,
            18,
            19,
            20,
            21,
            19,
            22,
            20,
            18,
            25,
            18,
            23,
            25,
            23,
            19,
            17,
            19,
            18,
            18,
            24,
            19,
            21,
            21,
            20,
            20,
            21,
            19,
            20,
            22,
            19,
            21,
            19,
            18,
            21,
            21,
            18,
            19,
            23,
            21,
            22,
            22,
            20,
            22,
            20,
            19,
            25,
            18,
            18,
            19,
            18,
            25,
            19,
            21,
            19,
            23,
            21,
            19,
            22,
            20,
            19,
            18,
            20,
            19,
            21,
            19,
            19,
            19,
            25,
            18,
            20,
            19,
            23,
            20,
            18,
            19,
            24,
            19,
            21,
            21,
            18,
            20,
            23,
            25,
            24,
            19,
            23,
            20,
            24,
            20,
            25,
            20,
            20,
            22,
            22,
            22,
            23,
            22,
            20,
            20,
            20,
            21,
            22,
            18,
            18,
            18,
            19,
            19,
            20,
            24,
            18,
            22,
            18,
            25,
            21,
            20,
            29,
            19,
            18,
            19,
            20,
            23,
            19,
            21,
            20,
            23,
            23,
            17,
            18,
            25,
            17,
            18,
            23
           ],
           "xaxis": "x",
           "yaxis": "y"
          }
         ],
         "name": "2005"
        },
        {
         "data": [
          {
           "alignmentgroup": "True",
           "bingroup": "x",
           "hovertemplate": "Sexo=M<br>animation_frame=2006<br>Edad=%{x}<br>count=%{y}<extra></extra>",
           "legendgroup": "M",
           "marker": {
            "color": "#636efa",
            "pattern": {
             "shape": ""
            }
           },
           "name": "M",
           "offsetgroup": "M",
           "orientation": "v",
           "showlegend": true,
           "type": "histogram",
           "x": [
            21,
            21,
            20,
            22,
            22,
            19,
            23,
            19,
            18,
            25,
            18,
            21,
            22,
            18,
            22,
            20,
            18,
            19,
            19,
            19,
            22,
            19,
            20,
            20,
            25,
            20,
            22,
            22,
            19,
            21,
            24,
            17,
            19,
            18,
            19,
            23,
            22,
            19,
            20,
            19,
            21,
            22,
            20,
            20,
            22,
            20,
            20,
            22,
            20,
            19,
            22,
            20,
            19,
            19,
            19,
            21,
            19,
            20,
            19,
            18,
            20,
            19,
            19,
            18,
            23,
            23,
            25,
            18,
            18,
            21,
            19,
            23,
            18,
            21,
            19,
            19,
            19,
            22,
            18,
            20,
            21,
            18,
            24,
            23,
            18,
            24,
            17,
            18,
            21,
            20,
            21,
            18,
            23,
            18,
            18,
            19,
            19,
            20,
            21,
            19,
            20,
            25,
            25,
            22,
            19,
            18,
            19,
            25,
            19,
            20,
            25,
            24,
            23,
            20,
            21,
            20,
            20,
            22,
            24,
            20,
            22,
            23,
            20,
            19,
            18,
            19,
            22,
            25,
            22,
            20,
            25,
            22,
            21,
            22,
            21,
            21,
            20,
            25,
            20,
            23,
            24,
            21,
            21,
            21,
            23,
            25,
            19,
            18,
            20,
            18,
            20,
            19,
            21,
            18,
            20,
            20,
            19,
            23,
            20,
            21,
            19,
            19,
            20,
            22,
            19,
            18,
            20,
            21,
            17,
            19,
            22,
            26,
            21,
            18,
            19,
            20,
            22,
            19,
            25,
            23,
            22,
            19,
            23,
            20,
            18,
            22,
            20,
            18,
            18,
            20,
            18,
            21,
            23,
            20,
            18,
            20,
            19,
            23,
            18,
            20,
            19,
            20,
            21,
            21,
            18,
            19,
            20,
            20,
            18,
            25,
            21,
            24,
            19,
            20,
            21,
            20,
            21,
            20,
            23,
            19,
            19,
            23,
            22,
            25,
            19,
            24,
            23,
            22,
            22,
            23,
            22,
            21,
            20,
            20,
            19,
            20,
            19,
            19,
            20,
            21,
            23,
            20,
            19,
            21,
            22,
            23,
            20,
            24,
            20,
            23,
            21,
            20,
            23,
            21,
            23,
            22,
            22,
            21,
            21,
            18,
            24,
            22,
            24,
            20,
            20,
            20,
            20,
            19,
            22,
            19,
            20,
            20,
            20,
            19,
            20,
            20,
            21,
            22,
            17,
            23,
            23,
            20,
            19,
            22,
            22,
            19,
            22,
            20,
            21,
            21,
            20,
            24,
            24,
            20,
            20,
            23,
            20,
            22,
            21,
            21,
            18,
            20,
            21,
            20,
            20,
            19,
            20,
            21,
            19,
            19,
            19,
            20,
            24,
            18,
            24,
            19,
            19,
            23,
            20,
            19,
            23,
            24,
            20,
            20,
            19,
            23,
            22,
            23,
            23,
            21,
            22,
            17,
            21,
            20,
            19,
            18,
            23,
            21,
            18,
            19,
            23,
            18,
            22,
            20,
            19,
            22,
            19,
            23,
            21,
            19,
            18,
            22,
            21,
            22,
            21,
            20,
            19,
            18,
            22,
            21,
            17,
            19,
            18,
            22,
            20,
            18,
            18,
            18,
            21,
            22,
            19,
            20,
            24,
            23,
            18,
            19,
            20,
            24,
            18,
            19,
            24,
            21,
            20,
            21,
            null,
            20,
            24,
            19,
            19,
            18,
            18,
            24,
            20
           ],
           "xaxis": "x",
           "yaxis": "y"
          },
          {
           "alignmentgroup": "True",
           "bingroup": "x",
           "hovertemplate": "Sexo=F<br>animation_frame=2006<br>Edad=%{x}<br>count=%{y}<extra></extra>",
           "legendgroup": "F",
           "marker": {
            "color": "#EF553B",
            "pattern": {
             "shape": ""
            }
           },
           "name": "F",
           "offsetgroup": "F",
           "orientation": "v",
           "showlegend": true,
           "type": "histogram",
           "x": [
            19,
            22,
            19,
            19,
            25,
            18,
            18,
            18,
            20,
            18,
            19,
            20,
            18,
            20,
            18,
            25,
            23,
            25,
            18,
            22,
            21,
            20,
            19,
            22,
            24,
            22,
            20,
            17,
            25,
            18,
            19,
            19,
            19,
            18,
            19,
            17,
            20,
            20,
            19,
            18,
            18,
            19,
            21,
            18,
            19,
            22,
            21,
            19,
            20,
            21,
            21,
            18,
            21,
            18,
            19,
            18,
            18,
            19,
            18,
            18,
            19,
            18,
            23,
            20,
            19,
            19,
            18,
            24,
            18,
            21,
            22,
            25,
            25,
            19,
            18,
            20,
            21,
            18,
            18,
            21,
            21,
            18,
            17,
            20,
            19,
            23,
            21,
            22,
            22,
            25,
            22,
            20,
            21,
            19,
            20,
            22,
            18,
            21,
            20,
            19,
            20,
            18,
            21,
            19,
            20,
            19,
            19,
            20,
            19,
            19,
            23,
            20,
            19,
            23,
            21,
            21,
            17,
            18,
            20,
            22,
            19,
            22,
            24,
            19,
            20,
            18,
            20,
            21,
            19,
            21,
            21,
            20,
            19,
            20,
            19,
            21,
            22,
            19,
            23,
            18,
            19,
            18,
            17,
            20,
            18,
            19,
            22,
            23,
            null,
            20,
            19,
            23,
            23,
            23,
            19,
            20,
            25,
            18,
            21,
            21,
            24,
            22,
            20,
            19,
            19,
            22,
            20,
            20,
            18,
            21,
            20,
            21,
            19,
            19,
            25,
            23,
            25,
            22,
            19,
            20,
            19,
            20,
            19,
            21,
            24,
            19,
            23,
            19,
            22,
            19,
            20,
            18,
            18,
            18,
            19,
            19,
            24,
            22,
            23,
            25,
            23,
            25,
            19,
            19,
            24,
            18,
            19,
            19,
            21,
            19,
            17,
            21,
            20,
            19,
            24,
            21,
            19,
            18,
            22,
            23,
            19,
            22,
            20,
            20,
            18,
            20,
            null,
            17,
            19,
            18,
            18,
            21,
            21,
            21,
            19,
            19,
            20,
            19,
            23,
            18,
            18,
            24,
            18,
            19,
            18,
            23,
            20,
            19,
            17,
            18,
            18,
            19,
            17,
            18,
            21,
            19,
            18,
            18,
            22,
            19,
            18,
            22,
            18,
            18,
            20,
            18,
            19,
            24,
            18,
            19,
            20,
            23,
            19,
            19,
            23,
            20,
            17,
            17
           ],
           "xaxis": "x",
           "yaxis": "y"
          }
         ],
         "name": "2006"
        },
        {
         "data": [
          {
           "alignmentgroup": "True",
           "bingroup": "x",
           "hovertemplate": "Sexo=M<br>animation_frame=2007<br>Edad=%{x}<br>count=%{y}<extra></extra>",
           "legendgroup": "M",
           "marker": {
            "color": "#636efa",
            "pattern": {
             "shape": ""
            }
           },
           "name": "M",
           "offsetgroup": "M",
           "orientation": "v",
           "showlegend": true,
           "type": "histogram",
           "x": [
            24,
            23,
            19,
            18,
            19,
            20,
            21,
            20,
            21,
            18,
            20,
            17,
            21,
            18,
            18,
            23,
            19,
            21,
            null,
            21,
            20,
            19,
            19,
            21,
            22,
            17,
            20,
            22,
            17,
            19,
            24,
            23,
            21,
            20,
            23,
            21,
            19,
            22,
            23,
            18,
            19,
            18,
            19,
            19,
            19,
            23,
            22,
            19,
            19,
            21,
            22,
            20,
            20,
            20,
            21,
            21,
            24,
            19,
            18,
            20,
            21,
            20,
            20,
            21,
            21,
            20,
            19,
            23,
            18,
            20,
            20,
            18,
            20,
            18,
            21,
            23,
            18,
            22,
            18,
            21,
            23,
            21,
            18,
            20,
            23,
            20,
            22,
            20,
            19,
            18,
            19,
            21,
            19,
            19,
            23,
            19,
            21,
            24,
            20,
            19,
            20,
            20,
            19,
            19,
            20,
            22,
            22,
            20,
            19,
            20,
            22,
            20,
            23,
            20,
            19,
            22,
            23,
            18,
            20,
            23,
            19,
            19,
            22,
            20,
            22,
            20,
            23,
            20,
            21,
            19,
            24,
            22,
            19,
            22,
            18,
            22,
            20,
            19,
            22,
            21,
            24,
            24,
            20,
            21,
            19,
            19,
            22,
            20,
            22,
            20,
            19,
            24,
            20,
            24,
            21,
            19,
            18,
            19,
            24,
            20,
            23,
            19,
            19,
            19,
            21,
            19,
            19,
            20,
            19,
            20,
            20,
            23,
            18,
            21,
            21,
            null,
            21,
            21,
            23,
            23,
            17,
            19,
            19,
            20,
            22,
            23,
            18,
            23,
            19,
            22,
            22,
            22,
            21,
            20,
            20,
            22,
            20,
            19,
            23,
            18,
            21,
            19,
            20,
            18,
            24,
            20,
            20,
            24,
            18,
            18,
            20,
            21,
            23,
            18,
            20,
            21,
            19,
            18,
            21,
            22,
            18,
            18,
            22,
            20,
            19,
            19,
            18,
            18,
            24,
            22,
            20,
            19,
            20,
            18,
            22,
            18,
            20,
            20,
            21,
            23,
            20,
            19,
            19,
            17,
            18,
            17,
            18,
            18,
            18,
            21,
            17,
            20,
            21,
            20,
            19,
            20,
            22,
            20,
            21,
            20,
            20,
            19,
            18,
            18,
            21,
            22,
            19,
            20,
            17,
            19,
            21,
            18,
            17,
            20,
            18,
            20,
            18,
            19,
            18,
            20,
            17,
            17,
            20,
            21,
            20,
            18,
            20,
            21,
            20,
            19,
            19,
            20,
            19,
            17,
            18,
            19,
            22,
            18,
            20,
            17,
            19,
            23,
            19,
            21,
            18,
            18,
            21,
            20,
            19,
            20,
            18,
            18,
            22,
            19,
            21,
            22,
            19,
            19,
            17,
            18,
            18,
            20,
            19,
            20,
            23,
            17,
            19,
            18,
            18
           ],
           "xaxis": "x",
           "yaxis": "y"
          },
          {
           "alignmentgroup": "True",
           "bingroup": "x",
           "hovertemplate": "Sexo=F<br>animation_frame=2007<br>Edad=%{x}<br>count=%{y}<extra></extra>",
           "legendgroup": "F",
           "marker": {
            "color": "#EF553B",
            "pattern": {
             "shape": ""
            }
           },
           "name": "F",
           "offsetgroup": "F",
           "orientation": "v",
           "showlegend": true,
           "type": "histogram",
           "x": [
            20,
            23,
            19,
            22,
            22,
            22,
            18,
            20,
            18,
            17,
            17,
            19,
            19,
            23,
            20,
            24,
            18,
            21,
            20,
            20,
            19,
            18,
            17,
            20,
            23,
            18,
            18,
            21,
            19,
            22,
            18,
            21,
            19,
            21,
            21,
            20,
            19,
            22,
            19,
            17,
            24,
            22,
            20,
            24,
            21,
            20,
            20,
            20,
            19,
            20,
            19,
            20,
            20,
            22,
            19,
            23,
            21,
            19,
            18,
            20,
            19,
            18,
            19,
            21,
            20,
            18,
            20,
            21,
            17,
            20,
            19,
            24,
            20,
            17,
            19,
            18,
            21,
            18,
            20,
            19,
            22,
            18,
            20,
            19,
            21,
            22,
            19,
            18,
            22,
            19,
            20,
            20,
            20,
            21,
            19,
            19,
            24,
            19,
            20,
            19,
            20,
            20,
            20,
            19,
            20,
            20,
            20,
            19,
            20,
            19,
            20,
            21,
            17,
            18,
            19,
            18,
            19,
            19,
            21,
            22,
            19,
            19,
            20,
            22,
            19,
            19,
            23,
            22,
            19,
            19,
            20,
            18,
            20,
            19,
            24,
            20,
            18,
            22,
            20,
            21,
            20,
            23,
            24,
            22,
            19,
            19,
            20,
            20,
            19,
            18,
            18,
            20,
            19,
            19,
            21,
            22,
            17,
            18,
            21,
            18,
            22,
            19,
            18,
            19,
            19,
            23,
            19,
            19,
            19,
            19,
            19,
            21,
            20,
            23,
            18,
            21,
            22,
            19,
            20,
            19,
            19,
            19,
            21,
            22,
            20,
            19,
            22,
            17,
            20,
            20,
            20,
            23,
            21,
            18,
            21,
            24,
            18,
            19,
            22,
            17,
            17,
            18,
            18,
            19,
            22,
            19,
            23,
            18,
            21,
            22,
            18,
            17,
            19,
            18,
            null,
            19,
            20,
            21,
            20,
            23,
            23,
            19,
            19,
            20,
            18,
            19,
            19,
            19,
            20,
            20,
            18,
            19,
            18,
            18,
            20,
            18,
            21,
            18,
            19,
            17,
            20,
            18,
            19,
            20,
            18,
            19,
            20,
            18,
            17,
            19,
            19,
            21,
            19,
            19,
            23,
            19,
            18,
            20,
            18,
            19,
            17,
            17,
            19,
            19,
            20,
            20,
            21,
            20,
            18,
            18,
            20,
            22,
            19,
            17,
            19,
            20,
            null,
            20,
            18,
            21,
            19,
            20,
            21,
            18,
            18,
            17,
            20,
            20,
            18,
            19,
            17,
            19,
            null,
            18,
            18,
            18,
            18,
            17,
            22,
            19,
            18,
            19,
            17,
            17,
            23,
            20,
            22,
            20,
            17,
            18,
            18,
            21,
            18,
            20
           ],
           "xaxis": "x",
           "yaxis": "y"
          }
         ],
         "name": "2007"
        },
        {
         "data": [
          {
           "alignmentgroup": "True",
           "bingroup": "x",
           "hovertemplate": "Sexo=M<br>animation_frame=2008<br>Edad=%{x}<br>count=%{y}<extra></extra>",
           "legendgroup": "M",
           "marker": {
            "color": "#636efa",
            "pattern": {
             "shape": ""
            }
           },
           "name": "M",
           "offsetgroup": "M",
           "orientation": "v",
           "showlegend": true,
           "type": "histogram",
           "x": [
            19,
            19,
            23,
            19,
            22,
            19,
            19,
            22,
            21,
            22,
            17,
            23,
            18,
            21,
            20,
            18,
            19,
            20,
            22,
            19,
            19,
            19,
            19,
            18,
            20,
            19,
            19,
            18,
            18,
            20,
            22,
            19,
            21,
            21,
            18,
            23,
            21,
            20,
            22,
            21,
            21,
            20,
            20,
            19,
            18,
            19,
            20,
            18,
            20,
            21,
            18,
            19,
            22,
            20,
            18,
            18,
            19,
            22,
            18,
            22,
            20,
            20,
            20,
            20,
            23,
            20,
            null,
            20,
            20,
            20,
            19,
            23,
            22,
            20,
            23,
            22,
            22,
            19,
            21,
            19,
            18,
            18,
            19,
            23,
            18,
            23,
            22,
            19,
            22,
            21,
            23,
            23,
            28,
            23,
            19,
            20,
            18,
            18,
            21,
            22,
            22,
            21,
            19,
            21,
            18,
            20,
            19,
            19,
            20,
            19,
            20,
            18,
            22,
            19,
            19,
            19,
            21,
            22,
            21,
            17,
            20,
            20,
            22,
            20,
            20,
            20,
            20,
            19,
            21,
            17,
            21,
            23,
            19,
            20,
            18,
            20,
            22,
            22,
            18,
            18,
            18,
            18,
            19,
            22,
            21,
            19,
            22,
            20,
            22,
            20,
            20,
            19,
            18,
            20,
            18,
            20,
            22,
            17,
            20,
            20,
            19,
            20,
            19,
            20,
            17,
            19,
            22,
            20,
            19,
            23,
            20,
            22,
            18,
            20,
            20,
            19,
            19,
            20,
            21,
            21,
            19,
            20,
            23,
            19,
            19,
            18,
            19,
            19,
            18,
            18,
            22,
            20,
            19,
            18,
            23,
            19,
            19,
            20,
            22,
            23,
            19,
            23,
            21,
            20,
            21,
            18,
            19,
            18,
            19,
            20,
            20,
            21,
            20,
            19,
            19,
            18,
            18,
            19,
            21,
            18,
            21,
            19,
            21,
            18,
            18,
            20,
            18,
            19,
            19,
            22,
            18,
            21,
            19,
            22,
            19,
            20,
            22,
            20,
            20,
            19,
            19,
            18,
            19,
            21,
            19,
            18,
            18,
            21,
            17,
            18,
            18,
            20,
            21,
            19,
            21,
            21,
            22,
            20,
            19,
            18,
            19,
            19,
            22,
            19,
            19,
            19,
            20,
            22,
            21,
            19,
            19,
            18,
            19,
            19,
            20,
            18,
            21,
            19,
            21,
            19,
            22,
            21,
            20,
            18,
            19,
            18,
            20,
            19,
            21,
            22,
            18,
            19,
            18,
            17,
            20,
            18,
            21,
            18,
            19,
            18,
            19,
            20,
            null,
            17,
            19,
            21,
            18,
            22,
            18,
            20,
            19,
            21,
            20,
            18,
            18,
            19,
            18,
            20,
            18,
            20,
            19,
            20,
            19,
            22,
            18,
            19,
            18,
            20,
            19,
            20,
            18,
            19,
            19,
            18,
            22,
            19,
            18,
            null,
            21,
            21,
            20,
            20,
            21,
            21,
            19,
            18,
            19,
            21,
            21,
            18,
            18,
            18,
            20,
            18,
            18,
            18,
            18,
            19,
            20,
            21,
            20,
            22,
            21
           ],
           "xaxis": "x",
           "yaxis": "y"
          },
          {
           "alignmentgroup": "True",
           "bingroup": "x",
           "hovertemplate": "Sexo=F<br>animation_frame=2008<br>Edad=%{x}<br>count=%{y}<extra></extra>",
           "legendgroup": "F",
           "marker": {
            "color": "#EF553B",
            "pattern": {
             "shape": ""
            }
           },
           "name": "F",
           "offsetgroup": "F",
           "orientation": "v",
           "showlegend": true,
           "type": "histogram",
           "x": [
            21,
            19,
            19,
            19,
            18,
            19,
            18,
            19,
            20,
            23,
            19,
            23,
            20,
            20,
            17,
            18,
            19,
            18,
            21,
            18,
            18,
            18,
            21,
            22,
            20,
            19,
            19,
            17,
            18,
            null,
            20,
            20,
            18,
            18,
            18,
            17,
            19,
            18,
            21,
            23,
            22,
            18,
            19,
            23,
            19,
            19,
            19,
            19,
            21,
            19,
            18,
            18,
            21,
            21,
            20,
            23,
            21,
            22,
            21,
            19,
            23,
            20,
            18,
            20,
            19,
            19,
            18,
            20,
            20,
            20,
            19,
            18,
            19,
            19,
            18,
            19,
            18,
            20,
            19,
            19,
            21,
            22,
            18,
            21,
            20,
            19,
            null,
            19,
            20,
            20,
            19,
            18,
            19,
            19,
            21,
            21,
            21,
            19,
            19,
            21,
            22,
            18,
            19,
            18,
            18,
            20,
            20,
            19,
            20,
            19,
            21,
            22,
            18,
            19,
            20,
            19,
            19,
            19,
            19,
            19,
            19,
            21,
            19,
            20,
            17,
            20,
            18,
            18,
            21,
            23,
            22,
            23,
            18,
            20,
            20,
            19,
            19,
            21,
            19,
            20,
            20,
            20,
            18,
            21,
            19,
            21,
            21,
            22,
            17,
            19,
            21,
            18,
            20,
            18,
            20,
            20,
            21,
            19,
            19,
            21,
            19,
            18,
            20,
            19,
            19,
            20,
            19,
            22,
            17,
            21,
            17,
            21,
            22,
            18,
            20,
            19,
            22,
            18,
            19,
            18,
            19,
            25,
            21,
            21,
            21,
            18,
            18,
            20,
            19,
            20,
            18,
            20,
            18,
            19,
            18,
            18,
            20,
            18,
            19,
            18,
            21,
            19,
            22,
            18,
            22,
            19,
            22,
            17,
            22,
            18,
            18,
            null,
            20,
            19,
            22,
            22,
            19,
            19,
            19,
            20,
            19,
            19,
            21,
            19,
            20,
            19,
            19,
            20,
            19,
            20,
            18,
            20,
            20,
            18,
            20,
            17,
            22,
            17,
            18,
            18,
            18,
            19,
            22,
            21,
            20,
            20,
            18,
            18,
            20,
            20,
            18,
            18,
            17,
            20,
            19,
            22,
            21,
            18,
            20,
            18,
            19,
            21,
            18,
            21,
            19,
            33,
            17,
            18,
            18,
            19,
            19,
            21,
            19,
            19,
            22,
            19,
            19,
            19,
            19
           ],
           "xaxis": "x",
           "yaxis": "y"
          }
         ],
         "name": "2008"
        },
        {
         "data": [
          {
           "alignmentgroup": "True",
           "bingroup": "x",
           "hovertemplate": "Sexo=M<br>animation_frame=2009<br>Edad=%{x}<br>count=%{y}<extra></extra>",
           "legendgroup": "M",
           "marker": {
            "color": "#636efa",
            "pattern": {
             "shape": ""
            }
           },
           "name": "M",
           "offsetgroup": "M",
           "orientation": "v",
           "showlegend": true,
           "type": "histogram",
           "x": [
            19,
            22,
            17,
            19,
            21,
            19,
            20,
            21,
            19,
            18,
            18,
            21,
            20,
            21,
            21,
            20,
            19,
            21,
            19,
            20,
            19,
            21,
            22,
            21,
            21,
            19,
            18,
            19,
            20,
            19,
            21,
            19,
            21,
            21,
            21,
            19,
            21,
            21,
            21,
            21,
            18,
            21,
            22,
            19,
            20,
            20,
            21,
            null,
            20,
            19,
            20,
            21,
            20,
            19,
            21,
            20,
            19,
            19,
            21,
            18,
            18,
            19,
            20,
            19,
            18,
            20,
            20,
            19,
            19,
            20,
            20,
            19,
            19,
            19,
            19,
            22,
            19,
            19,
            19,
            20,
            19,
            19,
            19,
            21,
            19,
            21,
            20,
            21,
            19,
            20,
            20,
            21,
            21,
            20,
            21,
            19,
            22,
            21,
            20,
            19,
            20,
            19,
            21,
            19,
            20,
            19,
            20,
            20,
            19,
            22,
            19,
            20,
            19,
            21,
            21,
            19,
            17,
            17,
            20,
            18,
            19,
            19,
            20,
            19,
            19,
            19,
            20,
            18,
            18,
            21,
            20,
            19,
            19,
            18,
            20,
            19,
            19,
            21,
            21,
            18,
            18,
            19,
            20,
            18,
            20,
            20,
            21,
            20,
            20,
            18,
            20,
            18,
            20,
            18,
            18,
            18,
            21,
            20,
            20,
            18,
            20,
            20,
            22,
            19,
            19,
            20,
            20,
            19,
            20,
            21,
            18,
            19,
            17,
            18,
            18,
            22,
            18,
            18,
            18,
            26,
            20,
            18,
            21,
            21,
            19,
            19,
            19,
            19,
            19,
            21,
            17,
            21,
            20,
            18,
            18,
            19,
            19,
            20,
            20,
            17,
            19,
            18,
            19,
            20,
            19,
            19,
            21,
            18,
            19,
            19,
            19,
            19,
            21,
            19,
            19,
            21,
            20,
            21,
            19,
            19,
            21,
            19,
            19,
            20,
            21,
            21,
            18,
            19,
            21,
            18,
            19,
            20,
            20,
            19,
            19,
            18,
            19,
            18,
            21,
            19,
            20,
            19,
            19,
            20,
            18,
            19,
            21,
            20,
            20,
            21,
            20,
            19,
            20,
            19,
            21,
            18,
            21,
            21,
            20,
            18,
            20,
            19,
            21,
            19,
            19,
            18,
            19,
            18,
            20,
            21,
            21,
            20,
            19,
            21,
            20,
            19,
            19,
            18,
            20,
            17,
            20,
            20,
            19,
            19,
            19,
            19,
            19,
            20,
            20,
            21,
            20,
            19,
            19,
            19,
            19,
            19,
            21,
            20,
            19,
            20,
            19,
            19,
            19,
            21,
            20,
            19,
            20,
            18,
            17,
            20,
            18,
            18,
            19,
            18,
            18,
            20,
            19,
            20,
            18,
            18,
            18,
            18,
            18,
            19,
            19,
            20,
            18,
            18,
            19,
            19
           ],
           "xaxis": "x",
           "yaxis": "y"
          },
          {
           "alignmentgroup": "True",
           "bingroup": "x",
           "hovertemplate": "Sexo=F<br>animation_frame=2009<br>Edad=%{x}<br>count=%{y}<extra></extra>",
           "legendgroup": "F",
           "marker": {
            "color": "#EF553B",
            "pattern": {
             "shape": ""
            }
           },
           "name": "F",
           "offsetgroup": "F",
           "orientation": "v",
           "showlegend": true,
           "type": "histogram",
           "x": [
            20,
            19,
            20,
            19,
            19,
            20,
            21,
            20,
            19,
            22,
            18,
            18,
            19,
            18,
            19,
            22,
            20,
            20,
            19,
            18,
            19,
            19,
            19,
            21,
            19,
            20,
            20,
            19,
            21,
            19,
            22,
            19,
            19,
            18,
            20,
            19,
            19,
            18,
            19,
            19,
            18,
            19,
            22,
            20,
            20,
            19,
            21,
            20,
            20,
            19,
            20,
            18,
            19,
            20,
            18,
            21,
            18,
            19,
            20,
            19,
            19,
            20,
            20,
            18,
            18,
            null,
            19,
            20,
            19,
            20,
            18,
            17,
            20,
            20,
            19,
            18,
            18,
            19,
            21,
            19,
            19,
            19,
            19,
            18,
            19,
            18,
            19,
            19,
            19,
            20,
            18,
            21,
            21,
            18,
            18,
            19,
            21,
            20,
            20,
            18,
            19,
            18,
            19,
            21,
            18,
            18,
            21,
            19,
            18,
            22,
            18,
            20,
            18,
            18,
            20,
            18,
            19,
            20,
            20,
            20,
            17,
            19,
            19,
            18,
            20,
            18,
            18,
            17,
            17,
            18,
            19,
            20,
            18,
            18,
            21,
            21,
            19,
            18,
            19,
            21,
            20,
            19,
            19,
            18,
            20,
            18,
            21,
            18,
            17,
            18,
            18,
            21,
            19,
            20,
            19,
            19,
            19,
            18,
            18,
            19,
            17,
            19,
            20,
            19,
            20,
            21,
            18,
            19,
            20,
            18,
            21,
            21,
            17,
            18,
            18,
            19,
            18,
            18,
            20,
            20,
            18,
            19,
            20,
            17,
            18,
            18,
            19,
            17,
            19,
            19,
            20,
            19,
            18,
            21,
            21,
            20,
            18,
            18,
            20,
            19,
            18,
            19,
            19,
            18,
            20,
            20,
            21,
            18,
            19,
            17,
            21,
            19,
            18,
            19,
            19,
            18,
            21,
            19,
            19,
            20,
            19,
            18,
            20,
            20,
            20,
            18,
            19,
            19,
            19,
            19,
            19,
            21,
            21,
            19,
            19,
            20,
            19,
            19,
            21,
            19,
            18,
            19,
            18,
            20,
            19,
            19,
            18,
            19,
            21,
            21,
            20,
            19,
            19,
            19,
            19,
            19,
            19,
            20,
            20,
            18,
            18,
            18,
            18,
            19,
            20,
            19,
            19,
            18,
            17,
            19,
            18,
            18,
            22,
            17,
            19,
            19,
            21,
            20,
            20,
            19,
            19,
            19,
            19,
            19,
            19,
            20,
            21,
            18,
            19,
            20,
            19,
            19,
            19,
            18,
            17,
            17,
            20,
            18,
            20,
            19,
            20,
            20,
            21,
            19,
            21,
            19,
            18,
            18,
            20,
            18,
            17,
            18,
            19,
            18,
            19,
            20,
            18,
            17,
            null,
            18,
            18,
            19,
            18,
            18,
            18,
            17,
            20,
            20
           ],
           "xaxis": "x",
           "yaxis": "y"
          }
         ],
         "name": "2009"
        },
        {
         "data": [
          {
           "alignmentgroup": "True",
           "bingroup": "x",
           "hovertemplate": "Sexo=M<br>animation_frame=2010<br>Edad=%{x}<br>count=%{y}<extra></extra>",
           "legendgroup": "M",
           "marker": {
            "color": "#636efa",
            "pattern": {
             "shape": ""
            }
           },
           "name": "M",
           "offsetgroup": "M",
           "orientation": "v",
           "showlegend": true,
           "type": "histogram",
           "x": [
            20,
            20,
            20,
            20,
            19,
            20,
            20,
            18,
            18,
            20,
            19,
            21,
            20,
            20,
            19,
            19,
            18,
            19,
            19,
            18,
            19,
            20,
            18,
            20,
            20,
            20,
            19,
            20,
            20,
            19,
            18,
            18,
            19,
            19,
            18,
            18,
            19,
            17,
            20,
            20,
            19,
            19,
            17,
            18,
            17,
            18,
            19,
            20,
            20,
            18,
            20,
            19,
            18,
            20,
            19,
            19,
            19,
            20,
            19,
            18,
            18,
            19,
            20,
            17,
            17,
            19,
            20,
            19,
            18,
            19,
            18,
            20,
            19,
            19,
            19,
            20,
            18,
            19,
            19,
            19,
            19,
            19,
            20,
            20,
            19,
            20,
            19,
            18,
            19,
            19,
            18,
            19,
            18,
            20,
            19,
            19,
            20,
            19,
            19,
            19,
            20,
            19,
            19,
            19,
            18,
            17,
            20,
            18,
            19,
            20,
            19,
            19,
            20,
            20,
            19,
            19,
            19,
            20,
            20,
            19,
            19,
            19,
            19,
            18,
            19,
            19,
            20,
            18,
            19,
            19,
            18,
            19,
            19,
            19,
            18,
            19,
            20,
            19,
            19,
            18,
            18,
            19,
            18,
            18,
            19,
            19,
            18,
            17,
            17,
            18,
            19,
            19,
            19,
            18,
            18,
            18,
            18,
            20,
            18,
            18,
            18,
            18,
            18,
            18,
            18,
            18,
            18,
            18,
            18,
            18,
            18,
            19,
            18,
            18,
            18,
            19,
            19,
            19,
            19,
            18,
            18,
            19,
            19,
            18,
            18,
            18,
            20,
            17,
            19,
            18,
            18,
            17,
            17,
            18,
            20,
            19,
            20,
            19,
            18,
            18,
            17,
            18,
            19,
            18,
            18,
            18,
            19,
            19,
            18,
            19,
            18,
            18,
            18,
            19,
            20,
            19,
            19,
            18,
            18,
            19,
            19,
            19,
            18,
            19,
            18,
            18,
            19,
            19,
            18,
            19,
            19,
            19,
            17,
            19,
            17,
            18,
            18,
            17,
            18,
            17,
            18,
            18,
            19,
            19,
            17,
            19,
            18,
            18,
            19,
            19,
            18,
            18,
            18,
            18,
            17,
            17,
            17,
            18,
            18,
            18,
            18,
            19,
            19,
            18,
            18,
            18,
            19,
            18,
            18,
            18,
            18,
            19,
            19,
            19,
            18,
            19,
            18,
            18,
            18,
            17,
            18,
            23,
            18,
            17,
            17,
            18,
            18,
            18,
            17,
            18,
            18,
            17,
            17,
            18,
            17,
            18,
            17,
            18,
            18,
            18,
            18,
            17,
            21,
            21,
            18,
            20,
            29,
            21,
            22,
            19,
            29,
            22,
            18,
            19,
            22,
            24,
            20,
            19,
            20,
            22,
            22,
            19,
            20,
            26,
            19,
            20,
            25,
            24,
            28
           ],
           "xaxis": "x",
           "yaxis": "y"
          },
          {
           "alignmentgroup": "True",
           "bingroup": "x",
           "hovertemplate": "Sexo=F<br>animation_frame=2010<br>Edad=%{x}<br>count=%{y}<extra></extra>",
           "legendgroup": "F",
           "marker": {
            "color": "#EF553B",
            "pattern": {
             "shape": ""
            }
           },
           "name": "F",
           "offsetgroup": "F",
           "orientation": "v",
           "showlegend": true,
           "type": "histogram",
           "x": [
            20,
            17,
            20,
            18,
            20,
            19,
            18,
            18,
            18,
            19,
            20,
            18,
            17,
            19,
            20,
            18,
            18,
            20,
            21,
            18,
            19,
            20,
            18,
            20,
            18,
            19,
            20,
            19,
            18,
            20,
            20,
            20,
            18,
            18,
            19,
            18,
            20,
            18,
            19,
            20,
            19,
            20,
            18,
            18,
            18,
            17,
            18,
            18,
            18,
            19,
            19,
            18,
            19,
            18,
            18,
            19,
            19,
            20,
            19,
            19,
            19,
            18,
            20,
            18,
            19,
            18,
            19,
            18,
            20,
            18,
            19,
            17,
            null,
            18,
            18,
            18,
            20,
            20,
            17,
            17,
            18,
            19,
            19,
            19,
            18,
            25,
            18,
            19,
            18,
            18,
            18,
            17,
            18,
            19,
            19,
            22,
            18,
            19,
            20,
            19,
            18,
            20,
            21,
            18,
            19,
            20,
            20,
            19,
            20,
            18,
            19,
            18,
            19,
            17,
            20,
            22,
            19,
            18,
            19,
            17,
            19,
            18,
            17,
            19,
            17,
            19,
            19,
            19,
            19,
            19,
            18,
            20,
            17,
            18,
            19,
            18,
            19,
            17,
            17,
            19,
            18,
            19,
            19,
            18,
            17,
            19,
            19,
            18,
            17,
            18,
            18,
            17,
            18,
            18,
            17,
            18,
            19,
            18,
            19,
            20,
            19,
            20,
            19,
            17,
            19,
            19,
            19,
            18,
            19,
            17,
            19,
            20,
            18,
            18,
            17,
            19,
            18,
            19,
            18,
            19,
            19,
            18,
            null,
            19,
            19,
            18,
            18,
            18,
            20,
            18,
            18,
            18,
            20,
            20,
            18,
            18,
            19,
            18,
            19,
            18,
            18,
            18,
            19,
            17,
            17,
            18,
            19,
            18,
            19,
            18,
            19,
            19,
            18,
            18,
            18,
            19,
            18,
            19,
            18,
            19,
            19,
            18,
            19,
            17,
            18,
            17,
            null,
            17,
            19,
            17,
            18,
            18,
            18,
            19,
            18,
            19,
            18,
            20,
            19,
            18,
            18,
            18,
            19,
            18,
            17,
            18,
            19,
            18,
            18,
            18,
            19,
            18,
            17,
            18,
            17,
            18,
            18,
            19,
            19,
            19,
            19,
            18,
            17,
            18,
            18,
            18,
            null,
            18,
            19,
            19,
            19,
            18,
            18,
            17,
            17,
            17,
            18,
            18,
            19,
            18,
            null,
            18,
            17,
            17,
            18,
            18,
            18,
            17,
            18,
            null,
            17,
            18,
            18,
            17,
            19,
            19,
            18,
            19,
            18,
            19,
            19,
            18,
            19,
            19,
            18,
            17,
            18,
            17,
            22,
            19,
            18,
            19,
            18,
            18,
            17,
            18,
            17,
            19,
            18,
            17,
            18,
            17,
            18,
            18,
            18,
            18,
            18,
            17,
            18,
            18,
            17,
            18,
            17,
            18,
            17,
            18,
            18,
            18,
            18,
            17,
            20,
            53,
            18,
            21,
            20,
            23,
            23,
            27,
            24,
            22,
            25,
            20,
            21,
            26,
            23,
            20,
            20,
            20,
            27,
            29,
            27,
            22
           ],
           "xaxis": "x",
           "yaxis": "y"
          }
         ],
         "name": "2010"
        }
       ],
       "layout": {
        "barmode": "relative",
        "legend": {
         "title": {
          "text": "Sexo"
         },
         "tracegroupgap": 0
        },
        "sliders": [
         {
          "active": 0,
          "currentvalue": {
           "prefix": "animation_frame="
          },
          "len": 0.9,
          "pad": {
           "b": 10,
           "t": 60
          },
          "steps": [
           {
            "args": [
             [
              "2001"
             ],
             {
              "frame": {
               "duration": 0,
               "redraw": true
              },
              "fromcurrent": true,
              "mode": "immediate",
              "transition": {
               "duration": 0,
               "easing": "linear"
              }
             }
            ],
            "label": "2001",
            "method": "animate"
           },
           {
            "args": [
             [
              "2002"
             ],
             {
              "frame": {
               "duration": 0,
               "redraw": true
              },
              "fromcurrent": true,
              "mode": "immediate",
              "transition": {
               "duration": 0,
               "easing": "linear"
              }
             }
            ],
            "label": "2002",
            "method": "animate"
           },
           {
            "args": [
             [
              "2003"
             ],
             {
              "frame": {
               "duration": 0,
               "redraw": true
              },
              "fromcurrent": true,
              "mode": "immediate",
              "transition": {
               "duration": 0,
               "easing": "linear"
              }
             }
            ],
            "label": "2003",
            "method": "animate"
           },
           {
            "args": [
             [
              "2004"
             ],
             {
              "frame": {
               "duration": 0,
               "redraw": true
              },
              "fromcurrent": true,
              "mode": "immediate",
              "transition": {
               "duration": 0,
               "easing": "linear"
              }
             }
            ],
            "label": "2004",
            "method": "animate"
           },
           {
            "args": [
             [
              "2005"
             ],
             {
              "frame": {
               "duration": 0,
               "redraw": true
              },
              "fromcurrent": true,
              "mode": "immediate",
              "transition": {
               "duration": 0,
               "easing": "linear"
              }
             }
            ],
            "label": "2005",
            "method": "animate"
           },
           {
            "args": [
             [
              "2006"
             ],
             {
              "frame": {
               "duration": 0,
               "redraw": true
              },
              "fromcurrent": true,
              "mode": "immediate",
              "transition": {
               "duration": 0,
               "easing": "linear"
              }
             }
            ],
            "label": "2006",
            "method": "animate"
           },
           {
            "args": [
             [
              "2007"
             ],
             {
              "frame": {
               "duration": 0,
               "redraw": true
              },
              "fromcurrent": true,
              "mode": "immediate",
              "transition": {
               "duration": 0,
               "easing": "linear"
              }
             }
            ],
            "label": "2007",
            "method": "animate"
           },
           {
            "args": [
             [
              "2008"
             ],
             {
              "frame": {
               "duration": 0,
               "redraw": true
              },
              "fromcurrent": true,
              "mode": "immediate",
              "transition": {
               "duration": 0,
               "easing": "linear"
              }
             }
            ],
            "label": "2008",
            "method": "animate"
           },
           {
            "args": [
             [
              "2009"
             ],
             {
              "frame": {
               "duration": 0,
               "redraw": true
              },
              "fromcurrent": true,
              "mode": "immediate",
              "transition": {
               "duration": 0,
               "easing": "linear"
              }
             }
            ],
            "label": "2009",
            "method": "animate"
           },
           {
            "args": [
             [
              "2010"
             ],
             {
              "frame": {
               "duration": 0,
               "redraw": true
              },
              "fromcurrent": true,
              "mode": "immediate",
              "transition": {
               "duration": 0,
               "easing": "linear"
              }
             }
            ],
            "label": "2010",
            "method": "animate"
           }
          ],
          "x": 0.1,
          "xanchor": "left",
          "y": 0,
          "yanchor": "top"
         }
        ],
        "template": {
         "data": {
          "bar": [
           {
            "error_x": {
             "color": "#2a3f5f"
            },
            "error_y": {
             "color": "#2a3f5f"
            },
            "marker": {
             "line": {
              "color": "#E5ECF6",
              "width": 0.5
             },
             "pattern": {
              "fillmode": "overlay",
              "size": 10,
              "solidity": 0.2
             }
            },
            "type": "bar"
           }
          ],
          "barpolar": [
           {
            "marker": {
             "line": {
              "color": "#E5ECF6",
              "width": 0.5
             },
             "pattern": {
              "fillmode": "overlay",
              "size": 10,
              "solidity": 0.2
             }
            },
            "type": "barpolar"
           }
          ],
          "carpet": [
           {
            "aaxis": {
             "endlinecolor": "#2a3f5f",
             "gridcolor": "white",
             "linecolor": "white",
             "minorgridcolor": "white",
             "startlinecolor": "#2a3f5f"
            },
            "baxis": {
             "endlinecolor": "#2a3f5f",
             "gridcolor": "white",
             "linecolor": "white",
             "minorgridcolor": "white",
             "startlinecolor": "#2a3f5f"
            },
            "type": "carpet"
           }
          ],
          "choropleth": [
           {
            "colorbar": {
             "outlinewidth": 0,
             "ticks": ""
            },
            "type": "choropleth"
           }
          ],
          "contour": [
           {
            "colorbar": {
             "outlinewidth": 0,
             "ticks": ""
            },
            "colorscale": [
             [
              0,
              "#0d0887"
             ],
             [
              0.1111111111111111,
              "#46039f"
             ],
             [
              0.2222222222222222,
              "#7201a8"
             ],
             [
              0.3333333333333333,
              "#9c179e"
             ],
             [
              0.4444444444444444,
              "#bd3786"
             ],
             [
              0.5555555555555556,
              "#d8576b"
             ],
             [
              0.6666666666666666,
              "#ed7953"
             ],
             [
              0.7777777777777778,
              "#fb9f3a"
             ],
             [
              0.8888888888888888,
              "#fdca26"
             ],
             [
              1,
              "#f0f921"
             ]
            ],
            "type": "contour"
           }
          ],
          "contourcarpet": [
           {
            "colorbar": {
             "outlinewidth": 0,
             "ticks": ""
            },
            "type": "contourcarpet"
           }
          ],
          "heatmap": [
           {
            "colorbar": {
             "outlinewidth": 0,
             "ticks": ""
            },
            "colorscale": [
             [
              0,
              "#0d0887"
             ],
             [
              0.1111111111111111,
              "#46039f"
             ],
             [
              0.2222222222222222,
              "#7201a8"
             ],
             [
              0.3333333333333333,
              "#9c179e"
             ],
             [
              0.4444444444444444,
              "#bd3786"
             ],
             [
              0.5555555555555556,
              "#d8576b"
             ],
             [
              0.6666666666666666,
              "#ed7953"
             ],
             [
              0.7777777777777778,
              "#fb9f3a"
             ],
             [
              0.8888888888888888,
              "#fdca26"
             ],
             [
              1,
              "#f0f921"
             ]
            ],
            "type": "heatmap"
           }
          ],
          "heatmapgl": [
           {
            "colorbar": {
             "outlinewidth": 0,
             "ticks": ""
            },
            "colorscale": [
             [
              0,
              "#0d0887"
             ],
             [
              0.1111111111111111,
              "#46039f"
             ],
             [
              0.2222222222222222,
              "#7201a8"
             ],
             [
              0.3333333333333333,
              "#9c179e"
             ],
             [
              0.4444444444444444,
              "#bd3786"
             ],
             [
              0.5555555555555556,
              "#d8576b"
             ],
             [
              0.6666666666666666,
              "#ed7953"
             ],
             [
              0.7777777777777778,
              "#fb9f3a"
             ],
             [
              0.8888888888888888,
              "#fdca26"
             ],
             [
              1,
              "#f0f921"
             ]
            ],
            "type": "heatmapgl"
           }
          ],
          "histogram": [
           {
            "marker": {
             "pattern": {
              "fillmode": "overlay",
              "size": 10,
              "solidity": 0.2
             }
            },
            "type": "histogram"
           }
          ],
          "histogram2d": [
           {
            "colorbar": {
             "outlinewidth": 0,
             "ticks": ""
            },
            "colorscale": [
             [
              0,
              "#0d0887"
             ],
             [
              0.1111111111111111,
              "#46039f"
             ],
             [
              0.2222222222222222,
              "#7201a8"
             ],
             [
              0.3333333333333333,
              "#9c179e"
             ],
             [
              0.4444444444444444,
              "#bd3786"
             ],
             [
              0.5555555555555556,
              "#d8576b"
             ],
             [
              0.6666666666666666,
              "#ed7953"
             ],
             [
              0.7777777777777778,
              "#fb9f3a"
             ],
             [
              0.8888888888888888,
              "#fdca26"
             ],
             [
              1,
              "#f0f921"
             ]
            ],
            "type": "histogram2d"
           }
          ],
          "histogram2dcontour": [
           {
            "colorbar": {
             "outlinewidth": 0,
             "ticks": ""
            },
            "colorscale": [
             [
              0,
              "#0d0887"
             ],
             [
              0.1111111111111111,
              "#46039f"
             ],
             [
              0.2222222222222222,
              "#7201a8"
             ],
             [
              0.3333333333333333,
              "#9c179e"
             ],
             [
              0.4444444444444444,
              "#bd3786"
             ],
             [
              0.5555555555555556,
              "#d8576b"
             ],
             [
              0.6666666666666666,
              "#ed7953"
             ],
             [
              0.7777777777777778,
              "#fb9f3a"
             ],
             [
              0.8888888888888888,
              "#fdca26"
             ],
             [
              1,
              "#f0f921"
             ]
            ],
            "type": "histogram2dcontour"
           }
          ],
          "mesh3d": [
           {
            "colorbar": {
             "outlinewidth": 0,
             "ticks": ""
            },
            "type": "mesh3d"
           }
          ],
          "parcoords": [
           {
            "line": {
             "colorbar": {
              "outlinewidth": 0,
              "ticks": ""
             }
            },
            "type": "parcoords"
           }
          ],
          "pie": [
           {
            "automargin": true,
            "type": "pie"
           }
          ],
          "scatter": [
           {
            "fillpattern": {
             "fillmode": "overlay",
             "size": 10,
             "solidity": 0.2
            },
            "type": "scatter"
           }
          ],
          "scatter3d": [
           {
            "line": {
             "colorbar": {
              "outlinewidth": 0,
              "ticks": ""
             }
            },
            "marker": {
             "colorbar": {
              "outlinewidth": 0,
              "ticks": ""
             }
            },
            "type": "scatter3d"
           }
          ],
          "scattercarpet": [
           {
            "marker": {
             "colorbar": {
              "outlinewidth": 0,
              "ticks": ""
             }
            },
            "type": "scattercarpet"
           }
          ],
          "scattergeo": [
           {
            "marker": {
             "colorbar": {
              "outlinewidth": 0,
              "ticks": ""
             }
            },
            "type": "scattergeo"
           }
          ],
          "scattergl": [
           {
            "marker": {
             "colorbar": {
              "outlinewidth": 0,
              "ticks": ""
             }
            },
            "type": "scattergl"
           }
          ],
          "scattermapbox": [
           {
            "marker": {
             "colorbar": {
              "outlinewidth": 0,
              "ticks": ""
             }
            },
            "type": "scattermapbox"
           }
          ],
          "scatterpolar": [
           {
            "marker": {
             "colorbar": {
              "outlinewidth": 0,
              "ticks": ""
             }
            },
            "type": "scatterpolar"
           }
          ],
          "scatterpolargl": [
           {
            "marker": {
             "colorbar": {
              "outlinewidth": 0,
              "ticks": ""
             }
            },
            "type": "scatterpolargl"
           }
          ],
          "scatterternary": [
           {
            "marker": {
             "colorbar": {
              "outlinewidth": 0,
              "ticks": ""
             }
            },
            "type": "scatterternary"
           }
          ],
          "surface": [
           {
            "colorbar": {
             "outlinewidth": 0,
             "ticks": ""
            },
            "colorscale": [
             [
              0,
              "#0d0887"
             ],
             [
              0.1111111111111111,
              "#46039f"
             ],
             [
              0.2222222222222222,
              "#7201a8"
             ],
             [
              0.3333333333333333,
              "#9c179e"
             ],
             [
              0.4444444444444444,
              "#bd3786"
             ],
             [
              0.5555555555555556,
              "#d8576b"
             ],
             [
              0.6666666666666666,
              "#ed7953"
             ],
             [
              0.7777777777777778,
              "#fb9f3a"
             ],
             [
              0.8888888888888888,
              "#fdca26"
             ],
             [
              1,
              "#f0f921"
             ]
            ],
            "type": "surface"
           }
          ],
          "table": [
           {
            "cells": {
             "fill": {
              "color": "#EBF0F8"
             },
             "line": {
              "color": "white"
             }
            },
            "header": {
             "fill": {
              "color": "#C8D4E3"
             },
             "line": {
              "color": "white"
             }
            },
            "type": "table"
           }
          ]
         },
         "layout": {
          "annotationdefaults": {
           "arrowcolor": "#2a3f5f",
           "arrowhead": 0,
           "arrowwidth": 1
          },
          "autotypenumbers": "strict",
          "coloraxis": {
           "colorbar": {
            "outlinewidth": 0,
            "ticks": ""
           }
          },
          "colorscale": {
           "diverging": [
            [
             0,
             "#8e0152"
            ],
            [
             0.1,
             "#c51b7d"
            ],
            [
             0.2,
             "#de77ae"
            ],
            [
             0.3,
             "#f1b6da"
            ],
            [
             0.4,
             "#fde0ef"
            ],
            [
             0.5,
             "#f7f7f7"
            ],
            [
             0.6,
             "#e6f5d0"
            ],
            [
             0.7,
             "#b8e186"
            ],
            [
             0.8,
             "#7fbc41"
            ],
            [
             0.9,
             "#4d9221"
            ],
            [
             1,
             "#276419"
            ]
           ],
           "sequential": [
            [
             0,
             "#0d0887"
            ],
            [
             0.1111111111111111,
             "#46039f"
            ],
            [
             0.2222222222222222,
             "#7201a8"
            ],
            [
             0.3333333333333333,
             "#9c179e"
            ],
            [
             0.4444444444444444,
             "#bd3786"
            ],
            [
             0.5555555555555556,
             "#d8576b"
            ],
            [
             0.6666666666666666,
             "#ed7953"
            ],
            [
             0.7777777777777778,
             "#fb9f3a"
            ],
            [
             0.8888888888888888,
             "#fdca26"
            ],
            [
             1,
             "#f0f921"
            ]
           ],
           "sequentialminus": [
            [
             0,
             "#0d0887"
            ],
            [
             0.1111111111111111,
             "#46039f"
            ],
            [
             0.2222222222222222,
             "#7201a8"
            ],
            [
             0.3333333333333333,
             "#9c179e"
            ],
            [
             0.4444444444444444,
             "#bd3786"
            ],
            [
             0.5555555555555556,
             "#d8576b"
            ],
            [
             0.6666666666666666,
             "#ed7953"
            ],
            [
             0.7777777777777778,
             "#fb9f3a"
            ],
            [
             0.8888888888888888,
             "#fdca26"
            ],
            [
             1,
             "#f0f921"
            ]
           ]
          },
          "colorway": [
           "#636efa",
           "#EF553B",
           "#00cc96",
           "#ab63fa",
           "#FFA15A",
           "#19d3f3",
           "#FF6692",
           "#B6E880",
           "#FF97FF",
           "#FECB52"
          ],
          "font": {
           "color": "#2a3f5f"
          },
          "geo": {
           "bgcolor": "white",
           "lakecolor": "white",
           "landcolor": "#E5ECF6",
           "showlakes": true,
           "showland": true,
           "subunitcolor": "white"
          },
          "hoverlabel": {
           "align": "left"
          },
          "hovermode": "closest",
          "mapbox": {
           "style": "light"
          },
          "paper_bgcolor": "white",
          "plot_bgcolor": "#E5ECF6",
          "polar": {
           "angularaxis": {
            "gridcolor": "white",
            "linecolor": "white",
            "ticks": ""
           },
           "bgcolor": "#E5ECF6",
           "radialaxis": {
            "gridcolor": "white",
            "linecolor": "white",
            "ticks": ""
           }
          },
          "scene": {
           "xaxis": {
            "backgroundcolor": "#E5ECF6",
            "gridcolor": "white",
            "gridwidth": 2,
            "linecolor": "white",
            "showbackground": true,
            "ticks": "",
            "zerolinecolor": "white"
           },
           "yaxis": {
            "backgroundcolor": "#E5ECF6",
            "gridcolor": "white",
            "gridwidth": 2,
            "linecolor": "white",
            "showbackground": true,
            "ticks": "",
            "zerolinecolor": "white"
           },
           "zaxis": {
            "backgroundcolor": "#E5ECF6",
            "gridcolor": "white",
            "gridwidth": 2,
            "linecolor": "white",
            "showbackground": true,
            "ticks": "",
            "zerolinecolor": "white"
           }
          },
          "shapedefaults": {
           "line": {
            "color": "#2a3f5f"
           }
          },
          "ternary": {
           "aaxis": {
            "gridcolor": "white",
            "linecolor": "white",
            "ticks": ""
           },
           "baxis": {
            "gridcolor": "white",
            "linecolor": "white",
            "ticks": ""
           },
           "bgcolor": "#E5ECF6",
           "caxis": {
            "gridcolor": "white",
            "linecolor": "white",
            "ticks": ""
           }
          },
          "title": {
           "x": 0.05
          },
          "xaxis": {
           "automargin": true,
           "gridcolor": "white",
           "linecolor": "white",
           "ticks": "",
           "title": {
            "standoff": 15
           },
           "zerolinecolor": "white",
           "zerolinewidth": 2
          },
          "yaxis": {
           "automargin": true,
           "gridcolor": "white",
           "linecolor": "white",
           "ticks": "",
           "title": {
            "standoff": 15
           },
           "zerolinecolor": "white",
           "zerolinewidth": 2
          }
         }
        },
        "title": {
         "text": "Edad de alumnos"
        },
        "updatemenus": [
         {
          "buttons": [
           {
            "args": [
             null,
             {
              "frame": {
               "duration": 500,
               "redraw": true
              },
              "fromcurrent": true,
              "mode": "immediate",
              "transition": {
               "duration": 500,
               "easing": "linear"
              }
             }
            ],
            "label": "&#9654;",
            "method": "animate"
           },
           {
            "args": [
             [
              null
             ],
             {
              "frame": {
               "duration": 0,
               "redraw": true
              },
              "fromcurrent": true,
              "mode": "immediate",
              "transition": {
               "duration": 0,
               "easing": "linear"
              }
             }
            ],
            "label": "&#9724;",
            "method": "animate"
           }
          ],
          "direction": "left",
          "pad": {
           "r": 10,
           "t": 70
          },
          "showactive": false,
          "type": "buttons",
          "x": 0.1,
          "xanchor": "right",
          "y": 0,
          "yanchor": "top"
         }
        ],
        "xaxis": {
         "anchor": "y",
         "domain": [
          0,
          1
         ],
         "title": {
          "text": "Edad"
         }
        },
        "yaxis": {
         "anchor": "x",
         "domain": [
          0,
          1
         ],
         "title": {
          "text": "count"
         }
        }
       }
      }
     },
     "metadata": {},
     "output_type": "display_data"
    }
   ],
   "source": [
    "px.histogram(df_ALUCarrera, \n",
    "            x=\"Edad\", \n",
    "            title='Edad de alumnos',\n",
    "            color='Sexo',\n",
    "            animation_frame=df_ALUCarrera['Año_Ingreso'].sort_values())"
   ]
  },
  {
   "cell_type": "markdown",
   "metadata": {},
   "source": [
    "### Total de Alumnos x Carrera separado entre mujeres y varones"
   ]
  },
  {
   "cell_type": "code",
   "execution_count": 26,
   "metadata": {},
   "outputs": [
    {
     "data": {
      "application/vnd.plotly.v1+json": {
       "config": {
        "plotlyServerURL": "https://plot.ly"
       },
       "data": [
        {
         "alignmentgroup": "True",
         "hovertemplate": "Sexo=F<br>Nombre_Corto=%{x}<br>Cantidad=%{y}<extra></extra>",
         "legendgroup": "F",
         "marker": {
          "color": "#636efa",
          "pattern": {
           "shape": ""
          }
         },
         "name": "F",
         "offsetgroup": "F",
         "orientation": "v",
         "showlegend": true,
         "textposition": "auto",
         "type": "bar",
         "x": [
          "ANALISTA DE SISTEMAS",
          "MARKETING",
          "PUBLICIDAD",
          "ADMINISTRACIÓN DE EMPRESAS",
          "DISEÑO GRÁFICO",
          "RELACIONES PÚBLICAS",
          "RECURSOS HUMANOS",
          "COMERCIO INTERNACIONAL",
          "AGRONEGOCIOS",
          "TURISMO",
          "MULTIMEDIOS",
          "GESTIÓN AMBIENTAL",
          "GESTIÓN CONTABLE Y FINANCIERA"
         ],
         "xaxis": "x",
         "y": [
          92,
          233,
          218,
          220,
          505,
          454,
          473,
          82,
          87,
          175,
          76,
          23,
          70
         ],
         "yaxis": "y"
        },
        {
         "alignmentgroup": "True",
         "hovertemplate": "Sexo=M<br>Nombre_Corto=%{x}<br>Cantidad=%{y}<extra></extra>",
         "legendgroup": "M",
         "marker": {
          "color": "#EF553B",
          "pattern": {
           "shape": ""
          }
         },
         "name": "M",
         "offsetgroup": "M",
         "orientation": "v",
         "showlegend": true,
         "textposition": "auto",
         "type": "bar",
         "x": [
          "ANALISTA DE SISTEMAS",
          "MARKETING",
          "PUBLICIDAD",
          "ADMINISTRACIÓN DE EMPRESAS",
          "DISEÑO GRÁFICO",
          "RELACIONES PÚBLICAS",
          "RECURSOS HUMANOS",
          "COMERCIO INTERNACIONAL",
          "AGRONEGOCIOS",
          "TURISMO",
          "MULTIMEDIOS",
          "GESTIÓN AMBIENTAL",
          "GESTIÓN CONTABLE Y FINANCIERA"
         ],
         "xaxis": "x",
         "y": [
          490,
          408,
          288,
          388,
          457,
          233,
          202,
          122,
          407,
          95,
          258,
          34,
          56
         ],
         "yaxis": "y"
        }
       ],
       "layout": {
        "barmode": "relative",
        "legend": {
         "title": {
          "text": "Sexo"
         },
         "tracegroupgap": 0
        },
        "margin": {
         "t": 60
        },
        "template": {
         "data": {
          "bar": [
           {
            "error_x": {
             "color": "#2a3f5f"
            },
            "error_y": {
             "color": "#2a3f5f"
            },
            "marker": {
             "line": {
              "color": "#E5ECF6",
              "width": 0.5
             },
             "pattern": {
              "fillmode": "overlay",
              "size": 10,
              "solidity": 0.2
             }
            },
            "type": "bar"
           }
          ],
          "barpolar": [
           {
            "marker": {
             "line": {
              "color": "#E5ECF6",
              "width": 0.5
             },
             "pattern": {
              "fillmode": "overlay",
              "size": 10,
              "solidity": 0.2
             }
            },
            "type": "barpolar"
           }
          ],
          "carpet": [
           {
            "aaxis": {
             "endlinecolor": "#2a3f5f",
             "gridcolor": "white",
             "linecolor": "white",
             "minorgridcolor": "white",
             "startlinecolor": "#2a3f5f"
            },
            "baxis": {
             "endlinecolor": "#2a3f5f",
             "gridcolor": "white",
             "linecolor": "white",
             "minorgridcolor": "white",
             "startlinecolor": "#2a3f5f"
            },
            "type": "carpet"
           }
          ],
          "choropleth": [
           {
            "colorbar": {
             "outlinewidth": 0,
             "ticks": ""
            },
            "type": "choropleth"
           }
          ],
          "contour": [
           {
            "colorbar": {
             "outlinewidth": 0,
             "ticks": ""
            },
            "colorscale": [
             [
              0,
              "#0d0887"
             ],
             [
              0.1111111111111111,
              "#46039f"
             ],
             [
              0.2222222222222222,
              "#7201a8"
             ],
             [
              0.3333333333333333,
              "#9c179e"
             ],
             [
              0.4444444444444444,
              "#bd3786"
             ],
             [
              0.5555555555555556,
              "#d8576b"
             ],
             [
              0.6666666666666666,
              "#ed7953"
             ],
             [
              0.7777777777777778,
              "#fb9f3a"
             ],
             [
              0.8888888888888888,
              "#fdca26"
             ],
             [
              1,
              "#f0f921"
             ]
            ],
            "type": "contour"
           }
          ],
          "contourcarpet": [
           {
            "colorbar": {
             "outlinewidth": 0,
             "ticks": ""
            },
            "type": "contourcarpet"
           }
          ],
          "heatmap": [
           {
            "colorbar": {
             "outlinewidth": 0,
             "ticks": ""
            },
            "colorscale": [
             [
              0,
              "#0d0887"
             ],
             [
              0.1111111111111111,
              "#46039f"
             ],
             [
              0.2222222222222222,
              "#7201a8"
             ],
             [
              0.3333333333333333,
              "#9c179e"
             ],
             [
              0.4444444444444444,
              "#bd3786"
             ],
             [
              0.5555555555555556,
              "#d8576b"
             ],
             [
              0.6666666666666666,
              "#ed7953"
             ],
             [
              0.7777777777777778,
              "#fb9f3a"
             ],
             [
              0.8888888888888888,
              "#fdca26"
             ],
             [
              1,
              "#f0f921"
             ]
            ],
            "type": "heatmap"
           }
          ],
          "heatmapgl": [
           {
            "colorbar": {
             "outlinewidth": 0,
             "ticks": ""
            },
            "colorscale": [
             [
              0,
              "#0d0887"
             ],
             [
              0.1111111111111111,
              "#46039f"
             ],
             [
              0.2222222222222222,
              "#7201a8"
             ],
             [
              0.3333333333333333,
              "#9c179e"
             ],
             [
              0.4444444444444444,
              "#bd3786"
             ],
             [
              0.5555555555555556,
              "#d8576b"
             ],
             [
              0.6666666666666666,
              "#ed7953"
             ],
             [
              0.7777777777777778,
              "#fb9f3a"
             ],
             [
              0.8888888888888888,
              "#fdca26"
             ],
             [
              1,
              "#f0f921"
             ]
            ],
            "type": "heatmapgl"
           }
          ],
          "histogram": [
           {
            "marker": {
             "pattern": {
              "fillmode": "overlay",
              "size": 10,
              "solidity": 0.2
             }
            },
            "type": "histogram"
           }
          ],
          "histogram2d": [
           {
            "colorbar": {
             "outlinewidth": 0,
             "ticks": ""
            },
            "colorscale": [
             [
              0,
              "#0d0887"
             ],
             [
              0.1111111111111111,
              "#46039f"
             ],
             [
              0.2222222222222222,
              "#7201a8"
             ],
             [
              0.3333333333333333,
              "#9c179e"
             ],
             [
              0.4444444444444444,
              "#bd3786"
             ],
             [
              0.5555555555555556,
              "#d8576b"
             ],
             [
              0.6666666666666666,
              "#ed7953"
             ],
             [
              0.7777777777777778,
              "#fb9f3a"
             ],
             [
              0.8888888888888888,
              "#fdca26"
             ],
             [
              1,
              "#f0f921"
             ]
            ],
            "type": "histogram2d"
           }
          ],
          "histogram2dcontour": [
           {
            "colorbar": {
             "outlinewidth": 0,
             "ticks": ""
            },
            "colorscale": [
             [
              0,
              "#0d0887"
             ],
             [
              0.1111111111111111,
              "#46039f"
             ],
             [
              0.2222222222222222,
              "#7201a8"
             ],
             [
              0.3333333333333333,
              "#9c179e"
             ],
             [
              0.4444444444444444,
              "#bd3786"
             ],
             [
              0.5555555555555556,
              "#d8576b"
             ],
             [
              0.6666666666666666,
              "#ed7953"
             ],
             [
              0.7777777777777778,
              "#fb9f3a"
             ],
             [
              0.8888888888888888,
              "#fdca26"
             ],
             [
              1,
              "#f0f921"
             ]
            ],
            "type": "histogram2dcontour"
           }
          ],
          "mesh3d": [
           {
            "colorbar": {
             "outlinewidth": 0,
             "ticks": ""
            },
            "type": "mesh3d"
           }
          ],
          "parcoords": [
           {
            "line": {
             "colorbar": {
              "outlinewidth": 0,
              "ticks": ""
             }
            },
            "type": "parcoords"
           }
          ],
          "pie": [
           {
            "automargin": true,
            "type": "pie"
           }
          ],
          "scatter": [
           {
            "fillpattern": {
             "fillmode": "overlay",
             "size": 10,
             "solidity": 0.2
            },
            "type": "scatter"
           }
          ],
          "scatter3d": [
           {
            "line": {
             "colorbar": {
              "outlinewidth": 0,
              "ticks": ""
             }
            },
            "marker": {
             "colorbar": {
              "outlinewidth": 0,
              "ticks": ""
             }
            },
            "type": "scatter3d"
           }
          ],
          "scattercarpet": [
           {
            "marker": {
             "colorbar": {
              "outlinewidth": 0,
              "ticks": ""
             }
            },
            "type": "scattercarpet"
           }
          ],
          "scattergeo": [
           {
            "marker": {
             "colorbar": {
              "outlinewidth": 0,
              "ticks": ""
             }
            },
            "type": "scattergeo"
           }
          ],
          "scattergl": [
           {
            "marker": {
             "colorbar": {
              "outlinewidth": 0,
              "ticks": ""
             }
            },
            "type": "scattergl"
           }
          ],
          "scattermapbox": [
           {
            "marker": {
             "colorbar": {
              "outlinewidth": 0,
              "ticks": ""
             }
            },
            "type": "scattermapbox"
           }
          ],
          "scatterpolar": [
           {
            "marker": {
             "colorbar": {
              "outlinewidth": 0,
              "ticks": ""
             }
            },
            "type": "scatterpolar"
           }
          ],
          "scatterpolargl": [
           {
            "marker": {
             "colorbar": {
              "outlinewidth": 0,
              "ticks": ""
             }
            },
            "type": "scatterpolargl"
           }
          ],
          "scatterternary": [
           {
            "marker": {
             "colorbar": {
              "outlinewidth": 0,
              "ticks": ""
             }
            },
            "type": "scatterternary"
           }
          ],
          "surface": [
           {
            "colorbar": {
             "outlinewidth": 0,
             "ticks": ""
            },
            "colorscale": [
             [
              0,
              "#0d0887"
             ],
             [
              0.1111111111111111,
              "#46039f"
             ],
             [
              0.2222222222222222,
              "#7201a8"
             ],
             [
              0.3333333333333333,
              "#9c179e"
             ],
             [
              0.4444444444444444,
              "#bd3786"
             ],
             [
              0.5555555555555556,
              "#d8576b"
             ],
             [
              0.6666666666666666,
              "#ed7953"
             ],
             [
              0.7777777777777778,
              "#fb9f3a"
             ],
             [
              0.8888888888888888,
              "#fdca26"
             ],
             [
              1,
              "#f0f921"
             ]
            ],
            "type": "surface"
           }
          ],
          "table": [
           {
            "cells": {
             "fill": {
              "color": "#EBF0F8"
             },
             "line": {
              "color": "white"
             }
            },
            "header": {
             "fill": {
              "color": "#C8D4E3"
             },
             "line": {
              "color": "white"
             }
            },
            "type": "table"
           }
          ]
         },
         "layout": {
          "annotationdefaults": {
           "arrowcolor": "#2a3f5f",
           "arrowhead": 0,
           "arrowwidth": 1
          },
          "autotypenumbers": "strict",
          "coloraxis": {
           "colorbar": {
            "outlinewidth": 0,
            "ticks": ""
           }
          },
          "colorscale": {
           "diverging": [
            [
             0,
             "#8e0152"
            ],
            [
             0.1,
             "#c51b7d"
            ],
            [
             0.2,
             "#de77ae"
            ],
            [
             0.3,
             "#f1b6da"
            ],
            [
             0.4,
             "#fde0ef"
            ],
            [
             0.5,
             "#f7f7f7"
            ],
            [
             0.6,
             "#e6f5d0"
            ],
            [
             0.7,
             "#b8e186"
            ],
            [
             0.8,
             "#7fbc41"
            ],
            [
             0.9,
             "#4d9221"
            ],
            [
             1,
             "#276419"
            ]
           ],
           "sequential": [
            [
             0,
             "#0d0887"
            ],
            [
             0.1111111111111111,
             "#46039f"
            ],
            [
             0.2222222222222222,
             "#7201a8"
            ],
            [
             0.3333333333333333,
             "#9c179e"
            ],
            [
             0.4444444444444444,
             "#bd3786"
            ],
            [
             0.5555555555555556,
             "#d8576b"
            ],
            [
             0.6666666666666666,
             "#ed7953"
            ],
            [
             0.7777777777777778,
             "#fb9f3a"
            ],
            [
             0.8888888888888888,
             "#fdca26"
            ],
            [
             1,
             "#f0f921"
            ]
           ],
           "sequentialminus": [
            [
             0,
             "#0d0887"
            ],
            [
             0.1111111111111111,
             "#46039f"
            ],
            [
             0.2222222222222222,
             "#7201a8"
            ],
            [
             0.3333333333333333,
             "#9c179e"
            ],
            [
             0.4444444444444444,
             "#bd3786"
            ],
            [
             0.5555555555555556,
             "#d8576b"
            ],
            [
             0.6666666666666666,
             "#ed7953"
            ],
            [
             0.7777777777777778,
             "#fb9f3a"
            ],
            [
             0.8888888888888888,
             "#fdca26"
            ],
            [
             1,
             "#f0f921"
            ]
           ]
          },
          "colorway": [
           "#636efa",
           "#EF553B",
           "#00cc96",
           "#ab63fa",
           "#FFA15A",
           "#19d3f3",
           "#FF6692",
           "#B6E880",
           "#FF97FF",
           "#FECB52"
          ],
          "font": {
           "color": "#2a3f5f"
          },
          "geo": {
           "bgcolor": "white",
           "lakecolor": "white",
           "landcolor": "#E5ECF6",
           "showlakes": true,
           "showland": true,
           "subunitcolor": "white"
          },
          "hoverlabel": {
           "align": "left"
          },
          "hovermode": "closest",
          "mapbox": {
           "style": "light"
          },
          "paper_bgcolor": "white",
          "plot_bgcolor": "#E5ECF6",
          "polar": {
           "angularaxis": {
            "gridcolor": "white",
            "linecolor": "white",
            "ticks": ""
           },
           "bgcolor": "#E5ECF6",
           "radialaxis": {
            "gridcolor": "white",
            "linecolor": "white",
            "ticks": ""
           }
          },
          "scene": {
           "xaxis": {
            "backgroundcolor": "#E5ECF6",
            "gridcolor": "white",
            "gridwidth": 2,
            "linecolor": "white",
            "showbackground": true,
            "ticks": "",
            "zerolinecolor": "white"
           },
           "yaxis": {
            "backgroundcolor": "#E5ECF6",
            "gridcolor": "white",
            "gridwidth": 2,
            "linecolor": "white",
            "showbackground": true,
            "ticks": "",
            "zerolinecolor": "white"
           },
           "zaxis": {
            "backgroundcolor": "#E5ECF6",
            "gridcolor": "white",
            "gridwidth": 2,
            "linecolor": "white",
            "showbackground": true,
            "ticks": "",
            "zerolinecolor": "white"
           }
          },
          "shapedefaults": {
           "line": {
            "color": "#2a3f5f"
           }
          },
          "ternary": {
           "aaxis": {
            "gridcolor": "white",
            "linecolor": "white",
            "ticks": ""
           },
           "baxis": {
            "gridcolor": "white",
            "linecolor": "white",
            "ticks": ""
           },
           "bgcolor": "#E5ECF6",
           "caxis": {
            "gridcolor": "white",
            "linecolor": "white",
            "ticks": ""
           }
          },
          "title": {
           "x": 0.05
          },
          "xaxis": {
           "automargin": true,
           "gridcolor": "white",
           "linecolor": "white",
           "ticks": "",
           "title": {
            "standoff": 15
           },
           "zerolinecolor": "white",
           "zerolinewidth": 2
          },
          "yaxis": {
           "automargin": true,
           "gridcolor": "white",
           "linecolor": "white",
           "ticks": "",
           "title": {
            "standoff": 15
           },
           "zerolinecolor": "white",
           "zerolinewidth": 2
          }
         }
        },
        "xaxis": {
         "anchor": "y",
         "domain": [
          0,
          1
         ],
         "title": {
          "text": "Nombre_Corto"
         }
        },
        "yaxis": {
         "anchor": "x",
         "domain": [
          0,
          1
         ],
         "title": {
          "text": "Cantidad"
         }
        }
       }
      }
     },
     "metadata": {},
     "output_type": "display_data"
    }
   ],
   "source": [
    "df_Sexo_Alumno_xCarrera = df_ALUCarrera.groupby(['Id_Carrera','Sexo'])['Id_Alumno'].count().reset_index(name='Cantidad')\n",
    "df_Sexo_Alumno_xCarrera = pd.merge(df_Sexo_Alumno_xCarrera,\n",
    "                        df_Carreras[['Id_Carrera','Nombre_Corto']],\n",
    "                        how='inner',\n",
    "                        on=['Id_Carrera'])\n",
    "px.bar(df_Sexo_Alumno_xCarrera, x='Nombre_Corto',y='Cantidad', color='Sexo')"
   ]
  },
  {
   "cell_type": "markdown",
   "metadata": {},
   "source": [
    "### Total Alumnos x Carrera separado entre Egresado, Desertor y Cursando"
   ]
  },
  {
   "cell_type": "code",
   "execution_count": 27,
   "metadata": {},
   "outputs": [
    {
     "data": {
      "application/vnd.plotly.v1+json": {
       "config": {
        "plotlyServerURL": "https://plot.ly"
       },
       "data": [
        {
         "alignmentgroup": "True",
         "hovertemplate": "Estado=Desertor<br>Año=2001.0<br>Nombre_Corto=%{x}<br>Cantidad=%{y}<extra></extra>",
         "legendgroup": "Desertor",
         "marker": {
          "color": "#636efa",
          "pattern": {
           "shape": ""
          }
         },
         "name": "Desertor",
         "offsetgroup": "Desertor",
         "orientation": "v",
         "showlegend": true,
         "textposition": "auto",
         "type": "bar",
         "x": [
          "ANALISTA DE SISTEMAS",
          "MARKETING",
          "PUBLICIDAD",
          "ADMINISTRACIÓN DE EMPRESAS",
          "DISEÑO GRÁFICO",
          "RELACIONES PÚBLICAS",
          "RECURSOS HUMANOS",
          "COMERCIO INTERNACIONAL",
          "AGRONEGOCIOS",
          "TURISMO",
          "MULTIMEDIOS",
          "GESTIÓN AMBIENTAL",
          "GESTIÓN CONTABLE Y FINANCIERA"
         ],
         "xaxis": "x",
         "y": [
          383,
          817,
          392,
          629,
          592,
          498,
          382,
          165,
          287,
          166,
          279,
          74,
          80
         ],
         "yaxis": "y"
        },
        {
         "alignmentgroup": "True",
         "hovertemplate": "Estado=Egresado<br>Año=2001.0<br>Nombre_Corto=%{x}<br>Cantidad=%{y}<extra></extra>",
         "legendgroup": "Egresado",
         "marker": {
          "color": "#EF553B",
          "pattern": {
           "shape": ""
          }
         },
         "name": "Egresado",
         "offsetgroup": "Egresado",
         "orientation": "v",
         "showlegend": true,
         "textposition": "auto",
         "type": "bar",
         "x": [
          "ANALISTA DE SISTEMAS",
          "MARKETING",
          "PUBLICIDAD",
          "ADMINISTRACIÓN DE EMPRESAS",
          "DISEÑO GRÁFICO",
          "RELACIONES PÚBLICAS",
          "COMERCIO INTERNACIONAL"
         ],
         "xaxis": "x",
         "y": [
          1,
          8,
          7,
          3,
          7,
          5,
          2
         ],
         "yaxis": "y"
        }
       ],
       "frames": [
        {
         "data": [
          {
           "alignmentgroup": "True",
           "hovertemplate": "Estado=Desertor<br>Año=2001.0<br>Nombre_Corto=%{x}<br>Cantidad=%{y}<extra></extra>",
           "legendgroup": "Desertor",
           "marker": {
            "color": "#636efa",
            "pattern": {
             "shape": ""
            }
           },
           "name": "Desertor",
           "offsetgroup": "Desertor",
           "orientation": "v",
           "showlegend": true,
           "textposition": "auto",
           "type": "bar",
           "x": [
            "ANALISTA DE SISTEMAS",
            "MARKETING",
            "PUBLICIDAD",
            "ADMINISTRACIÓN DE EMPRESAS",
            "DISEÑO GRÁFICO",
            "RELACIONES PÚBLICAS",
            "RECURSOS HUMANOS",
            "COMERCIO INTERNACIONAL",
            "AGRONEGOCIOS",
            "TURISMO",
            "MULTIMEDIOS",
            "GESTIÓN AMBIENTAL",
            "GESTIÓN CONTABLE Y FINANCIERA"
           ],
           "xaxis": "x",
           "y": [
            383,
            817,
            392,
            629,
            592,
            498,
            382,
            165,
            287,
            166,
            279,
            74,
            80
           ],
           "yaxis": "y"
          },
          {
           "alignmentgroup": "True",
           "hovertemplate": "Estado=Egresado<br>Año=2001.0<br>Nombre_Corto=%{x}<br>Cantidad=%{y}<extra></extra>",
           "legendgroup": "Egresado",
           "marker": {
            "color": "#EF553B",
            "pattern": {
             "shape": ""
            }
           },
           "name": "Egresado",
           "offsetgroup": "Egresado",
           "orientation": "v",
           "showlegend": true,
           "textposition": "auto",
           "type": "bar",
           "x": [
            "ANALISTA DE SISTEMAS",
            "MARKETING",
            "PUBLICIDAD",
            "ADMINISTRACIÓN DE EMPRESAS",
            "DISEÑO GRÁFICO",
            "RELACIONES PÚBLICAS",
            "COMERCIO INTERNACIONAL"
           ],
           "xaxis": "x",
           "y": [
            1,
            8,
            7,
            3,
            7,
            5,
            2
           ],
           "yaxis": "y"
          }
         ],
         "name": "2001.0"
        },
        {
         "data": [
          {
           "alignmentgroup": "True",
           "hovertemplate": "Estado=Desertor<br>Año=2002.0<br>Nombre_Corto=%{x}<br>Cantidad=%{y}<extra></extra>",
           "legendgroup": "Desertor",
           "marker": {
            "color": "#636efa",
            "pattern": {
             "shape": ""
            }
           },
           "name": "Desertor",
           "offsetgroup": "Desertor",
           "orientation": "v",
           "showlegend": true,
           "textposition": "auto",
           "type": "bar",
           "x": [
            "ANALISTA DE SISTEMAS",
            "MARKETING",
            "PUBLICIDAD",
            "ADMINISTRACIÓN DE EMPRESAS",
            "DISEÑO GRÁFICO",
            "RELACIONES PÚBLICAS",
            "RECURSOS HUMANOS",
            "COMERCIO INTERNACIONAL",
            "AGRONEGOCIOS",
            "TURISMO",
            "MULTIMEDIOS",
            "GESTIÓN AMBIENTAL",
            "GESTIÓN CONTABLE Y FINANCIERA"
           ],
           "xaxis": "x",
           "y": [
            573,
            1212,
            663,
            797,
            989,
            769,
            576,
            150,
            459,
            289,
            407,
            41,
            146
           ],
           "yaxis": "y"
          },
          {
           "alignmentgroup": "True",
           "hovertemplate": "Estado=Egresado<br>Año=2002.0<br>Nombre_Corto=%{x}<br>Cantidad=%{y}<extra></extra>",
           "legendgroup": "Egresado",
           "marker": {
            "color": "#EF553B",
            "pattern": {
             "shape": ""
            }
           },
           "name": "Egresado",
           "offsetgroup": "Egresado",
           "orientation": "v",
           "showlegend": true,
           "textposition": "auto",
           "type": "bar",
           "x": [
            "ANALISTA DE SISTEMAS",
            "MARKETING",
            "PUBLICIDAD",
            "ADMINISTRACIÓN DE EMPRESAS",
            "DISEÑO GRÁFICO",
            "RELACIONES PÚBLICAS",
            "RECURSOS HUMANOS",
            "COMERCIO INTERNACIONAL",
            "AGRONEGOCIOS"
           ],
           "xaxis": "x",
           "y": [
            4,
            11,
            13,
            14,
            17,
            15,
            11,
            6,
            8
           ],
           "yaxis": "y"
          }
         ],
         "name": "2002.0"
        },
        {
         "data": [
          {
           "alignmentgroup": "True",
           "hovertemplate": "Estado=Desertor<br>Año=2003.0<br>Nombre_Corto=%{x}<br>Cantidad=%{y}<extra></extra>",
           "legendgroup": "Desertor",
           "marker": {
            "color": "#636efa",
            "pattern": {
             "shape": ""
            }
           },
           "name": "Desertor",
           "offsetgroup": "Desertor",
           "orientation": "v",
           "showlegend": true,
           "textposition": "auto",
           "type": "bar",
           "x": [
            "ANALISTA DE SISTEMAS",
            "MARKETING",
            "PUBLICIDAD",
            "ADMINISTRACIÓN DE EMPRESAS",
            "DISEÑO GRÁFICO",
            "RELACIONES PÚBLICAS",
            "RECURSOS HUMANOS",
            "COMERCIO INTERNACIONAL",
            "AGRONEGOCIOS",
            "TURISMO",
            "MULTIMEDIOS",
            "GESTIÓN AMBIENTAL",
            "GESTIÓN CONTABLE Y FINANCIERA"
           ],
           "xaxis": "x",
           "y": [
            611,
            1278,
            856,
            862,
            1023,
            762,
            671,
            284,
            652,
            358,
            411,
            15,
            119
           ],
           "yaxis": "y"
          },
          {
           "alignmentgroup": "True",
           "hovertemplate": "Estado=Egresado<br>Año=2003.0<br>Nombre_Corto=%{x}<br>Cantidad=%{y}<extra></extra>",
           "legendgroup": "Egresado",
           "marker": {
            "color": "#EF553B",
            "pattern": {
             "shape": ""
            }
           },
           "name": "Egresado",
           "offsetgroup": "Egresado",
           "orientation": "v",
           "showlegend": true,
           "textposition": "auto",
           "type": "bar",
           "x": [
            "ANALISTA DE SISTEMAS",
            "MARKETING",
            "PUBLICIDAD",
            "ADMINISTRACIÓN DE EMPRESAS",
            "DISEÑO GRÁFICO",
            "RELACIONES PÚBLICAS",
            "RECURSOS HUMANOS",
            "COMERCIO INTERNACIONAL",
            "AGRONEGOCIOS",
            "TURISMO",
            "MULTIMEDIOS",
            "GESTIÓN AMBIENTAL",
            "GESTIÓN CONTABLE Y FINANCIERA"
           ],
           "xaxis": "x",
           "y": [
            52,
            109,
            85,
            66,
            136,
            81,
            53,
            23,
            39,
            53,
            74,
            4,
            28
           ],
           "yaxis": "y"
          }
         ],
         "name": "2003.0"
        },
        {
         "data": [
          {
           "alignmentgroup": "True",
           "hovertemplate": "Estado=Desertor<br>Año=2004.0<br>Nombre_Corto=%{x}<br>Cantidad=%{y}<extra></extra>",
           "legendgroup": "Desertor",
           "marker": {
            "color": "#636efa",
            "pattern": {
             "shape": ""
            }
           },
           "name": "Desertor",
           "offsetgroup": "Desertor",
           "orientation": "v",
           "showlegend": true,
           "textposition": "auto",
           "type": "bar",
           "x": [
            "ANALISTA DE SISTEMAS",
            "MARKETING",
            "PUBLICIDAD",
            "ADMINISTRACIÓN DE EMPRESAS",
            "DISEÑO GRÁFICO",
            "RELACIONES PÚBLICAS",
            "RECURSOS HUMANOS",
            "COMERCIO INTERNACIONAL",
            "AGRONEGOCIOS",
            "TURISMO",
            "MULTIMEDIOS",
            "GESTIÓN AMBIENTAL",
            "GESTIÓN CONTABLE Y FINANCIERA"
           ],
           "xaxis": "x",
           "y": [
            642,
            1285,
            833,
            985,
            1305,
            1011,
            742,
            336,
            836,
            405,
            429,
            7,
            59
           ],
           "yaxis": "y"
          },
          {
           "alignmentgroup": "True",
           "hovertemplate": "Estado=Egresado<br>Año=2004.0<br>Nombre_Corto=%{x}<br>Cantidad=%{y}<extra></extra>",
           "legendgroup": "Egresado",
           "marker": {
            "color": "#EF553B",
            "pattern": {
             "shape": ""
            }
           },
           "name": "Egresado",
           "offsetgroup": "Egresado",
           "orientation": "v",
           "showlegend": true,
           "textposition": "auto",
           "type": "bar",
           "x": [
            "ANALISTA DE SISTEMAS",
            "MARKETING",
            "PUBLICIDAD",
            "ADMINISTRACIÓN DE EMPRESAS",
            "DISEÑO GRÁFICO",
            "RELACIONES PÚBLICAS",
            "RECURSOS HUMANOS",
            "COMERCIO INTERNACIONAL",
            "AGRONEGOCIOS",
            "TURISMO",
            "MULTIMEDIOS",
            "GESTIÓN AMBIENTAL",
            "GESTIÓN CONTABLE Y FINANCIERA"
           ],
           "xaxis": "x",
           "y": [
            49,
            133,
            143,
            126,
            157,
            122,
            87,
            6,
            66,
            39,
            73,
            3,
            24
           ],
           "yaxis": "y"
          }
         ],
         "name": "2004.0"
        },
        {
         "data": [
          {
           "alignmentgroup": "True",
           "hovertemplate": "Estado=Desertor<br>Año=2005.0<br>Nombre_Corto=%{x}<br>Cantidad=%{y}<extra></extra>",
           "legendgroup": "Desertor",
           "marker": {
            "color": "#636efa",
            "pattern": {
             "shape": ""
            }
           },
           "name": "Desertor",
           "offsetgroup": "Desertor",
           "orientation": "v",
           "showlegend": true,
           "textposition": "auto",
           "type": "bar",
           "x": [
            "ANALISTA DE SISTEMAS",
            "MARKETING",
            "PUBLICIDAD",
            "ADMINISTRACIÓN DE EMPRESAS",
            "DISEÑO GRÁFICO",
            "RELACIONES PÚBLICAS",
            "RECURSOS HUMANOS",
            "COMERCIO INTERNACIONAL",
            "AGRONEGOCIOS",
            "TURISMO",
            "MULTIMEDIOS",
            "GESTIÓN AMBIENTAL",
            "GESTIÓN CONTABLE Y FINANCIERA"
           ],
           "xaxis": "x",
           "y": [
            839,
            1401,
            916,
            1243,
            1687,
            1248,
            835,
            404,
            1120,
            381,
            534,
            8,
            139
           ],
           "yaxis": "y"
          },
          {
           "alignmentgroup": "True",
           "hovertemplate": "Estado=Egresado<br>Año=2005.0<br>Nombre_Corto=%{x}<br>Cantidad=%{y}<extra></extra>",
           "legendgroup": "Egresado",
           "marker": {
            "color": "#EF553B",
            "pattern": {
             "shape": ""
            }
           },
           "name": "Egresado",
           "offsetgroup": "Egresado",
           "orientation": "v",
           "showlegend": true,
           "textposition": "auto",
           "type": "bar",
           "x": [
            "ANALISTA DE SISTEMAS",
            "MARKETING",
            "PUBLICIDAD",
            "ADMINISTRACIÓN DE EMPRESAS",
            "DISEÑO GRÁFICO",
            "RELACIONES PÚBLICAS",
            "RECURSOS HUMANOS",
            "COMERCIO INTERNACIONAL",
            "AGRONEGOCIOS",
            "TURISMO",
            "MULTIMEDIOS",
            "GESTIÓN AMBIENTAL",
            "GESTIÓN CONTABLE Y FINANCIERA"
           ],
           "xaxis": "x",
           "y": [
            59,
            134,
            135,
            100,
            163,
            91,
            103,
            47,
            75,
            52,
            37,
            2,
            9
           ],
           "yaxis": "y"
          }
         ],
         "name": "2005.0"
        },
        {
         "data": [
          {
           "alignmentgroup": "True",
           "hovertemplate": "Estado=Desertor<br>Año=2006.0<br>Nombre_Corto=%{x}<br>Cantidad=%{y}<extra></extra>",
           "legendgroup": "Desertor",
           "marker": {
            "color": "#636efa",
            "pattern": {
             "shape": ""
            }
           },
           "name": "Desertor",
           "offsetgroup": "Desertor",
           "orientation": "v",
           "showlegend": true,
           "textposition": "auto",
           "type": "bar",
           "x": [
            "ANALISTA DE SISTEMAS",
            "MARKETING",
            "PUBLICIDAD",
            "ADMINISTRACIÓN DE EMPRESAS",
            "DISEÑO GRÁFICO",
            "RELACIONES PÚBLICAS",
            "RECURSOS HUMANOS",
            "COMERCIO INTERNACIONAL",
            "AGRONEGOCIOS",
            "TURISMO",
            "MULTIMEDIOS",
            "GESTIÓN AMBIENTAL",
            "GESTIÓN CONTABLE Y FINANCIERA"
           ],
           "xaxis": "x",
           "y": [
            940,
            1428,
            1161,
            1355,
            1963,
            1554,
            1014,
            480,
            1027,
            380,
            613,
            20,
            272
           ],
           "yaxis": "y"
          },
          {
           "alignmentgroup": "True",
           "hovertemplate": "Estado=Egresado<br>Año=2006.0<br>Nombre_Corto=%{x}<br>Cantidad=%{y}<extra></extra>",
           "legendgroup": "Egresado",
           "marker": {
            "color": "#EF553B",
            "pattern": {
             "shape": ""
            }
           },
           "name": "Egresado",
           "offsetgroup": "Egresado",
           "orientation": "v",
           "showlegend": true,
           "textposition": "auto",
           "type": "bar",
           "x": [
            "ANALISTA DE SISTEMAS",
            "MARKETING",
            "PUBLICIDAD",
            "ADMINISTRACIÓN DE EMPRESAS",
            "DISEÑO GRÁFICO",
            "RELACIONES PÚBLICAS",
            "RECURSOS HUMANOS",
            "COMERCIO INTERNACIONAL",
            "AGRONEGOCIOS",
            "TURISMO",
            "MULTIMEDIOS",
            "GESTIÓN CONTABLE Y FINANCIERA"
           ],
           "xaxis": "x",
           "y": [
            67,
            114,
            88,
            140,
            179,
            161,
            78,
            32,
            114,
            50,
            68,
            5
           ],
           "yaxis": "y"
          }
         ],
         "name": "2006.0"
        },
        {
         "data": [
          {
           "alignmentgroup": "True",
           "hovertemplate": "Estado=Desertor<br>Año=2007.0<br>Nombre_Corto=%{x}<br>Cantidad=%{y}<extra></extra>",
           "legendgroup": "Desertor",
           "marker": {
            "color": "#636efa",
            "pattern": {
             "shape": ""
            }
           },
           "name": "Desertor",
           "offsetgroup": "Desertor",
           "orientation": "v",
           "showlegend": true,
           "textposition": "auto",
           "type": "bar",
           "x": [
            "ANALISTA DE SISTEMAS",
            "MARKETING",
            "PUBLICIDAD",
            "ADMINISTRACIÓN DE EMPRESAS",
            "DISEÑO GRÁFICO",
            "RELACIONES PÚBLICAS",
            "RECURSOS HUMANOS",
            "COMERCIO INTERNACIONAL",
            "AGRONEGOCIOS",
            "TURISMO",
            "MULTIMEDIOS",
            "GESTIÓN AMBIENTAL",
            "GESTIÓN CONTABLE Y FINANCIERA"
           ],
           "xaxis": "x",
           "y": [
            1027,
            1344,
            1172,
            1225,
            2126,
            1467,
            1382,
            425,
            865,
            405,
            676,
            8,
            242
           ],
           "yaxis": "y"
          },
          {
           "alignmentgroup": "True",
           "hovertemplate": "Estado=Egresado<br>Año=2007.0<br>Nombre_Corto=%{x}<br>Cantidad=%{y}<extra></extra>",
           "legendgroup": "Egresado",
           "marker": {
            "color": "#EF553B",
            "pattern": {
             "shape": ""
            }
           },
           "name": "Egresado",
           "offsetgroup": "Egresado",
           "orientation": "v",
           "showlegend": true,
           "textposition": "auto",
           "type": "bar",
           "x": [
            "ANALISTA DE SISTEMAS",
            "MARKETING",
            "PUBLICIDAD",
            "ADMINISTRACIÓN DE EMPRESAS",
            "DISEÑO GRÁFICO",
            "RELACIONES PÚBLICAS",
            "RECURSOS HUMANOS",
            "COMERCIO INTERNACIONAL",
            "AGRONEGOCIOS",
            "TURISMO",
            "MULTIMEDIOS",
            "GESTIÓN AMBIENTAL",
            "GESTIÓN CONTABLE Y FINANCIERA"
           ],
           "xaxis": "x",
           "y": [
            78,
            89,
            189,
            167,
            236,
            206,
            110,
            12,
            136,
            54,
            108,
            1,
            34
           ],
           "yaxis": "y"
          }
         ],
         "name": "2007.0"
        },
        {
         "data": [
          {
           "alignmentgroup": "True",
           "hovertemplate": "Estado=Desertor<br>Año=2008.0<br>Nombre_Corto=%{x}<br>Cantidad=%{y}<extra></extra>",
           "legendgroup": "Desertor",
           "marker": {
            "color": "#636efa",
            "pattern": {
             "shape": ""
            }
           },
           "name": "Desertor",
           "offsetgroup": "Desertor",
           "orientation": "v",
           "showlegend": true,
           "textposition": "auto",
           "type": "bar",
           "x": [
            "ANALISTA DE SISTEMAS",
            "MARKETING",
            "PUBLICIDAD",
            "ADMINISTRACIÓN DE EMPRESAS",
            "DISEÑO GRÁFICO",
            "RELACIONES PÚBLICAS",
            "RECURSOS HUMANOS",
            "COMERCIO INTERNACIONAL",
            "AGRONEGOCIOS",
            "TURISMO",
            "MULTIMEDIOS",
            "GESTIÓN AMBIENTAL",
            "GESTIÓN CONTABLE Y FINANCIERA"
           ],
           "xaxis": "x",
           "y": [
            990,
            1300,
            1091,
            1360,
            2221,
            1438,
            1515,
            546,
            875,
            547,
            614,
            4,
            228
           ],
           "yaxis": "y"
          },
          {
           "alignmentgroup": "True",
           "hovertemplate": "Estado=Egresado<br>Año=2008.0<br>Nombre_Corto=%{x}<br>Cantidad=%{y}<extra></extra>",
           "legendgroup": "Egresado",
           "marker": {
            "color": "#EF553B",
            "pattern": {
             "shape": ""
            }
           },
           "name": "Egresado",
           "offsetgroup": "Egresado",
           "orientation": "v",
           "showlegend": true,
           "textposition": "auto",
           "type": "bar",
           "x": [
            "ANALISTA DE SISTEMAS",
            "MARKETING",
            "PUBLICIDAD",
            "ADMINISTRACIÓN DE EMPRESAS",
            "DISEÑO GRÁFICO",
            "RELACIONES PÚBLICAS",
            "RECURSOS HUMANOS",
            "COMERCIO INTERNACIONAL",
            "AGRONEGOCIOS",
            "TURISMO",
            "MULTIMEDIOS",
            "GESTIÓN AMBIENTAL",
            "GESTIÓN CONTABLE Y FINANCIERA"
           ],
           "xaxis": "x",
           "y": [
            98,
            159,
            163,
            170,
            320,
            233,
            140,
            46,
            79,
            33,
            86,
            4,
            30
           ],
           "yaxis": "y"
          }
         ],
         "name": "2008.0"
        },
        {
         "data": [
          {
           "alignmentgroup": "True",
           "hovertemplate": "Estado=Desertor<br>Año=2009.0<br>Nombre_Corto=%{x}<br>Cantidad=%{y}<extra></extra>",
           "legendgroup": "Desertor",
           "marker": {
            "color": "#636efa",
            "pattern": {
             "shape": ""
            }
           },
           "name": "Desertor",
           "offsetgroup": "Desertor",
           "orientation": "v",
           "showlegend": true,
           "textposition": "auto",
           "type": "bar",
           "x": [
            "ANALISTA DE SISTEMAS",
            "MARKETING",
            "PUBLICIDAD",
            "ADMINISTRACIÓN DE EMPRESAS",
            "DISEÑO GRÁFICO",
            "RELACIONES PÚBLICAS",
            "RECURSOS HUMANOS",
            "COMERCIO INTERNACIONAL",
            "AGRONEGOCIOS",
            "TURISMO",
            "MULTIMEDIOS",
            "GESTIÓN AMBIENTAL",
            "GESTIÓN CONTABLE Y FINANCIERA"
           ],
           "xaxis": "x",
           "y": [
            1030,
            1047,
            1072,
            1134,
            2395,
            1358,
            1661,
            475,
            737,
            756,
            686,
            98,
            304
           ],
           "yaxis": "y"
          },
          {
           "alignmentgroup": "True",
           "hovertemplate": "Estado=Egresado<br>Año=2009.0<br>Nombre_Corto=%{x}<br>Cantidad=%{y}<extra></extra>",
           "legendgroup": "Egresado",
           "marker": {
            "color": "#EF553B",
            "pattern": {
             "shape": ""
            }
           },
           "name": "Egresado",
           "offsetgroup": "Egresado",
           "orientation": "v",
           "showlegend": true,
           "textposition": "auto",
           "type": "bar",
           "x": [
            "ANALISTA DE SISTEMAS",
            "MARKETING",
            "PUBLICIDAD",
            "ADMINISTRACIÓN DE EMPRESAS",
            "DISEÑO GRÁFICO",
            "RELACIONES PÚBLICAS",
            "RECURSOS HUMANOS",
            "COMERCIO INTERNACIONAL",
            "AGRONEGOCIOS",
            "TURISMO",
            "MULTIMEDIOS",
            "GESTIÓN CONTABLE Y FINANCIERA"
           ],
           "xaxis": "x",
           "y": [
            88,
            174,
            153,
            131,
            332,
            182,
            152,
            30,
            100,
            90,
            97,
            16
           ],
           "yaxis": "y"
          }
         ],
         "name": "2009.0"
        },
        {
         "data": [
          {
           "alignmentgroup": "True",
           "hovertemplate": "Estado=Desertor<br>Año=2010.0<br>Nombre_Corto=%{x}<br>Cantidad=%{y}<extra></extra>",
           "legendgroup": "Desertor",
           "marker": {
            "color": "#636efa",
            "pattern": {
             "shape": ""
            }
           },
           "name": "Desertor",
           "offsetgroup": "Desertor",
           "orientation": "v",
           "showlegend": true,
           "textposition": "auto",
           "type": "bar",
           "x": [
            "ANALISTA DE SISTEMAS",
            "MARKETING",
            "PUBLICIDAD",
            "ADMINISTRACIÓN DE EMPRESAS",
            "DISEÑO GRÁFICO",
            "RELACIONES PÚBLICAS",
            "RECURSOS HUMANOS",
            "COMERCIO INTERNACIONAL",
            "AGRONEGOCIOS",
            "TURISMO",
            "MULTIMEDIOS",
            "GESTIÓN AMBIENTAL",
            "GESTIÓN CONTABLE Y FINANCIERA"
           ],
           "xaxis": "x",
           "y": [
            736,
            543,
            670,
            602,
            1226,
            583,
            764,
            278,
            617,
            498,
            354,
            138,
            128
           ],
           "yaxis": "y"
          },
          {
           "alignmentgroup": "True",
           "hovertemplate": "Estado=Egresado<br>Año=2010.0<br>Nombre_Corto=%{x}<br>Cantidad=%{y}<extra></extra>",
           "legendgroup": "Egresado",
           "marker": {
            "color": "#EF553B",
            "pattern": {
             "shape": ""
            }
           },
           "name": "Egresado",
           "offsetgroup": "Egresado",
           "orientation": "v",
           "showlegend": true,
           "textposition": "auto",
           "type": "bar",
           "x": [
            "ANALISTA DE SISTEMAS",
            "MARKETING",
            "PUBLICIDAD",
            "ADMINISTRACIÓN DE EMPRESAS",
            "DISEÑO GRÁFICO",
            "RELACIONES PÚBLICAS",
            "RECURSOS HUMANOS",
            "COMERCIO INTERNACIONAL",
            "AGRONEGOCIOS",
            "TURISMO",
            "MULTIMEDIOS",
            "GESTIÓN AMBIENTAL",
            "GESTIÓN CONTABLE Y FINANCIERA"
           ],
           "xaxis": "x",
           "y": [
            97,
            118,
            183,
            136,
            329,
            208,
            246,
            44,
            80,
            96,
            90,
            1,
            22
           ],
           "yaxis": "y"
          },
          {
           "alignmentgroup": "True",
           "hovertemplate": "Estado=Cursando<br>Año=2010.0<br>Nombre_Corto=%{x}<br>Cantidad=%{y}<extra></extra>",
           "legendgroup": "Cursando",
           "marker": {
            "color": "#00cc96",
            "pattern": {
             "shape": ""
            }
           },
           "name": "Cursando",
           "offsetgroup": "Cursando",
           "orientation": "v",
           "showlegend": true,
           "textposition": "auto",
           "type": "bar",
           "x": [
            "ANALISTA DE SISTEMAS",
            "MARKETING",
            "PUBLICIDAD",
            "ADMINISTRACIÓN DE EMPRESAS",
            "DISEÑO GRÁFICO",
            "RELACIONES PÚBLICAS",
            "RECURSOS HUMANOS",
            "COMERCIO INTERNACIONAL",
            "AGRONEGOCIOS",
            "TURISMO",
            "MULTIMEDIOS",
            "GESTIÓN AMBIENTAL",
            "GESTIÓN CONTABLE Y FINANCIERA"
           ],
           "xaxis": "x",
           "y": [
            619,
            392,
            502,
            435,
            886,
            481,
            511,
            212,
            453,
            341,
            269,
            114,
            144
           ],
           "yaxis": "y"
          }
         ],
         "name": "2010.0"
        }
       ],
       "layout": {
        "barmode": "group",
        "legend": {
         "title": {
          "text": "Estado"
         },
         "tracegroupgap": 0
        },
        "sliders": [
         {
          "active": 0,
          "currentvalue": {
           "prefix": "Año="
          },
          "len": 0.9,
          "pad": {
           "b": 10,
           "t": 60
          },
          "steps": [
           {
            "args": [
             [
              "2001.0"
             ],
             {
              "frame": {
               "duration": 0,
               "redraw": true
              },
              "fromcurrent": true,
              "mode": "immediate",
              "transition": {
               "duration": 0,
               "easing": "linear"
              }
             }
            ],
            "label": "2001.0",
            "method": "animate"
           },
           {
            "args": [
             [
              "2002.0"
             ],
             {
              "frame": {
               "duration": 0,
               "redraw": true
              },
              "fromcurrent": true,
              "mode": "immediate",
              "transition": {
               "duration": 0,
               "easing": "linear"
              }
             }
            ],
            "label": "2002.0",
            "method": "animate"
           },
           {
            "args": [
             [
              "2003.0"
             ],
             {
              "frame": {
               "duration": 0,
               "redraw": true
              },
              "fromcurrent": true,
              "mode": "immediate",
              "transition": {
               "duration": 0,
               "easing": "linear"
              }
             }
            ],
            "label": "2003.0",
            "method": "animate"
           },
           {
            "args": [
             [
              "2004.0"
             ],
             {
              "frame": {
               "duration": 0,
               "redraw": true
              },
              "fromcurrent": true,
              "mode": "immediate",
              "transition": {
               "duration": 0,
               "easing": "linear"
              }
             }
            ],
            "label": "2004.0",
            "method": "animate"
           },
           {
            "args": [
             [
              "2005.0"
             ],
             {
              "frame": {
               "duration": 0,
               "redraw": true
              },
              "fromcurrent": true,
              "mode": "immediate",
              "transition": {
               "duration": 0,
               "easing": "linear"
              }
             }
            ],
            "label": "2005.0",
            "method": "animate"
           },
           {
            "args": [
             [
              "2006.0"
             ],
             {
              "frame": {
               "duration": 0,
               "redraw": true
              },
              "fromcurrent": true,
              "mode": "immediate",
              "transition": {
               "duration": 0,
               "easing": "linear"
              }
             }
            ],
            "label": "2006.0",
            "method": "animate"
           },
           {
            "args": [
             [
              "2007.0"
             ],
             {
              "frame": {
               "duration": 0,
               "redraw": true
              },
              "fromcurrent": true,
              "mode": "immediate",
              "transition": {
               "duration": 0,
               "easing": "linear"
              }
             }
            ],
            "label": "2007.0",
            "method": "animate"
           },
           {
            "args": [
             [
              "2008.0"
             ],
             {
              "frame": {
               "duration": 0,
               "redraw": true
              },
              "fromcurrent": true,
              "mode": "immediate",
              "transition": {
               "duration": 0,
               "easing": "linear"
              }
             }
            ],
            "label": "2008.0",
            "method": "animate"
           },
           {
            "args": [
             [
              "2009.0"
             ],
             {
              "frame": {
               "duration": 0,
               "redraw": true
              },
              "fromcurrent": true,
              "mode": "immediate",
              "transition": {
               "duration": 0,
               "easing": "linear"
              }
             }
            ],
            "label": "2009.0",
            "method": "animate"
           },
           {
            "args": [
             [
              "2010.0"
             ],
             {
              "frame": {
               "duration": 0,
               "redraw": true
              },
              "fromcurrent": true,
              "mode": "immediate",
              "transition": {
               "duration": 0,
               "easing": "linear"
              }
             }
            ],
            "label": "2010.0",
            "method": "animate"
           }
          ],
          "x": 0.1,
          "xanchor": "left",
          "y": 0,
          "yanchor": "top"
         }
        ],
        "template": {
         "data": {
          "bar": [
           {
            "error_x": {
             "color": "#2a3f5f"
            },
            "error_y": {
             "color": "#2a3f5f"
            },
            "marker": {
             "line": {
              "color": "#E5ECF6",
              "width": 0.5
             },
             "pattern": {
              "fillmode": "overlay",
              "size": 10,
              "solidity": 0.2
             }
            },
            "type": "bar"
           }
          ],
          "barpolar": [
           {
            "marker": {
             "line": {
              "color": "#E5ECF6",
              "width": 0.5
             },
             "pattern": {
              "fillmode": "overlay",
              "size": 10,
              "solidity": 0.2
             }
            },
            "type": "barpolar"
           }
          ],
          "carpet": [
           {
            "aaxis": {
             "endlinecolor": "#2a3f5f",
             "gridcolor": "white",
             "linecolor": "white",
             "minorgridcolor": "white",
             "startlinecolor": "#2a3f5f"
            },
            "baxis": {
             "endlinecolor": "#2a3f5f",
             "gridcolor": "white",
             "linecolor": "white",
             "minorgridcolor": "white",
             "startlinecolor": "#2a3f5f"
            },
            "type": "carpet"
           }
          ],
          "choropleth": [
           {
            "colorbar": {
             "outlinewidth": 0,
             "ticks": ""
            },
            "type": "choropleth"
           }
          ],
          "contour": [
           {
            "colorbar": {
             "outlinewidth": 0,
             "ticks": ""
            },
            "colorscale": [
             [
              0,
              "#0d0887"
             ],
             [
              0.1111111111111111,
              "#46039f"
             ],
             [
              0.2222222222222222,
              "#7201a8"
             ],
             [
              0.3333333333333333,
              "#9c179e"
             ],
             [
              0.4444444444444444,
              "#bd3786"
             ],
             [
              0.5555555555555556,
              "#d8576b"
             ],
             [
              0.6666666666666666,
              "#ed7953"
             ],
             [
              0.7777777777777778,
              "#fb9f3a"
             ],
             [
              0.8888888888888888,
              "#fdca26"
             ],
             [
              1,
              "#f0f921"
             ]
            ],
            "type": "contour"
           }
          ],
          "contourcarpet": [
           {
            "colorbar": {
             "outlinewidth": 0,
             "ticks": ""
            },
            "type": "contourcarpet"
           }
          ],
          "heatmap": [
           {
            "colorbar": {
             "outlinewidth": 0,
             "ticks": ""
            },
            "colorscale": [
             [
              0,
              "#0d0887"
             ],
             [
              0.1111111111111111,
              "#46039f"
             ],
             [
              0.2222222222222222,
              "#7201a8"
             ],
             [
              0.3333333333333333,
              "#9c179e"
             ],
             [
              0.4444444444444444,
              "#bd3786"
             ],
             [
              0.5555555555555556,
              "#d8576b"
             ],
             [
              0.6666666666666666,
              "#ed7953"
             ],
             [
              0.7777777777777778,
              "#fb9f3a"
             ],
             [
              0.8888888888888888,
              "#fdca26"
             ],
             [
              1,
              "#f0f921"
             ]
            ],
            "type": "heatmap"
           }
          ],
          "heatmapgl": [
           {
            "colorbar": {
             "outlinewidth": 0,
             "ticks": ""
            },
            "colorscale": [
             [
              0,
              "#0d0887"
             ],
             [
              0.1111111111111111,
              "#46039f"
             ],
             [
              0.2222222222222222,
              "#7201a8"
             ],
             [
              0.3333333333333333,
              "#9c179e"
             ],
             [
              0.4444444444444444,
              "#bd3786"
             ],
             [
              0.5555555555555556,
              "#d8576b"
             ],
             [
              0.6666666666666666,
              "#ed7953"
             ],
             [
              0.7777777777777778,
              "#fb9f3a"
             ],
             [
              0.8888888888888888,
              "#fdca26"
             ],
             [
              1,
              "#f0f921"
             ]
            ],
            "type": "heatmapgl"
           }
          ],
          "histogram": [
           {
            "marker": {
             "pattern": {
              "fillmode": "overlay",
              "size": 10,
              "solidity": 0.2
             }
            },
            "type": "histogram"
           }
          ],
          "histogram2d": [
           {
            "colorbar": {
             "outlinewidth": 0,
             "ticks": ""
            },
            "colorscale": [
             [
              0,
              "#0d0887"
             ],
             [
              0.1111111111111111,
              "#46039f"
             ],
             [
              0.2222222222222222,
              "#7201a8"
             ],
             [
              0.3333333333333333,
              "#9c179e"
             ],
             [
              0.4444444444444444,
              "#bd3786"
             ],
             [
              0.5555555555555556,
              "#d8576b"
             ],
             [
              0.6666666666666666,
              "#ed7953"
             ],
             [
              0.7777777777777778,
              "#fb9f3a"
             ],
             [
              0.8888888888888888,
              "#fdca26"
             ],
             [
              1,
              "#f0f921"
             ]
            ],
            "type": "histogram2d"
           }
          ],
          "histogram2dcontour": [
           {
            "colorbar": {
             "outlinewidth": 0,
             "ticks": ""
            },
            "colorscale": [
             [
              0,
              "#0d0887"
             ],
             [
              0.1111111111111111,
              "#46039f"
             ],
             [
              0.2222222222222222,
              "#7201a8"
             ],
             [
              0.3333333333333333,
              "#9c179e"
             ],
             [
              0.4444444444444444,
              "#bd3786"
             ],
             [
              0.5555555555555556,
              "#d8576b"
             ],
             [
              0.6666666666666666,
              "#ed7953"
             ],
             [
              0.7777777777777778,
              "#fb9f3a"
             ],
             [
              0.8888888888888888,
              "#fdca26"
             ],
             [
              1,
              "#f0f921"
             ]
            ],
            "type": "histogram2dcontour"
           }
          ],
          "mesh3d": [
           {
            "colorbar": {
             "outlinewidth": 0,
             "ticks": ""
            },
            "type": "mesh3d"
           }
          ],
          "parcoords": [
           {
            "line": {
             "colorbar": {
              "outlinewidth": 0,
              "ticks": ""
             }
            },
            "type": "parcoords"
           }
          ],
          "pie": [
           {
            "automargin": true,
            "type": "pie"
           }
          ],
          "scatter": [
           {
            "fillpattern": {
             "fillmode": "overlay",
             "size": 10,
             "solidity": 0.2
            },
            "type": "scatter"
           }
          ],
          "scatter3d": [
           {
            "line": {
             "colorbar": {
              "outlinewidth": 0,
              "ticks": ""
             }
            },
            "marker": {
             "colorbar": {
              "outlinewidth": 0,
              "ticks": ""
             }
            },
            "type": "scatter3d"
           }
          ],
          "scattercarpet": [
           {
            "marker": {
             "colorbar": {
              "outlinewidth": 0,
              "ticks": ""
             }
            },
            "type": "scattercarpet"
           }
          ],
          "scattergeo": [
           {
            "marker": {
             "colorbar": {
              "outlinewidth": 0,
              "ticks": ""
             }
            },
            "type": "scattergeo"
           }
          ],
          "scattergl": [
           {
            "marker": {
             "colorbar": {
              "outlinewidth": 0,
              "ticks": ""
             }
            },
            "type": "scattergl"
           }
          ],
          "scattermapbox": [
           {
            "marker": {
             "colorbar": {
              "outlinewidth": 0,
              "ticks": ""
             }
            },
            "type": "scattermapbox"
           }
          ],
          "scatterpolar": [
           {
            "marker": {
             "colorbar": {
              "outlinewidth": 0,
              "ticks": ""
             }
            },
            "type": "scatterpolar"
           }
          ],
          "scatterpolargl": [
           {
            "marker": {
             "colorbar": {
              "outlinewidth": 0,
              "ticks": ""
             }
            },
            "type": "scatterpolargl"
           }
          ],
          "scatterternary": [
           {
            "marker": {
             "colorbar": {
              "outlinewidth": 0,
              "ticks": ""
             }
            },
            "type": "scatterternary"
           }
          ],
          "surface": [
           {
            "colorbar": {
             "outlinewidth": 0,
             "ticks": ""
            },
            "colorscale": [
             [
              0,
              "#0d0887"
             ],
             [
              0.1111111111111111,
              "#46039f"
             ],
             [
              0.2222222222222222,
              "#7201a8"
             ],
             [
              0.3333333333333333,
              "#9c179e"
             ],
             [
              0.4444444444444444,
              "#bd3786"
             ],
             [
              0.5555555555555556,
              "#d8576b"
             ],
             [
              0.6666666666666666,
              "#ed7953"
             ],
             [
              0.7777777777777778,
              "#fb9f3a"
             ],
             [
              0.8888888888888888,
              "#fdca26"
             ],
             [
              1,
              "#f0f921"
             ]
            ],
            "type": "surface"
           }
          ],
          "table": [
           {
            "cells": {
             "fill": {
              "color": "#EBF0F8"
             },
             "line": {
              "color": "white"
             }
            },
            "header": {
             "fill": {
              "color": "#C8D4E3"
             },
             "line": {
              "color": "white"
             }
            },
            "type": "table"
           }
          ]
         },
         "layout": {
          "annotationdefaults": {
           "arrowcolor": "#2a3f5f",
           "arrowhead": 0,
           "arrowwidth": 1
          },
          "autotypenumbers": "strict",
          "coloraxis": {
           "colorbar": {
            "outlinewidth": 0,
            "ticks": ""
           }
          },
          "colorscale": {
           "diverging": [
            [
             0,
             "#8e0152"
            ],
            [
             0.1,
             "#c51b7d"
            ],
            [
             0.2,
             "#de77ae"
            ],
            [
             0.3,
             "#f1b6da"
            ],
            [
             0.4,
             "#fde0ef"
            ],
            [
             0.5,
             "#f7f7f7"
            ],
            [
             0.6,
             "#e6f5d0"
            ],
            [
             0.7,
             "#b8e186"
            ],
            [
             0.8,
             "#7fbc41"
            ],
            [
             0.9,
             "#4d9221"
            ],
            [
             1,
             "#276419"
            ]
           ],
           "sequential": [
            [
             0,
             "#0d0887"
            ],
            [
             0.1111111111111111,
             "#46039f"
            ],
            [
             0.2222222222222222,
             "#7201a8"
            ],
            [
             0.3333333333333333,
             "#9c179e"
            ],
            [
             0.4444444444444444,
             "#bd3786"
            ],
            [
             0.5555555555555556,
             "#d8576b"
            ],
            [
             0.6666666666666666,
             "#ed7953"
            ],
            [
             0.7777777777777778,
             "#fb9f3a"
            ],
            [
             0.8888888888888888,
             "#fdca26"
            ],
            [
             1,
             "#f0f921"
            ]
           ],
           "sequentialminus": [
            [
             0,
             "#0d0887"
            ],
            [
             0.1111111111111111,
             "#46039f"
            ],
            [
             0.2222222222222222,
             "#7201a8"
            ],
            [
             0.3333333333333333,
             "#9c179e"
            ],
            [
             0.4444444444444444,
             "#bd3786"
            ],
            [
             0.5555555555555556,
             "#d8576b"
            ],
            [
             0.6666666666666666,
             "#ed7953"
            ],
            [
             0.7777777777777778,
             "#fb9f3a"
            ],
            [
             0.8888888888888888,
             "#fdca26"
            ],
            [
             1,
             "#f0f921"
            ]
           ]
          },
          "colorway": [
           "#636efa",
           "#EF553B",
           "#00cc96",
           "#ab63fa",
           "#FFA15A",
           "#19d3f3",
           "#FF6692",
           "#B6E880",
           "#FF97FF",
           "#FECB52"
          ],
          "font": {
           "color": "#2a3f5f"
          },
          "geo": {
           "bgcolor": "white",
           "lakecolor": "white",
           "landcolor": "#E5ECF6",
           "showlakes": true,
           "showland": true,
           "subunitcolor": "white"
          },
          "hoverlabel": {
           "align": "left"
          },
          "hovermode": "closest",
          "mapbox": {
           "style": "light"
          },
          "paper_bgcolor": "white",
          "plot_bgcolor": "#E5ECF6",
          "polar": {
           "angularaxis": {
            "gridcolor": "white",
            "linecolor": "white",
            "ticks": ""
           },
           "bgcolor": "#E5ECF6",
           "radialaxis": {
            "gridcolor": "white",
            "linecolor": "white",
            "ticks": ""
           }
          },
          "scene": {
           "xaxis": {
            "backgroundcolor": "#E5ECF6",
            "gridcolor": "white",
            "gridwidth": 2,
            "linecolor": "white",
            "showbackground": true,
            "ticks": "",
            "zerolinecolor": "white"
           },
           "yaxis": {
            "backgroundcolor": "#E5ECF6",
            "gridcolor": "white",
            "gridwidth": 2,
            "linecolor": "white",
            "showbackground": true,
            "ticks": "",
            "zerolinecolor": "white"
           },
           "zaxis": {
            "backgroundcolor": "#E5ECF6",
            "gridcolor": "white",
            "gridwidth": 2,
            "linecolor": "white",
            "showbackground": true,
            "ticks": "",
            "zerolinecolor": "white"
           }
          },
          "shapedefaults": {
           "line": {
            "color": "#2a3f5f"
           }
          },
          "ternary": {
           "aaxis": {
            "gridcolor": "white",
            "linecolor": "white",
            "ticks": ""
           },
           "baxis": {
            "gridcolor": "white",
            "linecolor": "white",
            "ticks": ""
           },
           "bgcolor": "#E5ECF6",
           "caxis": {
            "gridcolor": "white",
            "linecolor": "white",
            "ticks": ""
           }
          },
          "title": {
           "x": 0.05
          },
          "xaxis": {
           "automargin": true,
           "gridcolor": "white",
           "linecolor": "white",
           "ticks": "",
           "title": {
            "standoff": 15
           },
           "zerolinecolor": "white",
           "zerolinewidth": 2
          },
          "yaxis": {
           "automargin": true,
           "gridcolor": "white",
           "linecolor": "white",
           "ticks": "",
           "title": {
            "standoff": 15
           },
           "zerolinecolor": "white",
           "zerolinewidth": 2
          }
         }
        },
        "title": {
         "text": "Total Alumnos x Carrera separado entre Egresado y Desertor"
        },
        "updatemenus": [
         {
          "buttons": [
           {
            "args": [
             null,
             {
              "frame": {
               "duration": 500,
               "redraw": true
              },
              "fromcurrent": true,
              "mode": "immediate",
              "transition": {
               "duration": 500,
               "easing": "linear"
              }
             }
            ],
            "label": "&#9654;",
            "method": "animate"
           },
           {
            "args": [
             [
              null
             ],
             {
              "frame": {
               "duration": 0,
               "redraw": true
              },
              "fromcurrent": true,
              "mode": "immediate",
              "transition": {
               "duration": 0,
               "easing": "linear"
              }
             }
            ],
            "label": "&#9724;",
            "method": "animate"
           }
          ],
          "direction": "left",
          "pad": {
           "r": 10,
           "t": 70
          },
          "showactive": false,
          "type": "buttons",
          "x": 0.1,
          "xanchor": "right",
          "y": 0,
          "yanchor": "top"
         }
        ],
        "xaxis": {
         "anchor": "y",
         "domain": [
          0,
          1
         ],
         "title": {
          "text": "Nombre_Corto"
         }
        },
        "yaxis": {
         "anchor": "x",
         "domain": [
          0,
          1
         ],
         "title": {
          "text": "Cantidad"
         }
        }
       }
      }
     },
     "metadata": {},
     "output_type": "display_data"
    }
   ],
   "source": [
    "df_Estado_Alumno_xCarrera = df_AluMateria.groupby(['Id_Carrera','Año','Estado'])['Id_Alumno'].count().reset_index(name='Cantidad')\n",
    "df_Estado_Alumno_xCarrera = pd.merge(df_Estado_Alumno_xCarrera,\n",
    "                        df_Carreras[['Id_Carrera','Nombre_Corto']],\n",
    "                        how='inner',\n",
    "                        on=['Id_Carrera'])\n",
    "px.bar(df_Estado_Alumno_xCarrera, x='Nombre_Corto',y='Cantidad', color='Estado', \n",
    "        title='Total Alumnos x Carrera separado entre Egresado y Desertor', \n",
    "        animation_frame='Año', \n",
    "        barmode='group')"
   ]
  },
  {
   "cell_type": "code",
   "execution_count": 28,
   "metadata": {},
   "outputs": [],
   "source": [
    "# Cantidad de alumnos por materia a lo largo de los años "
   ]
  },
  {
   "cell_type": "code",
   "execution_count": 29,
   "metadata": {},
   "outputs": [
    {
     "data": {
      "text/html": [
       "<div>\n",
       "<style scoped>\n",
       "    .dataframe tbody tr th:only-of-type {\n",
       "        vertical-align: middle;\n",
       "    }\n",
       "\n",
       "    .dataframe tbody tr th {\n",
       "        vertical-align: top;\n",
       "    }\n",
       "\n",
       "    .dataframe thead th {\n",
       "        text-align: right;\n",
       "    }\n",
       "</style>\n",
       "<table border=\"1\" class=\"dataframe\">\n",
       "  <thead>\n",
       "    <tr style=\"text-align: right;\">\n",
       "      <th></th>\n",
       "      <th>Id_Alumno</th>\n",
       "      <th>Id_Carrera</th>\n",
       "      <th>Id_Materia</th>\n",
       "      <th>Semestre</th>\n",
       "      <th>Año</th>\n",
       "      <th>Fecha_Inscrip</th>\n",
       "      <th>Ctro_Ext</th>\n",
       "      <th>Id_Modalidad</th>\n",
       "      <th>Id_Comision</th>\n",
       "      <th>Nota_1p</th>\n",
       "      <th>...</th>\n",
       "      <th>Fecha_2p</th>\n",
       "      <th>Nota_TP</th>\n",
       "      <th>Fecha_TP</th>\n",
       "      <th>Nota_Recup</th>\n",
       "      <th>Fecha_Recup</th>\n",
       "      <th>Cuatrimestre</th>\n",
       "      <th>Condicion</th>\n",
       "      <th>Tipo</th>\n",
       "      <th>Estado</th>\n",
       "      <th>Cuatrimestres</th>\n",
       "    </tr>\n",
       "  </thead>\n",
       "  <tbody>\n",
       "    <tr>\n",
       "      <th>0</th>\n",
       "      <td>0x003014EF4D7D79987F42DE8E3080AEFE</td>\n",
       "      <td>6</td>\n",
       "      <td>115</td>\n",
       "      <td>2</td>\n",
       "      <td>2006.0</td>\n",
       "      <td>2006-08-16 15:02:00</td>\n",
       "      <td>CO</td>\n",
       "      <td>P</td>\n",
       "      <td>7</td>\n",
       "      <td>11.0</td>\n",
       "      <td>...</td>\n",
       "      <td>2006-11-20</td>\n",
       "      <td>11.0</td>\n",
       "      <td>2006-11-29</td>\n",
       "      <td>11.0</td>\n",
       "      <td>2006-11-27</td>\n",
       "      <td>4</td>\n",
       "      <td>Libre</td>\n",
       "      <td>nan</td>\n",
       "      <td>Desertor</td>\n",
       "      <td>6</td>\n",
       "    </tr>\n",
       "  </tbody>\n",
       "</table>\n",
       "<p>1 rows × 22 columns</p>\n",
       "</div>"
      ],
      "text/plain": [
       "                            Id_Alumno  Id_Carrera  Id_Materia  Semestre  \\\n",
       "0  0x003014EF4D7D79987F42DE8E3080AEFE           6         115         2   \n",
       "\n",
       "      Año       Fecha_Inscrip Ctro_Ext Id_Modalidad  Id_Comision  Nota_1p  \\\n",
       "0  2006.0 2006-08-16 15:02:00       CO            P            7     11.0   \n",
       "\n",
       "   ...   Fecha_2p  Nota_TP   Fecha_TP  Nota_Recup Fecha_Recup  Cuatrimestre  \\\n",
       "0  ... 2006-11-20     11.0 2006-11-29        11.0  2006-11-27             4   \n",
       "\n",
       "  Condicion  Tipo    Estado Cuatrimestres  \n",
       "0     Libre   nan  Desertor             6  \n",
       "\n",
       "[1 rows x 22 columns]"
      ]
     },
     "execution_count": 29,
     "metadata": {},
     "output_type": "execute_result"
    }
   ],
   "source": [
    "df_AluMateria.head(1)"
   ]
  },
  {
   "cell_type": "code",
   "execution_count": 30,
   "metadata": {},
   "outputs": [
    {
     "data": {
      "text/html": [
       "<div>\n",
       "<style scoped>\n",
       "    .dataframe tbody tr th:only-of-type {\n",
       "        vertical-align: middle;\n",
       "    }\n",
       "\n",
       "    .dataframe tbody tr th {\n",
       "        vertical-align: top;\n",
       "    }\n",
       "\n",
       "    .dataframe thead th {\n",
       "        text-align: right;\n",
       "    }\n",
       "</style>\n",
       "<table border=\"1\" class=\"dataframe\">\n",
       "  <thead>\n",
       "    <tr style=\"text-align: right;\">\n",
       "      <th></th>\n",
       "      <th>Id_Alumno</th>\n",
       "      <th>Id_Carrera</th>\n",
       "      <th>Semestre_Ingreso</th>\n",
       "      <th>Año_Ingreso</th>\n",
       "      <th>Id_Ctro_Ext</th>\n",
       "      <th>Id_Modalidad</th>\n",
       "      <th>Fecha_Ingreso</th>\n",
       "      <th>Activo</th>\n",
       "      <th>Sexo</th>\n",
       "      <th>Fecha_Nac</th>\n",
       "      <th>Edad</th>\n",
       "    </tr>\n",
       "  </thead>\n",
       "  <tbody>\n",
       "    <tr>\n",
       "      <th>0</th>\n",
       "      <td>0x12DA11908B130262F20F714810A49680</td>\n",
       "      <td>6</td>\n",
       "      <td>2</td>\n",
       "      <td>2010</td>\n",
       "      <td>CO</td>\n",
       "      <td>P</td>\n",
       "      <td>2010-07-30</td>\n",
       "      <td>S</td>\n",
       "      <td>M</td>\n",
       "      <td>1991-03-03</td>\n",
       "      <td>19.0</td>\n",
       "    </tr>\n",
       "  </tbody>\n",
       "</table>\n",
       "</div>"
      ],
      "text/plain": [
       "                            Id_Alumno  Id_Carrera  Semestre_Ingreso  \\\n",
       "0  0x12DA11908B130262F20F714810A49680           6                 2   \n",
       "\n",
       "   Año_Ingreso Id_Ctro_Ext Id_Modalidad Fecha_Ingreso Activo Sexo  Fecha_Nac  \\\n",
       "0         2010          CO            P    2010-07-30      S    M 1991-03-03   \n",
       "\n",
       "   Edad  \n",
       "0  19.0  "
      ]
     },
     "execution_count": 30,
     "metadata": {},
     "output_type": "execute_result"
    }
   ],
   "source": [
    "df_ALUCarrera.head(1)"
   ]
  }
 ],
 "metadata": {
  "kernelspec": {
   "display_name": "Python 3.10.4 64-bit",
   "language": "python",
   "name": "python3"
  },
  "language_info": {
   "codemirror_mode": {
    "name": "ipython",
    "version": 3
   },
   "file_extension": ".py",
   "mimetype": "text/x-python",
   "name": "python",
   "nbconvert_exporter": "python",
   "pygments_lexer": "ipython3",
   "version": "3.10.4"
  },
  "orig_nbformat": 4,
  "vscode": {
   "interpreter": {
    "hash": "88744579adc14a61e21c3f51bc4b5ff6a643479ea59fadd54470663c88e72b44"
   }
  }
 },
 "nbformat": 4,
 "nbformat_minor": 2
}
