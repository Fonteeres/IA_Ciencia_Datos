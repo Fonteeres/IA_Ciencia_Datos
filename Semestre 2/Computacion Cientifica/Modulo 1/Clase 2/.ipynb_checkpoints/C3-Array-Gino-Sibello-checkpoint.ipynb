{
 "cells": [
  {
   "cell_type": "markdown",
   "metadata": {},
   "source": [
    "![imagen](https://encrypted-tbn0.gstatic.com/images?q=tbn:ANd9GcSRv7-9e8oYLYuPJ2mPM3YOlHoKFiHaQCFClWRKVBOzUe1CWABtg5QtluntYIxiHgpYNdw&usqp=CAU)\n",
    "\n",
    "# Computación Científica"
   ]
  },
  {
   "cell_type": "markdown",
   "metadata": {},
   "source": [
    "## Lista de datos en phyton\n",
    "Las listas son conjuntos de datos que pueden contener elementos de distinto tipo, por ejemplo, texto o números y los vectores que aprendió a usar en álgebra son numéricos."
   ]
  },
  {
   "cell_type": "code",
   "execution_count": 2,
   "metadata": {},
   "outputs": [
    {
     "name": "stdout",
     "output_type": "stream",
     "text": [
      "(1, 'jorge', 9)\n"
     ]
    }
   ],
   "source": [
    "A = (1, \"jorge\" , 9 )"
   ]
  },
  {
   "cell_type": "code",
   "execution_count": 4,
   "metadata": {},
   "outputs": [
    {
     "data": {
      "text/plain": [
       "'Ana'"
      ]
     },
     "execution_count": 4,
     "metadata": {},
     "output_type": "execute_result"
    }
   ],
   "source": [
    "lista = ((1,'jorge',9),(2,'Ana',10),(3,'pepe',11))\n",
    "lista [1][1]"
   ]
  },
  {
   "cell_type": "code",
   "execution_count": 6,
   "metadata": {},
   "outputs": [
    {
     "data": {
      "text/plain": [
       "((1, 'jorge', 9), (2, 'Ana', 10, 6, 5), (3, 'pepe', 11, 8, 9, 10))"
      ]
     },
     "execution_count": 6,
     "metadata": {},
     "output_type": "execute_result"
    }
   ],
   "source": [
    "lista = ((1,'jorge',9),(2,'Ana',10,6,5),(3,'pepe',11,8,9,10))\n",
    "lista"
   ]
  },
  {
   "cell_type": "markdown",
   "metadata": {},
   "source": [
    "Pero a veces tenemos listas que contienen sólo valores numéricos y podemos confundirnos. En estos casos suelen ocurrir cosas inesperadas cuando hacemos operaciones algebraicas como la siguiente:"
   ]
  },
  {
   "cell_type": "code",
   "execution_count": 5,
   "metadata": {},
   "outputs": [
    {
     "name": "stdout",
     "output_type": "stream",
     "text": [
      "[5, 5, 5, 5, 1, 2, 3, 4]\n",
      "(1, 2, 3, 4, 5, 5, 5, 5)\n"
     ]
    }
   ],
   "source": [
    "lista01=[1,2,3,4]\n",
    "lista02=[5,5,5,5]\n",
    "listacorch01=(1,2,3,4)\n",
    "listacorch02=(5,5,5,5)\n",
    "listaSuma= lista02 + lista01\n",
    "listaSumaCorch= listacorch01 + listacorch02\n",
    "print(listaSuma)\n",
    "print(listaSumaCorch)"
   ]
  },
  {
   "cell_type": "markdown",
   "metadata": {},
   "source": [
    "Seguramente no fue el resultado esperado, al sumar dos listas, creó una nueva lista, más larga, con los elementos de la segunda lista a continuación de la primera.\n",
    "Obviamente este comportamiento de las listas puede ser muy útil, pero ahora queremos aplicar Python para resolver problemas de álgebra."
   ]
  },
  {
   "cell_type": "markdown",
   "metadata": {},
   "source": [
    "## Vectores y Matrices\n",
    "\n",
    "En programación, se le denomina vector, formación, matriz (en inglés array, del cual surge la mala traducción arreglo),1​ a una zona de almacenamiento contiguo que contiene una serie de elementos del mismo tipo, los elementos de la matriz.2​ Desde el punto de vista lógico una matriz se puede ver como un conjunto de elementos ordenados en fila (o filas y columnas si tuviera dos dimensiones).\n",
    "\n",
    "En principio, se puede considerar que todas las matrices son de una dimensión, la dimensión principal, pero los elementos de dicha fila pueden ser a su vez matrices (un proceso que puede ser recursivo), lo que nos permite hablar de la existencia de matrices multidimensionales, aunque las más fáciles de imaginar son las de una, dos y tres dimensiones.\n",
    "\n",
    "Estas estructuras de datos son adecuadas para situaciones en las que el acceso a los datos se realice de forma aleatoria e impredecible. Por el contrario, si los elementos pueden estar ordenados y se va a utilizar acceso secuencial sería más adecuado utilizar una lista, ya que esta estructura puede cambiar de tamaño fácilmente durante la ejecución de un programa, siendo esta última una estructura dinámica (al no tener un tamaño definido). [Fuente](https://es.wikipedia.org/wiki/Vector_(informática))"
   ]
  },
  {
   "cell_type": "markdown",
   "metadata": {},
   "source": [
    "## Arrays con Numpy\n",
    "Numpy es una de las librerías matemáticas más usadas en Python y la que da origen a otras aún más sofisticadas. Incorpora algoritmos que permiten resolver operaciones algebraicas en forma **eficiente** porque están precompiladas en C. \n",
    "Veamos cómo trabajar con Numpy.\n",
    "\n",
    "La estructura principal en NumPy es el **array multidimensional homogéneo**.  \n",
    "\n",
    "Aclaremos un poco:  \n",
    "\n",
    "**Homogéneo** significa que todos los elementos son del mismo tipo, para nosotros, generalmente serán números, ésto no nos traerá problemas.\n",
    "\n",
    "**Dimensional o multidimensional** es un término algo confuso ya que se superpone con la definición de dimensión que aprendimos en álgebra! \n",
    "\n",
    "A veces se utiliza una nomenclatura que resulta más clara para los elementos de NumPy y en vez de usar la palabra dimensión se utiliza la palabra **axis o eje**. \n",
    "\n",
    "Entonces en NumPy:  \n",
    "\n",
    "- un array de un eje (o dimensión 1 en NumPy)   es lo que en álgebra denominamos **vector**\n",
    "- un array de 2 ejes (o dimensión 2 en NumPy) es lo que en álgebra definimos como **matriz**\n",
    "- un array de más ejes (o mayor dimensión en NumPy) es lo que en álgebra se define como **tensor**\n",
    "\n",
    "Si desde el punto de vista de NumPy todos los vectores tienen un eje (o son de dimensión 1), qué distingue al vector (1,2) del (2,1,4) ?  \n",
    "\n",
    "La cantidad de elementos que tienen!  \n",
    "\n",
    "- la cantidad de elementos de (1,2) es 2 y   \n",
    "- la cantidad de elementos de (2,1,4) es 3\n",
    "\n",
    "En NumPy la cantidad de elementos se denomina longitud."
   ]
  },
  {
   "cell_type": "markdown",
   "metadata": {},
   "source": [
    "### Creación de arrays en NumPy\n",
    "A diferencia de las listas que comentamos al principio, los arrays deben definirse como tales, vamos a crear un vector, es decir un array con un solo eje o axis o de \"dimensión uno\".\n",
    "\n",
    "Para crear el array usamos:\n",
    "\n",
    "np.array()\n",
    "\n",
    "y dentro del paréntesis los elementos se enumeran como una secuencia entre corchetes y separados por coma:\n",
    "\n",
    "np.array([ secuencia de elementos separados por coma ])\n",
    "\n",
    "Podemos pensar que de esta manera NumPy crea vectores fila.\n",
    "\n",
    "Creemos el **vector** (1,2,3)\n",
    "\n",
    "Lo primero que debemos hacer es importar Numpy. Luego declaramos el vector."
   ]
  },
  {
   "cell_type": "code",
   "execution_count": 7,
   "metadata": {},
   "outputs": [
    {
     "data": {
      "text/plain": [
       "array([1, 2, 3])"
      ]
     },
     "execution_count": 7,
     "metadata": {},
     "output_type": "execute_result"
    }
   ],
   "source": [
    "#importamos la libreria y le asignamos un alias\n",
    "import numpy as np\n",
    "#Declaramos el vector\n",
    "A = np.array([1,2,3])\n",
    "#que se creo?\n",
    "A"
   ]
  },
  {
   "cell_type": "code",
   "execution_count": 8,
   "metadata": {},
   "outputs": [
    {
     "name": "stdout",
     "output_type": "stream",
     "text": [
      "[2 4 6]\n"
     ]
    }
   ],
   "source": [
    "print ( A + A)\n",
    "#ahora si se suman"
   ]
  },
  {
   "cell_type": "markdown",
   "metadata": {},
   "source": [
    "Ahora vamos a crear una **matriz**.\n",
    "Desde el punto de vista de NumPy una matriz será una secuencia de vectores, y un vector es una secuencia de números ...\n",
    "\n",
    "\n",
    "np.array([ [ fila 1 ],[ fila 2 ],...,[ fila n ] ])"
   ]
  },
  {
   "cell_type": "code",
   "execution_count": 9,
   "metadata": {},
   "outputs": [
    {
     "data": {
      "text/plain": [
       "array([[ 1,  2, -1],\n",
       "       [ 3,  0,  1],\n",
       "       [ 2,  0,  4],\n",
       "       [ 1,  5,  3]])"
      ]
     },
     "execution_count": 9,
     "metadata": {},
     "output_type": "execute_result"
    }
   ],
   "source": [
    "matriz=np.array([[1,2,-1],[3,0,1],[0,2,4],[1,5,3]])\n",
    "matriz"
   ]
  },
  {
   "cell_type": "code",
   "execution_count": 12,
   "metadata": {},
   "outputs": [
    {
     "data": {
      "text/plain": [
       "4"
      ]
     },
     "execution_count": 12,
     "metadata": {},
     "output_type": "execute_result"
    }
   ],
   "source": [
    "matriz[2][2]"
   ]
  },
  {
   "cell_type": "markdown",
   "metadata": {},
   "source": [
    "### Describiendo arrays: .ndim, .shape, .size \n",
    "* La propiedad .ndim nos indica la cantidad de ejes (o dimensiones) que tiene el array.\n",
    "* La propiedad .shape nos indica la cantidad de elementos en cada eje, si es una matriz nos indicará la cantidad de filas y de columnas que tiene.\n",
    "* La propiedad .size nos indica la cantidad de elementos en total que tiene el array"
   ]
  },
  {
   "cell_type": "code",
   "execution_count": 14,
   "metadata": {},
   "outputs": [
    {
     "data": {
      "text/plain": [
       "1"
      ]
     },
     "execution_count": 14,
     "metadata": {},
     "output_type": "execute_result"
    }
   ],
   "source": [
    "A.ndim"
   ]
  },
  {
   "cell_type": "code",
   "execution_count": 17,
   "metadata": {},
   "outputs": [
    {
     "data": {
      "text/plain": [
       "(3,)"
      ]
     },
     "execution_count": 17,
     "metadata": {},
     "output_type": "execute_result"
    }
   ],
   "source": [
    "A.shape"
   ]
  },
  {
   "cell_type": "code",
   "execution_count": 18,
   "metadata": {},
   "outputs": [
    {
     "data": {
      "text/plain": [
       "3"
      ]
     },
     "execution_count": 18,
     "metadata": {},
     "output_type": "execute_result"
    }
   ],
   "source": [
    "A.size"
   ]
  },
  {
   "cell_type": "code",
   "execution_count": 19,
   "metadata": {},
   "outputs": [
    {
     "data": {
      "text/plain": [
       "2"
      ]
     },
     "execution_count": 19,
     "metadata": {},
     "output_type": "execute_result"
    }
   ],
   "source": [
    "matriz.ndim"
   ]
  },
  {
   "cell_type": "code",
   "execution_count": 20,
   "metadata": {},
   "outputs": [
    {
     "data": {
      "text/plain": [
       "(4, 3)"
      ]
     },
     "execution_count": 20,
     "metadata": {},
     "output_type": "execute_result"
    }
   ],
   "source": [
    "matriz.shape"
   ]
  },
  {
   "cell_type": "code",
   "execution_count": 21,
   "metadata": {},
   "outputs": [
    {
     "data": {
      "text/plain": [
       "12"
      ]
     },
     "execution_count": 21,
     "metadata": {},
     "output_type": "execute_result"
    }
   ],
   "source": [
    "matriz.size"
   ]
  },
  {
   "cell_type": "markdown",
   "metadata": {},
   "source": [
    "### Tensor"
   ]
  },
  {
   "cell_type": "code",
   "execution_count": 24,
   "metadata": {},
   "outputs": [
    {
     "data": {
      "text/plain": [
       "array([[[1]],\n",
       "\n",
       "       [[3]],\n",
       "\n",
       "       [[4]]])"
      ]
     },
     "execution_count": 24,
     "metadata": {},
     "output_type": "execute_result"
    }
   ],
   "source": [
    "tensor=np.array([[[1]],[[3]],[[4]]])\n",
    "tensor"
   ]
  },
  {
   "cell_type": "code",
   "execution_count": 25,
   "metadata": {},
   "outputs": [
    {
     "data": {
      "text/plain": [
       "3"
      ]
     },
     "execution_count": 25,
     "metadata": {},
     "output_type": "execute_result"
    }
   ],
   "source": [
    "tensor.ndim"
   ]
  },
  {
   "cell_type": "code",
   "execution_count": 26,
   "metadata": {},
   "outputs": [
    {
     "data": {
      "text/plain": [
       "(3, 1, 1)"
      ]
     },
     "execution_count": 26,
     "metadata": {},
     "output_type": "execute_result"
    }
   ],
   "source": [
    "tensor.shape"
   ]
  },
  {
   "cell_type": "code",
   "execution_count": 30,
   "metadata": {},
   "outputs": [
    {
     "data": {
      "text/plain": [
       "3"
      ]
     },
     "execution_count": 30,
     "metadata": {},
     "output_type": "execute_result"
    }
   ],
   "source": [
    "tensor.size"
   ]
  },
  {
   "cell_type": "markdown",
   "metadata": {},
   "source": [
    "# Ejercicio para resolver 1\n",
    "* Crear un vector con los siguientes datos (1,2,3,4,5)\n",
    "* Mostrar la cantidad de ejes del vector\n",
    "* Mostrar la cantidad de elementos de cada eje del vector\n",
    "* Mostrar la cantidad de elementos del vector"
   ]
  },
  {
   "cell_type": "code",
   "execution_count": 53,
   "metadata": {},
   "outputs": [],
   "source": [
    "VEctor =np.array([1,2,3,4,5])"
   ]
  },
  {
   "cell_type": "code",
   "execution_count": 54,
   "metadata": {},
   "outputs": [
    {
     "data": {
      "text/plain": [
       "1"
      ]
     },
     "execution_count": 54,
     "metadata": {},
     "output_type": "execute_result"
    }
   ],
   "source": [
    "VEctor.ndim"
   ]
  },
  {
   "cell_type": "code",
   "execution_count": 55,
   "metadata": {},
   "outputs": [
    {
     "data": {
      "text/plain": [
       "(5,)"
      ]
     },
     "execution_count": 55,
     "metadata": {},
     "output_type": "execute_result"
    }
   ],
   "source": [
    "VEctor.shape"
   ]
  },
  {
   "cell_type": "code",
   "execution_count": 56,
   "metadata": {},
   "outputs": [
    {
     "data": {
      "text/plain": [
       "5"
      ]
     },
     "execution_count": 56,
     "metadata": {},
     "output_type": "execute_result"
    }
   ],
   "source": [
    "VEctor.size"
   ]
  },
  {
   "cell_type": "markdown",
   "metadata": {},
   "source": [
    "# Ejercicio para resolver 2\n",
    "* Crear una matriz con los siguientes datos \n",
    "((1,2,3),(8,4,6),(7,5,3),(9,5,1))\n",
    "* Mostrar la cantidad de ejes de la matriz\n",
    "* Mostrar la cantidad de elementos de cada eje de la matriz\n",
    "* Mostrar la cantidad de elementos de la matriz"
   ]
  },
  {
   "cell_type": "code",
   "execution_count": 57,
   "metadata": {},
   "outputs": [],
   "source": [
    "MAtriz = np.array([[1,2,3],[8,4,6],[7,5,3],[9,5,1]])"
   ]
  },
  {
   "cell_type": "code",
   "execution_count": 63,
   "metadata": {},
   "outputs": [
    {
     "data": {
      "text/plain": [
       "2"
      ]
     },
     "execution_count": 63,
     "metadata": {},
     "output_type": "execute_result"
    }
   ],
   "source": [
    "MAtriz.ndim"
   ]
  },
  {
   "cell_type": "code",
   "execution_count": 62,
   "metadata": {},
   "outputs": [
    {
     "data": {
      "text/plain": [
       "(4, 3)"
      ]
     },
     "execution_count": 62,
     "metadata": {},
     "output_type": "execute_result"
    }
   ],
   "source": [
    "MAtriz.shape"
   ]
  },
  {
   "cell_type": "code",
   "execution_count": 61,
   "metadata": {},
   "outputs": [
    {
     "data": {
      "text/plain": [
       "12"
      ]
     },
     "execution_count": 61,
     "metadata": {},
     "output_type": "execute_result"
    }
   ],
   "source": [
    "MAtriz.size"
   ]
  },
  {
   "cell_type": "markdown",
   "metadata": {},
   "source": [
    "# Ejercicio para resolver 3\n",
    "* Crear un tensor con los siguientes datos \n",
    "(((1,2,3),(8,4,6)),((7,5,3),(9,5,1)))\n",
    "* Mostrar la cantidad de ejes del tensor\n",
    "* Mostrar la cantidad de elementos de cada eje del tensor\n",
    "* Mostrar la cantidad de elementos ddel tensor"
   ]
  },
  {
   "cell_type": "code",
   "execution_count": 69,
   "metadata": {},
   "outputs": [],
   "source": [
    "TEnsor = np.array([[[1,2,3],[8,4,6]],[[7,5,3],[9,5,1]]])"
   ]
  },
  {
   "cell_type": "code",
   "execution_count": 70,
   "metadata": {},
   "outputs": [
    {
     "data": {
      "text/plain": [
       "3"
      ]
     },
     "execution_count": 70,
     "metadata": {},
     "output_type": "execute_result"
    }
   ],
   "source": [
    "TEnsor.ndim"
   ]
  },
  {
   "cell_type": "code",
   "execution_count": 71,
   "metadata": {},
   "outputs": [
    {
     "data": {
      "text/plain": [
       "(2, 2, 3)"
      ]
     },
     "execution_count": 71,
     "metadata": {},
     "output_type": "execute_result"
    }
   ],
   "source": [
    "TEnsor.shape"
   ]
  },
  {
   "cell_type": "code",
   "execution_count": 72,
   "metadata": {},
   "outputs": [
    {
     "data": {
      "text/plain": [
       "12"
      ]
     },
     "execution_count": 72,
     "metadata": {},
     "output_type": "execute_result"
    }
   ],
   "source": [
    "TEnsor.size"
   ]
  }
 ],
 "metadata": {
  "kernelspec": {
   "display_name": "Python 3",
   "language": "python",
   "name": "python3"
  },
  "language_info": {
   "codemirror_mode": {
    "name": "ipython",
    "version": 3
   },
   "file_extension": ".py",
   "mimetype": "text/x-python",
   "name": "python",
   "nbconvert_exporter": "python",
   "pygments_lexer": "ipython3",
   "version": "3.8.5"
  }
 },
 "nbformat": 4,
 "nbformat_minor": 4
}
