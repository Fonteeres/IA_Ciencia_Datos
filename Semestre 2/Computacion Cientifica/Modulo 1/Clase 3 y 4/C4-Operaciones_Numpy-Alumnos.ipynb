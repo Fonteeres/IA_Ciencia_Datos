{
 "cells": [
  {
   "cell_type": "markdown",
   "metadata": {
    "toc": true
   },
   "source": [
    "![imagen](https://encrypted-tbn0.gstatic.com/images?q=tbn:ANd9GcSRv7-9e8oYLYuPJ2mPM3YOlHoKFiHaQCFClWRKVBOzUe1CWABtg5QtluntYIxiHgpYNdw&usqp=CAU)\n",
    "\n",
    "# Computación Científica"
   ]
  },
  {
   "cell_type": "markdown",
   "metadata": {},
   "source": [
    "## Situación profesional\n",
    "Una empresa que brinda el servicio de *streaming* de películas por internet quiere implementar un **Sistema de Recomendación (SR o RS en inglés)** para su usuarios, de tal manera de poder sugerir, dentro de las películas que aún no ha visto, cuál podría ser la que más le gustará.  \n",
    "Para ello en su plataforma solicitan a cada usuario que califique la película que acaba de ver.  \n",
    "\n",
    "- La calificación (rating) asume valores de 1 a 5, siendo 1 la peor calificación y 5 la mejor.  \n",
    "- Se establece el valor 0 para aquellas películas que no han sido calificadas por los usuarios. "
   ]
  },
  {
   "cell_type": "markdown",
   "metadata": {},
   "source": [
    "# Algebra en Python: NumPy"
   ]
  },
  {
   "cell_type": "markdown",
   "metadata": {},
   "source": [
    "La solución de este problema nos obligará a realizar un intenso trabajo **algebraico** tendremos que trabajar con datos, organizados en forma de vectores y matrices y oportunamente deberemos recurrir a operaciones como el producto interno o producto punto para efectuar cálculos de distancias o ángulos como los que ha aprendido en la materia Álgebra.  \n",
    "\n",
    "Afortunadamente Python cuenta con librerías adecuadas para esta tarea, como NumPy que nos permitirá resolver estas operaciones en forma **eficiente** ya que muchas de sus operaciones están precompiladas en lenguaje C, que es muy veloz a la hora de ejecutar el código, pero contaremos con la facilidad de un lenguaje como Python."
   ]
  },
  {
   "cell_type": "markdown",
   "metadata": {},
   "source": [
    "### Creación de arrays en NumPy"
   ]
  },
  {
   "cell_type": "markdown",
   "metadata": {},
   "source": [
    "Para crear el array usamos:  \n",
    "\n",
    "**np.array()**  \n",
    "\n",
    "y dentro del paréntesis los elementos se enumeran como una **secuencia** entre corchetes y separados por coma:  \n",
    "\n",
    "**np.array([ secuencia de elementos separados por coma ])**\n",
    "\n",
    "Recordemos que lo primero que debemos hacer es importar Numpy."
   ]
  },
  {
   "cell_type": "code",
   "execution_count": 2,
   "metadata": {},
   "outputs": [
    {
     "data": {
      "text/plain": [
       "array([1, 2, 3])"
      ]
     },
     "execution_count": 2,
     "metadata": {},
     "output_type": "execute_result"
    }
   ],
   "source": [
    "#importamos la libreria\n",
    "import numpy as np\n",
    "#creamos el vector\n",
    "vector = np.array([1,2,3])\n",
    "#vemos que se creo\n",
    "vector"
   ]
  },
  {
   "cell_type": "markdown",
   "metadata": {},
   "source": [
    "Para crear una **matriz** se hace del mismo modo, só que se debe tener en cuenta que se enumera una lista de vectores dentro de los corchetes.\n",
    "\n",
    "Recordemos que desde el punto de vista de NumPy una matriz será una secuencia de vectores, y un vector era una secuencia de números ...\n",
    "\n",
    "\n",
    "np.array([ [ fila 1 ],[ fila 2 ],...,[ fila n ] ])"
   ]
  },
  {
   "cell_type": "code",
   "execution_count": 2,
   "metadata": {},
   "outputs": [
    {
     "data": {
      "text/plain": [
       "array([[ 1,  2,  3],\n",
       "       [ 3,  4,  5],\n",
       "       [ 7,  3,  6],\n",
       "       [10, 41, 65]])"
      ]
     },
     "execution_count": 2,
     "metadata": {},
     "output_type": "execute_result"
    }
   ],
   "source": [
    "#importamos la libreria\n",
    "import numpy as np\n",
    "#creamos el vector\n",
    "matriz = np.array([[1,2,3],[3,4,5],[7,3,6],[10,41,65]])\n",
    "#vemos que se creo\n",
    "matriz"
   ]
  },
  {
   "cell_type": "markdown",
   "metadata": {},
   "source": [
    "### Propiedades: .ndim, .shape, .size \n",
    "\n",
    "* ndim: cantidad de ejes. (Dimensiones)\n",
    "* shape: cantidad de elementos de cada eje. (cantidad de elementos de cada dimensión, forma)\n",
    "* size: cantidad de elementos de la estructura. (Tamaño, talla)"
   ]
  },
  {
   "cell_type": "code",
   "execution_count": 7,
   "metadata": {},
   "outputs": [
    {
     "name": "stdout",
     "output_type": "stream",
     "text": [
      "2 (4, 3) 12\n"
     ]
    }
   ],
   "source": [
    "#ndim es la cantidad de dimensiones que tiene una matriz\n",
    "A = matriz.ndim\n",
    "#shape muestra el tamaño de la matriz osea las (Filas y Columnas)\n",
    "B = matriz.shape\n",
    "#size muestra la cantidad de elemntos que tiene la matriz\n",
    "C = matriz.size\n",
    "print(A,B,C)"
   ]
  },
  {
   "cell_type": "code",
   "execution_count": 8,
   "metadata": {},
   "outputs": [
    {
     "name": "stdout",
     "output_type": "stream",
     "text": [
      "1 (3,) 3\n"
     ]
    }
   ],
   "source": [
    "#ndim es la cantidad de dimensiones que tiene una matriz\n",
    "A1 = vector.ndim\n",
    "#shape muestra el tamaño de la matriz osea las (Filas y Columnas)\n",
    "B1 = vector.shape\n",
    "#size muestra la cantidad de elemntos que tiene la matriz\n",
    "C1 = vector.size\n",
    "print(A1,B1,C1)"
   ]
  },
  {
   "cell_type": "markdown",
   "metadata": {},
   "source": [
    "## Operaciones con arrays en NumPy"
   ]
  },
  {
   "cell_type": "markdown",
   "metadata": {},
   "source": [
    "### Operaciones básicas\n",
    "\n",
    "Se pueden realizar operaciones entre un vector y un escalar:\n",
    "* Suma: +\n",
    "* Resta: -\n",
    "* Producto: *\n",
    "* División: /\n",
    "* Potencia: **\n",
    "* División entera: //\n",
    "* Resto de la División: %"
   ]
  },
  {
   "cell_type": "code",
   "execution_count": 11,
   "metadata": {},
   "outputs": [
    {
     "name": "stdout",
     "output_type": "stream",
     "text": [
      "[1 2 3]\n",
      "[3 4 5]\n",
      "[6 4 7]\n"
     ]
    }
   ],
   "source": [
    "#le sumamos 2 a cada elemento de un vector\n",
    "import numpy as np\n",
    "a = np.array([1,2,3])\n",
    "b = np.array([5,2,4])\n",
    "print(a)\n",
    "print(a+2)\n",
    "print(a+b)"
   ]
  },
  {
   "cell_type": "code",
   "execution_count": 12,
   "metadata": {},
   "outputs": [
    {
     "name": "stdout",
     "output_type": "stream",
     "text": [
      "[1 2 3]\n",
      "[-1  0  1]\n",
      "[-4  0 -1]\n"
     ]
    }
   ],
   "source": [
    "#le restamos 2 a cada elemento de un vector\n",
    "import numpy as np\n",
    "a = np.array([1,2,3])\n",
    "b = np.array([5,2,4])\n",
    "print(a)\n",
    "print(a-2)\n",
    "print(a-b)"
   ]
  },
  {
   "cell_type": "code",
   "execution_count": 15,
   "metadata": {},
   "outputs": [
    {
     "name": "stdout",
     "output_type": "stream",
     "text": [
      "[1 2 3]\n",
      "[0.5 1.  1.5]\n",
      "[2.5 1.  2. ]\n"
     ]
    }
   ],
   "source": [
    "#dividi 2 a cada elemento de un vector\n",
    "import numpy as np\n",
    "a = np.array([1,2,3])\n",
    "b = np.array([5,2,4])\n",
    "print(a)\n",
    "print(a/2)\n",
    "print(b/2)"
   ]
  },
  {
   "cell_type": "code",
   "execution_count": 14,
   "metadata": {},
   "outputs": [
    {
     "name": "stdout",
     "output_type": "stream",
     "text": [
      "[1 2 3]\n",
      "[2 4 6]\n",
      "[ 5  4 12]\n"
     ]
    }
   ],
   "source": [
    "#Multiplique por 2 a cada elemento de un vector\n",
    "import numpy as np\n",
    "a = np.array([1,2,3])\n",
    "b = np.array([5,2,4])\n",
    "print(a)\n",
    "print(a*2)\n",
    "print(a*b)"
   ]
  },
  {
   "cell_type": "code",
   "execution_count": 17,
   "metadata": {},
   "outputs": [
    {
     "name": "stdout",
     "output_type": "stream",
     "text": [
      "[1 2 3]\n",
      "[1 4 9]\n",
      "[25  4 16]\n"
     ]
    }
   ],
   "source": [
    "#eleve a 2 a cada elemento de un vector\n",
    "import numpy as np\n",
    "a = np.array([1,2,3])\n",
    "b = np.array([5,2,4])\n",
    "print(a)\n",
    "print(a**2)\n",
    "print(b**2)"
   ]
  },
  {
   "cell_type": "code",
   "execution_count": 19,
   "metadata": {},
   "outputs": [
    {
     "name": "stdout",
     "output_type": "stream",
     "text": [
      "[1 2 3]\n",
      "[0 1 1]\n",
      "[2 1 2]\n"
     ]
    }
   ],
   "source": [
    "#hice una division entera por 2 a cada elemento de un vector\n",
    "import numpy as np\n",
    "a = np.array([1,2,3])\n",
    "b = np.array([5,2,4])\n",
    "print(a)\n",
    "print(a//2)\n",
    "print(b//2)"
   ]
  },
  {
   "cell_type": "code",
   "execution_count": 18,
   "metadata": {},
   "outputs": [
    {
     "name": "stdout",
     "output_type": "stream",
     "text": [
      "[1 2 3]\n",
      "[1 0 1]\n",
      "[1 0 0]\n"
     ]
    }
   ],
   "source": [
    "#Quise obtener el resto de la division por 2 a cada elemento de un vector\n",
    "import numpy as np\n",
    "a = np.array([1,2,3])\n",
    "b = np.array([5,2,4])\n",
    "print(a)\n",
    "print(a%2)\n",
    "print(b%2)"
   ]
  },
  {
   "cell_type": "code",
   "execution_count": null,
   "metadata": {},
   "outputs": [],
   "source": []
  },
  {
   "cell_type": "markdown",
   "metadata": {},
   "source": [
    "También se pueden realizar operaciones entre un vector, pero hay que tener en cuenta que si desea sumar o restar vectores con distinta cantidad de elementos, dará error."
   ]
  },
  {
   "cell_type": "code",
   "execution_count": 22,
   "metadata": {},
   "outputs": [
    {
     "name": "stdout",
     "output_type": "stream",
     "text": [
      "[10  5  9]\n",
      "[ 9  6 20]\n",
      "[9 1 1]\n"
     ]
    }
   ],
   "source": [
    "#importamos la libreria numpy\n",
    "import numpy as np \n",
    "v1 = np.array([1,2,4])\n",
    "v2 = np.array([9,3,5])\n",
    "print (v1 + v2)\n",
    "print (v1 * v2)\n",
    "print (v2 // v1)"
   ]
  },
  {
   "cell_type": "code",
   "execution_count": 24,
   "metadata": {},
   "outputs": [
    {
     "name": "stdout",
     "output_type": "stream",
     "text": [
      "[[ 8  6]\n",
      " [ 3  9]\n",
      " [ 9 10]]\n",
      "[[ 7  8]\n",
      " [ 0 18]\n",
      " [ 8 21]]\n",
      "[[7 2]\n",
      " [0 0]\n",
      " [0 0]]\n",
      "[[0 0]\n",
      " [0 3]\n",
      " [1 3]]\n"
     ]
    }
   ],
   "source": [
    "import numpy as np\n",
    "m1 = np.array([[7, 4],[0, 3], [1,3]])\n",
    "m2 = np.array([[1, 2],[3, 6], [8,7]])\n",
    "print(m1+m2)\n",
    "print(m1*m2)\n",
    "print(m1//m2)\n",
    "print(m1%m2)"
   ]
  },
  {
   "cell_type": "markdown",
   "metadata": {},
   "source": [
    "## Funciones universales\n",
    "\n",
    "- Raíz cuadrada: np.sqrt()\n",
    "- Funciones trigonométricas como sin(), cos(), tan()\n",
    "- Exponenciales"
   ]
  },
  {
   "cell_type": "code",
   "execution_count": 8,
   "metadata": {},
   "outputs": [
    {
     "name": "stdout",
     "output_type": "stream",
     "text": [
      "[3. 4. 5.] [6. 2. 7.]\n"
     ]
    }
   ],
   "source": [
    "import numpy as np\n",
    "a10 = np.array([9,16,25])\n",
    "b10 = np.array([36,4,49])\n",
    "f= np.sqrt(a10)\n",
    "g= np.sqrt(b10)\n",
    "print(f,g)"
   ]
  },
  {
   "cell_type": "code",
   "execution_count": 28,
   "metadata": {},
   "outputs": [
    {
     "name": "stdout",
     "output_type": "stream",
     "text": [
      "[ 0.84147098  0.14112001 -0.95892427] [-0.95892427 -0.7568025   0.90929743]\n"
     ]
    }
   ],
   "source": [
    "import numpy as np\n",
    "a11 = np.array([1,3,5])\n",
    "b11 = np.array([5,4,2])\n",
    "f1=np.sin(a11)\n",
    "g1=np.sin(b11)\n",
    "print(f1,g1)"
   ]
  },
  {
   "cell_type": "code",
   "execution_count": 29,
   "metadata": {},
   "outputs": [
    {
     "name": "stdout",
     "output_type": "stream",
     "text": [
      "[ 0.54030231 -0.9899925   0.28366219] [-0.95892427 -0.7568025   0.90929743]\n"
     ]
    }
   ],
   "source": [
    "import numpy as np\n",
    "a12 = np.array([1,3,5])\n",
    "b12 = np.array([5,4,2])\n",
    "f2=np.cos(a12)\n",
    "g2=np.sin(b12)\n",
    "print(f2,g2)"
   ]
  },
  {
   "cell_type": "code",
   "execution_count": 30,
   "metadata": {},
   "outputs": [
    {
     "name": "stdout",
     "output_type": "stream",
     "text": [
      "[ 0.84147098  0.14112001 -0.95892427] [-0.95892427 -0.7568025   0.90929743]\n"
     ]
    }
   ],
   "source": [
    "import numpy as np\n",
    "a13 = np.array([1,3,5])\n",
    "b13 = np.array([5,4,2])\n",
    "f3=np.sin(a13)\n",
    "g3=np.sin(b13)\n",
    "print(f3,g3)"
   ]
  },
  {
   "cell_type": "code",
   "execution_count": null,
   "metadata": {},
   "outputs": [],
   "source": []
  },
  {
   "cell_type": "markdown",
   "metadata": {},
   "source": [
    "### Producto interno o producto punto de vectores"
   ]
  },
  {
   "cell_type": "markdown",
   "metadata": {},
   "source": [
    "El producto interno de dos vectores puede realizarse de dos maneras:  \n",
    "\n",
    "- con el operador @, vector1 @ vector2  \n",
    "- con la función:  np.dot(vector1, vector2)\n",
    "\n",
    "Veamos:"
   ]
  },
  {
   "cell_type": "code",
   "execution_count": 9,
   "metadata": {},
   "outputs": [
    {
     "name": "stdout",
     "output_type": "stream",
     "text": [
      "[ 5 12 10]\n",
      "27\n",
      "27\n"
     ]
    }
   ],
   "source": [
    "import numpy as np\n",
    "a13 = np.array([1,3,5])\n",
    "b13 = np.array([5,4,2])\n",
    "\n",
    "print(a13*b13)\n",
    "print(a13@b13)\n",
    "print(np.dot(a13,b13))"
   ]
  },
  {
   "cell_type": "code",
   "execution_count": 33,
   "metadata": {},
   "outputs": [
    {
     "name": "stdout",
     "output_type": "stream",
     "text": [
      "[[19 38]\n",
      " [ 9 18]]\n"
     ]
    }
   ],
   "source": [
    "#Se puedde obtyener el producto interno de una matriz, \n",
    "#siempre que esta sea una matriz cuadrada\n",
    "m1 = np.array([[7, 4],[0, 3]])\n",
    "m2 = np.array([[1, 2],[3, 6]])\n",
    "print(m1@m2)"
   ]
  },
  {
   "cell_type": "markdown",
   "metadata": {},
   "source": [
    "### Módulo o norma de un vector"
   ]
  },
  {
   "cell_type": "markdown",
   "metadata": {},
   "source": [
    "En álgebra se define el Módulo o norma de un vector como un número positivo que representa la longitud del mismo.\n",
    "\n",
    "Si el vector es $ u=(u_1,u_2,...,u_n)$\n",
    "\n",
    "Su módulo o norma se calcula como:\n",
    "\n",
    "$$||u||=\\sqrt[]{u^2_1+u^2_2+...+u^2_n}$$  "
   ]
  },
  {
   "cell_type": "markdown",
   "metadata": {},
   "source": [
    "Si lo pensamos un poco, calcular la norma de un vector con los métodos de programación tradicionales requiere efectuar algún loop recorriendo todos los elementos del vector, elevándolos al cuadrado, sumándolos a un acumulador y luego de recorrer todo el vector deberíamos calcular su raíz cuadrada.  \n",
    "\n",
    "Un poco pesado, por suerte pensando algebraicamente y usando NumPy tenemos opciones muy sencillas que nos permitirán focalizarnos en las operaciones matemáticas y no en la programación en sí. \n",
    "\n",
    "\n"
   ]
  },
  {
   "cell_type": "markdown",
   "metadata": {},
   "source": [
    "El módulo de un vector se podía calcular también como la raíza cuadrada del producto interno del vector con sí mismo:\n",
    "\n",
    "$$ ||u||=\\sqrt[]{u . u} $$\n",
    "\n",
    "\n",
    "Entonces podríamos calcular el módulo del vecto v1 como:"
   ]
  },
  {
   "cell_type": "code",
   "execution_count": 36,
   "metadata": {},
   "outputs": [
    {
     "name": "stdout",
     "output_type": "stream",
     "text": [
      "5\n",
      "2.23606797749979\n"
     ]
    }
   ],
   "source": [
    "import numpy as np\n",
    "v1=np.array([2,0,1])\n",
    "res=0\n",
    "for x in v1:\n",
    "    res = res + (x**2)\n",
    "print(res)\n",
    "print(np.sqrt(res))"
   ]
  },
  {
   "cell_type": "code",
   "execution_count": 4,
   "metadata": {},
   "outputs": [
    {
     "data": {
      "text/plain": [
       "2.23606797749979"
      ]
     },
     "execution_count": 4,
     "metadata": {},
     "output_type": "execute_result"
    }
   ],
   "source": [
    "import numpy as np\n",
    "v1=np.array([2,0,1])\n",
    "np.sqrt(v1@v1)"
   ]
  },
  {
   "cell_type": "markdown",
   "metadata": {},
   "source": [
    "Bastante más sencillo, no es cierto?"
   ]
  },
  {
   "cell_type": "markdown",
   "metadata": {},
   "source": [
    "Pero además, dentro de NumPy existe una librería dedicada a operaciones específicas de álgebra lineal denominada **linalg**, y entre ellas se encuentra el cáclulo del módulo o norma de un vector, así que podemos efectuar el cálculo en forma más elegante y legible para quien lee el código:\n"
   ]
  },
  {
   "cell_type": "code",
   "execution_count": 37,
   "metadata": {},
   "outputs": [
    {
     "data": {
      "text/plain": [
       "2.23606797749979"
      ]
     },
     "execution_count": 37,
     "metadata": {},
     "output_type": "execute_result"
    }
   ],
   "source": [
    "import numpy as np\n",
    "v1=np.array([2,0,1])\n",
    "np.linalg.norm(v1)"
   ]
  },
  {
   "cell_type": "markdown",
   "metadata": {},
   "source": [
    "### Distancia entre dos vectores o dos puntos"
   ]
  },
  {
   "cell_type": "markdown",
   "metadata": {},
   "source": [
    "En álgebra se define la distancia (euclídea) entre dos puntos o entre 2 vectores como el módulo o norma de su diferencia:  \n",
    "\n",
    "distancia(u,v) = ||u-v||  \n",
    "\n",
    "Se anima a calcular la distancia entre los vectores v1 y v1 que definimos con anterioridad?\n",
    "\n",
    "Resuelva el problema primero manualmente con papel y lápiz ... y luego en la celda siguiente"
   ]
  },
  {
   "cell_type": "code",
   "execution_count": 11,
   "metadata": {},
   "outputs": [
    {
     "data": {
      "text/plain": [
       "7.3484692283495345"
      ]
     },
     "execution_count": 11,
     "metadata": {},
     "output_type": "execute_result"
    }
   ],
   "source": [
    "v1=np.array([2,0,1])\n",
    "v2=np.array([5,6,4])\n",
    "np.linalg.norm(v1-v2)"
   ]
  },
  {
   "cell_type": "markdown",
   "metadata": {},
   "source": [
    "## EJERCICIOS"
   ]
  },
  {
   "cell_type": "markdown",
   "metadata": {},
   "source": [
    "Supongamos que tenemos la intención de crear un **Sistema de Recomendaciones** para los clientes de nuestro servicio de streaming de películas.  \n",
    "\n",
    "Para ello, decidimos recabar información de nuestros clientes, por ejemplo le solicitamos que califique qué tanto le gustó cada película después de que la vio.  \n",
    "\n",
    "Elaboramos un ranking de 1 a 5 siendo 1 que le gustó poco y 5 que le gustó muchísimo.  \n",
    "\n",
    "Después de un tiempo tendremos el puntaje asignado a muchas películas por muchos clientes.  \n",
    "Supongamos que nuestros clientes son A,B,C,D, etc y las películas son P1,P2, P3, nuestra información podría verse como en la siguiente tabla.\n"
   ]
  },
  {
   "cell_type": "raw",
   "metadata": {},
   "source": [
    "\n",
    "|   | P1 | P2 | P3 | P4 |\n",
    "|---|----|----|----|----|\n",
    "| A | 5  | 1  | 3  | 1  |\n",
    "| B | 3  | 5  | 4  | 4  |\n",
    "| C | 1  | 3  | 5  | 3  |\n",
    "| D | 4  | 2  | 1  | ?  |\n"
   ]
  },
  {
   "cell_type": "markdown",
   "metadata": {},
   "source": [
    "Nuestro objetivo es determinar si le recomendamos o no al cliente D la P4.  \n",
    "\n",
    "Nuestra hipótesis es que el gusto del cliente D será similar al del cliente que haya calificado más parecido a D las películas P1, P2 y P3, es decir al cliente más cercano a D considerando sólo las películas de 1 a 3.  \n",
    "\n",
    "Entonces crearemos un vector para cada cliente con las calificaciones que dio para las películas 1 a 3 y calcularemos la distancia entre el vector del cliente D y cada uno de los otros clientes. \n",
    "\n",
    "Esto nos permitirá determinar cuál de los clientes A, B o C es el más cercano a D, y asumiremos que el cliente D tendrá una calificación de P4 parecida al del más cercano a él.\n"
   ]
  },
  {
   "cell_type": "code",
   "execution_count": 22,
   "metadata": {},
   "outputs": [],
   "source": [
    "# Cree aquí los vectores considerando sólo las películas P1 a P3 para los cuatro clientes\n",
    "ca=np.array([5,1,3,4,2,3,5,3])\n",
    "cb=np.array([3,5,4,5,3,2,1,4])\n",
    "cc=np.array([1,3,5,2,2,3,5,6])\n",
    "cd=np.array([4,2,1,1,4,3,2,1])\n"
   ]
  },
  {
   "cell_type": "code",
   "execution_count": 23,
   "metadata": {},
   "outputs": [
    {
     "data": {
      "text/plain": [
       "5.656854249492381"
      ]
     },
     "execution_count": 23,
     "metadata": {},
     "output_type": "execute_result"
    }
   ],
   "source": [
    "#Calcule la distancia entre el vector del cliente D y el cliente A\n",
    "dda=np.linalg.norm(cd-ca)\n",
    "dda"
   ]
  },
  {
   "cell_type": "code",
   "execution_count": 24,
   "metadata": {},
   "outputs": [
    {
     "data": {
      "text/plain": [
       "6.855654600401044"
      ]
     },
     "execution_count": 24,
     "metadata": {},
     "output_type": "execute_result"
    }
   ],
   "source": [
    "#Calcule la distancia entre el vector del cliente D y el cliente B\n",
    "ddb=np.linalg.norm(cd-cb)\n",
    "ddb"
   ]
  },
  {
   "cell_type": "code",
   "execution_count": 25,
   "metadata": {},
   "outputs": [
    {
     "data": {
      "text/plain": [
       "8.06225774829855"
      ]
     },
     "execution_count": 25,
     "metadata": {},
     "output_type": "execute_result"
    }
   ],
   "source": [
    "#Calcule la distancia entre el vector del cliente D y el cliente C\n",
    "ddc=np.linalg.norm(cd-cc)\n",
    "ddc"
   ]
  },
  {
   "cell_type": "code",
   "execution_count": 38,
   "metadata": {},
   "outputs": [
    {
     "ename": "ValueError",
     "evalue": "operands could not be broadcast together with shapes (3,) (4,) ",
     "output_type": "error",
     "traceback": [
      "\u001b[1;31m---------------------------------------------------------------------------\u001b[0m",
      "\u001b[1;31mValueError\u001b[0m                                Traceback (most recent call last)",
      "\u001b[1;32m<ipython-input-38-cfa74e06a5bc>\u001b[0m in \u001b[0;36m<module>\u001b[1;34m\u001b[0m\n\u001b[0;32m      7\u001b[0m \u001b[0mdif\u001b[0m \u001b[1;33m=\u001b[0m \u001b[1;36m0\u001b[0m\u001b[1;33m\u001b[0m\u001b[1;33m\u001b[0m\u001b[0m\n\u001b[0;32m      8\u001b[0m \u001b[1;32mfor\u001b[0m \u001b[0mx\u001b[0m \u001b[1;32min\u001b[0m \u001b[0mmatriz\u001b[0m\u001b[1;33m:\u001b[0m\u001b[1;33m\u001b[0m\u001b[1;33m\u001b[0m\u001b[0m\n\u001b[1;32m----> 9\u001b[1;33m     \u001b[0mdif\u001b[0m \u001b[1;33m=\u001b[0m \u001b[0mnp\u001b[0m\u001b[1;33m.\u001b[0m\u001b[0mlinalg\u001b[0m\u001b[1;33m.\u001b[0m\u001b[0mnorm\u001b[0m\u001b[1;33m(\u001b[0m\u001b[0mvector\u001b[0m\u001b[1;33m-\u001b[0m\u001b[0mx\u001b[0m\u001b[1;33m)\u001b[0m\u001b[1;33m\u001b[0m\u001b[1;33m\u001b[0m\u001b[0m\n\u001b[0m\u001b[0;32m     10\u001b[0m     \u001b[1;32mif\u001b[0m \u001b[0mdif\u001b[0m \u001b[1;33m<\u001b[0m \u001b[0mresultado\u001b[0m\u001b[1;33m:\u001b[0m\u001b[1;33m\u001b[0m\u001b[1;33m\u001b[0m\u001b[0m\n\u001b[0;32m     11\u001b[0m         \u001b[0mresultado\u001b[0m \u001b[1;33m=\u001b[0m \u001b[0mdif\u001b[0m\u001b[1;33m\u001b[0m\u001b[1;33m\u001b[0m\u001b[0m\n",
      "\u001b[1;31mValueError\u001b[0m: operands could not be broadcast together with shapes (3,) (4,) "
     ]
    }
   ],
   "source": [
    "import numpy as np\n",
    "matriz = np.array([[5,1,3,4],[3,5,4,4],[1,3,5,4]])\n",
    "puntaje = np.array([1,4,3]) \n",
    "objetivo = np.array([4,2,1])\n",
    "resultado = 10000\n",
    "i = 0 \n",
    "dif = 0\n",
    "for x in matriz:\n",
    "    dif = np.linalg.norm(vector-x)\n",
    "    if dif < resultado:\n",
    "        resultado = dif\n",
    "        cli = i\n",
    "    i += 1\n",
    "print(f\"se aproxima a los gustos del cliente: {cli+1}\")\n",
    "if (puntaje[cli]>3):\n",
    "    print('si le va a gustar la pelicula')\n",
    "else:\n",
    "    print('no le va a gustar la pelicula')"
   ]
  },
  {
   "cell_type": "markdown",
   "metadata": {},
   "source": [
    "Cuál es el cliente más cercano a C4? En base a esta cercanía, cree que la P4 le gustará o no a C4?\n",
    "El cliente mas cercano es \"CA\" por ende puedo aproximar que a \"CD\" no le va a gustar."
   ]
  },
  {
   "cell_type": "markdown",
   "metadata": {},
   "source": [
    "### Producto vectorial de dos vectores o producto cruz"
   ]
  },
  {
   "cell_type": "markdown",
   "metadata": {},
   "source": [
    "Rta: La menor distancia es con el Cliente1, como al Cliente1 no le gustó P4 ya que la calificó con 1 es posible al C4 tampoco le guste."
   ]
  },
  {
   "cell_type": "markdown",
   "metadata": {},
   "source": [
    "![](https://upload.wikimedia.org/wikipedia/commons/thumb/4/4e/Cross_product_parallelogram.svg/330px-Cross_product_parallelogram.svg.png)\n",
    "Se puede utilizar la función np.cross(v1,v2\n",
    "\n",
    "\n",
    "Video que explica como calcular de forma manual el producto cruz: [Video](\"https://www.youtube.com/watch?v=io1vem2CmGc\")"
   ]
  },
  {
   "cell_type": "code",
   "execution_count": null,
   "metadata": {},
   "outputs": [],
   "source": [
    "#Importamos la librería numpy y creamos dos vectores\n",
    "import numpy as np\n",
    "v1=np.array([-3,-2,+5])\n",
    "v2=np.array([6,-10,-1])\n",
    "\n",
    "# Veamos el resultado del producto interno de los vectores\n"
   ]
  },
  {
   "cell_type": "code",
   "execution_count": null,
   "metadata": {},
   "outputs": [],
   "source": [
    "#Importamos la librería numpy y creamos dos vectores\n",
    "import numpy as np\n",
    "v1=np.array([1,2,3])\n",
    "v2=np.array([2,8,4])\n",
    "\n",
    "# Veamos el resultado del producto interno de los vectores\n"
   ]
  },
  {
   "cell_type": "code",
   "execution_count": null,
   "metadata": {},
   "outputs": [],
   "source": [
    "#Importamos la librería numpy y creamos dos vectores\n",
    "import numpy as np\n",
    "v1=np.array([2,0,1])\n",
    "v2=np.array([1,-1,3])\n",
    "\n",
    "# Veamos el resultado del producto interno de los vectores\n"
   ]
  }
 ],
 "metadata": {
  "hide_input": false,
  "kernelspec": {
   "display_name": "Python 3",
   "language": "python",
   "name": "python3"
  },
  "language_info": {
   "codemirror_mode": {
    "name": "ipython",
    "version": 3
   },
   "file_extension": ".py",
   "mimetype": "text/x-python",
   "name": "python",
   "nbconvert_exporter": "python",
   "pygments_lexer": "ipython3",
   "version": "3.8.5"
  },
  "toc": {
   "base_numbering": 1,
   "nav_menu": {},
   "number_sections": true,
   "sideBar": true,
   "skip_h1_title": true,
   "title_cell": "Tabla de Contenidos",
   "title_sidebar": "Contenidos",
   "toc_cell": true,
   "toc_position": {
    "height": "calc(100% - 180px)",
    "left": "10px",
    "top": "150px",
    "width": "202.4px"
   },
   "toc_section_display": true,
   "toc_window_display": true
  },
  "varInspector": {
   "cols": {
    "lenName": 16,
    "lenType": 16,
    "lenVar": 40
   },
   "kernels_config": {
    "python": {
     "delete_cmd_postfix": "",
     "delete_cmd_prefix": "del ",
     "library": "var_list.py",
     "varRefreshCmd": "print(var_dic_list())"
    },
    "r": {
     "delete_cmd_postfix": ") ",
     "delete_cmd_prefix": "rm(",
     "library": "var_list.r",
     "varRefreshCmd": "cat(var_dic_list()) "
    }
   },
   "types_to_exclude": [
    "module",
    "function",
    "builtin_function_or_method",
    "instance",
    "_Feature"
   ],
   "window_display": false
  }
 },
 "nbformat": 4,
 "nbformat_minor": 2
}
