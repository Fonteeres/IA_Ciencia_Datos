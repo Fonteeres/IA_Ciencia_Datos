{
 "cells": [
  {
   "cell_type": "markdown",
   "id": "32af4c87",
   "metadata": {},
   "source": [
    "# SP01 Ejercicios Vectores 1"
   ]
  },
  {
   "cell_type": "code",
   "execution_count": 2,
   "id": "ae564ed8",
   "metadata": {
    "ExecuteTime": {
     "end_time": "2021-05-03T20:30:41.654891Z",
     "start_time": "2021-05-03T20:30:41.650901Z"
    }
   },
   "outputs": [],
   "source": [
    "# Importar las librería Numpy\n",
    "import numpy as np"
   ]
  },
  {
   "cell_type": "markdown",
   "id": "8dad3991",
   "metadata": {},
   "source": [
    "## Ej 1\n",
    "Cree el siguiente array de Numpy y llámelo v1\n",
    "\n",
    "$$ v1=[1,2,3,4,5,6,7,8,9,10, ..., 50] $$"
   ]
  },
  {
   "cell_type": "code",
   "execution_count": 3,
   "id": "abd8df45",
   "metadata": {
    "ExecuteTime": {
     "end_time": "2021-05-03T20:34:10.862099Z",
     "start_time": "2021-05-03T20:34:10.856114Z"
    }
   },
   "outputs": [
    {
     "name": "stdout",
     "output_type": "stream",
     "text": [
      "[ 1  2  3  4  5  6  7  8  9 10 11 12 13 14 15 16 17 18 19 20 21 22 23 24\n",
      " 25 26 27 28 29 30 31 32 33 34 35 36 37 38 39 40 41 42 43 44 45 46 47 48\n",
      " 49 50]\n"
     ]
    },
    {
     "data": {
      "text/plain": [
       "(50,)"
      ]
     },
     "execution_count": 3,
     "metadata": {},
     "output_type": "execute_result"
    }
   ],
   "source": [
    "# Escriba aquí su código\n",
    "v1 = np.arange(1,51)\n",
    "print(v1)\n",
    "v1.shape"
   ]
  },
  {
   "cell_type": "markdown",
   "id": "4bab47e9",
   "metadata": {},
   "source": [
    "## Ej 2\n",
    "Cree el siguiente array de Numpy y llámelo v2\n",
    "\n",
    "$$ v2=[2,4,6,8,10,...,100] $$"
   ]
  },
  {
   "cell_type": "code",
   "execution_count": 30,
   "id": "01f72543",
   "metadata": {
    "ExecuteTime": {
     "end_time": "2021-05-03T20:35:21.851421Z",
     "start_time": "2021-05-03T20:35:21.844441Z"
    }
   },
   "outputs": [
    {
     "name": "stdout",
     "output_type": "stream",
     "text": [
      "[  2   4   6   8  10  12  14  16  18  20  22  24  26  28  30  32  34  36\n",
      "  38  40  42  44  46  48  50  52  54  56  58  60  62  64  66  68  70  72\n",
      "  74  76  78  80  82  84  86  88  90  92  94  96  98 100]\n"
     ]
    },
    {
     "data": {
      "text/plain": [
       "(50,)"
      ]
     },
     "execution_count": 30,
     "metadata": {},
     "output_type": "execute_result"
    }
   ],
   "source": [
    "# Escriba aquí su código\n",
    "v2 = np.arange(2,101,2)\n",
    "print(v2)\n",
    "v2.shape"
   ]
  },
  {
   "cell_type": "markdown",
   "id": "4c86054e",
   "metadata": {},
   "source": [
    "## Ej 3\n",
    "Cree el siguiente array de Numpy y llámelo v3\n",
    "\n",
    "$$ v3=[3,6,9,12,...,150] $$"
   ]
  },
  {
   "cell_type": "code",
   "execution_count": 32,
   "id": "88b481f1",
   "metadata": {
    "ExecuteTime": {
     "end_time": "2021-05-03T20:42:53.769322Z",
     "start_time": "2021-05-03T20:42:53.765348Z"
    }
   },
   "outputs": [
    {
     "name": "stdout",
     "output_type": "stream",
     "text": [
      "[  3   6   9  12  15  18  21  24  27  30  33  36  39  42  45  48  51  54\n",
      "  57  60  63  66  69  72  75  78  81  84  87  90  93  96  99 102 105 108\n",
      " 111 114 117 120 123 126 129 132 135 138 141 144 147 150]\n"
     ]
    },
    {
     "data": {
      "text/plain": [
       "(50,)"
      ]
     },
     "execution_count": 32,
     "metadata": {},
     "output_type": "execute_result"
    }
   ],
   "source": [
    "# Escriba aquí su código\n",
    "v3 = np.arange(3,151,3)\n",
    "print(v3)\n",
    "v3.shape"
   ]
  },
  {
   "cell_type": "markdown",
   "id": "64bbfbde",
   "metadata": {},
   "source": [
    "## Ej 4\n",
    "\n",
    "Calcule el módulo o norma de los vectores anteriores, llame a esto valores mod_v1 mod_v2 y mod_v3"
   ]
  },
  {
   "cell_type": "code",
   "execution_count": 15,
   "id": "6585d80a",
   "metadata": {
    "ExecuteTime": {
     "end_time": "2021-05-03T20:38:55.258400Z",
     "start_time": "2021-05-03T20:38:55.248426Z"
    }
   },
   "outputs": [
    {
     "data": {
      "text/plain": [
       "207.18349355100662"
      ]
     },
     "execution_count": 15,
     "metadata": {},
     "output_type": "execute_result"
    }
   ],
   "source": [
    "# Escriba aquí su código\n",
    "mod_v1 = np.sqrt(v1@v1)\n",
    "mod_v1 "
   ]
  },
  {
   "cell_type": "code",
   "execution_count": 16,
   "id": "fd8710fc",
   "metadata": {},
   "outputs": [
    {
     "name": "stdout",
     "output_type": "stream",
     "text": [
      "207.18349355100662\n"
     ]
    }
   ],
   "source": [
    "#Opcion 2\n",
    "print(np.linalg.norm(v1))"
   ]
  },
  {
   "cell_type": "code",
   "execution_count": 17,
   "id": "a926a7b2",
   "metadata": {
    "ExecuteTime": {
     "end_time": "2021-05-03T20:39:09.167578Z",
     "start_time": "2021-05-03T20:39:09.161592Z"
    }
   },
   "outputs": [
    {
     "data": {
      "text/plain": [
       "414.36698710201324"
      ]
     },
     "execution_count": 17,
     "metadata": {},
     "output_type": "execute_result"
    }
   ],
   "source": [
    "# Escriba aquí su código\n",
    "mod_v2 = np.linalg.norm(v2)\n",
    "mod_v2"
   ]
  },
  {
   "cell_type": "code",
   "execution_count": 19,
   "id": "33b5e324",
   "metadata": {
    "ExecuteTime": {
     "end_time": "2021-05-03T20:44:07.851099Z",
     "start_time": "2021-05-03T20:44:07.847088Z"
    }
   },
   "outputs": [
    {
     "data": {
      "text/plain": [
       "621.5504806530198"
      ]
     },
     "execution_count": 19,
     "metadata": {},
     "output_type": "execute_result"
    }
   ],
   "source": [
    "# Escriba aquí su código\n",
    "mod_v3 = np.linalg.norm(v3)\n",
    "mod_v3"
   ]
  },
  {
   "cell_type": "markdown",
   "id": "60ff2b21",
   "metadata": {
    "ExecuteTime": {
     "end_time": "2021-05-03T20:45:20.641502Z",
     "start_time": "2021-05-03T20:45:20.638510Z"
    }
   },
   "source": [
    "## Ej 5"
   ]
  },
  {
   "cell_type": "markdown",
   "id": "422ef8d6",
   "metadata": {},
   "source": [
    "Cree un vector que tenga la misma cantidad de elementos que los anteriores y que esté formado todo por números veinte, llámelo v_veintes.    \n",
    "\n",
    "- Cuál de los vectores anteriores es más cercano a v_veintes?   \n",
    "- Guarde el valor de la menor distancia en una variable llamada: min_dist \n",
    "- Cuál es el vector más lejano a v_veintes? \n",
    "- Guarde este valor en nmax_dist"
   ]
  },
  {
   "cell_type": "code",
   "execution_count": 33,
   "id": "8440df8b",
   "metadata": {
    "ExecuteTime": {
     "end_time": "2021-05-03T20:50:43.808572Z",
     "start_time": "2021-05-03T20:50:43.802585Z"
    }
   },
   "outputs": [
    {
     "name": "stdout",
     "output_type": "stream",
     "text": [
      "[20 20 20 20 20 20 20 20 20 20 20 20 20 20 20 20 20 20 20 20 20 20 20 20\n",
      " 20 20 20 20 20 20 20 20 20 20 20 20 20 20 20 20 20 20 20 20 20 20 20 20\n",
      " 20 20]\n"
     ]
    },
    {
     "data": {
      "text/plain": [
       "50"
      ]
     },
     "execution_count": 33,
     "metadata": {},
     "output_type": "execute_result"
    }
   ],
   "source": [
    "# Escriba aquí su código\n",
    "v_veintes = np.full((50,),20)\n",
    "print(v_veintes)\n",
    "v_veintes.size"
   ]
  },
  {
   "cell_type": "code",
   "execution_count": 35,
   "id": "2e5ef0ca",
   "metadata": {
    "ExecuteTime": {
     "end_time": "2021-05-03T20:53:50.743356Z",
     "start_time": "2021-05-03T20:53:50.737371Z"
    }
   },
   "outputs": [
    {
     "name": "stdout",
     "output_type": "stream",
     "text": [
      "109.20164833920778\n"
     ]
    }
   ],
   "source": [
    "# Escriba aquí su código\n",
    "v1v20 = np.linalg.norm(v1-v_veintes)\n",
    "print(v1v20)"
   ]
  },
  {
   "cell_type": "code",
   "execution_count": 36,
   "id": "f36381ef",
   "metadata": {
    "ExecuteTime": {
     "end_time": "2021-05-03T20:52:17.103824Z",
     "start_time": "2021-05-03T20:52:17.095843Z"
    }
   },
   "outputs": [
    {
     "name": "stdout",
     "output_type": "stream",
     "text": [
      "299.4995826374387\n"
     ]
    }
   ],
   "source": [
    "# Escriba aquí su código\n",
    "v2v20 = np.linalg.norm(v2-v_veintes)\n",
    "print(v2v20)"
   ]
  },
  {
   "cell_type": "code",
   "execution_count": 37,
   "id": "8c910533",
   "metadata": {
    "ExecuteTime": {
     "end_time": "2021-05-03T20:52:35.276521Z",
     "start_time": "2021-05-03T20:52:35.271534Z"
    }
   },
   "outputs": [
    {
     "name": "stdout",
     "output_type": "stream",
     "text": [
      "503.3140172894055\n"
     ]
    }
   ],
   "source": [
    "# Escriba aquí su código\n",
    "v3v20 = np.linalg.norm(v3-v_veintes)\n",
    "print(v3v20)"
   ]
  },
  {
   "cell_type": "code",
   "execution_count": 38,
   "id": "a3c62694",
   "metadata": {
    "ExecuteTime": {
     "end_time": "2021-05-03T20:54:27.832201Z",
     "start_time": "2021-05-03T20:54:27.827214Z"
    }
   },
   "outputs": [
    {
     "data": {
      "text/plain": [
       "109.20164833920778"
      ]
     },
     "execution_count": 38,
     "metadata": {},
     "output_type": "execute_result"
    }
   ],
   "source": [
    "# Escriba aquí su código\n",
    "min_dist = v1v20\n",
    "min_dist"
   ]
  },
  {
   "cell_type": "code",
   "execution_count": 39,
   "id": "1afd9a8d",
   "metadata": {
    "ExecuteTime": {
     "end_time": "2021-05-03T20:55:18.063671Z",
     "start_time": "2021-05-03T20:55:18.058684Z"
    }
   },
   "outputs": [
    {
     "data": {
      "text/plain": [
       "503.3140172894055"
      ]
     },
     "execution_count": 39,
     "metadata": {},
     "output_type": "execute_result"
    }
   ],
   "source": [
    "# Escriba aquí su código\n",
    "nmax_dist = v3v20\n",
    "nmax_dist"
   ]
  },
  {
   "cell_type": "markdown",
   "id": "7181657a",
   "metadata": {},
   "source": [
    "## Respuestas"
   ]
  },
  {
   "cell_type": "code",
   "execution_count": null,
   "id": "6de93bea",
   "metadata": {},
   "outputs": [],
   "source": []
  },
  {
   "cell_type": "code",
   "execution_count": null,
   "id": "a97df440",
   "metadata": {},
   "outputs": [],
   "source": [
    "v1 = np.arange(1,51,1)"
   ]
  },
  {
   "cell_type": "code",
   "execution_count": null,
   "id": "0d2ecbc2",
   "metadata": {},
   "outputs": [],
   "source": [
    "v2 = np.arange(2,101,2)"
   ]
  },
  {
   "cell_type": "code",
   "execution_count": null,
   "id": "d9b42bf8",
   "metadata": {},
   "outputs": [],
   "source": [
    "v3 = np.arange(3,151,3)"
   ]
  },
  {
   "cell_type": "code",
   "execution_count": null,
   "id": "fe906fde",
   "metadata": {},
   "outputs": [],
   "source": [
    "mod_v1 = np.sqrt(v1@v1)"
   ]
  },
  {
   "cell_type": "code",
   "execution_count": null,
   "id": "cf99bca5",
   "metadata": {},
   "outputs": [],
   "source": [
    "mod_v2 = np.linalg.norm(v2)"
   ]
  },
  {
   "cell_type": "code",
   "execution_count": null,
   "id": "4359a9b3",
   "metadata": {},
   "outputs": [],
   "source": [
    "mod_v3 = np.linalg.norm(v3)"
   ]
  },
  {
   "cell_type": "code",
   "execution_count": null,
   "id": "1f016b38",
   "metadata": {},
   "outputs": [],
   "source": [
    "v_veintes = np.full((5,10),20)"
   ]
  },
  {
   "cell_type": "code",
   "execution_count": 40,
   "id": "798ff72f",
   "metadata": {},
   "outputs": [
    {
     "data": {
      "text/plain": [
       "109.20164833920778"
      ]
     },
     "execution_count": 40,
     "metadata": {},
     "output_type": "execute_result"
    }
   ],
   "source": [
    "min_dist = v1v20\n",
    "min_dist"
   ]
  },
  {
   "cell_type": "code",
   "execution_count": 41,
   "id": "97b4bee1",
   "metadata": {},
   "outputs": [
    {
     "data": {
      "text/plain": [
       "503.3140172894055"
      ]
     },
     "execution_count": 41,
     "metadata": {},
     "output_type": "execute_result"
    }
   ],
   "source": [
    "nmax_dist = v3v20\n",
    "nmax_dist"
   ]
  }
 ],
 "metadata": {
  "hide_input": false,
  "kernelspec": {
   "display_name": "Python 3",
   "language": "python",
   "name": "python3"
  },
  "language_info": {
   "codemirror_mode": {
    "name": "ipython",
    "version": 3
   },
   "file_extension": ".py",
   "mimetype": "text/x-python",
   "name": "python",
   "nbconvert_exporter": "python",
   "pygments_lexer": "ipython3",
   "version": "3.8.5"
  },
  "toc": {
   "base_numbering": 1,
   "nav_menu": {},
   "number_sections": true,
   "sideBar": true,
   "skip_h1_title": true,
   "title_cell": "Tabla de Contenidos",
   "title_sidebar": "Contenidos",
   "toc_cell": false,
   "toc_position": {},
   "toc_section_display": true,
   "toc_window_display": true
  },
  "varInspector": {
   "cols": {
    "lenName": 16,
    "lenType": 16,
    "lenVar": 40
   },
   "kernels_config": {
    "python": {
     "delete_cmd_postfix": "",
     "delete_cmd_prefix": "del ",
     "library": "var_list.py",
     "varRefreshCmd": "print(var_dic_list())"
    },
    "r": {
     "delete_cmd_postfix": ") ",
     "delete_cmd_prefix": "rm(",
     "library": "var_list.r",
     "varRefreshCmd": "cat(var_dic_list()) "
    }
   },
   "types_to_exclude": [
    "module",
    "function",
    "builtin_function_or_method",
    "instance",
    "_Feature"
   ],
   "window_display": false
  }
 },
 "nbformat": 4,
 "nbformat_minor": 5
}
