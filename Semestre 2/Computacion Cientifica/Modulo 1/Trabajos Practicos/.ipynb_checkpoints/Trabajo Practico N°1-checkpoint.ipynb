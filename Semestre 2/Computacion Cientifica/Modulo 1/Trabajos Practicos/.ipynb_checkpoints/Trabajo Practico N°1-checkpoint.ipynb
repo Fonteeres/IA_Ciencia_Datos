{
 "cells": [
  {
   "cell_type": "markdown",
   "id": "e375ccd7",
   "metadata": {},
   "source": [
    "1.\tEl usuario debe ingresar el precio de un producto y se deberá informar cual es el valor del IVA de un producto y su precio final."
   ]
  },
  {
   "cell_type": "code",
   "execution_count": 2,
   "id": "0b62a66d",
   "metadata": {},
   "outputs": [
    {
     "name": "stdout",
     "output_type": "stream",
     "text": [
      "Ingrese Precio: 100\n",
      "El IVA del Producto es:  21.0\n",
      "El Precio final es de:  121.0\n"
     ]
    }
   ],
   "source": [
    "Precio = input('Ingrese Precio: ')\n",
    "IVA = Precio * 0.21 \n",
    "PrecioConIVA = Precio + IVA\n",
    "print('El IVA del Producto es: ', IVA)\n",
    "print('El Precio final es de: ', PrecioConIVA)"
   ]
  },
  {
   "cell_type": "markdown",
   "id": "8704d5dd",
   "metadata": {},
   "source": [
    "2.\tEl usuario debe ingresar dos números, el programa debe indicar cuál es el mayor."
   ]
  },
  {
   "cell_type": "code",
   "execution_count": 7,
   "id": "25b6b9af",
   "metadata": {},
   "outputs": [
    {
     "name": "stdout",
     "output_type": "stream",
     "text": [
      "Ingrese Primer Numero 4\n",
      "Ingrese Segundo Numero 4\n",
      "4 y 4 Son iguales\n"
     ]
    }
   ],
   "source": [
    "A = input('Ingrese Primer Numero ')\n",
    "B = input('Ingrese Segundo Numero ')\n",
    "if A > B:\n",
    "    print(A,'Es mayor que', B)\n",
    "elif A < B:\n",
    "    print(B,'Es mayor que', A)\n",
    "else:\n",
    "    print(A,'y',B,'Son iguales')"
   ]
  },
  {
   "cell_type": "markdown",
   "id": "d80d8188",
   "metadata": {},
   "source": [
    "3.\tEl usuario debe ingresar dos números, el programa debe indicar cuál es el menor."
   ]
  },
  {
   "cell_type": "code",
   "execution_count": 10,
   "id": "84c0a438",
   "metadata": {},
   "outputs": [
    {
     "name": "stdout",
     "output_type": "stream",
     "text": [
      "Ingrese Primer Numero 4\n",
      "Ingrese Segundo Numero 4\n",
      "4 y 4 Son iguales\n"
     ]
    }
   ],
   "source": [
    "A = input('Ingrese Primer Numero ')\n",
    "B = input('Ingrese Segundo Numero ')\n",
    "if A > B:\n",
    "    print(B,'Es menor que', A)\n",
    "elif A < B:\n",
    "    print(A,'Es menor que', B)\n",
    "else:\n",
    "    print(A,'y',B,'Son iguales')"
   ]
  },
  {
   "cell_type": "markdown",
   "id": "3cd639cf",
   "metadata": {},
   "source": [
    "4.\tEl usuario debe ingresar un número entero y el programa debe informar si está comprendido entre 0 y 10."
   ]
  },
  {
   "cell_type": "code",
   "execution_count": 30,
   "id": "0e52c878",
   "metadata": {},
   "outputs": [
    {
     "name": "stdout",
     "output_type": "stream",
     "text": [
      "Ingrese el Nro 11\n",
      "11 no esta entre 0 y 10\n"
     ]
    }
   ],
   "source": [
    "A = int(input('Ingrese el Nro '))\n",
    "if A < 10 and A > 0:\n",
    "    print(A, 'esta entre 0 y 10')\n",
    "else:\n",
    "    print(A, 'no esta entre 0 y 10')"
   ]
  },
  {
   "cell_type": "markdown",
   "id": "b2b65640",
   "metadata": {},
   "source": [
    "5.\tEl usuario debe ingresar las tres medidas de los ángulos de un triángulo, el programa deberá verificar que corresponden a un triángulo. Para eso la suma de los tres ángulos debe ser igual a 180 grados."
   ]
  },
  {
   "cell_type": "code",
   "execution_count": 17,
   "id": "e8c2afbb",
   "metadata": {},
   "outputs": [
    {
     "name": "stdout",
     "output_type": "stream",
     "text": [
      "Ingrese el Primer Angulo 60\n",
      "Ingrese el Segundo Angulo 60\n",
      "Ingrese el Tercer Angulo 60\n",
      "Los Angulos pertenecen a un triangulo\n"
     ]
    }
   ],
   "source": [
    "A = input('Ingrese el Primer Angulo: ')\n",
    "B = input('Ingrese el Segundo Angulo: ')\n",
    "C = input('Ingrese el Tercer Angulo: ')\n",
    "Total = A + B + C\n",
    "if Total == 180:\n",
    "    print('Los Angulos pertenecen a un triangulo')\n",
    "else:\n",
    "    print('Los Angulos no pertenecen a un triangulo')"
   ]
  },
  {
   "cell_type": "markdown",
   "id": "99088c77",
   "metadata": {},
   "source": [
    "6.\tEl usuario debe ingresar las tres medidas de los lados de un triángulo, el programa deberá verificar que corresponden a un triángulo. Para eso la suma de dos lados debe ser mayor a la suma del lado restante, y debe ser cierta esta condición para todas las combinaciones posibles."
   ]
  },
  {
   "cell_type": "code",
   "execution_count": 21,
   "id": "1db795d5",
   "metadata": {},
   "outputs": [
    {
     "name": "stdout",
     "output_type": "stream",
     "text": [
      "Ingrese el Primer lado: 5\n",
      "Ingrese el Segundo lado: 4\n",
      "Ingrese el Tercer lado: 5\n",
      "Los lados dispuestos no pertenecen a un triangulo\n"
     ]
    }
   ],
   "source": [
    "A = input('Ingrese el Primer lado: ')\n",
    "B = input('Ingrese el Segundo lado: ')\n",
    "C = input('Ingrese el Tercer lado: ')\n",
    "if A + B < C or A + C < B or B + C < A:\n",
    "    print('Los lados dispuestos no pertenecen a un triangulo')\n",
    "else:\n",
    "    print('Los lados dispuestos pertenecen a un triangulo')\n",
    "    "
   ]
  },
  {
   "cell_type": "markdown",
   "id": "01902e17",
   "metadata": {},
   "source": [
    "7.\tEscribir un programa que tome un carácter e informe si es una vocal o no lo es."
   ]
  },
  {
   "cell_type": "code",
   "execution_count": 34,
   "id": "d6c66052",
   "metadata": {},
   "outputs": [
    {
     "name": "stdout",
     "output_type": "stream",
     "text": [
      "Ingresar el Caracter i\n",
      "i  Es una Vocal\n"
     ]
    }
   ],
   "source": [
    "A = input('Ingresar el Caracter ')\n",
    "A_Lower = A.lower()\n",
    "if A_Lower == 'a' or A_Lower == 'e' or A_Lower == 'i' or A_Lower == 'o' or A_Lower == 'u':\n",
    "    print(A_Lower, ' Es una Vocal')\n",
    "else:\n",
    "    print(A_Lower , ' No es una Vocal')"
   ]
  },
  {
   "cell_type": "markdown",
   "id": "20e376d5",
   "metadata": {},
   "source": [
    "8.\tEscribir un programa que muestre con un while los números del 1 al 100."
   ]
  },
  {
   "cell_type": "code",
   "execution_count": 36,
   "id": "63d41e8f",
   "metadata": {},
   "outputs": [
    {
     "name": "stdout",
     "output_type": "stream",
     "text": [
      "0\n",
      "1\n",
      "2\n",
      "3\n",
      "4\n",
      "5\n",
      "6\n",
      "7\n",
      "8\n",
      "9\n",
      "10\n",
      "11\n",
      "12\n",
      "13\n",
      "14\n",
      "15\n",
      "16\n",
      "17\n",
      "18\n",
      "19\n",
      "20\n",
      "21\n",
      "22\n",
      "23\n",
      "24\n",
      "25\n",
      "26\n",
      "27\n",
      "28\n",
      "29\n",
      "30\n",
      "31\n",
      "32\n",
      "33\n",
      "34\n",
      "35\n",
      "36\n",
      "37\n",
      "38\n",
      "39\n",
      "40\n",
      "41\n",
      "42\n",
      "43\n",
      "44\n",
      "45\n",
      "46\n",
      "47\n",
      "48\n",
      "49\n",
      "50\n",
      "51\n",
      "52\n",
      "53\n",
      "54\n",
      "55\n",
      "56\n",
      "57\n",
      "58\n",
      "59\n",
      "60\n",
      "61\n",
      "62\n",
      "63\n",
      "64\n",
      "65\n",
      "66\n",
      "67\n",
      "68\n",
      "69\n",
      "70\n",
      "71\n",
      "72\n",
      "73\n",
      "74\n",
      "75\n",
      "76\n",
      "77\n",
      "78\n",
      "79\n",
      "80\n",
      "81\n",
      "82\n",
      "83\n",
      "84\n",
      "85\n",
      "86\n",
      "87\n",
      "88\n",
      "89\n",
      "90\n",
      "91\n",
      "92\n",
      "93\n",
      "94\n",
      "95\n",
      "96\n",
      "97\n",
      "98\n",
      "99\n",
      "100\n"
     ]
    }
   ],
   "source": [
    "i = 0\n",
    "while i <= 100:\n",
    "    print(i)\n",
    "    i += 1"
   ]
  },
  {
   "cell_type": "markdown",
   "id": "557447b2",
   "metadata": {},
   "source": [
    "9.\tEscribir un programa que muestre con un for los números del 1 al 100."
   ]
  },
  {
   "cell_type": "code",
   "execution_count": 38,
   "id": "aa0f7223",
   "metadata": {},
   "outputs": [
    {
     "name": "stdout",
     "output_type": "stream",
     "text": [
      "0\n",
      "1\n",
      "2\n",
      "3\n",
      "4\n",
      "5\n",
      "6\n",
      "7\n",
      "8\n",
      "9\n",
      "10\n",
      "11\n",
      "12\n",
      "13\n",
      "14\n",
      "15\n",
      "16\n",
      "17\n",
      "18\n",
      "19\n",
      "20\n",
      "21\n",
      "22\n",
      "23\n",
      "24\n",
      "25\n",
      "26\n",
      "27\n",
      "28\n",
      "29\n",
      "30\n",
      "31\n",
      "32\n",
      "33\n",
      "34\n",
      "35\n",
      "36\n",
      "37\n",
      "38\n",
      "39\n",
      "40\n",
      "41\n",
      "42\n",
      "43\n",
      "44\n",
      "45\n",
      "46\n",
      "47\n",
      "48\n",
      "49\n",
      "50\n",
      "51\n",
      "52\n",
      "53\n",
      "54\n",
      "55\n",
      "56\n",
      "57\n",
      "58\n",
      "59\n",
      "60\n",
      "61\n",
      "62\n",
      "63\n",
      "64\n",
      "65\n",
      "66\n",
      "67\n",
      "68\n",
      "69\n",
      "70\n",
      "71\n",
      "72\n",
      "73\n",
      "74\n",
      "75\n",
      "76\n",
      "77\n",
      "78\n",
      "79\n",
      "80\n",
      "81\n",
      "82\n",
      "83\n",
      "84\n",
      "85\n",
      "86\n",
      "87\n",
      "88\n",
      "89\n",
      "90\n",
      "91\n",
      "92\n",
      "93\n",
      "94\n",
      "95\n",
      "96\n",
      "97\n",
      "98\n",
      "99\n",
      "100\n"
     ]
    }
   ],
   "source": [
    "i = 0\n",
    "for i in range(0,101):\n",
    "    print(i)\n",
    "    i += 1"
   ]
  },
  {
   "cell_type": "markdown",
   "id": "69f2962c",
   "metadata": {},
   "source": [
    "10.\tEscribir un programa que cuente la cantidad de letras de una palabra. "
   ]
  },
  {
   "cell_type": "code",
   "execution_count": 47,
   "id": "6d7fd6b4",
   "metadata": {},
   "outputs": [
    {
     "name": "stdout",
     "output_type": "stream",
     "text": [
      "Ingrese una palabra: hola\n",
      "La cantidad de palabras es:  4\n"
     ]
    }
   ],
   "source": [
    "A = str(input('Ingrese una palabra: '))\n",
    "f = 0\n",
    "for i in A:\n",
    "    f = f + 1\n",
    "print('La cantidad de palabras es:', f)\n",
    "    "
   ]
  },
  {
   "cell_type": "markdown",
   "id": "95605d93",
   "metadata": {},
   "source": [
    "11.\tEscribir un programa que muestre una palabra de forma de vertical, carácter a carácter."
   ]
  },
  {
   "cell_type": "code",
   "execution_count": 42,
   "id": "714ba219",
   "metadata": {},
   "outputs": [
    {
     "name": "stdout",
     "output_type": "stream",
     "text": [
      "Ingrese una palabra: hola\n",
      "h\n",
      "o\n",
      "l\n",
      "a\n"
     ]
    }
   ],
   "source": [
    "A = str(input('Ingrese una palabra: '))\n",
    "for i in A:\n",
    "    print(i)"
   ]
  },
  {
   "cell_type": "markdown",
   "id": "f5b49651",
   "metadata": {},
   "source": [
    "12.\tEscribir un programa que cuente la cantidad de vocales de una palabra. "
   ]
  },
  {
   "cell_type": "code",
   "execution_count": 55,
   "id": "aadcf6b3",
   "metadata": {},
   "outputs": [
    {
     "name": "stdout",
     "output_type": "stream",
     "text": [
      "Ingrese una palabra: holaaaaaaaaa\n",
      "10\n"
     ]
    }
   ],
   "source": [
    "A = str(input('Ingrese una palabra: '))\n",
    "F = 0\n",
    "for i in A:\n",
    "    i.lower()\n",
    "    if i == 'a' or i == 'e' or i == 'i' or i == 'o' or i == 'u':\n",
    "        F += 1\n",
    "print(F)"
   ]
  }
 ],
 "metadata": {
  "kernelspec": {
   "display_name": "Python 3",
   "language": "python",
   "name": "python3"
  },
  "language_info": {
   "codemirror_mode": {
    "name": "ipython",
    "version": 3
   },
   "file_extension": ".py",
   "mimetype": "text/x-python",
   "name": "python",
   "nbconvert_exporter": "python",
   "pygments_lexer": "ipython3",
   "version": "3.8.5"
  }
 },
 "nbformat": 4,
 "nbformat_minor": 5
}
